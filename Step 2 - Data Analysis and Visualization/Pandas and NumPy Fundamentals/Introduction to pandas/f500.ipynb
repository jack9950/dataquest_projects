{
 "cells": [
  {
   "cell_type": "markdown",
   "id": "5f4f9520",
   "metadata": {},
   "source": [
    "# FORTUNE 500"
   ]
  },
  {
   "cell_type": "markdown",
   "id": "f91cb20f",
   "metadata": {},
   "source": [
    "As we learn pandas, we'll work with a data set from [Fortune](https://fortune.com/) magazine's [2017 Global 500 list](https://en.wikipedia.org/wiki/Fortune_Global_500), which ranks the top 500 corporations worldwide by revenue. The data set was originally compiled [here](https://data.world/chasewillden/fortune-500-companies-2017); however, we modified the original data set to make it more accessible."
   ]
  },
  {
   "cell_type": "markdown",
   "id": "3dfcd47c",
   "metadata": {},
   "source": [
    "![Alt 'World's'](fortune-500.jpg)"
   ]
  },
  {
   "cell_type": "markdown",
   "id": "4ce053f8",
   "metadata": {},
   "source": [
    "The data set is a CSV file called `f500.csv`. Here is a data dictionary for some of the columns in the CSV:\n",
    "\n",
    "- `company`: Name of the company.\n",
    "- `rank`: Global 500 rank for the company.\n",
    "- `revenues`: Company's total revenue for the fiscal year, in millions of dollars (USD).\n",
    "- `revenue_change`: Percentage change in revenue between the current and prior fiscal year.\n",
    "- `profits`: Net income for the fiscal year, in millions of dollars (USD).\n",
    "- `ceo`: Company's Chief Executive Officer.\n",
    "- `industry`: Industry in which the company operates.\n",
    "- `sector`: Sector in which the company operates.\n",
    "- `previous_rank`: Global 500 rank for the company for the prior year.\n",
    "- `country`: Country in which the company is headquartered.\n",
    "\n",
    "Similar to the import convention for NumPy (import numpy as np), the import convention for pandas is:\n",
    "\n",
    "import pandas as pd\n",
    "\n",
    "In the `script.py` code editor for this screen, we have already imported pandas and used the `pandas.read_csv()` [function](https://pandas.pydata.org/pandas-docs/stable/reference/api/pandas.read_csv.html) to read the CSV into a dataframe and assign it to the variable name `f500`. We'll learn about `read_csv()` later in this course, but for now, all you need to know is that it automatically handles reading and parsing most CSV files.\n",
    "\n",
    "Like NumPy's ndarrays, pandas' dataframes have a `.shape` attribute which returns a tuple representing the dimensions of each axis of the object. We'll use that and Python's `type() function` to inspect the `f500` dataframe.\n",
    "instructions\n",
    "\n",
    "1. Use Python's `type()` function to assign the type of `f500` to `f500_type`.\n",
    "2. Use the `DataFrame.shape` attribute to assign the shape of `f500` to `f500_shape`.\n",
    "3. After you have run your code, use the variable inspector to look at the variables `f500`, `f500_type`, and `f500_shape`.\n"
   ]
  },
  {
   "cell_type": "markdown",
   "id": "991d54be",
   "metadata": {},
   "source": [
    "The primary data structure in pandas is called a dataframe. Dataframes are the pandas equivalent of a Numpy 2D ndarray, with a few key differences:\n",
    "\n",
    "- Axis values can have string labels, not just numeric ones.\n",
    "- Dataframes can contain columns with multiple data types: including integer, float, and string.\n"
   ]
  },
  {
   "cell_type": "markdown",
   "id": "5e3251b7",
   "metadata": {},
   "source": [
    "![](df_anatomy_static_resized.svg)"
   ]
  },
  {
   "cell_type": "code",
   "execution_count": 1,
   "id": "244295d3",
   "metadata": {},
   "outputs": [
    {
     "data": {
      "text/plain": [
       "<_io.TextIOWrapper name='mine.css' mode='r' encoding='UTF-8'>"
      ]
     },
     "execution_count": 1,
     "metadata": {},
     "output_type": "execute_result"
    }
   ],
   "source": [
    "import pandas as pd\n",
    "from IPython.display import HTML\n",
    "from urllib.request import urlopen\n",
    "html = open('mine.css')\n",
    "html"
   ]
  },
  {
   "cell_type": "code",
   "execution_count": 2,
   "id": "f934b889",
   "metadata": {},
   "outputs": [
    {
     "data": {
      "text/html": [
       "table {margin-left: 0 !important;}"
      ],
      "text/plain": [
       "<IPython.core.display.HTML object>"
      ]
     },
     "execution_count": 2,
     "metadata": {},
     "output_type": "execute_result"
    }
   ],
   "source": [
    "HTML(html.read())"
   ]
  },
  {
   "cell_type": "code",
   "execution_count": 3,
   "id": "0bbe9bda",
   "metadata": {},
   "outputs": [],
   "source": [
    "f500 = pd.read_csv('f500.csv', index_col=0)\n",
    "f500.index.name = None"
   ]
  },
  {
   "cell_type": "code",
   "execution_count": 4,
   "id": "1119707b",
   "metadata": {},
   "outputs": [
    {
     "data": {
      "text/plain": [
       "pandas.core.frame.DataFrame"
      ]
     },
     "execution_count": 4,
     "metadata": {},
     "output_type": "execute_result"
    }
   ],
   "source": [
    "type(f500)"
   ]
  },
  {
   "cell_type": "code",
   "execution_count": 5,
   "id": "1753d258",
   "metadata": {},
   "outputs": [
    {
     "data": {
      "text/plain": [
       "(500, 16)"
      ]
     },
     "execution_count": 5,
     "metadata": {},
     "output_type": "execute_result"
    }
   ],
   "source": [
    "f500.shape"
   ]
  },
  {
   "cell_type": "code",
   "execution_count": 6,
   "id": "c82a5591",
   "metadata": {},
   "outputs": [
    {
     "data": {
      "text/html": [
       "<div>\n",
       "<style scoped>\n",
       "    .dataframe tbody tr th:only-of-type {\n",
       "        vertical-align: middle;\n",
       "    }\n",
       "\n",
       "    .dataframe tbody tr th {\n",
       "        vertical-align: top;\n",
       "    }\n",
       "\n",
       "    .dataframe thead th {\n",
       "        text-align: right;\n",
       "    }\n",
       "</style>\n",
       "<table border=\"1\" class=\"dataframe\">\n",
       "  <thead>\n",
       "    <tr style=\"text-align: right;\">\n",
       "      <th></th>\n",
       "      <th>rank</th>\n",
       "      <th>revenues</th>\n",
       "      <th>revenue_change</th>\n",
       "      <th>profits</th>\n",
       "      <th>assets</th>\n",
       "      <th>profit_change</th>\n",
       "      <th>ceo</th>\n",
       "      <th>industry</th>\n",
       "      <th>sector</th>\n",
       "      <th>previous_rank</th>\n",
       "      <th>country</th>\n",
       "      <th>hq_location</th>\n",
       "      <th>website</th>\n",
       "      <th>years_on_global_500_list</th>\n",
       "      <th>employees</th>\n",
       "      <th>total_stockholder_equity</th>\n",
       "    </tr>\n",
       "  </thead>\n",
       "  <tbody>\n",
       "    <tr>\n",
       "      <th>Walmart</th>\n",
       "      <td>1</td>\n",
       "      <td>485873</td>\n",
       "      <td>0.8</td>\n",
       "      <td>13643.0</td>\n",
       "      <td>198825</td>\n",
       "      <td>-7.2</td>\n",
       "      <td>C. Douglas McMillon</td>\n",
       "      <td>General Merchandisers</td>\n",
       "      <td>Retailing</td>\n",
       "      <td>1</td>\n",
       "      <td>USA</td>\n",
       "      <td>Bentonville, AR</td>\n",
       "      <td>http://www.walmart.com</td>\n",
       "      <td>23</td>\n",
       "      <td>2300000</td>\n",
       "      <td>77798</td>\n",
       "    </tr>\n",
       "    <tr>\n",
       "      <th>State Grid</th>\n",
       "      <td>2</td>\n",
       "      <td>315199</td>\n",
       "      <td>-4.4</td>\n",
       "      <td>9571.3</td>\n",
       "      <td>489838</td>\n",
       "      <td>-6.2</td>\n",
       "      <td>Kou Wei</td>\n",
       "      <td>Utilities</td>\n",
       "      <td>Energy</td>\n",
       "      <td>2</td>\n",
       "      <td>China</td>\n",
       "      <td>Beijing, China</td>\n",
       "      <td>http://www.sgcc.com.cn</td>\n",
       "      <td>17</td>\n",
       "      <td>926067</td>\n",
       "      <td>209456</td>\n",
       "    </tr>\n",
       "    <tr>\n",
       "      <th>Sinopec Group</th>\n",
       "      <td>3</td>\n",
       "      <td>267518</td>\n",
       "      <td>-9.1</td>\n",
       "      <td>1257.9</td>\n",
       "      <td>310726</td>\n",
       "      <td>-65.0</td>\n",
       "      <td>Wang Yupu</td>\n",
       "      <td>Petroleum Refining</td>\n",
       "      <td>Energy</td>\n",
       "      <td>4</td>\n",
       "      <td>China</td>\n",
       "      <td>Beijing, China</td>\n",
       "      <td>http://www.sinopec.com</td>\n",
       "      <td>19</td>\n",
       "      <td>713288</td>\n",
       "      <td>106523</td>\n",
       "    </tr>\n",
       "    <tr>\n",
       "      <th>China National Petroleum</th>\n",
       "      <td>4</td>\n",
       "      <td>262573</td>\n",
       "      <td>-12.3</td>\n",
       "      <td>1867.5</td>\n",
       "      <td>585619</td>\n",
       "      <td>-73.7</td>\n",
       "      <td>Zhang Jianhua</td>\n",
       "      <td>Petroleum Refining</td>\n",
       "      <td>Energy</td>\n",
       "      <td>3</td>\n",
       "      <td>China</td>\n",
       "      <td>Beijing, China</td>\n",
       "      <td>http://www.cnpc.com.cn</td>\n",
       "      <td>17</td>\n",
       "      <td>1512048</td>\n",
       "      <td>301893</td>\n",
       "    </tr>\n",
       "    <tr>\n",
       "      <th>Toyota Motor</th>\n",
       "      <td>5</td>\n",
       "      <td>254694</td>\n",
       "      <td>7.7</td>\n",
       "      <td>16899.3</td>\n",
       "      <td>437575</td>\n",
       "      <td>-12.3</td>\n",
       "      <td>Akio Toyoda</td>\n",
       "      <td>Motor Vehicles and Parts</td>\n",
       "      <td>Motor Vehicles &amp; Parts</td>\n",
       "      <td>8</td>\n",
       "      <td>Japan</td>\n",
       "      <td>Toyota, Japan</td>\n",
       "      <td>http://www.toyota-global.com</td>\n",
       "      <td>23</td>\n",
       "      <td>364445</td>\n",
       "      <td>157210</td>\n",
       "    </tr>\n",
       "  </tbody>\n",
       "</table>\n",
       "</div>"
      ],
      "text/plain": [
       "                          rank  revenues  revenue_change  profits  assets  \\\n",
       "Walmart                      1    485873             0.8  13643.0  198825   \n",
       "State Grid                   2    315199            -4.4   9571.3  489838   \n",
       "Sinopec Group                3    267518            -9.1   1257.9  310726   \n",
       "China National Petroleum     4    262573           -12.3   1867.5  585619   \n",
       "Toyota Motor                 5    254694             7.7  16899.3  437575   \n",
       "\n",
       "                          profit_change                  ceo  \\\n",
       "Walmart                            -7.2  C. Douglas McMillon   \n",
       "State Grid                         -6.2              Kou Wei   \n",
       "Sinopec Group                     -65.0            Wang Yupu   \n",
       "China National Petroleum          -73.7        Zhang Jianhua   \n",
       "Toyota Motor                      -12.3          Akio Toyoda   \n",
       "\n",
       "                                          industry                  sector  \\\n",
       "Walmart                      General Merchandisers               Retailing   \n",
       "State Grid                               Utilities                  Energy   \n",
       "Sinopec Group                   Petroleum Refining                  Energy   \n",
       "China National Petroleum        Petroleum Refining                  Energy   \n",
       "Toyota Motor              Motor Vehicles and Parts  Motor Vehicles & Parts   \n",
       "\n",
       "                          previous_rank country      hq_location  \\\n",
       "Walmart                               1     USA  Bentonville, AR   \n",
       "State Grid                            2   China   Beijing, China   \n",
       "Sinopec Group                         4   China   Beijing, China   \n",
       "China National Petroleum              3   China   Beijing, China   \n",
       "Toyota Motor                          8   Japan    Toyota, Japan   \n",
       "\n",
       "                                               website  \\\n",
       "Walmart                         http://www.walmart.com   \n",
       "State Grid                      http://www.sgcc.com.cn   \n",
       "Sinopec Group                   http://www.sinopec.com   \n",
       "China National Petroleum        http://www.cnpc.com.cn   \n",
       "Toyota Motor              http://www.toyota-global.com   \n",
       "\n",
       "                          years_on_global_500_list  employees  \\\n",
       "Walmart                                         23    2300000   \n",
       "State Grid                                      17     926067   \n",
       "Sinopec Group                                   19     713288   \n",
       "China National Petroleum                        17    1512048   \n",
       "Toyota Motor                                    23     364445   \n",
       "\n",
       "                          total_stockholder_equity  \n",
       "Walmart                                      77798  \n",
       "State Grid                                  209456  \n",
       "Sinopec Group                               106523  \n",
       "China National Petroleum                    301893  \n",
       "Toyota Motor                                157210  "
      ]
     },
     "execution_count": 6,
     "metadata": {},
     "output_type": "execute_result"
    }
   ],
   "source": [
    "f500.head()"
   ]
  },
  {
   "cell_type": "code",
   "execution_count": 7,
   "id": "dc240971",
   "metadata": {},
   "outputs": [
    {
     "data": {
      "text/html": [
       "<div>\n",
       "<style scoped>\n",
       "    .dataframe tbody tr th:only-of-type {\n",
       "        vertical-align: middle;\n",
       "    }\n",
       "\n",
       "    .dataframe tbody tr th {\n",
       "        vertical-align: top;\n",
       "    }\n",
       "\n",
       "    .dataframe thead th {\n",
       "        text-align: right;\n",
       "    }\n",
       "</style>\n",
       "<table border=\"1\" class=\"dataframe\">\n",
       "  <thead>\n",
       "    <tr style=\"text-align: right;\">\n",
       "      <th></th>\n",
       "      <th>rank</th>\n",
       "      <th>revenues</th>\n",
       "      <th>revenue_change</th>\n",
       "      <th>profits</th>\n",
       "      <th>assets</th>\n",
       "      <th>profit_change</th>\n",
       "      <th>ceo</th>\n",
       "      <th>industry</th>\n",
       "      <th>sector</th>\n",
       "      <th>previous_rank</th>\n",
       "      <th>country</th>\n",
       "      <th>hq_location</th>\n",
       "      <th>website</th>\n",
       "      <th>years_on_global_500_list</th>\n",
       "      <th>employees</th>\n",
       "      <th>total_stockholder_equity</th>\n",
       "    </tr>\n",
       "  </thead>\n",
       "  <tbody>\n",
       "    <tr>\n",
       "      <th>Walmart</th>\n",
       "      <td>1</td>\n",
       "      <td>485873</td>\n",
       "      <td>0.8</td>\n",
       "      <td>13643.0</td>\n",
       "      <td>198825</td>\n",
       "      <td>-7.2</td>\n",
       "      <td>C. Douglas McMillon</td>\n",
       "      <td>General Merchandisers</td>\n",
       "      <td>Retailing</td>\n",
       "      <td>1</td>\n",
       "      <td>USA</td>\n",
       "      <td>Bentonville, AR</td>\n",
       "      <td>http://www.walmart.com</td>\n",
       "      <td>23</td>\n",
       "      <td>2300000</td>\n",
       "      <td>77798</td>\n",
       "    </tr>\n",
       "    <tr>\n",
       "      <th>State Grid</th>\n",
       "      <td>2</td>\n",
       "      <td>315199</td>\n",
       "      <td>-4.4</td>\n",
       "      <td>9571.3</td>\n",
       "      <td>489838</td>\n",
       "      <td>-6.2</td>\n",
       "      <td>Kou Wei</td>\n",
       "      <td>Utilities</td>\n",
       "      <td>Energy</td>\n",
       "      <td>2</td>\n",
       "      <td>China</td>\n",
       "      <td>Beijing, China</td>\n",
       "      <td>http://www.sgcc.com.cn</td>\n",
       "      <td>17</td>\n",
       "      <td>926067</td>\n",
       "      <td>209456</td>\n",
       "    </tr>\n",
       "    <tr>\n",
       "      <th>Sinopec Group</th>\n",
       "      <td>3</td>\n",
       "      <td>267518</td>\n",
       "      <td>-9.1</td>\n",
       "      <td>1257.9</td>\n",
       "      <td>310726</td>\n",
       "      <td>-65.0</td>\n",
       "      <td>Wang Yupu</td>\n",
       "      <td>Petroleum Refining</td>\n",
       "      <td>Energy</td>\n",
       "      <td>4</td>\n",
       "      <td>China</td>\n",
       "      <td>Beijing, China</td>\n",
       "      <td>http://www.sinopec.com</td>\n",
       "      <td>19</td>\n",
       "      <td>713288</td>\n",
       "      <td>106523</td>\n",
       "    </tr>\n",
       "  </tbody>\n",
       "</table>\n",
       "</div>"
      ],
      "text/plain": [
       "               rank  revenues  revenue_change  profits  assets  profit_change  \\\n",
       "Walmart           1    485873             0.8  13643.0  198825           -7.2   \n",
       "State Grid        2    315199            -4.4   9571.3  489838           -6.2   \n",
       "Sinopec Group     3    267518            -9.1   1257.9  310726          -65.0   \n",
       "\n",
       "                               ceo               industry     sector  \\\n",
       "Walmart        C. Douglas McMillon  General Merchandisers  Retailing   \n",
       "State Grid                 Kou Wei              Utilities     Energy   \n",
       "Sinopec Group            Wang Yupu     Petroleum Refining     Energy   \n",
       "\n",
       "               previous_rank country      hq_location                 website  \\\n",
       "Walmart                    1     USA  Bentonville, AR  http://www.walmart.com   \n",
       "State Grid                 2   China   Beijing, China  http://www.sgcc.com.cn   \n",
       "Sinopec Group              4   China   Beijing, China  http://www.sinopec.com   \n",
       "\n",
       "               years_on_global_500_list  employees  total_stockholder_equity  \n",
       "Walmart                              23    2300000                     77798  \n",
       "State Grid                           17     926067                    209456  \n",
       "Sinopec Group                        19     713288                    106523  "
      ]
     },
     "execution_count": 7,
     "metadata": {},
     "output_type": "execute_result"
    }
   ],
   "source": [
    "f500.head(-497)"
   ]
  },
  {
   "cell_type": "code",
   "execution_count": 8,
   "id": "7b403639",
   "metadata": {},
   "outputs": [
    {
     "data": {
      "text/html": [
       "<div>\n",
       "<style scoped>\n",
       "    .dataframe tbody tr th:only-of-type {\n",
       "        vertical-align: middle;\n",
       "    }\n",
       "\n",
       "    .dataframe tbody tr th {\n",
       "        vertical-align: top;\n",
       "    }\n",
       "\n",
       "    .dataframe thead th {\n",
       "        text-align: right;\n",
       "    }\n",
       "</style>\n",
       "<table border=\"1\" class=\"dataframe\">\n",
       "  <thead>\n",
       "    <tr style=\"text-align: right;\">\n",
       "      <th></th>\n",
       "      <th>rank</th>\n",
       "      <th>revenues</th>\n",
       "      <th>revenue_change</th>\n",
       "      <th>profits</th>\n",
       "      <th>assets</th>\n",
       "      <th>profit_change</th>\n",
       "      <th>ceo</th>\n",
       "      <th>industry</th>\n",
       "      <th>sector</th>\n",
       "      <th>previous_rank</th>\n",
       "      <th>country</th>\n",
       "      <th>hq_location</th>\n",
       "      <th>website</th>\n",
       "      <th>years_on_global_500_list</th>\n",
       "      <th>employees</th>\n",
       "      <th>total_stockholder_equity</th>\n",
       "    </tr>\n",
       "  </thead>\n",
       "  <tbody>\n",
       "    <tr>\n",
       "      <th>Teva Pharmaceutical Industries</th>\n",
       "      <td>496</td>\n",
       "      <td>21903</td>\n",
       "      <td>11.5</td>\n",
       "      <td>329.0</td>\n",
       "      <td>92890</td>\n",
       "      <td>-79.3</td>\n",
       "      <td>Yitzhak Peterburg</td>\n",
       "      <td>Pharmaceuticals</td>\n",
       "      <td>Health Care</td>\n",
       "      <td>0</td>\n",
       "      <td>Israel</td>\n",
       "      <td>Petach Tikva, Israel</td>\n",
       "      <td>http://www.tevapharm.com</td>\n",
       "      <td>1</td>\n",
       "      <td>56960</td>\n",
       "      <td>33337</td>\n",
       "    </tr>\n",
       "    <tr>\n",
       "      <th>New China Life Insurance</th>\n",
       "      <td>497</td>\n",
       "      <td>21796</td>\n",
       "      <td>-13.3</td>\n",
       "      <td>743.9</td>\n",
       "      <td>100609</td>\n",
       "      <td>-45.6</td>\n",
       "      <td>Wan Feng</td>\n",
       "      <td>Insurance: Life, Health (stock)</td>\n",
       "      <td>Financials</td>\n",
       "      <td>427</td>\n",
       "      <td>China</td>\n",
       "      <td>Beijing, China</td>\n",
       "      <td>http://www.newchinalife.com</td>\n",
       "      <td>2</td>\n",
       "      <td>54378</td>\n",
       "      <td>8507</td>\n",
       "    </tr>\n",
       "    <tr>\n",
       "      <th>Wm. Morrison Supermarkets</th>\n",
       "      <td>498</td>\n",
       "      <td>21741</td>\n",
       "      <td>-11.3</td>\n",
       "      <td>406.4</td>\n",
       "      <td>11630</td>\n",
       "      <td>20.4</td>\n",
       "      <td>David T. Potts</td>\n",
       "      <td>Food and Drug Stores</td>\n",
       "      <td>Food &amp; Drug Stores</td>\n",
       "      <td>437</td>\n",
       "      <td>Britain</td>\n",
       "      <td>Bradford, Britain</td>\n",
       "      <td>http://www.morrisons.com</td>\n",
       "      <td>13</td>\n",
       "      <td>77210</td>\n",
       "      <td>5111</td>\n",
       "    </tr>\n",
       "    <tr>\n",
       "      <th>TUI</th>\n",
       "      <td>499</td>\n",
       "      <td>21655</td>\n",
       "      <td>-5.5</td>\n",
       "      <td>1151.7</td>\n",
       "      <td>16247</td>\n",
       "      <td>195.5</td>\n",
       "      <td>Friedrich Joussen</td>\n",
       "      <td>Travel Services</td>\n",
       "      <td>Business Services</td>\n",
       "      <td>467</td>\n",
       "      <td>Germany</td>\n",
       "      <td>Hanover, Germany</td>\n",
       "      <td>http://www.tuigroup.com</td>\n",
       "      <td>23</td>\n",
       "      <td>66779</td>\n",
       "      <td>3006</td>\n",
       "    </tr>\n",
       "    <tr>\n",
       "      <th>AutoNation</th>\n",
       "      <td>500</td>\n",
       "      <td>21609</td>\n",
       "      <td>3.6</td>\n",
       "      <td>430.5</td>\n",
       "      <td>10060</td>\n",
       "      <td>-2.7</td>\n",
       "      <td>Michael J. Jackson</td>\n",
       "      <td>Specialty Retailers</td>\n",
       "      <td>Retailing</td>\n",
       "      <td>0</td>\n",
       "      <td>USA</td>\n",
       "      <td>Fort Lauderdale, FL</td>\n",
       "      <td>http://www.autonation.com</td>\n",
       "      <td>12</td>\n",
       "      <td>26000</td>\n",
       "      <td>2310</td>\n",
       "    </tr>\n",
       "  </tbody>\n",
       "</table>\n",
       "</div>"
      ],
      "text/plain": [
       "                                rank  revenues  revenue_change  profits  \\\n",
       "Teva Pharmaceutical Industries   496     21903            11.5    329.0   \n",
       "New China Life Insurance         497     21796           -13.3    743.9   \n",
       "Wm. Morrison Supermarkets        498     21741           -11.3    406.4   \n",
       "TUI                              499     21655            -5.5   1151.7   \n",
       "AutoNation                       500     21609             3.6    430.5   \n",
       "\n",
       "                                assets  profit_change                 ceo  \\\n",
       "Teva Pharmaceutical Industries   92890          -79.3   Yitzhak Peterburg   \n",
       "New China Life Insurance        100609          -45.6            Wan Feng   \n",
       "Wm. Morrison Supermarkets        11630           20.4      David T. Potts   \n",
       "TUI                              16247          195.5   Friedrich Joussen   \n",
       "AutoNation                       10060           -2.7  Michael J. Jackson   \n",
       "\n",
       "                                                       industry  \\\n",
       "Teva Pharmaceutical Industries                  Pharmaceuticals   \n",
       "New China Life Insurance        Insurance: Life, Health (stock)   \n",
       "Wm. Morrison Supermarkets                  Food and Drug Stores   \n",
       "TUI                                             Travel Services   \n",
       "AutoNation                                  Specialty Retailers   \n",
       "\n",
       "                                            sector  previous_rank  country  \\\n",
       "Teva Pharmaceutical Industries         Health Care              0   Israel   \n",
       "New China Life Insurance                Financials            427    China   \n",
       "Wm. Morrison Supermarkets       Food & Drug Stores            437  Britain   \n",
       "TUI                              Business Services            467  Germany   \n",
       "AutoNation                               Retailing              0      USA   \n",
       "\n",
       "                                         hq_location  \\\n",
       "Teva Pharmaceutical Industries  Petach Tikva, Israel   \n",
       "New China Life Insurance              Beijing, China   \n",
       "Wm. Morrison Supermarkets          Bradford, Britain   \n",
       "TUI                                 Hanover, Germany   \n",
       "AutoNation                       Fort Lauderdale, FL   \n",
       "\n",
       "                                                    website  \\\n",
       "Teva Pharmaceutical Industries     http://www.tevapharm.com   \n",
       "New China Life Insurance        http://www.newchinalife.com   \n",
       "Wm. Morrison Supermarkets          http://www.morrisons.com   \n",
       "TUI                                 http://www.tuigroup.com   \n",
       "AutoNation                        http://www.autonation.com   \n",
       "\n",
       "                                years_on_global_500_list  employees  \\\n",
       "Teva Pharmaceutical Industries                         1      56960   \n",
       "New China Life Insurance                               2      54378   \n",
       "Wm. Morrison Supermarkets                             13      77210   \n",
       "TUI                                                   23      66779   \n",
       "AutoNation                                            12      26000   \n",
       "\n",
       "                                total_stockholder_equity  \n",
       "Teva Pharmaceutical Industries                     33337  \n",
       "New China Life Insurance                            8507  \n",
       "Wm. Morrison Supermarkets                           5111  \n",
       "TUI                                                 3006  \n",
       "AutoNation                                          2310  "
      ]
     },
     "execution_count": 8,
     "metadata": {},
     "output_type": "execute_result"
    }
   ],
   "source": [
    "f500.tail()"
   ]
  },
  {
   "cell_type": "code",
   "execution_count": 9,
   "id": "a6936a2b",
   "metadata": {},
   "outputs": [
    {
     "data": {
      "text/html": [
       "<div>\n",
       "<style scoped>\n",
       "    .dataframe tbody tr th:only-of-type {\n",
       "        vertical-align: middle;\n",
       "    }\n",
       "\n",
       "    .dataframe tbody tr th {\n",
       "        vertical-align: top;\n",
       "    }\n",
       "\n",
       "    .dataframe thead th {\n",
       "        text-align: right;\n",
       "    }\n",
       "</style>\n",
       "<table border=\"1\" class=\"dataframe\">\n",
       "  <thead>\n",
       "    <tr style=\"text-align: right;\">\n",
       "      <th></th>\n",
       "      <th>rank</th>\n",
       "      <th>revenues</th>\n",
       "      <th>revenue_change</th>\n",
       "      <th>profits</th>\n",
       "      <th>assets</th>\n",
       "      <th>profit_change</th>\n",
       "      <th>ceo</th>\n",
       "      <th>industry</th>\n",
       "      <th>sector</th>\n",
       "      <th>previous_rank</th>\n",
       "      <th>country</th>\n",
       "      <th>hq_location</th>\n",
       "      <th>website</th>\n",
       "      <th>years_on_global_500_list</th>\n",
       "      <th>employees</th>\n",
       "      <th>total_stockholder_equity</th>\n",
       "    </tr>\n",
       "  </thead>\n",
       "  <tbody>\n",
       "    <tr>\n",
       "      <th>Wm. Morrison Supermarkets</th>\n",
       "      <td>498</td>\n",
       "      <td>21741</td>\n",
       "      <td>-11.3</td>\n",
       "      <td>406.4</td>\n",
       "      <td>11630</td>\n",
       "      <td>20.4</td>\n",
       "      <td>David T. Potts</td>\n",
       "      <td>Food and Drug Stores</td>\n",
       "      <td>Food &amp; Drug Stores</td>\n",
       "      <td>437</td>\n",
       "      <td>Britain</td>\n",
       "      <td>Bradford, Britain</td>\n",
       "      <td>http://www.morrisons.com</td>\n",
       "      <td>13</td>\n",
       "      <td>77210</td>\n",
       "      <td>5111</td>\n",
       "    </tr>\n",
       "    <tr>\n",
       "      <th>TUI</th>\n",
       "      <td>499</td>\n",
       "      <td>21655</td>\n",
       "      <td>-5.5</td>\n",
       "      <td>1151.7</td>\n",
       "      <td>16247</td>\n",
       "      <td>195.5</td>\n",
       "      <td>Friedrich Joussen</td>\n",
       "      <td>Travel Services</td>\n",
       "      <td>Business Services</td>\n",
       "      <td>467</td>\n",
       "      <td>Germany</td>\n",
       "      <td>Hanover, Germany</td>\n",
       "      <td>http://www.tuigroup.com</td>\n",
       "      <td>23</td>\n",
       "      <td>66779</td>\n",
       "      <td>3006</td>\n",
       "    </tr>\n",
       "    <tr>\n",
       "      <th>AutoNation</th>\n",
       "      <td>500</td>\n",
       "      <td>21609</td>\n",
       "      <td>3.6</td>\n",
       "      <td>430.5</td>\n",
       "      <td>10060</td>\n",
       "      <td>-2.7</td>\n",
       "      <td>Michael J. Jackson</td>\n",
       "      <td>Specialty Retailers</td>\n",
       "      <td>Retailing</td>\n",
       "      <td>0</td>\n",
       "      <td>USA</td>\n",
       "      <td>Fort Lauderdale, FL</td>\n",
       "      <td>http://www.autonation.com</td>\n",
       "      <td>12</td>\n",
       "      <td>26000</td>\n",
       "      <td>2310</td>\n",
       "    </tr>\n",
       "  </tbody>\n",
       "</table>\n",
       "</div>"
      ],
      "text/plain": [
       "                           rank  revenues  revenue_change  profits  assets  \\\n",
       "Wm. Morrison Supermarkets   498     21741           -11.3    406.4   11630   \n",
       "TUI                         499     21655            -5.5   1151.7   16247   \n",
       "AutoNation                  500     21609             3.6    430.5   10060   \n",
       "\n",
       "                           profit_change                 ceo  \\\n",
       "Wm. Morrison Supermarkets           20.4      David T. Potts   \n",
       "TUI                                195.5   Friedrich Joussen   \n",
       "AutoNation                          -2.7  Michael J. Jackson   \n",
       "\n",
       "                                       industry              sector  \\\n",
       "Wm. Morrison Supermarkets  Food and Drug Stores  Food & Drug Stores   \n",
       "TUI                             Travel Services   Business Services   \n",
       "AutoNation                  Specialty Retailers           Retailing   \n",
       "\n",
       "                           previous_rank  country          hq_location  \\\n",
       "Wm. Morrison Supermarkets            437  Britain    Bradford, Britain   \n",
       "TUI                                  467  Germany     Hanover, Germany   \n",
       "AutoNation                             0      USA  Fort Lauderdale, FL   \n",
       "\n",
       "                                             website  \\\n",
       "Wm. Morrison Supermarkets   http://www.morrisons.com   \n",
       "TUI                          http://www.tuigroup.com   \n",
       "AutoNation                 http://www.autonation.com   \n",
       "\n",
       "                           years_on_global_500_list  employees  \\\n",
       "Wm. Morrison Supermarkets                        13      77210   \n",
       "TUI                                              23      66779   \n",
       "AutoNation                                       12      26000   \n",
       "\n",
       "                           total_stockholder_equity  \n",
       "Wm. Morrison Supermarkets                      5111  \n",
       "TUI                                            3006  \n",
       "AutoNation                                     2310  "
      ]
     },
     "execution_count": 9,
     "metadata": {},
     "output_type": "execute_result"
    }
   ],
   "source": [
    "f500.tail(-497)"
   ]
  },
  {
   "cell_type": "code",
   "execution_count": 10,
   "id": "7a302687",
   "metadata": {},
   "outputs": [
    {
     "data": {
      "text/plain": [
       "<pandas._config.config.DictWrapper at 0x7f3d61e9a820>"
      ]
     },
     "execution_count": 10,
     "metadata": {},
     "output_type": "execute_result"
    }
   ],
   "source": [
    "pd.options"
   ]
  },
  {
   "cell_type": "code",
   "execution_count": 11,
   "id": "44c781e3",
   "metadata": {},
   "outputs": [
    {
     "name": "stdout",
     "output_type": "stream",
     "text": [
      "<pandas._config.config.DictWrapper object at 0x7f3d61e9a820>\n"
     ]
    }
   ],
   "source": [
    "print(pd.options)"
   ]
  },
  {
   "cell_type": "code",
   "execution_count": 12,
   "id": "1dbe4d0d",
   "metadata": {},
   "outputs": [
    {
     "name": "stdout",
     "output_type": "stream",
     "text": [
      "<class 'pandas.core.frame.DataFrame'>\n",
      "Index: 500 entries, Walmart to AutoNation\n",
      "Data columns (total 16 columns):\n",
      " #   Column                    Non-Null Count  Dtype  \n",
      "---  ------                    --------------  -----  \n",
      " 0   rank                      500 non-null    int64  \n",
      " 1   revenues                  500 non-null    int64  \n",
      " 2   revenue_change            498 non-null    float64\n",
      " 3   profits                   499 non-null    float64\n",
      " 4   assets                    500 non-null    int64  \n",
      " 5   profit_change             436 non-null    float64\n",
      " 6   ceo                       500 non-null    object \n",
      " 7   industry                  500 non-null    object \n",
      " 8   sector                    500 non-null    object \n",
      " 9   previous_rank             500 non-null    int64  \n",
      " 10  country                   500 non-null    object \n",
      " 11  hq_location               500 non-null    object \n",
      " 12  website                   500 non-null    object \n",
      " 13  years_on_global_500_list  500 non-null    int64  \n",
      " 14  employees                 500 non-null    int64  \n",
      " 15  total_stockholder_equity  500 non-null    int64  \n",
      "dtypes: float64(3), int64(7), object(6)\n",
      "memory usage: 66.4+ KB\n"
     ]
    }
   ],
   "source": [
    "f500.info()"
   ]
  },
  {
   "cell_type": "code",
   "execution_count": 13,
   "id": "9130c4e2",
   "metadata": {},
   "outputs": [
    {
     "data": {
      "text/plain": [
       "Walmart                                     General Merchandisers\n",
       "State Grid                                              Utilities\n",
       "Sinopec Group                                  Petroleum Refining\n",
       "China National Petroleum                       Petroleum Refining\n",
       "Toyota Motor                             Motor Vehicles and Parts\n",
       "                                               ...               \n",
       "Teva Pharmaceutical Industries                    Pharmaceuticals\n",
       "New China Life Insurance          Insurance: Life, Health (stock)\n",
       "Wm. Morrison Supermarkets                    Food and Drug Stores\n",
       "TUI                                               Travel Services\n",
       "AutoNation                                    Specialty Retailers\n",
       "Name: industry, Length: 500, dtype: object"
      ]
     },
     "execution_count": 13,
     "metadata": {},
     "output_type": "execute_result"
    }
   ],
   "source": [
    "industry = f500['industry']\n",
    "industry"
   ]
  },
  {
   "cell_type": "code",
   "execution_count": 14,
   "id": "e69f1b0d",
   "metadata": {},
   "outputs": [
    {
     "data": {
      "text/plain": [
       "pandas.core.series.Series"
      ]
     },
     "execution_count": 14,
     "metadata": {},
     "output_type": "execute_result"
    }
   ],
   "source": [
    "type(industry)"
   ]
  },
  {
   "cell_type": "code",
   "execution_count": 15,
   "id": "cb27bfaf",
   "metadata": {},
   "outputs": [
    {
     "data": {
      "text/html": [
       "<div>\n",
       "<style scoped>\n",
       "    .dataframe tbody tr th:only-of-type {\n",
       "        vertical-align: middle;\n",
       "    }\n",
       "\n",
       "    .dataframe tbody tr th {\n",
       "        vertical-align: top;\n",
       "    }\n",
       "\n",
       "    .dataframe thead th {\n",
       "        text-align: right;\n",
       "    }\n",
       "</style>\n",
       "<table border=\"1\" class=\"dataframe\">\n",
       "  <thead>\n",
       "    <tr style=\"text-align: right;\">\n",
       "      <th></th>\n",
       "      <th>industry</th>\n",
       "    </tr>\n",
       "  </thead>\n",
       "  <tbody>\n",
       "    <tr>\n",
       "      <th>Walmart</th>\n",
       "      <td>General Merchandisers</td>\n",
       "    </tr>\n",
       "    <tr>\n",
       "      <th>State Grid</th>\n",
       "      <td>Utilities</td>\n",
       "    </tr>\n",
       "    <tr>\n",
       "      <th>Sinopec Group</th>\n",
       "      <td>Petroleum Refining</td>\n",
       "    </tr>\n",
       "    <tr>\n",
       "      <th>China National Petroleum</th>\n",
       "      <td>Petroleum Refining</td>\n",
       "    </tr>\n",
       "    <tr>\n",
       "      <th>Toyota Motor</th>\n",
       "      <td>Motor Vehicles and Parts</td>\n",
       "    </tr>\n",
       "    <tr>\n",
       "      <th>...</th>\n",
       "      <td>...</td>\n",
       "    </tr>\n",
       "    <tr>\n",
       "      <th>Teva Pharmaceutical Industries</th>\n",
       "      <td>Pharmaceuticals</td>\n",
       "    </tr>\n",
       "    <tr>\n",
       "      <th>New China Life Insurance</th>\n",
       "      <td>Insurance: Life, Health (stock)</td>\n",
       "    </tr>\n",
       "    <tr>\n",
       "      <th>Wm. Morrison Supermarkets</th>\n",
       "      <td>Food and Drug Stores</td>\n",
       "    </tr>\n",
       "    <tr>\n",
       "      <th>TUI</th>\n",
       "      <td>Travel Services</td>\n",
       "    </tr>\n",
       "    <tr>\n",
       "      <th>AutoNation</th>\n",
       "      <td>Specialty Retailers</td>\n",
       "    </tr>\n",
       "  </tbody>\n",
       "</table>\n",
       "<p>500 rows × 1 columns</p>\n",
       "</div>"
      ],
      "text/plain": [
       "                                                       industry\n",
       "Walmart                                   General Merchandisers\n",
       "State Grid                                            Utilities\n",
       "Sinopec Group                                Petroleum Refining\n",
       "China National Petroleum                     Petroleum Refining\n",
       "Toyota Motor                           Motor Vehicles and Parts\n",
       "...                                                         ...\n",
       "Teva Pharmaceutical Industries                  Pharmaceuticals\n",
       "New China Life Insurance        Insurance: Life, Health (stock)\n",
       "Wm. Morrison Supermarkets                  Food and Drug Stores\n",
       "TUI                                             Travel Services\n",
       "AutoNation                                  Specialty Retailers\n",
       "\n",
       "[500 rows x 1 columns]"
      ]
     },
     "execution_count": 15,
     "metadata": {},
     "output_type": "execute_result"
    }
   ],
   "source": [
    "industry1 = f500[['industry']]\n",
    "industry1"
   ]
  },
  {
   "cell_type": "code",
   "execution_count": 16,
   "id": "068492ee",
   "metadata": {},
   "outputs": [
    {
     "data": {
      "text/plain": [
       "pandas.core.frame.DataFrame"
      ]
     },
     "execution_count": 16,
     "metadata": {},
     "output_type": "execute_result"
    }
   ],
   "source": [
    "type(industry1)"
   ]
  },
  {
   "cell_type": "code",
   "execution_count": 17,
   "id": "2caf7f1c",
   "metadata": {},
   "outputs": [
    {
     "name": "stdout",
     "output_type": "stream",
     "text": [
      "<class 'pandas.core.frame.DataFrame'>\n",
      "Index: 500 entries, Walmart to AutoNation\n",
      "Data columns (total 1 columns):\n",
      " #   Column    Non-Null Count  Dtype \n",
      "---  ------    --------------  ----- \n",
      " 0   industry  500 non-null    object\n",
      "dtypes: object(1)\n",
      "memory usage: 24.0+ KB\n"
     ]
    }
   ],
   "source": [
    "industry1.info()"
   ]
  },
  {
   "cell_type": "code",
   "execution_count": 18,
   "id": "c13f6217",
   "metadata": {},
   "outputs": [
    {
     "data": {
      "text/plain": [
       "<bound method DataFrame.info of                                                        industry\n",
       "Walmart                                   General Merchandisers\n",
       "State Grid                                            Utilities\n",
       "Sinopec Group                                Petroleum Refining\n",
       "China National Petroleum                     Petroleum Refining\n",
       "Toyota Motor                           Motor Vehicles and Parts\n",
       "...                                                         ...\n",
       "Teva Pharmaceutical Industries                  Pharmaceuticals\n",
       "New China Life Insurance        Insurance: Life, Health (stock)\n",
       "Wm. Morrison Supermarkets                  Food and Drug Stores\n",
       "TUI                                             Travel Services\n",
       "AutoNation                                  Specialty Retailers\n",
       "\n",
       "[500 rows x 1 columns]>"
      ]
     },
     "execution_count": 18,
     "metadata": {},
     "output_type": "execute_result"
    }
   ],
   "source": [
    "industry1.info"
   ]
  },
  {
   "cell_type": "code",
   "execution_count": 19,
   "id": "0fc9a4ae",
   "metadata": {},
   "outputs": [
    {
     "data": {
      "text/plain": [
       "(500,)"
      ]
     },
     "execution_count": 19,
     "metadata": {},
     "output_type": "execute_result"
    }
   ],
   "source": [
    "industry.shape"
   ]
  },
  {
   "cell_type": "code",
   "execution_count": 20,
   "id": "c97842a6",
   "metadata": {},
   "outputs": [
    {
     "data": {
      "text/plain": [
       "(500, 16)"
      ]
     },
     "execution_count": 20,
     "metadata": {},
     "output_type": "execute_result"
    }
   ],
   "source": [
    "f500.shape"
   ]
  },
  {
   "cell_type": "code",
   "execution_count": 21,
   "id": "58dee89c",
   "metadata": {},
   "outputs": [
    {
     "data": {
      "text/plain": [
       "Index(['Walmart', 'State Grid', 'Sinopec Group', 'China National Petroleum',\n",
       "       'Toyota Motor', 'Volkswagen', 'Royal Dutch Shell', 'Berkshire Hathaway',\n",
       "       'Apple', 'Exxon Mobil',\n",
       "       ...\n",
       "       'National Grid', 'Dollar General', 'Telecom Italia',\n",
       "       'Xiamen ITG Holding Group', 'Xinjiang Guanghui Industry Investment',\n",
       "       'Teva Pharmaceutical Industries', 'New China Life Insurance',\n",
       "       'Wm. Morrison Supermarkets', 'TUI', 'AutoNation'],\n",
       "      dtype='object', length=500)"
      ]
     },
     "execution_count": 21,
     "metadata": {},
     "output_type": "execute_result"
    }
   ],
   "source": [
    "f500.index"
   ]
  },
  {
   "cell_type": "markdown",
   "id": "20f17a11",
   "metadata": {},
   "source": [
    "Let's practice using these techniques to select specific columns from our f500 dataframe.\n",
    "instructions\n",
    "\n",
    "- Select the country column. Assign the result to the variable name countries.\n",
    "- In order, select the revenues and years_on_global_500_list columns. Assign the result to the variable name revenues_years.\n",
    "- In order, select all columns from ceo up to and including sector. Assign the result to the variable name ceo_to_sector.\n",
    "- After you have run your code, use the variable inspector to view the variables.\n"
   ]
  },
  {
   "cell_type": "code",
   "execution_count": 22,
   "id": "d0693660",
   "metadata": {},
   "outputs": [
    {
     "data": {
      "text/plain": [
       "Walmart                               USA\n",
       "State Grid                          China\n",
       "Sinopec Group                       China\n",
       "China National Petroleum            China\n",
       "Toyota Motor                        Japan\n",
       "                                   ...   \n",
       "Teva Pharmaceutical Industries     Israel\n",
       "New China Life Insurance            China\n",
       "Wm. Morrison Supermarkets         Britain\n",
       "TUI                               Germany\n",
       "AutoNation                            USA\n",
       "Name: country, Length: 500, dtype: object"
      ]
     },
     "execution_count": 22,
     "metadata": {},
     "output_type": "execute_result"
    }
   ],
   "source": [
    "countries = f500.loc[:, 'country']\n",
    "countries"
   ]
  },
  {
   "cell_type": "code",
   "execution_count": 23,
   "id": "94101f93",
   "metadata": {},
   "outputs": [
    {
     "data": {
      "text/plain": [
       "Walmart                               USA\n",
       "State Grid                          China\n",
       "Sinopec Group                       China\n",
       "China National Petroleum            China\n",
       "Toyota Motor                        Japan\n",
       "                                   ...   \n",
       "Teva Pharmaceutical Industries     Israel\n",
       "New China Life Insurance            China\n",
       "Wm. Morrison Supermarkets         Britain\n",
       "TUI                               Germany\n",
       "AutoNation                            USA\n",
       "Name: country, Length: 500, dtype: object"
      ]
     },
     "execution_count": 23,
     "metadata": {},
     "output_type": "execute_result"
    }
   ],
   "source": [
    "countries1 = f500['country']\n",
    "countries1"
   ]
  },
  {
   "cell_type": "code",
   "execution_count": 24,
   "id": "d65b29d6",
   "metadata": {},
   "outputs": [
    {
     "data": {
      "text/html": [
       "<div>\n",
       "<style scoped>\n",
       "    .dataframe tbody tr th:only-of-type {\n",
       "        vertical-align: middle;\n",
       "    }\n",
       "\n",
       "    .dataframe tbody tr th {\n",
       "        vertical-align: top;\n",
       "    }\n",
       "\n",
       "    .dataframe thead th {\n",
       "        text-align: right;\n",
       "    }\n",
       "</style>\n",
       "<table border=\"1\" class=\"dataframe\">\n",
       "  <thead>\n",
       "    <tr style=\"text-align: right;\">\n",
       "      <th></th>\n",
       "      <th>country</th>\n",
       "    </tr>\n",
       "  </thead>\n",
       "  <tbody>\n",
       "    <tr>\n",
       "      <th>Walmart</th>\n",
       "      <td>USA</td>\n",
       "    </tr>\n",
       "    <tr>\n",
       "      <th>State Grid</th>\n",
       "      <td>China</td>\n",
       "    </tr>\n",
       "    <tr>\n",
       "      <th>Sinopec Group</th>\n",
       "      <td>China</td>\n",
       "    </tr>\n",
       "    <tr>\n",
       "      <th>China National Petroleum</th>\n",
       "      <td>China</td>\n",
       "    </tr>\n",
       "    <tr>\n",
       "      <th>Toyota Motor</th>\n",
       "      <td>Japan</td>\n",
       "    </tr>\n",
       "    <tr>\n",
       "      <th>...</th>\n",
       "      <td>...</td>\n",
       "    </tr>\n",
       "    <tr>\n",
       "      <th>Teva Pharmaceutical Industries</th>\n",
       "      <td>Israel</td>\n",
       "    </tr>\n",
       "    <tr>\n",
       "      <th>New China Life Insurance</th>\n",
       "      <td>China</td>\n",
       "    </tr>\n",
       "    <tr>\n",
       "      <th>Wm. Morrison Supermarkets</th>\n",
       "      <td>Britain</td>\n",
       "    </tr>\n",
       "    <tr>\n",
       "      <th>TUI</th>\n",
       "      <td>Germany</td>\n",
       "    </tr>\n",
       "    <tr>\n",
       "      <th>AutoNation</th>\n",
       "      <td>USA</td>\n",
       "    </tr>\n",
       "  </tbody>\n",
       "</table>\n",
       "<p>500 rows × 1 columns</p>\n",
       "</div>"
      ],
      "text/plain": [
       "                                country\n",
       "Walmart                             USA\n",
       "State Grid                        China\n",
       "Sinopec Group                     China\n",
       "China National Petroleum          China\n",
       "Toyota Motor                      Japan\n",
       "...                                 ...\n",
       "Teva Pharmaceutical Industries   Israel\n",
       "New China Life Insurance          China\n",
       "Wm. Morrison Supermarkets       Britain\n",
       "TUI                             Germany\n",
       "AutoNation                          USA\n",
       "\n",
       "[500 rows x 1 columns]"
      ]
     },
     "execution_count": 24,
     "metadata": {},
     "output_type": "execute_result"
    }
   ],
   "source": [
    "countries2 = f500.loc[:, ['country']]\n",
    "countries2"
   ]
  },
  {
   "cell_type": "code",
   "execution_count": 25,
   "id": "3ba8682e",
   "metadata": {},
   "outputs": [
    {
     "data": {
      "text/html": [
       "<div>\n",
       "<style scoped>\n",
       "    .dataframe tbody tr th:only-of-type {\n",
       "        vertical-align: middle;\n",
       "    }\n",
       "\n",
       "    .dataframe tbody tr th {\n",
       "        vertical-align: top;\n",
       "    }\n",
       "\n",
       "    .dataframe thead th {\n",
       "        text-align: right;\n",
       "    }\n",
       "</style>\n",
       "<table border=\"1\" class=\"dataframe\">\n",
       "  <thead>\n",
       "    <tr style=\"text-align: right;\">\n",
       "      <th></th>\n",
       "      <th>country</th>\n",
       "    </tr>\n",
       "  </thead>\n",
       "  <tbody>\n",
       "    <tr>\n",
       "      <th>Walmart</th>\n",
       "      <td>USA</td>\n",
       "    </tr>\n",
       "    <tr>\n",
       "      <th>State Grid</th>\n",
       "      <td>China</td>\n",
       "    </tr>\n",
       "    <tr>\n",
       "      <th>Sinopec Group</th>\n",
       "      <td>China</td>\n",
       "    </tr>\n",
       "    <tr>\n",
       "      <th>China National Petroleum</th>\n",
       "      <td>China</td>\n",
       "    </tr>\n",
       "    <tr>\n",
       "      <th>Toyota Motor</th>\n",
       "      <td>Japan</td>\n",
       "    </tr>\n",
       "    <tr>\n",
       "      <th>...</th>\n",
       "      <td>...</td>\n",
       "    </tr>\n",
       "    <tr>\n",
       "      <th>Teva Pharmaceutical Industries</th>\n",
       "      <td>Israel</td>\n",
       "    </tr>\n",
       "    <tr>\n",
       "      <th>New China Life Insurance</th>\n",
       "      <td>China</td>\n",
       "    </tr>\n",
       "    <tr>\n",
       "      <th>Wm. Morrison Supermarkets</th>\n",
       "      <td>Britain</td>\n",
       "    </tr>\n",
       "    <tr>\n",
       "      <th>TUI</th>\n",
       "      <td>Germany</td>\n",
       "    </tr>\n",
       "    <tr>\n",
       "      <th>AutoNation</th>\n",
       "      <td>USA</td>\n",
       "    </tr>\n",
       "  </tbody>\n",
       "</table>\n",
       "<p>500 rows × 1 columns</p>\n",
       "</div>"
      ],
      "text/plain": [
       "                                country\n",
       "Walmart                             USA\n",
       "State Grid                        China\n",
       "Sinopec Group                     China\n",
       "China National Petroleum          China\n",
       "Toyota Motor                      Japan\n",
       "...                                 ...\n",
       "Teva Pharmaceutical Industries   Israel\n",
       "New China Life Insurance          China\n",
       "Wm. Morrison Supermarkets       Britain\n",
       "TUI                             Germany\n",
       "AutoNation                          USA\n",
       "\n",
       "[500 rows x 1 columns]"
      ]
     },
     "execution_count": 25,
     "metadata": {},
     "output_type": "execute_result"
    }
   ],
   "source": [
    "countries3 = f500[['country']]\n",
    "countries3"
   ]
  },
  {
   "cell_type": "code",
   "execution_count": 26,
   "id": "9988a8e1",
   "metadata": {},
   "outputs": [
    {
     "data": {
      "text/html": [
       "<div>\n",
       "<style scoped>\n",
       "    .dataframe tbody tr th:only-of-type {\n",
       "        vertical-align: middle;\n",
       "    }\n",
       "\n",
       "    .dataframe tbody tr th {\n",
       "        vertical-align: top;\n",
       "    }\n",
       "\n",
       "    .dataframe thead th {\n",
       "        text-align: right;\n",
       "    }\n",
       "</style>\n",
       "<table border=\"1\" class=\"dataframe\">\n",
       "  <thead>\n",
       "    <tr style=\"text-align: right;\">\n",
       "      <th></th>\n",
       "      <th>revenues</th>\n",
       "      <th>years_on_global_500_list</th>\n",
       "    </tr>\n",
       "  </thead>\n",
       "  <tbody>\n",
       "    <tr>\n",
       "      <th>Walmart</th>\n",
       "      <td>485873</td>\n",
       "      <td>23</td>\n",
       "    </tr>\n",
       "    <tr>\n",
       "      <th>State Grid</th>\n",
       "      <td>315199</td>\n",
       "      <td>17</td>\n",
       "    </tr>\n",
       "    <tr>\n",
       "      <th>Sinopec Group</th>\n",
       "      <td>267518</td>\n",
       "      <td>19</td>\n",
       "    </tr>\n",
       "    <tr>\n",
       "      <th>China National Petroleum</th>\n",
       "      <td>262573</td>\n",
       "      <td>17</td>\n",
       "    </tr>\n",
       "    <tr>\n",
       "      <th>Toyota Motor</th>\n",
       "      <td>254694</td>\n",
       "      <td>23</td>\n",
       "    </tr>\n",
       "    <tr>\n",
       "      <th>...</th>\n",
       "      <td>...</td>\n",
       "      <td>...</td>\n",
       "    </tr>\n",
       "    <tr>\n",
       "      <th>Teva Pharmaceutical Industries</th>\n",
       "      <td>21903</td>\n",
       "      <td>1</td>\n",
       "    </tr>\n",
       "    <tr>\n",
       "      <th>New China Life Insurance</th>\n",
       "      <td>21796</td>\n",
       "      <td>2</td>\n",
       "    </tr>\n",
       "    <tr>\n",
       "      <th>Wm. Morrison Supermarkets</th>\n",
       "      <td>21741</td>\n",
       "      <td>13</td>\n",
       "    </tr>\n",
       "    <tr>\n",
       "      <th>TUI</th>\n",
       "      <td>21655</td>\n",
       "      <td>23</td>\n",
       "    </tr>\n",
       "    <tr>\n",
       "      <th>AutoNation</th>\n",
       "      <td>21609</td>\n",
       "      <td>12</td>\n",
       "    </tr>\n",
       "  </tbody>\n",
       "</table>\n",
       "<p>500 rows × 2 columns</p>\n",
       "</div>"
      ],
      "text/plain": [
       "                                revenues  years_on_global_500_list\n",
       "Walmart                           485873                        23\n",
       "State Grid                        315199                        17\n",
       "Sinopec Group                     267518                        19\n",
       "China National Petroleum          262573                        17\n",
       "Toyota Motor                      254694                        23\n",
       "...                                  ...                       ...\n",
       "Teva Pharmaceutical Industries     21903                         1\n",
       "New China Life Insurance           21796                         2\n",
       "Wm. Morrison Supermarkets          21741                        13\n",
       "TUI                                21655                        23\n",
       "AutoNation                         21609                        12\n",
       "\n",
       "[500 rows x 2 columns]"
      ]
     },
     "execution_count": 26,
     "metadata": {},
     "output_type": "execute_result"
    }
   ],
   "source": [
    "revenues_years = f500.loc[:, ['revenues', 'years_on_global_500_list']]\n",
    "revenues_years"
   ]
  },
  {
   "cell_type": "code",
   "execution_count": 27,
   "id": "38fcc262",
   "metadata": {},
   "outputs": [
    {
     "data": {
      "text/html": [
       "<div>\n",
       "<style scoped>\n",
       "    .dataframe tbody tr th:only-of-type {\n",
       "        vertical-align: middle;\n",
       "    }\n",
       "\n",
       "    .dataframe tbody tr th {\n",
       "        vertical-align: top;\n",
       "    }\n",
       "\n",
       "    .dataframe thead th {\n",
       "        text-align: right;\n",
       "    }\n",
       "</style>\n",
       "<table border=\"1\" class=\"dataframe\">\n",
       "  <thead>\n",
       "    <tr style=\"text-align: right;\">\n",
       "      <th></th>\n",
       "      <th>revenues</th>\n",
       "      <th>years_on_global_500_list</th>\n",
       "    </tr>\n",
       "  </thead>\n",
       "  <tbody>\n",
       "    <tr>\n",
       "      <th>Walmart</th>\n",
       "      <td>485873</td>\n",
       "      <td>23</td>\n",
       "    </tr>\n",
       "    <tr>\n",
       "      <th>State Grid</th>\n",
       "      <td>315199</td>\n",
       "      <td>17</td>\n",
       "    </tr>\n",
       "    <tr>\n",
       "      <th>Sinopec Group</th>\n",
       "      <td>267518</td>\n",
       "      <td>19</td>\n",
       "    </tr>\n",
       "    <tr>\n",
       "      <th>China National Petroleum</th>\n",
       "      <td>262573</td>\n",
       "      <td>17</td>\n",
       "    </tr>\n",
       "    <tr>\n",
       "      <th>Toyota Motor</th>\n",
       "      <td>254694</td>\n",
       "      <td>23</td>\n",
       "    </tr>\n",
       "    <tr>\n",
       "      <th>...</th>\n",
       "      <td>...</td>\n",
       "      <td>...</td>\n",
       "    </tr>\n",
       "    <tr>\n",
       "      <th>Teva Pharmaceutical Industries</th>\n",
       "      <td>21903</td>\n",
       "      <td>1</td>\n",
       "    </tr>\n",
       "    <tr>\n",
       "      <th>New China Life Insurance</th>\n",
       "      <td>21796</td>\n",
       "      <td>2</td>\n",
       "    </tr>\n",
       "    <tr>\n",
       "      <th>Wm. Morrison Supermarkets</th>\n",
       "      <td>21741</td>\n",
       "      <td>13</td>\n",
       "    </tr>\n",
       "    <tr>\n",
       "      <th>TUI</th>\n",
       "      <td>21655</td>\n",
       "      <td>23</td>\n",
       "    </tr>\n",
       "    <tr>\n",
       "      <th>AutoNation</th>\n",
       "      <td>21609</td>\n",
       "      <td>12</td>\n",
       "    </tr>\n",
       "  </tbody>\n",
       "</table>\n",
       "<p>500 rows × 2 columns</p>\n",
       "</div>"
      ],
      "text/plain": [
       "                                revenues  years_on_global_500_list\n",
       "Walmart                           485873                        23\n",
       "State Grid                        315199                        17\n",
       "Sinopec Group                     267518                        19\n",
       "China National Petroleum          262573                        17\n",
       "Toyota Motor                      254694                        23\n",
       "...                                  ...                       ...\n",
       "Teva Pharmaceutical Industries     21903                         1\n",
       "New China Life Insurance           21796                         2\n",
       "Wm. Morrison Supermarkets          21741                        13\n",
       "TUI                                21655                        23\n",
       "AutoNation                         21609                        12\n",
       "\n",
       "[500 rows x 2 columns]"
      ]
     },
     "execution_count": 27,
     "metadata": {},
     "output_type": "execute_result"
    }
   ],
   "source": [
    "revenues_years1 = f500[['revenues', 'years_on_global_500_list']]\n",
    "revenues_years1"
   ]
  },
  {
   "cell_type": "code",
   "execution_count": 28,
   "id": "87d7b990",
   "metadata": {},
   "outputs": [
    {
     "data": {
      "text/html": [
       "<div>\n",
       "<style scoped>\n",
       "    .dataframe tbody tr th:only-of-type {\n",
       "        vertical-align: middle;\n",
       "    }\n",
       "\n",
       "    .dataframe tbody tr th {\n",
       "        vertical-align: top;\n",
       "    }\n",
       "\n",
       "    .dataframe thead th {\n",
       "        text-align: right;\n",
       "    }\n",
       "</style>\n",
       "<table border=\"1\" class=\"dataframe\">\n",
       "  <thead>\n",
       "    <tr style=\"text-align: right;\">\n",
       "      <th></th>\n",
       "      <th>ceo</th>\n",
       "      <th>industry</th>\n",
       "      <th>sector</th>\n",
       "    </tr>\n",
       "  </thead>\n",
       "  <tbody>\n",
       "    <tr>\n",
       "      <th>Walmart</th>\n",
       "      <td>C. Douglas McMillon</td>\n",
       "      <td>General Merchandisers</td>\n",
       "      <td>Retailing</td>\n",
       "    </tr>\n",
       "    <tr>\n",
       "      <th>State Grid</th>\n",
       "      <td>Kou Wei</td>\n",
       "      <td>Utilities</td>\n",
       "      <td>Energy</td>\n",
       "    </tr>\n",
       "    <tr>\n",
       "      <th>Sinopec Group</th>\n",
       "      <td>Wang Yupu</td>\n",
       "      <td>Petroleum Refining</td>\n",
       "      <td>Energy</td>\n",
       "    </tr>\n",
       "    <tr>\n",
       "      <th>China National Petroleum</th>\n",
       "      <td>Zhang Jianhua</td>\n",
       "      <td>Petroleum Refining</td>\n",
       "      <td>Energy</td>\n",
       "    </tr>\n",
       "    <tr>\n",
       "      <th>Toyota Motor</th>\n",
       "      <td>Akio Toyoda</td>\n",
       "      <td>Motor Vehicles and Parts</td>\n",
       "      <td>Motor Vehicles &amp; Parts</td>\n",
       "    </tr>\n",
       "    <tr>\n",
       "      <th>...</th>\n",
       "      <td>...</td>\n",
       "      <td>...</td>\n",
       "      <td>...</td>\n",
       "    </tr>\n",
       "    <tr>\n",
       "      <th>Teva Pharmaceutical Industries</th>\n",
       "      <td>Yitzhak Peterburg</td>\n",
       "      <td>Pharmaceuticals</td>\n",
       "      <td>Health Care</td>\n",
       "    </tr>\n",
       "    <tr>\n",
       "      <th>New China Life Insurance</th>\n",
       "      <td>Wan Feng</td>\n",
       "      <td>Insurance: Life, Health (stock)</td>\n",
       "      <td>Financials</td>\n",
       "    </tr>\n",
       "    <tr>\n",
       "      <th>Wm. Morrison Supermarkets</th>\n",
       "      <td>David T. Potts</td>\n",
       "      <td>Food and Drug Stores</td>\n",
       "      <td>Food &amp; Drug Stores</td>\n",
       "    </tr>\n",
       "    <tr>\n",
       "      <th>TUI</th>\n",
       "      <td>Friedrich Joussen</td>\n",
       "      <td>Travel Services</td>\n",
       "      <td>Business Services</td>\n",
       "    </tr>\n",
       "    <tr>\n",
       "      <th>AutoNation</th>\n",
       "      <td>Michael J. Jackson</td>\n",
       "      <td>Specialty Retailers</td>\n",
       "      <td>Retailing</td>\n",
       "    </tr>\n",
       "  </tbody>\n",
       "</table>\n",
       "<p>500 rows × 3 columns</p>\n",
       "</div>"
      ],
      "text/plain": [
       "                                                ceo  \\\n",
       "Walmart                         C. Douglas McMillon   \n",
       "State Grid                                  Kou Wei   \n",
       "Sinopec Group                             Wang Yupu   \n",
       "China National Petroleum              Zhang Jianhua   \n",
       "Toyota Motor                            Akio Toyoda   \n",
       "...                                             ...   \n",
       "Teva Pharmaceutical Industries    Yitzhak Peterburg   \n",
       "New China Life Insurance                   Wan Feng   \n",
       "Wm. Morrison Supermarkets            David T. Potts   \n",
       "TUI                               Friedrich Joussen   \n",
       "AutoNation                       Michael J. Jackson   \n",
       "\n",
       "                                                       industry  \\\n",
       "Walmart                                   General Merchandisers   \n",
       "State Grid                                            Utilities   \n",
       "Sinopec Group                                Petroleum Refining   \n",
       "China National Petroleum                     Petroleum Refining   \n",
       "Toyota Motor                           Motor Vehicles and Parts   \n",
       "...                                                         ...   \n",
       "Teva Pharmaceutical Industries                  Pharmaceuticals   \n",
       "New China Life Insurance        Insurance: Life, Health (stock)   \n",
       "Wm. Morrison Supermarkets                  Food and Drug Stores   \n",
       "TUI                                             Travel Services   \n",
       "AutoNation                                  Specialty Retailers   \n",
       "\n",
       "                                                sector  \n",
       "Walmart                                      Retailing  \n",
       "State Grid                                      Energy  \n",
       "Sinopec Group                                   Energy  \n",
       "China National Petroleum                        Energy  \n",
       "Toyota Motor                    Motor Vehicles & Parts  \n",
       "...                                                ...  \n",
       "Teva Pharmaceutical Industries             Health Care  \n",
       "New China Life Insurance                    Financials  \n",
       "Wm. Morrison Supermarkets           Food & Drug Stores  \n",
       "TUI                                  Business Services  \n",
       "AutoNation                                   Retailing  \n",
       "\n",
       "[500 rows x 3 columns]"
      ]
     },
     "execution_count": 28,
     "metadata": {},
     "output_type": "execute_result"
    }
   ],
   "source": [
    "ceo_to_sector = f500.loc[:, 'ceo':'sector']\n",
    "ceo_to_sector"
   ]
  },
  {
   "cell_type": "code",
   "execution_count": 29,
   "id": "7ca01fd2",
   "metadata": {},
   "outputs": [
    {
     "data": {
      "text/plain": [
       "USA             132\n",
       "China           109\n",
       "Japan            51\n",
       "France           29\n",
       "Germany          29\n",
       "Britain          24\n",
       "South Korea      15\n",
       "Switzerland      14\n",
       "Netherlands      14\n",
       "Canada           11\n",
       "Spain             9\n",
       "Brazil            7\n",
       "Italy             7\n",
       "India             7\n",
       "Australia         7\n",
       "Taiwan            6\n",
       "Ireland           4\n",
       "Russia            4\n",
       "Sweden            3\n",
       "Singapore         3\n",
       "Mexico            2\n",
       "Israel            1\n",
       "Saudi Arabia      1\n",
       "Thailand          1\n",
       "Finland           1\n",
       "Denmark           1\n",
       "Belgium           1\n",
       "Luxembourg        1\n",
       "Turkey            1\n",
       "U.A.E             1\n",
       "Norway            1\n",
       "Indonesia         1\n",
       "Malaysia          1\n",
       "Venezuela         1\n",
       "Name: country, dtype: int64"
      ]
     },
     "execution_count": 29,
     "metadata": {},
     "output_type": "execute_result"
    }
   ],
   "source": [
    "country_counts = f500['country'].value_counts()\n",
    "country_counts"
   ]
  },
  {
   "cell_type": "code",
   "execution_count": 30,
   "id": "4b23802a",
   "metadata": {},
   "outputs": [
    {
     "data": {
      "text/plain": [
       "7"
      ]
     },
     "execution_count": 30,
     "metadata": {},
     "output_type": "execute_result"
    }
   ],
   "source": [
    "country_counts['India'] # or country_counts.loc['India']"
   ]
  },
  {
   "cell_type": "code",
   "execution_count": 31,
   "id": "fd31d7f7",
   "metadata": {},
   "outputs": [
    {
     "data": {
      "text/plain": [
       "USA       132\n",
       "Canada     11\n",
       "Mexico      2\n",
       "Name: country, dtype: int64"
      ]
     },
     "execution_count": 31,
     "metadata": {},
     "output_type": "execute_result"
    }
   ],
   "source": [
    "north_america = country_counts[['USA', 'Canada', 'Mexico']]\n",
    "north_america"
   ]
  },
  {
   "cell_type": "code",
   "execution_count": 32,
   "id": "49fa76ea",
   "metadata": {},
   "outputs": [
    {
     "data": {
      "text/html": [
       "<style>\n",
       " table {margin-left: 0 !important;}\n",
       "</style>\n"
      ],
      "text/plain": [
       "<IPython.core.display.HTML object>"
      ]
     },
     "metadata": {},
     "output_type": "display_data"
    }
   ],
   "source": [
    "%%html\n",
    "<style>\n",
    " table {margin-left: 0 !important;}\n",
    "</style>"
   ]
  },
  {
   "cell_type": "markdown",
   "id": "9d71ff19",
   "metadata": {},
   "source": [
    "### Let's take a look at a summary of all the different label selection mechanisms we've learned in this lesson:"
   ]
  },
  {
   "cell_type": "markdown",
   "id": "e5c615c1",
   "metadata": {},
   "source": [
    "|Select by Label|Explicit Syntax|Shorthand Convention|\n",
    "|:---|:---|:---|\n",
    "|Single column from dataframe|`df.loc[:,\"col1\"]`|df[\"col1\"]|\n",
    "|List of columns from dataframe|`df.loc[:,[\"col1\",\"col7\"]]`|`df[[\"col1\",\"col7\"]]`|\n",
    "|Slice of columns from dataframe|`df.loc[:,\"col1\":\"col4\"]`|\n",
    "|Single row from dataframe|`df.loc[\"row4\"]`|\n",
    "|List of rows from dataframe|`df.loc[[\"row1\", \"row8\"]]`|\n",
    "|Slice of rows from dataframe|`df.loc[\"row3\":\"row5\"]`|`df[\"row3\":\"row5\"]`|\n",
    "|Single item from series|`s.loc[\"item8\"]`|`s[\"item8\"]`|\n",
    "|List of items from series|`s.loc[[\"item1\",\"item7\"]]`|`s[[\"item1\",\"item7\"]]`|\n",
    "|Slice of items from series|`s.loc[\"item2\":\"item4\"]`|`s[\"item2\":\"item4\"]`|"
   ]
  },
  {
   "cell_type": "code",
   "execution_count": 34,
   "id": "08adfa8b",
   "metadata": {},
   "outputs": [
    {
     "data": {
      "text/html": [
       "<div>\n",
       "<style scoped>\n",
       "    .dataframe tbody tr th:only-of-type {\n",
       "        vertical-align: middle;\n",
       "    }\n",
       "\n",
       "    .dataframe tbody tr th {\n",
       "        vertical-align: top;\n",
       "    }\n",
       "\n",
       "    .dataframe thead th {\n",
       "        text-align: right;\n",
       "    }\n",
       "</style>\n",
       "<table border=\"1\" class=\"dataframe\">\n",
       "  <thead>\n",
       "    <tr style=\"text-align: right;\">\n",
       "      <th></th>\n",
       "      <th>rank</th>\n",
       "      <th>previous_rank</th>\n",
       "    </tr>\n",
       "  </thead>\n",
       "  <tbody>\n",
       "    <tr>\n",
       "      <th>Aviva</th>\n",
       "      <td>90</td>\n",
       "      <td>279</td>\n",
       "    </tr>\n",
       "    <tr>\n",
       "      <th>HP</th>\n",
       "      <td>194</td>\n",
       "      <td>48</td>\n",
       "    </tr>\n",
       "    <tr>\n",
       "      <th>JD.com</th>\n",
       "      <td>261</td>\n",
       "      <td>366</td>\n",
       "    </tr>\n",
       "    <tr>\n",
       "      <th>BHP Billiton</th>\n",
       "      <td>350</td>\n",
       "      <td>168</td>\n",
       "    </tr>\n",
       "  </tbody>\n",
       "</table>\n",
       "</div>"
      ],
      "text/plain": [
       "              rank  previous_rank\n",
       "Aviva           90            279\n",
       "HP             194             48\n",
       "JD.com         261            366\n",
       "BHP Billiton   350            168"
      ]
     },
     "execution_count": 34,
     "metadata": {},
     "output_type": "execute_result"
    }
   ],
   "source": [
    "big_movers = f500.loc[['Aviva', 'HP', 'JD.com', 'BHP Billiton'], ['rank', 'previous_rank']]\n",
    "big_movers"
   ]
  },
  {
   "cell_type": "code",
   "execution_count": 38,
   "id": "53e9de64",
   "metadata": {},
   "outputs": [
    {
     "data": {
      "text/html": [
       "<div>\n",
       "<style scoped>\n",
       "    .dataframe tbody tr th:only-of-type {\n",
       "        vertical-align: middle;\n",
       "    }\n",
       "\n",
       "    .dataframe tbody tr th {\n",
       "        vertical-align: top;\n",
       "    }\n",
       "\n",
       "    .dataframe thead th {\n",
       "        text-align: right;\n",
       "    }\n",
       "</style>\n",
       "<table border=\"1\" class=\"dataframe\">\n",
       "  <thead>\n",
       "    <tr style=\"text-align: right;\">\n",
       "      <th></th>\n",
       "      <th>rank</th>\n",
       "      <th>sector</th>\n",
       "      <th>country</th>\n",
       "    </tr>\n",
       "  </thead>\n",
       "  <tbody>\n",
       "    <tr>\n",
       "      <th>National Grid</th>\n",
       "      <td>491</td>\n",
       "      <td>Energy</td>\n",
       "      <td>Britain</td>\n",
       "    </tr>\n",
       "    <tr>\n",
       "      <th>Dollar General</th>\n",
       "      <td>492</td>\n",
       "      <td>Retailing</td>\n",
       "      <td>USA</td>\n",
       "    </tr>\n",
       "    <tr>\n",
       "      <th>Telecom Italia</th>\n",
       "      <td>493</td>\n",
       "      <td>Telecommunications</td>\n",
       "      <td>Italy</td>\n",
       "    </tr>\n",
       "    <tr>\n",
       "      <th>Xiamen ITG Holding Group</th>\n",
       "      <td>494</td>\n",
       "      <td>Wholesalers</td>\n",
       "      <td>China</td>\n",
       "    </tr>\n",
       "    <tr>\n",
       "      <th>Xinjiang Guanghui Industry Investment</th>\n",
       "      <td>495</td>\n",
       "      <td>Wholesalers</td>\n",
       "      <td>China</td>\n",
       "    </tr>\n",
       "    <tr>\n",
       "      <th>Teva Pharmaceutical Industries</th>\n",
       "      <td>496</td>\n",
       "      <td>Health Care</td>\n",
       "      <td>Israel</td>\n",
       "    </tr>\n",
       "    <tr>\n",
       "      <th>New China Life Insurance</th>\n",
       "      <td>497</td>\n",
       "      <td>Financials</td>\n",
       "      <td>China</td>\n",
       "    </tr>\n",
       "    <tr>\n",
       "      <th>Wm. Morrison Supermarkets</th>\n",
       "      <td>498</td>\n",
       "      <td>Food &amp; Drug Stores</td>\n",
       "      <td>Britain</td>\n",
       "    </tr>\n",
       "    <tr>\n",
       "      <th>TUI</th>\n",
       "      <td>499</td>\n",
       "      <td>Business Services</td>\n",
       "      <td>Germany</td>\n",
       "    </tr>\n",
       "    <tr>\n",
       "      <th>AutoNation</th>\n",
       "      <td>500</td>\n",
       "      <td>Retailing</td>\n",
       "      <td>USA</td>\n",
       "    </tr>\n",
       "  </tbody>\n",
       "</table>\n",
       "</div>"
      ],
      "text/plain": [
       "                                       rank              sector  country\n",
       "National Grid                           491              Energy  Britain\n",
       "Dollar General                          492           Retailing      USA\n",
       "Telecom Italia                          493  Telecommunications    Italy\n",
       "Xiamen ITG Holding Group                494         Wholesalers    China\n",
       "Xinjiang Guanghui Industry Investment   495         Wholesalers    China\n",
       "Teva Pharmaceutical Industries          496         Health Care   Israel\n",
       "New China Life Insurance                497          Financials    China\n",
       "Wm. Morrison Supermarkets               498  Food & Drug Stores  Britain\n",
       "TUI                                     499   Business Services  Germany\n",
       "AutoNation                              500           Retailing      USA"
      ]
     },
     "execution_count": 38,
     "metadata": {},
     "output_type": "execute_result"
    }
   ],
   "source": [
    "bottom_companies = f500.loc['National Grid':'AutoNation', ['rank', 'sector', 'country']]\n",
    "bottom_companies"
   ]
  },
  {
   "cell_type": "code",
   "execution_count": null,
   "id": "50856999",
   "metadata": {},
   "outputs": [],
   "source": []
  }
 ],
 "metadata": {
  "kernelspec": {
   "display_name": "Python 3",
   "language": "python",
   "name": "python3"
  },
  "language_info": {
   "codemirror_mode": {
    "name": "ipython",
    "version": 3
   },
   "file_extension": ".py",
   "mimetype": "text/x-python",
   "name": "python",
   "nbconvert_exporter": "python",
   "pygments_lexer": "ipython3",
   "version": "3.8.8"
  }
 },
 "nbformat": 4,
 "nbformat_minor": 5
}
