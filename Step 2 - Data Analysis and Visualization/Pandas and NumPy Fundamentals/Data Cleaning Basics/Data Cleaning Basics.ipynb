{
 "cells": [
  {
   "cell_type": "markdown",
   "id": "9f37a5b7",
   "metadata": {},
   "source": [
    "# Data Cleaning Basics"
   ]
  },
  {
   "cell_type": "markdown",
   "id": "12ef789c",
   "metadata": {},
   "source": [
    "So far, we've learned how to select, assign, and analyze data with pandas using pre-cleaned data. In reality, data is rarely in the format needed to perform analysis. Data scientists commonly spend over half their time cleaning data, so knowing how to clean \"messy\" data is an extremely important skill.\n",
    "\n",
    "In this lesson, we'll learn the basics of data cleaning with pandas as we work with `laptops.csv`, a CSV file containing information about 1,300 laptop computers."
   ]
  },
  {
   "cell_type": "markdown",
   "id": "3bf96e21",
   "metadata": {},
   "source": [
    "We can start by reading the data into pandas. Let's look at what happens when we use the pandas.read_csv() function with only the filename argument:\n",
    "\n",
    "laptops = pd.read_csv(\"laptops.csv\")\n",
    "\n",
    "---------------------------------------------------------------------------\n",
    "\n",
    "UnicodeDecodeError                        Traceback (most recent call last)\n",
    "\n",
    "pandas/_libs/parsers.pyx in pandas._libs.parsers.TextReader._convert_tokens()\n",
    "\n",
    "pandas/_libs/parsers.pyx in pandas._libs.parsers.TextReader._convert_with_dtype()\n",
    "\n",
    "pandas/_libs/parsers.pyx in pandas._libs.parsers.TextReader._string_convert()\n",
    "\n",
    "pandas/_libs/parsers.pyx in pandas._libs.parsers._string_box_utf8()\n",
    "\n",
    "UnicodeDecodeError: 'utf-8' codec can't decode byte 0xe9 in position 4: invalid continuation byte\n",
    "\n",
    "\n",
    "\n",
    "We get an error! (The error message has been shortened.) This error references UTF-8, which is a type of `encoding`. Computers, at their lowest levels, can only understand binary - `0` and `1`- and encodings are systems for representing characters in binary.\n",
    "\n",
    "Something we can do if our file has an unknown encoding is to try the most common encodings:\n",
    "\n",
    " - UTF-8\n",
    " - Latin-1 (also known as ISO-8859-1)\n",
    " - Windows-1251\n",
    "\n",
    "The pandas.read_csv() function has an encoding argument we can use to specify an encoding:\n",
    "\n",
    "`df = pd.read_csv(\"filename.csv\", encoding=\"some_encoding\")`\n",
    "\n",
    "Since the `pandas.read_csv()` function already tried to read in the file with UTF-8 and failed, we know the file's not encoded with that format. Let's try the next most popular encoding in the exercise.\n",
    "\n",
    "### Exercise\n",
    "\n",
    "\n",
    "1. Import the pandas library\n",
    "2. Use the `pandas.read_csv()` function to read the `laptops.csv` file into a dataframe laptops.\n",
    "  - Specify the encoding using the string `\"Latin-1\"`.\n",
    "3. Use the `DataFrame.info()` method to display information about the `laptops` dataframe.\n"
   ]
  },
  {
   "cell_type": "code",
   "execution_count": 1,
   "id": "d05714f1",
   "metadata": {},
   "outputs": [],
   "source": [
    "import pandas as pd\n",
    "import numpy as np"
   ]
  },
  {
   "cell_type": "code",
   "execution_count": 2,
   "id": "3f2d1315",
   "metadata": {},
   "outputs": [],
   "source": [
    "laptops = pd.read_csv('laptops.csv', encoding='Latin-1')"
   ]
  },
  {
   "cell_type": "code",
   "execution_count": 3,
   "id": "456b5f93",
   "metadata": {},
   "outputs": [
    {
     "data": {
      "text/html": [
       "<div>\n",
       "<style scoped>\n",
       "    .dataframe tbody tr th:only-of-type {\n",
       "        vertical-align: middle;\n",
       "    }\n",
       "\n",
       "    .dataframe tbody tr th {\n",
       "        vertical-align: top;\n",
       "    }\n",
       "\n",
       "    .dataframe thead th {\n",
       "        text-align: right;\n",
       "    }\n",
       "</style>\n",
       "<table border=\"1\" class=\"dataframe\">\n",
       "  <thead>\n",
       "    <tr style=\"text-align: right;\">\n",
       "      <th></th>\n",
       "      <th>Manufacturer</th>\n",
       "      <th>Model Name</th>\n",
       "      <th>Category</th>\n",
       "      <th>Screen Size</th>\n",
       "      <th>Screen</th>\n",
       "      <th>CPU</th>\n",
       "      <th>RAM</th>\n",
       "      <th>Storage</th>\n",
       "      <th>GPU</th>\n",
       "      <th>Operating System</th>\n",
       "      <th>Operating System Version</th>\n",
       "      <th>Weight</th>\n",
       "      <th>Price (Euros)</th>\n",
       "    </tr>\n",
       "  </thead>\n",
       "  <tbody>\n",
       "    <tr>\n",
       "      <th>0</th>\n",
       "      <td>Apple</td>\n",
       "      <td>MacBook Pro</td>\n",
       "      <td>Ultrabook</td>\n",
       "      <td>13.3\"</td>\n",
       "      <td>IPS Panel Retina Display 2560x1600</td>\n",
       "      <td>Intel Core i5 2.3GHz</td>\n",
       "      <td>8GB</td>\n",
       "      <td>128GB SSD</td>\n",
       "      <td>Intel Iris Plus Graphics 640</td>\n",
       "      <td>macOS</td>\n",
       "      <td>NaN</td>\n",
       "      <td>1.37kg</td>\n",
       "      <td>1339,69</td>\n",
       "    </tr>\n",
       "    <tr>\n",
       "      <th>1</th>\n",
       "      <td>Apple</td>\n",
       "      <td>Macbook Air</td>\n",
       "      <td>Ultrabook</td>\n",
       "      <td>13.3\"</td>\n",
       "      <td>1440x900</td>\n",
       "      <td>Intel Core i5 1.8GHz</td>\n",
       "      <td>8GB</td>\n",
       "      <td>128GB Flash Storage</td>\n",
       "      <td>Intel HD Graphics 6000</td>\n",
       "      <td>macOS</td>\n",
       "      <td>NaN</td>\n",
       "      <td>1.34kg</td>\n",
       "      <td>898,94</td>\n",
       "    </tr>\n",
       "    <tr>\n",
       "      <th>2</th>\n",
       "      <td>HP</td>\n",
       "      <td>250 G6</td>\n",
       "      <td>Notebook</td>\n",
       "      <td>15.6\"</td>\n",
       "      <td>Full HD 1920x1080</td>\n",
       "      <td>Intel Core i5 7200U 2.5GHz</td>\n",
       "      <td>8GB</td>\n",
       "      <td>256GB SSD</td>\n",
       "      <td>Intel HD Graphics 620</td>\n",
       "      <td>No OS</td>\n",
       "      <td>NaN</td>\n",
       "      <td>1.86kg</td>\n",
       "      <td>575,00</td>\n",
       "    </tr>\n",
       "    <tr>\n",
       "      <th>3</th>\n",
       "      <td>Apple</td>\n",
       "      <td>MacBook Pro</td>\n",
       "      <td>Ultrabook</td>\n",
       "      <td>15.4\"</td>\n",
       "      <td>IPS Panel Retina Display 2880x1800</td>\n",
       "      <td>Intel Core i7 2.7GHz</td>\n",
       "      <td>16GB</td>\n",
       "      <td>512GB SSD</td>\n",
       "      <td>AMD Radeon Pro 455</td>\n",
       "      <td>macOS</td>\n",
       "      <td>NaN</td>\n",
       "      <td>1.83kg</td>\n",
       "      <td>2537,45</td>\n",
       "    </tr>\n",
       "    <tr>\n",
       "      <th>4</th>\n",
       "      <td>Apple</td>\n",
       "      <td>MacBook Pro</td>\n",
       "      <td>Ultrabook</td>\n",
       "      <td>13.3\"</td>\n",
       "      <td>IPS Panel Retina Display 2560x1600</td>\n",
       "      <td>Intel Core i5 3.1GHz</td>\n",
       "      <td>8GB</td>\n",
       "      <td>256GB SSD</td>\n",
       "      <td>Intel Iris Plus Graphics 650</td>\n",
       "      <td>macOS</td>\n",
       "      <td>NaN</td>\n",
       "      <td>1.37kg</td>\n",
       "      <td>1803,60</td>\n",
       "    </tr>\n",
       "    <tr>\n",
       "      <th>...</th>\n",
       "      <td>...</td>\n",
       "      <td>...</td>\n",
       "      <td>...</td>\n",
       "      <td>...</td>\n",
       "      <td>...</td>\n",
       "      <td>...</td>\n",
       "      <td>...</td>\n",
       "      <td>...</td>\n",
       "      <td>...</td>\n",
       "      <td>...</td>\n",
       "      <td>...</td>\n",
       "      <td>...</td>\n",
       "      <td>...</td>\n",
       "    </tr>\n",
       "    <tr>\n",
       "      <th>1298</th>\n",
       "      <td>Lenovo</td>\n",
       "      <td>Yoga 500-14ISK</td>\n",
       "      <td>2 in 1 Convertible</td>\n",
       "      <td>14.0\"</td>\n",
       "      <td>IPS Panel Full HD / Touchscreen 1920x1080</td>\n",
       "      <td>Intel Core i7 6500U 2.5GHz</td>\n",
       "      <td>4GB</td>\n",
       "      <td>128GB SSD</td>\n",
       "      <td>Intel HD Graphics 520</td>\n",
       "      <td>Windows</td>\n",
       "      <td>10</td>\n",
       "      <td>1.8kg</td>\n",
       "      <td>638,00</td>\n",
       "    </tr>\n",
       "    <tr>\n",
       "      <th>1299</th>\n",
       "      <td>Lenovo</td>\n",
       "      <td>Yoga 900-13ISK</td>\n",
       "      <td>2 in 1 Convertible</td>\n",
       "      <td>13.3\"</td>\n",
       "      <td>IPS Panel Quad HD+ / Touchscreen 3200x1800</td>\n",
       "      <td>Intel Core i7 6500U 2.5GHz</td>\n",
       "      <td>16GB</td>\n",
       "      <td>512GB SSD</td>\n",
       "      <td>Intel HD Graphics 520</td>\n",
       "      <td>Windows</td>\n",
       "      <td>10</td>\n",
       "      <td>1.3kg</td>\n",
       "      <td>1499,00</td>\n",
       "    </tr>\n",
       "    <tr>\n",
       "      <th>1300</th>\n",
       "      <td>Lenovo</td>\n",
       "      <td>IdeaPad 100S-14IBR</td>\n",
       "      <td>Notebook</td>\n",
       "      <td>14.0\"</td>\n",
       "      <td>1366x768</td>\n",
       "      <td>Intel Celeron Dual Core N3050 1.6GHz</td>\n",
       "      <td>2GB</td>\n",
       "      <td>64GB Flash Storage</td>\n",
       "      <td>Intel HD Graphics</td>\n",
       "      <td>Windows</td>\n",
       "      <td>10</td>\n",
       "      <td>1.5kg</td>\n",
       "      <td>229,00</td>\n",
       "    </tr>\n",
       "    <tr>\n",
       "      <th>1301</th>\n",
       "      <td>HP</td>\n",
       "      <td>15-AC110nv (i7-6500U/6GB/1TB/Radeon</td>\n",
       "      <td>Notebook</td>\n",
       "      <td>15.6\"</td>\n",
       "      <td>1366x768</td>\n",
       "      <td>Intel Core i7 6500U 2.5GHz</td>\n",
       "      <td>6GB</td>\n",
       "      <td>1TB HDD</td>\n",
       "      <td>AMD Radeon R5 M330</td>\n",
       "      <td>Windows</td>\n",
       "      <td>10</td>\n",
       "      <td>2.19kg</td>\n",
       "      <td>764,00</td>\n",
       "    </tr>\n",
       "    <tr>\n",
       "      <th>1302</th>\n",
       "      <td>Asus</td>\n",
       "      <td>X553SA-XX031T (N3050/4GB/500GB/W10)</td>\n",
       "      <td>Notebook</td>\n",
       "      <td>15.6\"</td>\n",
       "      <td>1366x768</td>\n",
       "      <td>Intel Celeron Dual Core N3050 1.6GHz</td>\n",
       "      <td>4GB</td>\n",
       "      <td>500GB HDD</td>\n",
       "      <td>Intel HD Graphics</td>\n",
       "      <td>Windows</td>\n",
       "      <td>10</td>\n",
       "      <td>2.2kg</td>\n",
       "      <td>369,00</td>\n",
       "    </tr>\n",
       "  </tbody>\n",
       "</table>\n",
       "<p>1303 rows × 13 columns</p>\n",
       "</div>"
      ],
      "text/plain": [
       "     Manufacturer                           Model Name            Category  \\\n",
       "0           Apple                          MacBook Pro           Ultrabook   \n",
       "1           Apple                          Macbook Air           Ultrabook   \n",
       "2              HP                               250 G6            Notebook   \n",
       "3           Apple                          MacBook Pro           Ultrabook   \n",
       "4           Apple                          MacBook Pro           Ultrabook   \n",
       "...           ...                                  ...                 ...   \n",
       "1298       Lenovo                       Yoga 500-14ISK  2 in 1 Convertible   \n",
       "1299       Lenovo                       Yoga 900-13ISK  2 in 1 Convertible   \n",
       "1300       Lenovo                   IdeaPad 100S-14IBR            Notebook   \n",
       "1301           HP  15-AC110nv (i7-6500U/6GB/1TB/Radeon            Notebook   \n",
       "1302         Asus  X553SA-XX031T (N3050/4GB/500GB/W10)            Notebook   \n",
       "\n",
       "     Screen Size                                      Screen  \\\n",
       "0          13.3\"          IPS Panel Retina Display 2560x1600   \n",
       "1          13.3\"                                    1440x900   \n",
       "2          15.6\"                           Full HD 1920x1080   \n",
       "3          15.4\"          IPS Panel Retina Display 2880x1800   \n",
       "4          13.3\"          IPS Panel Retina Display 2560x1600   \n",
       "...          ...                                         ...   \n",
       "1298       14.0\"   IPS Panel Full HD / Touchscreen 1920x1080   \n",
       "1299       13.3\"  IPS Panel Quad HD+ / Touchscreen 3200x1800   \n",
       "1300       14.0\"                                    1366x768   \n",
       "1301       15.6\"                                    1366x768   \n",
       "1302       15.6\"                                    1366x768   \n",
       "\n",
       "                                       CPU   RAM              Storage  \\\n",
       "0                     Intel Core i5 2.3GHz   8GB            128GB SSD   \n",
       "1                     Intel Core i5 1.8GHz   8GB  128GB Flash Storage   \n",
       "2               Intel Core i5 7200U 2.5GHz   8GB            256GB SSD   \n",
       "3                     Intel Core i7 2.7GHz  16GB            512GB SSD   \n",
       "4                     Intel Core i5 3.1GHz   8GB            256GB SSD   \n",
       "...                                    ...   ...                  ...   \n",
       "1298            Intel Core i7 6500U 2.5GHz   4GB            128GB SSD   \n",
       "1299            Intel Core i7 6500U 2.5GHz  16GB            512GB SSD   \n",
       "1300  Intel Celeron Dual Core N3050 1.6GHz   2GB   64GB Flash Storage   \n",
       "1301            Intel Core i7 6500U 2.5GHz   6GB              1TB HDD   \n",
       "1302  Intel Celeron Dual Core N3050 1.6GHz   4GB            500GB HDD   \n",
       "\n",
       "                               GPU Operating System Operating System Version  \\\n",
       "0     Intel Iris Plus Graphics 640            macOS                      NaN   \n",
       "1           Intel HD Graphics 6000            macOS                      NaN   \n",
       "2            Intel HD Graphics 620            No OS                      NaN   \n",
       "3               AMD Radeon Pro 455            macOS                      NaN   \n",
       "4     Intel Iris Plus Graphics 650            macOS                      NaN   \n",
       "...                            ...              ...                      ...   \n",
       "1298         Intel HD Graphics 520          Windows                       10   \n",
       "1299         Intel HD Graphics 520          Windows                       10   \n",
       "1300             Intel HD Graphics          Windows                       10   \n",
       "1301            AMD Radeon R5 M330          Windows                       10   \n",
       "1302             Intel HD Graphics          Windows                       10   \n",
       "\n",
       "      Weight Price (Euros)  \n",
       "0     1.37kg       1339,69  \n",
       "1     1.34kg        898,94  \n",
       "2     1.86kg        575,00  \n",
       "3     1.83kg       2537,45  \n",
       "4     1.37kg       1803,60  \n",
       "...      ...           ...  \n",
       "1298   1.8kg        638,00  \n",
       "1299   1.3kg       1499,00  \n",
       "1300   1.5kg        229,00  \n",
       "1301  2.19kg        764,00  \n",
       "1302   2.2kg        369,00  \n",
       "\n",
       "[1303 rows x 13 columns]"
      ]
     },
     "execution_count": 3,
     "metadata": {},
     "output_type": "execute_result"
    }
   ],
   "source": [
    "laptops"
   ]
  },
  {
   "cell_type": "code",
   "execution_count": 4,
   "id": "55ca32f1",
   "metadata": {},
   "outputs": [
    {
     "name": "stdout",
     "output_type": "stream",
     "text": [
      "<class 'pandas.core.frame.DataFrame'>\n",
      "RangeIndex: 1303 entries, 0 to 1302\n",
      "Data columns (total 13 columns):\n",
      " #   Column                    Non-Null Count  Dtype \n",
      "---  ------                    --------------  ----- \n",
      " 0   Manufacturer              1303 non-null   object\n",
      " 1   Model Name                1303 non-null   object\n",
      " 2   Category                  1303 non-null   object\n",
      " 3   Screen Size               1303 non-null   object\n",
      " 4   Screen                    1303 non-null   object\n",
      " 5   CPU                       1303 non-null   object\n",
      " 6   RAM                       1303 non-null   object\n",
      " 7    Storage                  1303 non-null   object\n",
      " 8   GPU                       1303 non-null   object\n",
      " 9   Operating System          1303 non-null   object\n",
      " 10  Operating System Version  1133 non-null   object\n",
      " 11  Weight                    1303 non-null   object\n",
      " 12  Price (Euros)             1303 non-null   object\n",
      "dtypes: object(13)\n",
      "memory usage: 132.5+ KB\n"
     ]
    }
   ],
   "source": [
    "laptops.info()"
   ]
  },
  {
   "cell_type": "markdown",
   "id": "e3a1a2a5",
   "metadata": {},
   "source": [
    "We can see that every column is represented as the `object` type, indicating that they are represented by strings, not numbers. Also, one of the columns, `Operating System Version`, has null values.\n",
    "\n",
    "The column labels have a variety of upper and lowercase letters, as well as spaces and parentheses, which will make them harder to work with and read. One noticeable issue is that the `\" Storage\"` column name has a space in front of it. These quirks with column labels can sometimes be hard to spot, so removing extra whitespaces from all column names will save us more work in the long run.\n",
    "\n",
    "We can access the column axis of a dataframe using the `DataFrame.columns` [attribute](https://pandas.pydata.org/pandas-docs/stable/reference/api/pandas.DataFrame.columns.html). This returns an index object — a special type of NumPy ndarray — with the labels of each column:"
   ]
  },
  {
   "cell_type": "code",
   "execution_count": 5,
   "id": "a021be06",
   "metadata": {},
   "outputs": [
    {
     "data": {
      "text/plain": [
       "Index(['Manufacturer', 'Model Name', 'Category', 'Screen Size', 'Screen',\n",
       "       'CPU', 'RAM', ' Storage', 'GPU', 'Operating System',\n",
       "       'Operating System Version', 'Weight', 'Price (Euros)'],\n",
       "      dtype='object')"
      ]
     },
     "execution_count": 5,
     "metadata": {},
     "output_type": "execute_result"
    }
   ],
   "source": [
    "laptops.columns"
   ]
  },
  {
   "cell_type": "markdown",
   "id": "78bdac9d",
   "metadata": {},
   "source": [
    "Not only can we use the attribute to view the column labels, we can also assign new labels to the attribute:"
   ]
  },
  {
   "cell_type": "code",
   "execution_count": 6,
   "id": "b8e5e988",
   "metadata": {},
   "outputs": [
    {
     "data": {
      "text/plain": [
       "Index(['A', 'B', 'C', 'D', 'E', 'F', 'G', 'H', 'I', 'J', 'K', 'L', 'M'], dtype='object')"
      ]
     },
     "execution_count": 6,
     "metadata": {},
     "output_type": "execute_result"
    }
   ],
   "source": [
    "laptops_test = laptops.copy()\n",
    "\n",
    "laptops_test.columns = ['A', 'B', 'C', 'D', 'E',\n",
    "\n",
    "                        'F', 'G', 'H', 'I', 'J',\n",
    "\n",
    "                        'K', 'L', 'M']\n",
    "\n",
    "laptops_test.columns"
   ]
  },
  {
   "cell_type": "markdown",
   "id": "70bc175a",
   "metadata": {},
   "source": [
    "### Exercise:\n",
    "\n",
    "Next, let's use the DataFrame.columns attribute to remove whitespaces from the column names.\n",
    "instructions\n",
    "\n",
    "1. Remove any whitespace from the start and end of each column name.\n",
    "   - Create an empty list named `new_columns`.\n",
    "   - Use a for loop to iterate through each column name using the `DataFrame.columns` attribute. \n",
    "     Inside the body of the for loop:\n",
    "     - Use the `str.strip()` [method](https://docs.python.org/3.6/library/stdtypes.html#str.strip) to remove whitespace from the start and end of the string.\n",
    "     - Append the updated column name to the `new_columns list`.\n",
    "   - Assign the updated column names to the `DataFrame.columns` attribute.\n"
   ]
  },
  {
   "cell_type": "code",
   "execution_count": 7,
   "id": "17b7717a",
   "metadata": {},
   "outputs": [
    {
     "data": {
      "text/plain": [
       "Index(['Manufacturer', 'Model Name', 'Category', 'Screen Size', 'Screen',\n",
       "       'CPU', 'RAM', 'Storage', 'GPU', 'Operating System',\n",
       "       'Operating System Version', 'Weight', 'Price (Euros)'],\n",
       "      dtype='object')"
      ]
     },
     "execution_count": 7,
     "metadata": {},
     "output_type": "execute_result"
    }
   ],
   "source": [
    "new_columns = []\n",
    "\n",
    "for column_name in laptops.columns:\n",
    "    new_columns.append(column_name.strip())\n",
    "    \n",
    "laptops.columns = new_columns\n",
    "\n",
    "laptops.columns"
   ]
  },
  {
   "cell_type": "markdown",
   "id": "a471a6a0",
   "metadata": {},
   "source": [
    "In the last exercise, we removed whitespaces from the column names. Below is the result:\n",
    "\n",
    "Index(['Manufacturer', 'Model Name', 'Category', 'Screen Size', 'Screen',\n",
    "\n",
    "       'CPU', 'RAM', 'Storage', 'GPU', 'Operating System',\n",
    "\n",
    "       'Operating System Version', 'Weight', 'Price (Euros)'],\n",
    "\n",
    "      dtype='object')\n",
    "\n",
    "However, the column labels still have a variety of upper and lowercase letters, as well as parentheses, which will make them harder to work with and read. Let's finish cleaning our column labels by:\n",
    "\n",
    "    Replacing spaces with underscores.\n",
    "    Removing special characters.\n",
    "    Making all labels lowercase.\n",
    "    Shortening any long column names.\n",
    "\n",
    "We can create a function that uses Python string methods to clean our column labels, and then again use a loop to apply that function to each label. Let's look at an example:\n",
    "\n",
    "def clean_col(col):\n",
    "\n",
    "    col = col.strip()\n",
    "\n",
    "    col = col.replace(\"(\",\"\")\n",
    "\n",
    "    col = col.replace(\")\",\"\")\n",
    "\n",
    "    col = col.lower()\n",
    "\n",
    "    return col\n",
    "\n",
    "​\n",
    "\n",
    "new_columns = []\n",
    "\n",
    "for c in laptops.columns:\n",
    "\n",
    "    clean_c = clean_col(c)\n",
    "\n",
    "    new_columns.append(clean_c)\n",
    "\n",
    "​\n",
    "\n",
    "laptops.columns = new_columns\n",
    "\n",
    "print(laptops.columns)\n",
    "\n",
    "Index(['manufacturer', 'model name', 'category', 'screen size', 'screen',\n",
    "\n",
    "       'cpu', 'ram', 'storage', 'gpu', 'operating system',\n",
    "\n",
    "       'operating system version', 'weight', 'price euros'],\n",
    "\n",
    "      dtype='object')\n",
    "\n",
    "Our code:\n",
    "\n",
    "    Defined a function, which:\n",
    "        Used the str.strip() method to remove whitespace from the start and end of the string.\n",
    "        Used the str.replace() method to remove parentheses from the string.\n",
    "        Used the str.lower() method to make the string lowercase.\n",
    "        Returns the modified string.\n",
    "    Used a loop to apply the function to each item in the index object and assign it back to the DataFrame.columns attribute.\n",
    "    Printed the new values for the DataFrame.columns attribute.\n",
    "\n",
    "Let's use this technique to clean the column labels in our dataframe, adding a few extra cleaning 'chores' along the way."
   ]
  },
  {
   "cell_type": "markdown",
   "id": "c1a6a74b",
   "metadata": {},
   "source": [
    "### Exercise\n",
    "\n",
    "\n",
    "1. Define a function, which accepts a string argument, and:\n",
    "   - Removes any whitespace from the start and end of the string.\n",
    "   - Replaces the substring Operating System with the abbreviation os.\n",
    "   - Replaces all spaces with underscores.\n",
    "   - Removes parentheses from the string.\n",
    "   - Makes the entire string lowercase.\n",
    "   - Returns the modified string.\n",
    "2. Use a loop to apply the function to each item in the DataFrame.columns attribute for the laptops dataframe. \n",
    "3. Assign the result back to the DataFrame.columns attribute.\n"
   ]
  },
  {
   "cell_type": "code",
   "execution_count": 8,
   "id": "e9feee5b",
   "metadata": {},
   "outputs": [
    {
     "data": {
      "text/plain": [
       "Index(['Manufacturer', 'Model Name', 'Category', 'Screen Size', 'Screen',\n",
       "       'CPU', 'RAM', 'Storage', 'GPU', 'Operating System',\n",
       "       'Operating System Version', 'Weight', 'Price (Euros)'],\n",
       "      dtype='object')"
      ]
     },
     "execution_count": 8,
     "metadata": {},
     "output_type": "execute_result"
    }
   ],
   "source": [
    "laptops.columns"
   ]
  },
  {
   "cell_type": "code",
   "execution_count": 9,
   "id": "2d5d175f",
   "metadata": {},
   "outputs": [],
   "source": [
    "def col_clean(column):\n",
    "    column = column.strip()\n",
    "    column = column.replace('Operating System', 'os')\n",
    "    column = column.replace(' ', '_')\n",
    "    column = column.replace('(', '')\n",
    "    column = column.replace(')', '')\n",
    "    column = column.lower()\n",
    "    return column"
   ]
  },
  {
   "cell_type": "code",
   "execution_count": 10,
   "id": "2a4b06b7",
   "metadata": {},
   "outputs": [
    {
     "data": {
      "text/plain": [
       "Index(['manufacturer', 'model_name', 'category', 'screen_size', 'screen',\n",
       "       'cpu', 'ram', 'storage', 'gpu', 'os', 'os_version', 'weight',\n",
       "       'price_euros'],\n",
       "      dtype='object')"
      ]
     },
     "execution_count": 10,
     "metadata": {},
     "output_type": "execute_result"
    }
   ],
   "source": [
    "cleaned_columns = []\n",
    "\n",
    "for column in laptops.columns:\n",
    "    cleaned_columns.append(col_clean(column))\n",
    "    \n",
    "laptops.columns = cleaned_columns\n",
    "\n",
    "laptops.columns"
   ]
  },
  {
   "cell_type": "markdown",
   "id": "8b7483ae",
   "metadata": {},
   "source": [
    "We observed earlier that all 13 columns have the object dtype, meaning they're stored as strings. Let's look at the first few rows of some of our columns:"
   ]
  },
  {
   "cell_type": "code",
   "execution_count": 11,
   "id": "e3ca6b3f",
   "metadata": {},
   "outputs": [
    {
     "data": {
      "text/html": [
       "<div>\n",
       "<style scoped>\n",
       "    .dataframe tbody tr th:only-of-type {\n",
       "        vertical-align: middle;\n",
       "    }\n",
       "\n",
       "    .dataframe tbody tr th {\n",
       "        vertical-align: top;\n",
       "    }\n",
       "\n",
       "    .dataframe thead th {\n",
       "        text-align: right;\n",
       "    }\n",
       "</style>\n",
       "<table border=\"1\" class=\"dataframe\">\n",
       "  <thead>\n",
       "    <tr style=\"text-align: right;\">\n",
       "      <th></th>\n",
       "      <th>category</th>\n",
       "      <th>screen_size</th>\n",
       "      <th>screen</th>\n",
       "    </tr>\n",
       "  </thead>\n",
       "  <tbody>\n",
       "    <tr>\n",
       "      <th>0</th>\n",
       "      <td>Ultrabook</td>\n",
       "      <td>13.3\"</td>\n",
       "      <td>IPS Panel Retina Display 2560x1600</td>\n",
       "    </tr>\n",
       "    <tr>\n",
       "      <th>1</th>\n",
       "      <td>Ultrabook</td>\n",
       "      <td>13.3\"</td>\n",
       "      <td>1440x900</td>\n",
       "    </tr>\n",
       "    <tr>\n",
       "      <th>2</th>\n",
       "      <td>Notebook</td>\n",
       "      <td>15.6\"</td>\n",
       "      <td>Full HD 1920x1080</td>\n",
       "    </tr>\n",
       "    <tr>\n",
       "      <th>3</th>\n",
       "      <td>Ultrabook</td>\n",
       "      <td>15.4\"</td>\n",
       "      <td>IPS Panel Retina Display 2880x1800</td>\n",
       "    </tr>\n",
       "    <tr>\n",
       "      <th>4</th>\n",
       "      <td>Ultrabook</td>\n",
       "      <td>13.3\"</td>\n",
       "      <td>IPS Panel Retina Display 2560x1600</td>\n",
       "    </tr>\n",
       "  </tbody>\n",
       "</table>\n",
       "</div>"
      ],
      "text/plain": [
       "    category screen_size                              screen\n",
       "0  Ultrabook       13.3\"  IPS Panel Retina Display 2560x1600\n",
       "1  Ultrabook       13.3\"                            1440x900\n",
       "2   Notebook       15.6\"                   Full HD 1920x1080\n",
       "3  Ultrabook       15.4\"  IPS Panel Retina Display 2880x1800\n",
       "4  Ultrabook       13.3\"  IPS Panel Retina Display 2560x1600"
      ]
     },
     "execution_count": 11,
     "metadata": {},
     "output_type": "execute_result"
    }
   ],
   "source": [
    "laptops.iloc[:5, 2:5]"
   ]
  },
  {
   "cell_type": "markdown",
   "id": "9d366a83",
   "metadata": {},
   "source": [
    "Of these three columns, we have three different types of text data:\n",
    "\n",
    "    category: Purely text data - there are no numeric values.\n",
    "    screen_size: Numeric data stored as text data because of the \" character.\n",
    "    screen: A combination of pure text data with numeric data."
   ]
  },
  {
   "cell_type": "markdown",
   "id": "673bf6c3",
   "metadata": {},
   "source": [
    "Because the values in the screen_size column are stored as text data, we can't sort them numerically. For instance, if we wanted to select laptops with screens 15\" or larger, we'd be unable to do so.\n",
    "\n",
    "Let's convert the screen_size column to numeric next. Whenever we convert text to numeric data, we can follow this data cleaning workflow:\n",
    "\n",
    "string to numeric cleaning workflow\n",
    "\n",
    "The first step is to explore the data. One of the best ways to do this is to use the Series.unique() method to view all of the unique values in the column:"
   ]
  },
  {
   "cell_type": "code",
   "execution_count": 12,
   "id": "3d302946",
   "metadata": {},
   "outputs": [
    {
     "data": {
      "text/plain": [
       "array(['13.3\"', '15.6\"', '15.4\"', '14.0\"', '12.0\"', '11.6\"', '17.3\"',\n",
       "       '10.1\"', '13.5\"', '12.5\"', '13.0\"', '18.4\"', '13.9\"', '12.3\"',\n",
       "       '17.0\"', '15.0\"', '14.1\"', '11.3\"'], dtype=object)"
      ]
     },
     "execution_count": 12,
     "metadata": {},
     "output_type": "execute_result"
    }
   ],
   "source": [
    "laptops['screen_size'].unique()"
   ]
  },
  {
   "cell_type": "code",
   "execution_count": 13,
   "id": "701188ed",
   "metadata": {},
   "outputs": [
    {
     "name": "stdout",
     "output_type": "stream",
     "text": [
      "object\n"
     ]
    }
   ],
   "source": [
    "print(laptops['screen_size'].dtype)"
   ]
  },
  {
   "cell_type": "markdown",
   "id": "f4202e9d",
   "metadata": {},
   "source": [
    "\n",
    "\n",
    "Our next step is to identify patterns and special cases. We can observe the following:\n",
    "\n",
    "   - All values in this column follow the same pattern - a series of digit and period characters, followed by a quote character (\").\n",
    "   - There are no special cases. Every value matches the same pattern.\n",
    "   - We'll need to convert the column to a float dtype, as the int dtype won't be able to store the decimal values.\n",
    "\n",
    "Let's identify any patterns and special cases in the ram column next."
   ]
  },
  {
   "cell_type": "markdown",
   "id": "9ae36117",
   "metadata": {},
   "source": [
    "### Exercise\n",
    "\n",
    "\n",
    "1. Use the Series.unique() method to identify the unique values in the ram column of the laptops dataframe. \n",
    "   - Assign the result to unique_ram.\n"
   ]
  },
  {
   "cell_type": "code",
   "execution_count": 14,
   "id": "a3dc474b",
   "metadata": {},
   "outputs": [
    {
     "data": {
      "text/plain": [
       "array(['8GB', '16GB', '4GB', '2GB', '12GB', '6GB', '32GB', '24GB', '64GB'],\n",
       "      dtype=object)"
      ]
     },
     "execution_count": 14,
     "metadata": {},
     "output_type": "execute_result"
    }
   ],
   "source": [
    "unique_ram = laptops['ram'].unique()\n",
    "unique_ram"
   ]
  },
  {
   "cell_type": "markdown",
   "id": "f9f177d8",
   "metadata": {},
   "source": [
    "In the last exercise, we identified a clear pattern in the ram column - all values are integers and include the character GB at the end of the string:\n",
    "\n",
    "['8GB' '16GB' '4GB' '2GB' '12GB' '6GB' '32GB' '24GB' '64GB']\n",
    "\n",
    "To convert both the ram and screen_size columns to numeric dtypes, we'll have to first remove the non-digit characters.\n",
    "\n",
    "string to numeric cleaning workflow\n",
    "\n",
    "The pandas library contains dozens of vectorized string methods we can use to manipulate text data, many of which perform the same operations as Python string methods. Most vectorized string methods are available using the Series.str accessor, which means we can access them by adding str between the series name and the method name:\n",
    "\n",
    "vectorized_string_methods\n",
    "\n",
    "In this case, we can use the Series.str.replace() method, which is a vectorized version of the Python str.replace() method we used in the previous screen, to remove all the quote characters from every string in the screen_size column:\n",
    "\n",
    "laptops[\"screen_size\"] = laptops[\"screen_size\"].str.replace('\"','')\n",
    "\n",
    "print(laptops[\"screen_size\"].unique())\n",
    "\n",
    "['13.3', '15.6', '15.4', '14.0', '12.0', '11.6', '17.3',\n",
    "\n",
    " '10.1', '13.5', '12.5', '13.0', '18.4', '13.9', '12.3',\n",
    "\n",
    " '17.0', '15.0', '14.1', '11.3']\n",
    "\n",
    "Let's remove the non-digit characters from the ram column next.\n",
    "\n",
    "### Exercise\n",
    "\n",
    "\n",
    "1. Use the Series.str.replace() method to remove the substring GB from the ram column.\n",
    "2. Use the Series.unique() method to assign the unique values in the ram column to unique_ram.\n"
   ]
  },
  {
   "cell_type": "code",
   "execution_count": 15,
   "id": "f29fed00",
   "metadata": {},
   "outputs": [
    {
     "data": {
      "text/plain": [
       "array(['8GB', '16GB', '4GB', '2GB', '12GB', '6GB', '32GB', '24GB', '64GB'],\n",
       "      dtype=object)"
      ]
     },
     "execution_count": 15,
     "metadata": {},
     "output_type": "execute_result"
    }
   ],
   "source": [
    "laptops['ram'].unique()"
   ]
  },
  {
   "cell_type": "code",
   "execution_count": 16,
   "id": "75bce5e0",
   "metadata": {},
   "outputs": [
    {
     "data": {
      "text/plain": [
       "array(['8', '16', '4', '2', '12', '6', '32', '24', '64'], dtype=object)"
      ]
     },
     "execution_count": 16,
     "metadata": {},
     "output_type": "execute_result"
    }
   ],
   "source": [
    "laptops['ram'] = laptops['ram'].str.replace('GB', '')\n",
    "unique_ram = laptops['ram'].unique()\n",
    "unique_ram"
   ]
  },
  {
   "cell_type": "markdown",
   "id": "86c39404",
   "metadata": {},
   "source": [
    "In the last screen, we used the Series.str.replace() method to remove the non-digit characters from the screen_size and ram columns. Now, we can convert (or cast) the columns to a numeric dtype. \n",
    "\n",
    "To do this, we use the Series.astype() method. To convert the column to a numeric dtype, we can use either int or float as the parameter for the method. Since the int dtype can't store decimal values, we'll convert the screen_size column to the float dtype:"
   ]
  },
  {
   "cell_type": "code",
   "execution_count": 17,
   "id": "a47fe797",
   "metadata": {},
   "outputs": [
    {
     "data": {
      "text/plain": [
       "array(['13.3\"', '15.6\"', '15.4\"', '14.0\"', '12.0\"', '11.6\"', '17.3\"',\n",
       "       '10.1\"', '13.5\"', '12.5\"', '13.0\"', '18.4\"', '13.9\"', '12.3\"',\n",
       "       '17.0\"', '15.0\"', '14.1\"', '11.3\"'], dtype=object)"
      ]
     },
     "execution_count": 17,
     "metadata": {},
     "output_type": "execute_result"
    }
   ],
   "source": [
    "laptops['screen_size'].unique()"
   ]
  },
  {
   "cell_type": "code",
   "execution_count": 18,
   "id": "f50fc327",
   "metadata": {},
   "outputs": [
    {
     "data": {
      "text/plain": [
       "array(['13.3', '15.6', '15.4', '14.0', '12.0', '11.6', '17.3', '10.1',\n",
       "       '13.5', '12.5', '13.0', '18.4', '13.9', '12.3', '17.0', '15.0',\n",
       "       '14.1', '11.3'], dtype=object)"
      ]
     },
     "execution_count": 18,
     "metadata": {},
     "output_type": "execute_result"
    }
   ],
   "source": [
    "laptops['screen_size'] = laptops['screen_size'].str.replace('\"', '')\n",
    "laptops['screen_size'].unique()"
   ]
  },
  {
   "cell_type": "code",
   "execution_count": 19,
   "id": "49d96f4e",
   "metadata": {},
   "outputs": [
    {
     "name": "stdout",
     "output_type": "stream",
     "text": [
      "float64\n"
     ]
    }
   ],
   "source": [
    "laptops['screen_size'] = laptops['screen_size'].astype(float)\n",
    "print(laptops['screen_size'].dtype)"
   ]
  },
  {
   "cell_type": "code",
   "execution_count": 20,
   "id": "e42b9778",
   "metadata": {},
   "outputs": [
    {
     "data": {
      "text/plain": [
       "array([13.3, 15.6, 15.4, 14. , 12. , 11.6, 17.3, 10.1, 13.5, 12.5, 13. ,\n",
       "       18.4, 13.9, 12.3, 17. , 15. , 14.1, 11.3])"
      ]
     },
     "execution_count": 20,
     "metadata": {},
     "output_type": "execute_result"
    }
   ],
   "source": [
    "laptops['screen_size'].unique()"
   ]
  },
  {
   "cell_type": "markdown",
   "id": "a0fdcdf8",
   "metadata": {},
   "source": [
    "Our screen_size column is now the float64 dtype. Let's convert the dtype of the ram column to numeric next.\n",
    "\n",
    "1. Use the Series.astype() method to change the ram column to an integer dtype.\n",
    "2. Use the DataFrame.dtypes attribute to get a list of the column names and types from the laptops dataframe. Assign the result to dtypes."
   ]
  },
  {
   "cell_type": "code",
   "execution_count": 21,
   "id": "a48cd421",
   "metadata": {},
   "outputs": [
    {
     "name": "stdout",
     "output_type": "stream",
     "text": [
      "int64\n"
     ]
    }
   ],
   "source": [
    "laptops['ram'] = laptops['ram'].astype(int)\n",
    "print(laptops['ram'].dtype)"
   ]
  },
  {
   "cell_type": "code",
   "execution_count": 22,
   "id": "2311b460",
   "metadata": {},
   "outputs": [
    {
     "data": {
      "text/plain": [
       "array([ 8, 16,  4,  2, 12,  6, 32, 24, 64])"
      ]
     },
     "execution_count": 22,
     "metadata": {},
     "output_type": "execute_result"
    }
   ],
   "source": [
    "laptops['ram'].unique()"
   ]
  },
  {
   "cell_type": "code",
   "execution_count": 23,
   "id": "808f64a5",
   "metadata": {},
   "outputs": [
    {
     "data": {
      "text/plain": [
       "manufacturer     object\n",
       "model_name       object\n",
       "category         object\n",
       "screen_size     float64\n",
       "screen           object\n",
       "cpu              object\n",
       "ram               int64\n",
       "storage          object\n",
       "gpu              object\n",
       "os               object\n",
       "os_version       object\n",
       "weight           object\n",
       "price_euros      object\n",
       "dtype: object"
      ]
     },
     "execution_count": 23,
     "metadata": {},
     "output_type": "execute_result"
    }
   ],
   "source": [
    "laptops.dtypes"
   ]
  },
  {
   "cell_type": "markdown",
   "id": "f3bc502f",
   "metadata": {},
   "source": [
    "Now that we've converted our columns to numeric dtypes, the final step is to rename the column. This is an optional step, and can be useful if the non-digit values contain information that helps us understand the data. \n",
    "\n",
    "![Cleaning Workflow Image](cleaning_workflow.svg)\n",
    "\n",
    "In our case, the quote characters we removed from the screen_size column denoted that the screen size was in inches. As a reminder, here's what the original values looked like:\n",
    "\n",
    "To stop us from losing information that helps us understand the data, we can use the [DataFrame.rename()](https://pandas.pydata.org/pandas-docs/stable/reference/api/pandas.DataFrame.rename.html) method to rename the column from screen_size to screen_size_inches.\n",
    "\n",
    "Below, we specify the axis=1 parameter so pandas knows that we want to rename labels in the column axis:\n"
   ]
  },
  {
   "cell_type": "code",
   "execution_count": 24,
   "id": "72ee33d4",
   "metadata": {},
   "outputs": [
    {
     "data": {
      "text/plain": [
       "manufacturer     object\n",
       "model_name       object\n",
       "category         object\n",
       "screen_size     float64\n",
       "screen           object\n",
       "cpu              object\n",
       "ram               int64\n",
       "storage          object\n",
       "gpu              object\n",
       "os               object\n",
       "os_version       object\n",
       "weight           object\n",
       "price_euros      object\n",
       "dtype: object"
      ]
     },
     "execution_count": 24,
     "metadata": {},
     "output_type": "execute_result"
    }
   ],
   "source": [
    "laptops.dtypes"
   ]
  },
  {
   "cell_type": "code",
   "execution_count": 25,
   "id": "f50dda39",
   "metadata": {},
   "outputs": [],
   "source": [
    "laptops.rename({'screen_size':'screen_size_inches'}, axis=1, inplace=True)"
   ]
  },
  {
   "cell_type": "code",
   "execution_count": 26,
   "id": "e0212186",
   "metadata": {},
   "outputs": [
    {
     "data": {
      "text/plain": [
       "manufacturer           object\n",
       "model_name             object\n",
       "category               object\n",
       "screen_size_inches    float64\n",
       "screen                 object\n",
       "cpu                    object\n",
       "ram                     int64\n",
       "storage                object\n",
       "gpu                    object\n",
       "os                     object\n",
       "os_version             object\n",
       "weight                 object\n",
       "price_euros            object\n",
       "dtype: object"
      ]
     },
     "execution_count": 26,
     "metadata": {},
     "output_type": "execute_result"
    }
   ],
   "source": [
    "laptops.dtypes"
   ]
  },
  {
   "cell_type": "markdown",
   "id": "108dae7c",
   "metadata": {},
   "source": [
    "Note that we can either use inplace=True or assign the result back to the dataframe - both will give us the same results.\n",
    "\n",
    "Let's rename the ram column next and analyze the results.\n",
    "\n",
    "### Exercise:\n",
    "\n",
    "1. Because the GB characters contained useful information about the units (gigabytes) of the laptop's ram, use the DataFrame.rename() method to rename the column from ram to ram_gb.\n",
    "2. Use the Series.describe() method to return a series of descriptive statistics for the ram_gb column. Assign the result to ram_gb_desc."
   ]
  },
  {
   "cell_type": "code",
   "execution_count": 27,
   "id": "b08a9ad2",
   "metadata": {},
   "outputs": [],
   "source": [
    "laptops.rename({'ram':'ram_gb'}, inplace=True, axis=1)"
   ]
  },
  {
   "cell_type": "code",
   "execution_count": 28,
   "id": "4f20c150",
   "metadata": {},
   "outputs": [
    {
     "data": {
      "text/plain": [
       "manufacturer           object\n",
       "model_name             object\n",
       "category               object\n",
       "screen_size_inches    float64\n",
       "screen                 object\n",
       "cpu                    object\n",
       "ram_gb                  int64\n",
       "storage                object\n",
       "gpu                    object\n",
       "os                     object\n",
       "os_version             object\n",
       "weight                 object\n",
       "price_euros            object\n",
       "dtype: object"
      ]
     },
     "execution_count": 28,
     "metadata": {},
     "output_type": "execute_result"
    }
   ],
   "source": [
    "laptops.dtypes"
   ]
  },
  {
   "cell_type": "code",
   "execution_count": 29,
   "id": "16402a6a",
   "metadata": {},
   "outputs": [
    {
     "data": {
      "text/plain": [
       "count    1303.000000\n",
       "mean        8.382195\n",
       "std         5.084665\n",
       "min         2.000000\n",
       "25%         4.000000\n",
       "50%         8.000000\n",
       "75%         8.000000\n",
       "max        64.000000\n",
       "Name: ram_gb, dtype: float64"
      ]
     },
     "execution_count": 29,
     "metadata": {},
     "output_type": "execute_result"
    }
   ],
   "source": [
    "ram_gb_desc = laptops['ram_gb'].describe()\n",
    "ram_gb_desc"
   ]
  },
  {
   "cell_type": "code",
   "execution_count": 30,
   "id": "1e0df716",
   "metadata": {},
   "outputs": [
    {
     "data": {
      "text/html": [
       "<div>\n",
       "<style scoped>\n",
       "    .dataframe tbody tr th:only-of-type {\n",
       "        vertical-align: middle;\n",
       "    }\n",
       "\n",
       "    .dataframe tbody tr th {\n",
       "        vertical-align: top;\n",
       "    }\n",
       "\n",
       "    .dataframe thead th {\n",
       "        text-align: right;\n",
       "    }\n",
       "</style>\n",
       "<table border=\"1\" class=\"dataframe\">\n",
       "  <thead>\n",
       "    <tr style=\"text-align: right;\">\n",
       "      <th></th>\n",
       "      <th>screen_size_inches</th>\n",
       "      <th>ram_gb</th>\n",
       "    </tr>\n",
       "  </thead>\n",
       "  <tbody>\n",
       "    <tr>\n",
       "      <th>count</th>\n",
       "      <td>1303.000000</td>\n",
       "      <td>1303.000000</td>\n",
       "    </tr>\n",
       "    <tr>\n",
       "      <th>mean</th>\n",
       "      <td>15.017191</td>\n",
       "      <td>8.382195</td>\n",
       "    </tr>\n",
       "    <tr>\n",
       "      <th>std</th>\n",
       "      <td>1.426304</td>\n",
       "      <td>5.084665</td>\n",
       "    </tr>\n",
       "    <tr>\n",
       "      <th>min</th>\n",
       "      <td>10.100000</td>\n",
       "      <td>2.000000</td>\n",
       "    </tr>\n",
       "    <tr>\n",
       "      <th>25%</th>\n",
       "      <td>14.000000</td>\n",
       "      <td>4.000000</td>\n",
       "    </tr>\n",
       "    <tr>\n",
       "      <th>50%</th>\n",
       "      <td>15.600000</td>\n",
       "      <td>8.000000</td>\n",
       "    </tr>\n",
       "    <tr>\n",
       "      <th>75%</th>\n",
       "      <td>15.600000</td>\n",
       "      <td>8.000000</td>\n",
       "    </tr>\n",
       "    <tr>\n",
       "      <th>max</th>\n",
       "      <td>18.400000</td>\n",
       "      <td>64.000000</td>\n",
       "    </tr>\n",
       "  </tbody>\n",
       "</table>\n",
       "</div>"
      ],
      "text/plain": [
       "       screen_size_inches       ram_gb\n",
       "count         1303.000000  1303.000000\n",
       "mean            15.017191     8.382195\n",
       "std              1.426304     5.084665\n",
       "min             10.100000     2.000000\n",
       "25%             14.000000     4.000000\n",
       "50%             15.600000     8.000000\n",
       "75%             15.600000     8.000000\n",
       "max             18.400000    64.000000"
      ]
     },
     "execution_count": 30,
     "metadata": {},
     "output_type": "execute_result"
    }
   ],
   "source": [
    "laptops.describe()"
   ]
  },
  {
   "cell_type": "code",
   "execution_count": 31,
   "id": "0f73f7cb",
   "metadata": {},
   "outputs": [
    {
     "data": {
      "text/plain": [
       "pandas.core.series.Series"
      ]
     },
     "execution_count": 31,
     "metadata": {},
     "output_type": "execute_result"
    }
   ],
   "source": [
    "type(ram_gb_desc)"
   ]
  },
  {
   "cell_type": "markdown",
   "id": "0c55bb92",
   "metadata": {},
   "source": [
    "Sometimes, it can be useful to extract non-numeric values from within strings. Let's look at the first five values from the gpu (graphics processing unit) column:"
   ]
  },
  {
   "cell_type": "code",
   "execution_count": 32,
   "id": "0779b84d",
   "metadata": {},
   "outputs": [
    {
     "name": "stdout",
     "output_type": "stream",
     "text": [
      "<class 'pandas.core.frame.DataFrame'>\n",
      "RangeIndex: 1303 entries, 0 to 1302\n",
      "Data columns (total 13 columns):\n",
      " #   Column              Non-Null Count  Dtype  \n",
      "---  ------              --------------  -----  \n",
      " 0   manufacturer        1303 non-null   object \n",
      " 1   model_name          1303 non-null   object \n",
      " 2   category            1303 non-null   object \n",
      " 3   screen_size_inches  1303 non-null   float64\n",
      " 4   screen              1303 non-null   object \n",
      " 5   cpu                 1303 non-null   object \n",
      " 6   ram_gb              1303 non-null   int64  \n",
      " 7   storage             1303 non-null   object \n",
      " 8   gpu                 1303 non-null   object \n",
      " 9   os                  1303 non-null   object \n",
      " 10  os_version          1133 non-null   object \n",
      " 11  weight              1303 non-null   object \n",
      " 12  price_euros         1303 non-null   object \n",
      "dtypes: float64(1), int64(1), object(11)\n",
      "memory usage: 132.5+ KB\n"
     ]
    }
   ],
   "source": [
    "laptops.info()"
   ]
  },
  {
   "cell_type": "code",
   "execution_count": 33,
   "id": "2011fc21",
   "metadata": {},
   "outputs": [
    {
     "data": {
      "text/plain": [
       "0    Intel Iris Plus Graphics 640\n",
       "1          Intel HD Graphics 6000\n",
       "2           Intel HD Graphics 620\n",
       "3              AMD Radeon Pro 455\n",
       "4    Intel Iris Plus Graphics 650\n",
       "Name: gpu, dtype: object"
      ]
     },
     "execution_count": 33,
     "metadata": {},
     "output_type": "execute_result"
    }
   ],
   "source": [
    "laptops['gpu'].head(5)"
   ]
  },
  {
   "cell_type": "markdown",
   "id": "e94a0f30",
   "metadata": {},
   "source": [
    "The information in this column seems to be a manufacturer (Intel, AMD) followed by a model name/number. Let's extract the manufacturer by itself so we can find the most common ones.\n",
    "\n",
    "Because each manufacturer is followed by a whitespace character, we can use the [Series.str.split()](https://pandas.pydata.org/pandas-docs/stable/reference/api/pandas.Series.str.split.html) method to extract this data:\n",
    "\n",
    "![String Split Image](str_split_2.svg)\n",
    "\n",
    "This method splits each string on the whitespace; the result is a series containing individual Python lists. Also note that we used parentheses to method chain over multiple lines, which makes our code easier to read.\n",
    "\n",
    "Just like with lists and ndarrays, we can use bracket notation to access the elements in each list in the series. With series, however, we use the str accessor followed by [] (brackets):"
   ]
  },
  {
   "cell_type": "code",
   "execution_count": 34,
   "id": "b23f8cb6",
   "metadata": {},
   "outputs": [
    {
     "data": {
      "text/plain": [
       "0    Intel\n",
       "1    Intel\n",
       "2    Intel\n",
       "3      AMD\n",
       "4    Intel\n",
       "Name: gpu, dtype: object"
      ]
     },
     "execution_count": 34,
     "metadata": {},
     "output_type": "execute_result"
    }
   ],
   "source": [
    "laptops['gpu'].head().str.split().str[0]"
   ]
  },
  {
   "cell_type": "code",
   "execution_count": 35,
   "id": "7e93bdea",
   "metadata": {},
   "outputs": [
    {
     "data": {
      "text/plain": [
       "pandas.core.series.Series"
      ]
     },
     "execution_count": 35,
     "metadata": {},
     "output_type": "execute_result"
    }
   ],
   "source": [
    "type(laptops['gpu'].head().str.split())"
   ]
  },
  {
   "cell_type": "markdown",
   "id": "2ab77782",
   "metadata": {},
   "source": [
    "Let's use this technique to extract the manufacturer from the cpu column as well. Here are the first 5 rows of the cpu column:"
   ]
  },
  {
   "cell_type": "code",
   "execution_count": 36,
   "id": "f2a022fb",
   "metadata": {},
   "outputs": [
    {
     "data": {
      "text/plain": [
       "0          Intel Core i5 2.3GHz\n",
       "1          Intel Core i5 1.8GHz\n",
       "2    Intel Core i5 7200U 2.5GHz\n",
       "3          Intel Core i7 2.7GHz\n",
       "4          Intel Core i5 3.1GHz\n",
       "Name: cpu, dtype: object"
      ]
     },
     "execution_count": 36,
     "metadata": {},
     "output_type": "execute_result"
    }
   ],
   "source": [
    "laptops['cpu'].head()"
   ]
  },
  {
   "cell_type": "markdown",
   "id": "bc2067c2",
   "metadata": {},
   "source": [
    "### Exercise\n",
    "\n",
    "In the example code, we have extracted the manufacturer name from the gpu column, and assigned it to a new column gpu_manufacturer.\n",
    "\n",
    "1. Extract the manufacturer name from the cpu column. Assign it to a new column cpu_manufacturer.\n",
    "2. Use the Series.value_counts() method to find the counts of each manufacturer in cpu_manufacturer. Assign the result to cpu_manufacturer_counts.\n"
   ]
  },
  {
   "cell_type": "code",
   "execution_count": 37,
   "id": "1632543e",
   "metadata": {},
   "outputs": [],
   "source": [
    "laptops['gpu_manufacturer'] = (laptops['gpu']\n",
    "                                        .str.split()\n",
    "                                        .str[0])"
   ]
  },
  {
   "cell_type": "code",
   "execution_count": 38,
   "id": "57bb956f",
   "metadata": {},
   "outputs": [
    {
     "data": {
      "text/plain": [
       "manufacturer           object\n",
       "model_name             object\n",
       "category               object\n",
       "screen_size_inches    float64\n",
       "screen                 object\n",
       "cpu                    object\n",
       "ram_gb                  int64\n",
       "storage                object\n",
       "gpu                    object\n",
       "os                     object\n",
       "os_version             object\n",
       "weight                 object\n",
       "price_euros            object\n",
       "gpu_manufacturer       object\n",
       "dtype: object"
      ]
     },
     "execution_count": 38,
     "metadata": {},
     "output_type": "execute_result"
    }
   ],
   "source": [
    "laptops.dtypes"
   ]
  },
  {
   "cell_type": "code",
   "execution_count": 39,
   "id": "2464de34",
   "metadata": {},
   "outputs": [
    {
     "data": {
      "text/plain": [
       "array(['Intel', 'AMD', 'Nvidia', 'ARM'], dtype=object)"
      ]
     },
     "execution_count": 39,
     "metadata": {},
     "output_type": "execute_result"
    }
   ],
   "source": [
    "laptops['gpu_manufacturer'].unique()"
   ]
  },
  {
   "cell_type": "code",
   "execution_count": 40,
   "id": "65604131",
   "metadata": {},
   "outputs": [
    {
     "data": {
      "text/plain": [
       "Intel     722\n",
       "Nvidia    400\n",
       "AMD       180\n",
       "ARM         1\n",
       "Name: gpu_manufacturer, dtype: int64"
      ]
     },
     "execution_count": 40,
     "metadata": {},
     "output_type": "execute_result"
    }
   ],
   "source": [
    "laptops['gpu_manufacturer'].value_counts()"
   ]
  },
  {
   "cell_type": "markdown",
   "id": "6449b8b6",
   "metadata": {},
   "source": [
    "### Exercise\n",
    "\n",
    "In the example code, we have extracted the manufacturer name from the gpu column, and assigned it to a new column gpu_manufacturer.\n",
    "\n",
    "1. Extract the manufacturer name from the cpu column. Assign it to a new column cpu_manufacturer.\n",
    "2. Use the Series.value_counts() method to find the counts of each manufacturer in cpu_manufacturer. Assign the result to cpu_manufacturer_counts.\n"
   ]
  },
  {
   "cell_type": "code",
   "execution_count": 41,
   "id": "e6144680",
   "metadata": {},
   "outputs": [
    {
     "data": {
      "text/plain": [
       "0          Intel Core i5 2.3GHz\n",
       "1          Intel Core i5 1.8GHz\n",
       "2    Intel Core i5 7200U 2.5GHz\n",
       "3          Intel Core i7 2.7GHz\n",
       "4          Intel Core i5 3.1GHz\n",
       "Name: cpu, dtype: object"
      ]
     },
     "execution_count": 41,
     "metadata": {},
     "output_type": "execute_result"
    }
   ],
   "source": [
    "laptops['cpu'].head()"
   ]
  },
  {
   "cell_type": "code",
   "execution_count": 42,
   "id": "ab317cc9",
   "metadata": {},
   "outputs": [
    {
     "data": {
      "text/plain": [
       "0    Intel\n",
       "1    Intel\n",
       "2    Intel\n",
       "3    Intel\n",
       "4    Intel\n",
       "Name: cpu, dtype: object"
      ]
     },
     "execution_count": 42,
     "metadata": {},
     "output_type": "execute_result"
    }
   ],
   "source": [
    "laptops['cpu'].str.split().str[0].head()"
   ]
  },
  {
   "cell_type": "code",
   "execution_count": 43,
   "id": "3c7eb74f",
   "metadata": {},
   "outputs": [],
   "source": [
    "laptops['cpu_manufacturer'] = (laptops['cpu']\n",
    "                                       .str.split()\n",
    "                                       .str[0])"
   ]
  },
  {
   "cell_type": "code",
   "execution_count": 44,
   "id": "204b8642",
   "metadata": {},
   "outputs": [
    {
     "data": {
      "text/plain": [
       "Intel      1240\n",
       "AMD          62\n",
       "Samsung       1\n",
       "Name: cpu_manufacturer, dtype: int64"
      ]
     },
     "execution_count": 44,
     "metadata": {},
     "output_type": "execute_result"
    }
   ],
   "source": [
    "cpu_manufacturer_counts = laptops['cpu_manufacturer'].value_counts()\n",
    "cpu_manufacturer_counts"
   ]
  },
  {
   "cell_type": "code",
   "execution_count": 45,
   "id": "a42b5d5a",
   "metadata": {},
   "outputs": [
    {
     "data": {
      "text/html": [
       "<div>\n",
       "<style scoped>\n",
       "    .dataframe tbody tr th:only-of-type {\n",
       "        vertical-align: middle;\n",
       "    }\n",
       "\n",
       "    .dataframe tbody tr th {\n",
       "        vertical-align: top;\n",
       "    }\n",
       "\n",
       "    .dataframe thead th {\n",
       "        text-align: right;\n",
       "    }\n",
       "</style>\n",
       "<table border=\"1\" class=\"dataframe\">\n",
       "  <thead>\n",
       "    <tr style=\"text-align: right;\">\n",
       "      <th></th>\n",
       "      <th>cpu_manufacturer</th>\n",
       "    </tr>\n",
       "  </thead>\n",
       "  <tbody>\n",
       "    <tr>\n",
       "      <th>Intel</th>\n",
       "      <td>1240</td>\n",
       "    </tr>\n",
       "    <tr>\n",
       "      <th>AMD</th>\n",
       "      <td>62</td>\n",
       "    </tr>\n",
       "    <tr>\n",
       "      <th>Samsung</th>\n",
       "      <td>1</td>\n",
       "    </tr>\n",
       "  </tbody>\n",
       "</table>\n",
       "</div>"
      ],
      "text/plain": [
       "         cpu_manufacturer\n",
       "Intel                1240\n",
       "AMD                    62\n",
       "Samsung                 1"
      ]
     },
     "execution_count": 45,
     "metadata": {},
     "output_type": "execute_result"
    }
   ],
   "source": [
    "pd.DataFrame(cpu_manufacturer_counts)"
   ]
  },
  {
   "cell_type": "markdown",
   "id": "025f359f",
   "metadata": {},
   "source": [
    "If your data has been scraped from a webpage or if there was manual data entry involved at some point, you may end up with inconsistent values. Let's look at an example from our os column:"
   ]
  },
  {
   "cell_type": "code",
   "execution_count": 46,
   "id": "ad7fd88e",
   "metadata": {},
   "outputs": [
    {
     "data": {
      "text/plain": [
       "Windows      1125\n",
       "No OS          66\n",
       "Linux          62\n",
       "Chrome OS      27\n",
       "macOS          13\n",
       "Mac OS          8\n",
       "Android         2\n",
       "Name: os, dtype: int64"
      ]
     },
     "execution_count": 46,
     "metadata": {},
     "output_type": "execute_result"
    }
   ],
   "source": [
    "laptops['os'].value_counts()"
   ]
  },
  {
   "cell_type": "markdown",
   "id": "8011a3e4",
   "metadata": {},
   "source": [
    "We can see that there are two variations of the Apple operating system — macOS — in our dataset: Mac OS and macOS. One way we can fix this is with the [Series.map()](https://pandas.pydata.org/pandas-docs/stable/reference/api/pandas.Series.map.html) method. The Series.map()() method is ideal when we want to change multiple values in a column, but we'll use it now as an opportunity to learn how the method works.\n",
    "\n",
    "The most common way to use Series.map() is with a dictionary. Let's look at an example using a series of misspelled fruit:"
   ]
  },
  {
   "cell_type": "code",
   "execution_count": 47,
   "id": "1c2c72f7",
   "metadata": {},
   "outputs": [
    {
     "data": {
      "text/plain": [
       "0       pair\n",
       "1     oranje\n",
       "2    bananna\n",
       "3     oranje\n",
       "4     oranje\n",
       "5     oranje\n",
       "dtype: object"
      ]
     },
     "execution_count": 47,
     "metadata": {},
     "output_type": "execute_result"
    }
   ],
   "source": [
    "d = ['pair', 'oranje', 'bananna', 'oranje', 'oranje', 'oranje']\n",
    "s = pd.Series(data=d)\n",
    "s"
   ]
  },
  {
   "cell_type": "markdown",
   "id": "e1791931",
   "metadata": {},
   "source": [
    "We'll create a dictionary called corrections and pass that dictionary as an argument to Series.map():"
   ]
  },
  {
   "cell_type": "code",
   "execution_count": 48,
   "id": "4bada399",
   "metadata": {},
   "outputs": [
    {
     "data": {
      "text/plain": [
       "0      pear\n",
       "1    orange\n",
       "2    banana\n",
       "3    orange\n",
       "4    orange\n",
       "5    orange\n",
       "dtype: object"
      ]
     },
     "execution_count": 48,
     "metadata": {},
     "output_type": "execute_result"
    }
   ],
   "source": [
    "corrections = {\n",
    "\n",
    "    \"pair\": \"pear\",\n",
    "\n",
    "    \"oranje\": \"orange\",\n",
    "\n",
    "    \"bananna\": \"banana\"\n",
    "\n",
    "}\n",
    "\n",
    "s = s.map(corrections)\n",
    "s"
   ]
  },
  {
   "cell_type": "markdown",
   "id": "ad5307e2",
   "metadata": {},
   "source": [
    "We can see that each of our corrections were made across our series. One important thing to remember with Series.map() is that if a value from your series doesn't exist as a key in your dictionary, it will convert that value to NaN. Let's see what happens when we run map one more time:"
   ]
  },
  {
   "cell_type": "code",
   "execution_count": 49,
   "id": "554b993d",
   "metadata": {},
   "outputs": [
    {
     "data": {
      "text/plain": [
       "0    NaN\n",
       "1    NaN\n",
       "2    NaN\n",
       "3    NaN\n",
       "4    NaN\n",
       "5    NaN\n",
       "dtype: object"
      ]
     },
     "execution_count": 49,
     "metadata": {},
     "output_type": "execute_result"
    }
   ],
   "source": [
    "s = s.map(corrections)\n",
    "s"
   ]
  },
  {
   "cell_type": "markdown",
   "id": "98b5958c",
   "metadata": {},
   "source": [
    "Because none of the corrected values in our series existed as keys in our dictionary, all values became NaN! It's a very common occurence, especially when working in Jupyter notebook, where you can easily re-run cells.\n",
    "\n",
    "Let's use Series.map() to clean the values in the os column."
   ]
  },
  {
   "cell_type": "markdown",
   "id": "2b9031bd",
   "metadata": {},
   "source": [
    "### Exercise\n",
    "\n",
    "We have created a dictionary for you to use with mapping. Note that we have included both the correct and incorrect spelling of macOS as keys, otherwise we'll end up with null values.\n",
    "\n",
    "1. Use the Series.map() method with the mapping_dict dictionary to correct the values in the os column."
   ]
  },
  {
   "cell_type": "code",
   "execution_count": 50,
   "id": "35178806",
   "metadata": {},
   "outputs": [],
   "source": [
    "mapping_dict = {\n",
    "    'Android': 'Android',\n",
    "    'Chrome OS': 'Chrome OS',\n",
    "    'Linux': 'Linux',\n",
    "    'Mac OS': 'macOS',\n",
    "    'No OS': 'No OS',\n",
    "    'Windows': 'Windows',\n",
    "    'macOS': 'macOS'\n",
    "}"
   ]
  },
  {
   "cell_type": "code",
   "execution_count": 51,
   "id": "e47e5a48",
   "metadata": {},
   "outputs": [],
   "source": [
    "laptops['os'] = laptops['os'].map(mapping_dict)"
   ]
  },
  {
   "cell_type": "code",
   "execution_count": 52,
   "id": "085be3df",
   "metadata": {},
   "outputs": [
    {
     "data": {
      "text/plain": [
       "Windows      1125\n",
       "No OS          66\n",
       "Linux          62\n",
       "Chrome OS      27\n",
       "macOS          21\n",
       "Android         2\n",
       "Name: os, dtype: int64"
      ]
     },
     "execution_count": 52,
     "metadata": {},
     "output_type": "execute_result"
    }
   ],
   "source": [
    "laptops['os'].value_counts()"
   ]
  },
  {
   "cell_type": "markdown",
   "id": "8e34f005",
   "metadata": {},
   "source": [
    "### Learn\n",
    "\n",
    "In previous lessons, we've talked briefly about missing values and how both NumPy and pandas represent these as null values. In pandas, null values will be indicated by either NaN or None.\n",
    "\n",
    "Recall that we can use the [DataFrame.isnull()](https://pandas.pydata.org/pandas-docs/stable/reference/api/pandas.DataFrame.isnull.html) method to identify missing values, which returns a boolean dataframe. We can then use the DataFrame.sum() method to give us a count of the True values for each column:"
   ]
  },
  {
   "cell_type": "code",
   "execution_count": 53,
   "id": "446c8938",
   "metadata": {},
   "outputs": [
    {
     "data": {
      "text/plain": [
       "manufacturer            0\n",
       "model_name              0\n",
       "category                0\n",
       "screen_size_inches      0\n",
       "screen                  0\n",
       "cpu                     0\n",
       "ram_gb                  0\n",
       "storage                 0\n",
       "gpu                     0\n",
       "os                      0\n",
       "os_version            170\n",
       "weight                  0\n",
       "price_euros             0\n",
       "gpu_manufacturer        0\n",
       "cpu_manufacturer        0\n",
       "dtype: int64"
      ]
     },
     "execution_count": 53,
     "metadata": {},
     "output_type": "execute_result"
    }
   ],
   "source": [
    "laptops.isnull().sum()"
   ]
  },
  {
   "cell_type": "markdown",
   "id": "19622851",
   "metadata": {},
   "source": [
    "It's now clear that we have only one column with null values, os_version, which has 170 missing values.\n",
    "\n",
    "There are a few options for handling missing values:\n",
    "\n",
    "- Remove any rows that have missing values.\n",
    "- Remove any columns that have missing values.\n",
    "- Fill the missing values with some other value.\n",
    "- Leave the missing values as is.\n",
    "\n",
    "The first two options are often used to prepare data for machine learning algorithms, which are unable to be used with data that includes null values. We can use the DataFrame.dropna() method to remove or drop rows and columns with null values.\n",
    "\n",
    "The [DataFrame.dropna()](https://pandas.pydata.org/pandas-docs/stable/reference/api/pandas.DataFrame.dropna.html) method accepts an axis parameter, which indicates whether we want to drop along the column or index axis. Let's look at an example:\n",
    "\n",
    "![drop na image 1](dropna_1.svg)\n",
    "\n",
    "The default value for the axis parameter is 0, so df.dropna() returns an identical result to df.dropna(axis=0):\n",
    "\n",
    "![drop na image 2](dropna_2.svg)\n",
    "\n",
    "The rows with labels x and z contain null values, so those rows are dropped. Let's look at what happens when we use axis=1 to specify the column axis:\n",
    "\n",
    "![drop na image 3](dropna_3.svg)\n",
    "\n",
    "Only the column with label C contains null values, so, in this case, just one column is removed.\n",
    "\n",
    "Let's practice using DataFrame.dropna() to remove rows and columns:\n",
    "\n",
    "### Exercise\n",
    "\n",
    "1. Use DataFrame.dropna() to remove any rows from the laptops dataframe that have null values. Assign the result to laptops_no_null_rows.\n",
    "2. Use DataFrame.dropna() to remove any columns from the laptops dataframe that have null values. Assign the result to laptops_no_null_cols.\n"
   ]
  },
  {
   "cell_type": "code",
   "execution_count": 54,
   "id": "4caa2dc0",
   "metadata": {},
   "outputs": [
    {
     "data": {
      "text/plain": [
       "(1303, 15)"
      ]
     },
     "execution_count": 54,
     "metadata": {},
     "output_type": "execute_result"
    }
   ],
   "source": [
    "laptops.shape"
   ]
  },
  {
   "cell_type": "code",
   "execution_count": 55,
   "id": "5fdf4c7a",
   "metadata": {},
   "outputs": [
    {
     "data": {
      "text/plain": [
       "(1133, 15)"
      ]
     },
     "execution_count": 55,
     "metadata": {},
     "output_type": "execute_result"
    }
   ],
   "source": [
    "laptops_no_null_rows = laptops.dropna()\n",
    "laptops_no_null_rows.shape"
   ]
  },
  {
   "cell_type": "code",
   "execution_count": 56,
   "id": "17768d48",
   "metadata": {},
   "outputs": [
    {
     "data": {
      "text/plain": [
       "(1303, 14)"
      ]
     },
     "execution_count": 56,
     "metadata": {},
     "output_type": "execute_result"
    }
   ],
   "source": [
    "laptops_no_null_cols = laptops.dropna(axis=1)\n",
    "laptops_no_null_cols.shape"
   ]
  },
  {
   "cell_type": "markdown",
   "id": "6ea6a64c",
   "metadata": {},
   "source": [
    "### Lesson\n",
    "\n",
    "In the previous screen, we learned there are various ways to deal with missing values:\n",
    "\n",
    "- Remove any rows that have missing values.\n",
    "- Remove any columns that have missing values.\n",
    "- Fill the missing values with some other value.\n",
    "- Leave the missing values as is.\n",
    "\n",
    "While dropping rows or columns is the easiest approach to deal with missing values, it may not always be the best approach. For example, removing a disproportionate amount of one manufacturer's laptops could change our analysis.\n",
    "\n",
    "Because of this, it's a good idea to explore the missing values in the os_version column before making a decision. We can use [Series.value_counts()](https://pandas.pydata.org/pandas-docs/stable/reference/api/pandas.Series.value_counts.html) to explore all of the values in the column, but we'll use a parameter we haven't seen before:"
   ]
  },
  {
   "cell_type": "code",
   "execution_count": 57,
   "id": "3501ac64",
   "metadata": {},
   "outputs": [
    {
     "data": {
      "text/plain": [
       "10      1072\n",
       "NaN      170\n",
       "7         45\n",
       "X          8\n",
       "10 S       8\n",
       "Name: os_version, dtype: int64"
      ]
     },
     "execution_count": 57,
     "metadata": {},
     "output_type": "execute_result"
    }
   ],
   "source": [
    "laptops['os_version'].value_counts(dropna=False)"
   ]
  },
  {
   "cell_type": "markdown",
   "id": "8168af08",
   "metadata": {},
   "source": [
    "Because we set the dropna parameter to False, the result includes null values. We can see that the majority of values in the column are 10 and missing values are the next most common.\n",
    "\n",
    "Let's also explore the os column, since it's is closely related to the os_version column. We'll only look at rows in which the os_version is missing:"
   ]
  },
  {
   "cell_type": "code",
   "execution_count": 58,
   "id": "df299616",
   "metadata": {},
   "outputs": [
    {
     "data": {
      "text/plain": [
       "No OS        66\n",
       "Linux        62\n",
       "Chrome OS    27\n",
       "macOS        13\n",
       "Android       2\n",
       "Name: os, dtype: int64"
      ]
     },
     "execution_count": 58,
     "metadata": {},
     "output_type": "execute_result"
    }
   ],
   "source": [
    "os_with_null_values = laptops.loc[laptops['os_version'].isnull(), 'os']\n",
    "os_with_null_values.value_counts()"
   ]
  },
  {
   "cell_type": "markdown",
   "id": "8eddd104",
   "metadata": {},
   "source": [
    "Immediately, we can observe a few things:\n",
    "\n",
    "- The most frequent value is \"No OS\". This is important to note because if there is no os, there shouldn't be a version defined in the os_version column.\n",
    "- Thirteen of the laptops that come with macOS do not specify the version. We can use our knowledge of MacOS to confirm that os_version should be equal to X.\n",
    "\n",
    "In both of these cases, we can fill the missing values to make our data more correct. For the rest of the values, it's probably best to leave them as missing so we don't remove important values.\n",
    "\n",
    "We can use assignment with a boolean comparison to perform this replacement, like below:\n",
    "\n",
    "`laptops.loc[laptops[\"os\"] == \"macOS\", \"os_version\"] = \"X\"`\n",
    "\n",
    "For rows with No OS values, let's replace the missing value in the os_version column with the value Version Unknown.\n",
    "\n",
    "### Exercise\n",
    "\n",
    "\n",
    "1. Use a boolean array to identify rows that have the value No OS for the os column. Then, use assignment to assign the value Version Unknown to the os_version column for those rows.\n",
    "\n",
    "2. Use the syntax below to create value_counts_after variable:\n",
    "\n",
    "    `value_counts_after = laptops.loc[laptops[\"os_version\"].isnull(), \"os\"].value_counts()`\n",
    "\n",
    "3. After running your code, use the variable inspector to look at the difference between value_counts_before and value_counts_after.\n"
   ]
  },
  {
   "cell_type": "code",
   "execution_count": 59,
   "id": "11202dde",
   "metadata": {},
   "outputs": [
    {
     "data": {
      "text/plain": [
       "No OS        66\n",
       "Linux        62\n",
       "Chrome OS    27\n",
       "macOS        13\n",
       "Android       2\n",
       "Name: os, dtype: int64"
      ]
     },
     "execution_count": 59,
     "metadata": {},
     "output_type": "execute_result"
    }
   ],
   "source": [
    "value_counts_before = laptops.loc[laptops['os_version'].isnull(), 'os'].value_counts()\n",
    "value_counts_before"
   ]
  },
  {
   "cell_type": "code",
   "execution_count": 60,
   "id": "4a3523e0",
   "metadata": {},
   "outputs": [
    {
     "data": {
      "text/plain": [
       "Linux        62\n",
       "Chrome OS    27\n",
       "Android       2\n",
       "Name: os, dtype: int64"
      ]
     },
     "execution_count": 60,
     "metadata": {},
     "output_type": "execute_result"
    }
   ],
   "source": [
    "laptops.loc[laptops['os'] == 'macOS', 'os_version'] = 'X'\n",
    "laptops.loc[laptops['os'] == 'No OS', 'os_version'] = 'Version Unknown'\n",
    "\n",
    "value_counts_after = laptops.loc[laptops['os_version'].isnull(), 'os'].value_counts()\n",
    "value_counts_after"
   ]
  },
  {
   "cell_type": "markdown",
   "id": "e524773c",
   "metadata": {},
   "source": [
    "### Learn\n",
    "Now it's time to practice what we've learned so far! In this challenge, we'll clean the weight column. Let's look at a sample of the data in that column:"
   ]
  },
  {
   "cell_type": "code",
   "execution_count": 61,
   "id": "29a8d546",
   "metadata": {},
   "outputs": [
    {
     "data": {
      "text/plain": [
       "manufacturer           object\n",
       "model_name             object\n",
       "category               object\n",
       "screen_size_inches    float64\n",
       "screen                 object\n",
       "cpu                    object\n",
       "ram_gb                  int64\n",
       "storage                object\n",
       "gpu                    object\n",
       "os                     object\n",
       "os_version             object\n",
       "weight                 object\n",
       "price_euros            object\n",
       "gpu_manufacturer       object\n",
       "cpu_manufacturer       object\n",
       "dtype: object"
      ]
     },
     "execution_count": 61,
     "metadata": {},
     "output_type": "execute_result"
    }
   ],
   "source": [
    "laptops.dtypes"
   ]
  },
  {
   "cell_type": "code",
   "execution_count": 62,
   "id": "2120b237",
   "metadata": {},
   "outputs": [
    {
     "data": {
      "text/plain": [
       "0    1.37kg\n",
       "1    1.34kg\n",
       "2    1.86kg\n",
       "3    1.83kg\n",
       "4    1.37kg\n",
       "Name: weight, dtype: object"
      ]
     },
     "execution_count": 62,
     "metadata": {},
     "output_type": "execute_result"
    }
   ],
   "source": [
    "laptops['weight'].head()"
   ]
  },
  {
   "cell_type": "code",
   "execution_count": 63,
   "id": "1f51127b",
   "metadata": {},
   "outputs": [
    {
     "data": {
      "text/plain": [
       "0"
      ]
     },
     "execution_count": 63,
     "metadata": {},
     "output_type": "execute_result"
    }
   ],
   "source": [
    "laptops['weight'].isnull().sum()"
   ]
  },
  {
   "cell_type": "markdown",
   "id": "0ec0f87b",
   "metadata": {},
   "source": [
    "Your challenge is to convert the values in this column to numeric values. As a reminder, here's the data cleaning workflow you can use:\n",
    "\n",
    "![CLeaning Workflow](cleaning_workflow.svg)\n",
    "\n",
    "While it appears that the weight column may just need the kg characters removed from the end of each string, there is one special case - one of the values ends with kgs, so you'll have to remove both kg and kgs characters.\n",
    "\n",
    "In the last step of this challenge, we'll also ask you to use the [DataFrame.to_csv()](https://pandas.pydata.org/pandas-docs/stable/reference/api/pandas.DataFrame.to_csv.html) method to save the cleaned data to a CSV file. It's a good idea to save a CSV when you finish cleaning in case you wish to do analysis later.\n",
    "\n",
    "We can use the following syntax to save a CSV:\n",
    "\n",
    "`df.to_csv('filename.csv', index=False)`\n",
    "\n",
    "By default, pandas will save the index labels as a column in the CSV file. Our dataset has integer labels that don't contain any data, so we don't need to save the index.\n",
    "\n",
    "Don't be discouraged if this challenge takes a few attempts to get correct. Working iteratively is a great way to work, and this challenge is more difficult than exercises you have previously completed. We have included some extra hints, but we encourage you to try without the hints first; only use them if you need them!\n",
    "\n",
    "### Exercise\n",
    "\n",
    "\n",
    "1. Convert the values in the weight column to numeric values.\n",
    "2. Rename the weight column to weight_kg.\n",
    "3. Use the DataFrame.to_csv() method to save the laptops dataframe to a CSV file laptops_cleaned.csv without index labels."
   ]
  },
  {
   "cell_type": "code",
   "execution_count": 64,
   "id": "7922423e",
   "metadata": {},
   "outputs": [
    {
     "data": {
      "text/plain": [
       "2.2kg     121\n",
       "2.1kg      58\n",
       "2.4kg      44\n",
       "2.3kg      41\n",
       "2.5kg      38\n",
       "         ... \n",
       "2.83kg      1\n",
       "2.03kg      1\n",
       "1.55kg      1\n",
       "1.70kg      1\n",
       "2.99kg      1\n",
       "Name: weight, Length: 179, dtype: int64"
      ]
     },
     "execution_count": 64,
     "metadata": {},
     "output_type": "execute_result"
    }
   ],
   "source": [
    "laptops['weight'].value_counts()"
   ]
  },
  {
   "cell_type": "code",
   "execution_count": 65,
   "id": "1305f08e",
   "metadata": {},
   "outputs": [
    {
     "data": {
      "text/plain": [
       "array(['1.37', '1.34', '1.86', '1.83', '2.1', '2.04', '1.3', '1.6', '2.2',\n",
       "       '0.92', '1.22', '0.98', '2.5', '1.62', '1.91', '2.3', '1.35',\n",
       "       '1.88', '1.89', '1.65', '2.71', '1.2', '1.44', '2.8', '2', '2.65',\n",
       "       '2.77', '3.2', '0.69', '1.49', '2.4', '2.13', '2.43', '1.7', '1.4',\n",
       "       '1.8', '1.9', '3', '1.252', '2.7', '2.02', '1.63', '1.96', '1.21',\n",
       "       '2.45', '1.25', '1.5', '2.62', '1.38', '1.58', '1.85', '1.23',\n",
       "       '1.26', '2.16', '2.36', '2.05', '1.32', '1.75', '0.97', '2.9',\n",
       "       '2.56', '1.48', '1.74', '1.1', '1.56', '2.03', '1.05', '4.4',\n",
       "       '1.90', '1.29', '2.0', '1.95', '2.06', '1.12', '1.42', '3.49',\n",
       "       '3.35', '2.23', '4.42', '2.69', '2.37', '4.7', '3.6', '2.08',\n",
       "       '4.3', '1.68', '1.41', '4.14', '2.18', '2.24', '2.67', '2.14',\n",
       "       '1.36', '2.25', '2.15', '2.19', '2.54', '3.42', '1.28', '2.33',\n",
       "       '1.45', '2.79', '1.84', '2.6', '2.26', '3.25', '1.59', '1.13',\n",
       "       '1.78', '1.10', '1.15', '1.27', '1.43', '2.31', '1.16', '1.64',\n",
       "       '2.17', '1.47', '3.78', '1.79', '0.91', '1.99', '4.33', '1.93',\n",
       "       '1.87', '2.63', '3.4', '3.14', '1.94', '1.24', '4.6', '4.5',\n",
       "       '2.73', '1.39', '2.29', '2.59', '2.94', '1.14', '3.8', '3.31',\n",
       "       '1.09', '3.21', '1.19', '1.98', '1.17', '4.36', '1.71', '2.32',\n",
       "       '4.2', '1.55', '0.81', '1.18', '2.72', '1.31', '0.920', '3.74',\n",
       "       '1.76', '1.54', '2.83', '2.07', '2.38', '3.58', '1.08', '2.20',\n",
       "       '2.75', '1.70', '2.99', '1.11', '2.09', '4', '3.0', '0.99', '3.52',\n",
       "       '2.591', '2.21', '3.3', '2.191', '2.34', '4.0'], dtype=object)"
      ]
     },
     "execution_count": 65,
     "metadata": {},
     "output_type": "execute_result"
    }
   ],
   "source": [
    "laptops['weight'] = laptops['weight'].str.replace('kgs', '').str.replace('kg', '')\n",
    "laptops['weight'].unique()"
   ]
  },
  {
   "cell_type": "code",
   "execution_count": 66,
   "id": "3cb8d1e7",
   "metadata": {},
   "outputs": [
    {
     "data": {
      "text/plain": [
       "2.2     121\n",
       "2.1      58\n",
       "2.4      44\n",
       "2.3      41\n",
       "2.5      38\n",
       "       ... \n",
       "2.72      1\n",
       "2.99      1\n",
       "2.34      1\n",
       "1.31      1\n",
       "1.70      1\n",
       "Name: weight, Length: 179, dtype: int64"
      ]
     },
     "execution_count": 66,
     "metadata": {},
     "output_type": "execute_result"
    }
   ],
   "source": [
    "laptops['weight'].value_counts()"
   ]
  },
  {
   "cell_type": "code",
   "execution_count": 67,
   "id": "e0733ce2",
   "metadata": {},
   "outputs": [
    {
     "name": "stdout",
     "output_type": "stream",
     "text": [
      "object\n"
     ]
    }
   ],
   "source": [
    "print(laptops['weight'].dtypes)"
   ]
  },
  {
   "cell_type": "code",
   "execution_count": 68,
   "id": "ea5f8809",
   "metadata": {},
   "outputs": [
    {
     "data": {
      "text/plain": [
       "dtype('float64')"
      ]
     },
     "execution_count": 68,
     "metadata": {},
     "output_type": "execute_result"
    }
   ],
   "source": [
    "laptops['weight'] = laptops['weight'].astype('float64')\n",
    "laptops['weight'].dtypes"
   ]
  },
  {
   "cell_type": "code",
   "execution_count": 69,
   "id": "9f077762",
   "metadata": {},
   "outputs": [],
   "source": [
    "laptops.rename({'weight':'weight_kg'}, axis=1, inplace=True)"
   ]
  },
  {
   "cell_type": "code",
   "execution_count": 70,
   "id": "1bf6a440",
   "metadata": {},
   "outputs": [
    {
     "data": {
      "text/plain": [
       "manufacturer           object\n",
       "model_name             object\n",
       "category               object\n",
       "screen_size_inches    float64\n",
       "screen                 object\n",
       "cpu                    object\n",
       "ram_gb                  int64\n",
       "storage                object\n",
       "gpu                    object\n",
       "os                     object\n",
       "os_version             object\n",
       "weight_kg             float64\n",
       "price_euros            object\n",
       "gpu_manufacturer       object\n",
       "cpu_manufacturer       object\n",
       "dtype: object"
      ]
     },
     "execution_count": 70,
     "metadata": {},
     "output_type": "execute_result"
    }
   ],
   "source": [
    "laptops.dtypes"
   ]
  },
  {
   "cell_type": "code",
   "execution_count": 71,
   "id": "e7c2eabc",
   "metadata": {
    "scrolled": true
   },
   "outputs": [],
   "source": [
    "laptops.to_csv('laptops_cleaned.csv', index=False)"
   ]
  },
  {
   "cell_type": "markdown",
   "id": "d23f7b29",
   "metadata": {},
   "source": [
    "Our dataset is ready for some analysis, but there are still some data cleaning tasks left! Here are your next steps:\n",
    "\n",
    "- Convert the price_euros column to a numeric dtype.\n",
    "- Extract the screen resolution from the screen column.\n",
    "- Extract the processor speed from the cpu column.\n",
    "\n",
    "Here are some questions you might like to answer in your own time by analyzing the cleaned data:\n",
    "\n",
    "- Are laptops made by Apple more expensive than those made by other manufacturers?\n",
    "- What is the best value laptop with a screen size of 15\" or more?\n",
    "- Which laptop has the most storage space?\n"
   ]
  },
  {
   "cell_type": "markdown",
   "id": "083346d9",
   "metadata": {},
   "source": [
    "### Convert the price_euros column to a numeric dtype."
   ]
  },
  {
   "cell_type": "code",
   "execution_count": 72,
   "id": "54eeb5c7",
   "metadata": {},
   "outputs": [
    {
     "data": {
      "text/plain": [
       "manufacturer           object\n",
       "model_name             object\n",
       "category               object\n",
       "screen_size_inches    float64\n",
       "screen                 object\n",
       "cpu                    object\n",
       "ram_gb                  int64\n",
       "storage                object\n",
       "gpu                    object\n",
       "os                     object\n",
       "os_version             object\n",
       "weight_kg             float64\n",
       "price_euros            object\n",
       "gpu_manufacturer       object\n",
       "cpu_manufacturer       object\n",
       "dtype: object"
      ]
     },
     "execution_count": 72,
     "metadata": {},
     "output_type": "execute_result"
    }
   ],
   "source": [
    "laptops.dtypes"
   ]
  },
  {
   "cell_type": "code",
   "execution_count": 73,
   "id": "415ed5b4",
   "metadata": {},
   "outputs": [
    {
     "data": {
      "text/plain": [
       "0       1339,69\n",
       "1        898,94\n",
       "2        575,00\n",
       "3       2537,45\n",
       "4       1803,60\n",
       "         ...   \n",
       "1298     638,00\n",
       "1299    1499,00\n",
       "1300     229,00\n",
       "1301     764,00\n",
       "1302     369,00\n",
       "Name: price_euros, Length: 1303, dtype: object"
      ]
     },
     "execution_count": 73,
     "metadata": {},
     "output_type": "execute_result"
    }
   ],
   "source": [
    "laptops['price_euros']"
   ]
  },
  {
   "cell_type": "code",
   "execution_count": 74,
   "id": "79af1989",
   "metadata": {},
   "outputs": [],
   "source": [
    "laptops['price_euros'] = laptops['price_euros'].str.replace(',', '.')"
   ]
  },
  {
   "cell_type": "code",
   "execution_count": 75,
   "id": "61ada354",
   "metadata": {},
   "outputs": [
    {
     "data": {
      "text/plain": [
       "array(['1339.69', '898.94', '575.00', '2537.45', '1803.60', '400.00',\n",
       "       '2139.97', '1158.70', '1495.00', '770.00', '393.90', '344.99',\n",
       "       '2439.97', '498.90', '1262.40', '1518.55', '745.00', '2858.00',\n",
       "       '499.00', '979.00', '191.90', '999.00', '258.00', '819.00',\n",
       "       '659.00', '418.64', '1099.00', '800.00', '1298.00', '896.00',\n",
       "       '244.99', '199.00', '439.00', '1869.00', '998.00', '249.00',\n",
       "       '367.00', '488.69', '879.00', '389.00', '1499.00', '522.99',\n",
       "       '682.00', '1419.00', '369.00', '1299.00', '639.00', '466.00',\n",
       "       '319.00', '841.00', '398.49', '1103.00', '384.00', '767.80',\n",
       "       '586.19', '2449.00', '415.00', '599.00', '941.00', '690.00',\n",
       "       '1983.00', '438.69', '229.00', '549.00', '949.00', '1089.00',\n",
       "       '955.00', '870.00', '1095.00', '519.00', '855.00', '530.00',\n",
       "       '977.00', '1096.16', '1510.00', '860.00', '399.00', '395.00',\n",
       "       '1349.00', '699.00', '598.99', '1449.00', '1649.00', '689.00',\n",
       "       '1197.00', '1195.00', '1049.00', '847.00', '599.90', '485.00',\n",
       "       '577.00', '1249.00', '719.00', '349.00', '647.00', '1119.00',\n",
       "       '1340.00', '414.90', '1193.00', '1480.00', '1262.00', '1379.00',\n",
       "       '1399.00', '722.00', '1629.00', '1398.99', '1084.00', '1130.33',\n",
       "       '564.00', '1118.00', '479.00', '2241.50', '629.00', '1271.00',\n",
       "       '451.00', '259.00', '812.00', '277.99', '1396.00', '928.00',\n",
       "       '638.99', '449.00', '884.00', '572.00', '598.00', '988.00',\n",
       "       '252.36', '938.00', '655.00', '1116.02', '869.00', '602.00',\n",
       "       '2014.00', '344.00', '2029.00', '447.00', '1249.26', '899.00',\n",
       "       '498.00', '1890.00', '1082.00', '619.00', '1315.00', '403.00',\n",
       "       '805.00', '728.00', '1079.00', '348.00', '1799.00', '363.51',\n",
       "       '1060.49', '854.00', '754.00', '309.00', '489.00', '923.00',\n",
       "       '459.00', '2799.00', '813.00', '1849.00', '793.00', '1199.00',\n",
       "       '1549.00', '2397.00', '779.00', '989.00', '1085.00', '2824.00',\n",
       "       '260.00', '999.90', '698.00', '839.00', '914.00', '6099.00',\n",
       "       '959.00', '1045.00', '1845.00', '493.00', '742.00', '1749.00',\n",
       "       '3055.00', '1398.00', '1949.00', '597.00', '1407.00', '931.88',\n",
       "       '589.00', '1031.00', '1149.00', '1279.00', '677.35', '1363.00',\n",
       "       '794.00', '2456.34', '832.00', '859.01', '769.00', '891.00',\n",
       "       '1269.00', '398.99', '330.00', '859.00', '390.00', '3890.00',\n",
       "       '846.00', '1145.00', '889.00', '985.00', '559.00', '2999.00',\n",
       "       '675.00', '2040.00', '469.00', '702.00', '445.90', '1059.00',\n",
       "       '2499.00', '1699.00', '1142.00', '444.00', '657.00', '565.00',\n",
       "       '799.00', '467.00', '1018.00', '880.00', '1958.90', '735.07',\n",
       "       '713.07', '849.00', '428.00', '829.00', '579.00', '951.00',\n",
       "       '1097.00', '1179.00', '659.01', '1187.00', '1829.00', '739.00',\n",
       "       '2884.86', '1468.00', '509.00', '2122.00', '649.00', '1265.00',\n",
       "       '359.99', '1975.00', '1043.00', '2099.00', '275.00', '844.00',\n",
       "       '459.90', '980.00', '1292.00', '1094.00', '902.00', '292.00',\n",
       "       '1049.90', '1335.00', '2639.00', '943.00', '1334.00', '1268.00',\n",
       "       '1144.00', '274.99', '1142.75', '274.90', '716.00', '1579.00',\n",
       "       '1129.00', '279.00', '1607.96', '375.00', '663.00', '2027.42',\n",
       "       '1304.00', '1409.00', '1738.27', '1403.00', '970.90', '321.99',\n",
       "       '557.37', '1427.00', '945.00', '809.00', '1750.00', '426.00',\n",
       "       '2199.00', '869.01', '488.99', '553.00', '286.00', '1191.00',\n",
       "       '403.50', '1655.00', '1748.90', '2282.00', '1369.00', '2135.00',\n",
       "       '2509.00', '1039.00', '1591.00', '693.99', '778.87', '1229.56',\n",
       "       '2712.00', '2625.00', '306.00', '1529.00', '1144.50', '2249.00',\n",
       "       '1873.00', '1747.00', '1680.00', '409.00', '304.45', '1925.00',\n",
       "       '1943.00', '789.01', '598.90', '1500.00', '539.95', '1215.38',\n",
       "       '1899.00', '1159.00', '1142.40', '1999.00', '299.00', '269.00',\n",
       "       '1010.00', '2445.00', '1695.00', '347.00', '2382.00', '749.00',\n",
       "       '1429.00', '441.80', '1993.00', '1027.74', '2589.00', '1534.00',\n",
       "       '1345.00', '2046.00', '639.90', '544.00', '435.00', '2090.00',\n",
       "       '304.00', '759.00', '1858.00', '1154.00', '1275.00', '1841.85',\n",
       "       '740.00', '2408.00', '1364.00', '1672.00', '586.60', '726.00',\n",
       "       '248.90', '2338.00', '1798.00', '1950.00', '1011.99', '1350.00',\n",
       "       '898.90', '911.00', '340.00', '618.99', '1599.00', '265.00',\n",
       "       '1224.00', '613.00', '1323.00', '836.00', '1219.24', '1399.95',\n",
       "       '245.00', '521.47', '2968.00', '1504.00', '1279.73', '585.00',\n",
       "       '1377.00', '3012.77', '797.41', '735.87', '798.00', '705.50',\n",
       "       '785.00', '462.35', '397.00', '1729.00', '1116.99', '2699.00',\n",
       "       '544.15', '1280.00', '224.00', '255.00', '568.90', '617.90',\n",
       "       '630.00', '1965.00', '990.00', '1860.99', '830.00', '685.00',\n",
       "       '1865.00', '2663.00', '2729.00', '749.01', '1008.52', '1537.39',\n",
       "       '295.00', '2349.00', '1498.00', '1673.00', '609.00', '1770.00',\n",
       "       '603.00', '529.00', '2025.00', '1474.00', '1670.00', '1763.00',\n",
       "       '1219.00', '668.48', '329.00', '465.00', '2299.00', '4899.00',\n",
       "       '879.01', '443.90', '359.00', '1168.00', '569.00', '1389.00',\n",
       "       '2267.86', '379.00', '1124.00', '1465.00', '776.00', '932.00',\n",
       "       '239.00', '468.00', '639.01', '1820.00', '1900.00', '1479.00',\n",
       "       '906.62', '1757.42', '2399.00', '1109.00', '520.90', '2450.00',\n",
       "       '1169.00', '450.00', '274.00', '919.00', '2599.00', '1213.00',\n",
       "       '1584.00', '709.00', '1449.90', '1191.80', '364.90', '1064.00',\n",
       "       '1135.00', '1196.00', '3147.37', '1229.00', '419.00', '535.00',\n",
       "       '539.00', '1486.77', '1258.00', '412.00', '1867.85', '817.95',\n",
       "       '1034.00', '1294.00', '495.00', '997.90', '2051.00', '2813.75',\n",
       "       '612.61', '545.67', '318.00', '1907.99', '2590.00', '973.00',\n",
       "       '669.00', '1877.00', '429.00', '621.45', '795.00', '1855.00',\n",
       "       '655.01', '298.00', '1426.66', '857.07', '1200.00', '1686.64',\n",
       "       '836.60', '3659.40', '1348.48', '489.90', '589.52', '1935.00',\n",
       "       '650.00', '960.00', '2419.00', '2094.48', '410.80', '1207.00',\n",
       "       '665.00', '1535.00', '3299.00', '1126.71', '4389.00', '475.00',\n",
       "       '1096.00', '849.90', '1561.00', '2868.99', '1048.00', '1859.00',\n",
       "       '1559.00', '470.34', '1181.27', '1020.00', '1244.00', '2370.00',\n",
       "       '636.00', '2899.00', '581.90', '3588.80', '2350.00', '1764.00',\n",
       "       '1891.00', '1339.00', '202.90', '1970.00', '1165.00', '2330.00',\n",
       "       '810.00', '2064.90', '744.00', '780.00', '1679.00', '2415.00',\n",
       "       '961.00', '789.81', '385.00', '2505.02', '755.00', '1090.00',\n",
       "       '1875.00', '1358.00', '355.00', '5499.00', '1186.00', '1650.00',\n",
       "       '2774.63', '325.00', '590.00', '3072.89', '910.00', '713.99',\n",
       "       '1870.00', '615.00', '1026.00', '2277.00', '865.00', '1903.00',\n",
       "       '787.00', '2559.00', '850.66', '1285.00', '1017.00', '2240.00',\n",
       "       '1778.00', '1055.00', '1388.00', '735.00', '1690.00', '935.00',\n",
       "       '912.50', '1700.00', '684.80', '455.70', '1369.90', '297.00',\n",
       "       '2649.00', '1475.00', '929.00', '900.00', '614.00', '2013.10',\n",
       "       '2049.00', '1962.99', '1483.00', '789.00', '1205.00', '3100.00',\n",
       "       '1018.99', '881.00', '1119.91', '684.99', '1296.99', '1825.00',\n",
       "       '729.90', '708.06', '288.90', '1105.00', '1669.00', '558.60',\n",
       "       '1639.00', '2758.00', '1472.20', '1775.00', '1460.00', '1488.99',\n",
       "       '3154.00', '775.00', '1760.00', '1009.00', '1790.00', '846.50',\n",
       "       '465.62', '825.00', '3149.00', '695.00', '1962.98', '2800.00',\n",
       "       '1180.00', '2049.90', '1002.00', '915.00', '806.00', '1189.00',\n",
       "       '1908.00', '270.62', '1150.00', '380.00', '2089.00', '1260.00',\n",
       "       '547.00', '1099.99', '1049.26', '684.00', '1539.00', '1590.00',\n",
       "       '1887.21', '1210.00', '769.99', '1490.00', '2229.00', '795.99',\n",
       "       '1185.43', '1046.44', '1060.00', '1624.00', '1080.00', '1228.99',\n",
       "       '1725.00', '1062.95', '1010.51', '210.80', '1425.00', '1049.60',\n",
       "       '1000.00', '2103.34', '1469.00', '1545.64', '2289.99', '287.90',\n",
       "       '2620.00', '2254.00', '705.15', '1819.00', '1070.00', '989.99',\n",
       "       '1929.00', '1458.00', '3975.00', '798.01', '1329.00', '1300.00',\n",
       "       '481.98', '1713.49', '540.00', '940.00', '3240.00', '646.27',\n",
       "       '750.00', '1030.99', '387.00', '393.49', '345.99', '818.35',\n",
       "       '638.80', '500.00', '1135.15', '1166.97', '209.00', '1413.10',\n",
       "       '1511.19', '867.00', '398.00', '769.15', '1969.00', '2749.99',\n",
       "       '1029.00', '2226.00', '1312.49', '196.00', '1513.00', '523.63',\n",
       "       '1895.00', '2050.38', '278.00', '752.00', '616.00', '3949.40',\n",
       "       '784.00', '2171.72', '2440.00', '1142.80', '2296.95', '1009.90',\n",
       "       '2339.00', '339.00', '2250.68', '478.89', '1492.80', '788.49',\n",
       "       '2041.00', '1769.00', '476.99', '1390.00', '679.00', '1305.00',\n",
       "       '2153.37', '1637.00', '831.00', '895.01', '333.00', '909.00',\n",
       "       '691.00', '1163.00', '1327.00', '368.00', '2150.00', '272.00',\n",
       "       '2048.90', '2680.00', '1948.99', '174.00', '1272.00', '1476.11',\n",
       "       '1713.37', '1477.00', '521.86', '3499.00', '469.01', '1598.00',\n",
       "       '478.00', '2198.19', '737.00', '597.57', '361.80', '1600.00',\n",
       "       '875.00', '2325.00', '573.00', '1813.00', '324.00', '1072.00',\n",
       "       '443.99', '490.00', '895.00', '833.01', '729.00', '289.00',\n",
       "       '549.99', '805.99', '720.32', '638.00', '764.00'], dtype=object)"
      ]
     },
     "execution_count": 75,
     "metadata": {},
     "output_type": "execute_result"
    }
   ],
   "source": [
    "laptops['price_euros'].unique()"
   ]
  },
  {
   "cell_type": "code",
   "execution_count": 76,
   "id": "a4acdd20",
   "metadata": {},
   "outputs": [],
   "source": [
    "laptops['price_euros'] = laptops['price_euros'].astype('float64')"
   ]
  },
  {
   "cell_type": "code",
   "execution_count": 77,
   "id": "b6e3a3e5",
   "metadata": {},
   "outputs": [
    {
     "data": {
      "text/plain": [
       "dtype('float64')"
      ]
     },
     "execution_count": 77,
     "metadata": {},
     "output_type": "execute_result"
    }
   ],
   "source": [
    "laptops['price_euros'].dtypes"
   ]
  },
  {
   "cell_type": "markdown",
   "id": "f4ff6f22",
   "metadata": {},
   "source": [
    "### Extract the screen resolution from the screen column."
   ]
  },
  {
   "cell_type": "code",
   "execution_count": 78,
   "id": "0bd83e57",
   "metadata": {},
   "outputs": [
    {
     "data": {
      "text/plain": [
       "array(['IPS Panel Retina Display 2560x1600', '1440x900',\n",
       "       'Full HD 1920x1080', 'IPS Panel Retina Display 2880x1800',\n",
       "       '1366x768', 'IPS Panel Full HD 1920x1080',\n",
       "       'IPS Panel Retina Display 2304x1440',\n",
       "       'IPS Panel Full HD / Touchscreen 1920x1080',\n",
       "       'Full HD / Touchscreen 1920x1080',\n",
       "       'Touchscreen / Quad HD+ 3200x1800',\n",
       "       'IPS Panel Touchscreen 1920x1200', 'Touchscreen 2256x1504',\n",
       "       'Quad HD+ / Touchscreen 3200x1800', 'IPS Panel 1366x768',\n",
       "       'IPS Panel 4K Ultra HD / Touchscreen 3840x2160',\n",
       "       'IPS Panel Full HD 2160x1440',\n",
       "       '4K Ultra HD / Touchscreen 3840x2160', 'Touchscreen 2560x1440',\n",
       "       '1600x900', 'IPS Panel 4K Ultra HD 3840x2160',\n",
       "       '4K Ultra HD 3840x2160', 'Touchscreen 1366x768',\n",
       "       'IPS Panel Full HD 1366x768', 'IPS Panel 2560x1440',\n",
       "       'IPS Panel Full HD 2560x1440',\n",
       "       'IPS Panel Retina Display 2736x1824', 'Touchscreen 2400x1600',\n",
       "       '2560x1440', 'IPS Panel Quad HD+ 2560x1440',\n",
       "       'IPS Panel Quad HD+ 3200x1800',\n",
       "       'IPS Panel Quad HD+ / Touchscreen 3200x1800',\n",
       "       'IPS Panel Touchscreen 1366x768', '1920x1080',\n",
       "       'IPS Panel Full HD 1920x1200',\n",
       "       'IPS Panel Touchscreen / 4K Ultra HD 3840x2160',\n",
       "       'IPS Panel Touchscreen 2560x1440',\n",
       "       'Touchscreen / Full HD 1920x1080', 'Quad HD+ 3200x1800',\n",
       "       'Touchscreen / 4K Ultra HD 3840x2160',\n",
       "       'IPS Panel Touchscreen 2400x1600'], dtype=object)"
      ]
     },
     "execution_count": 78,
     "metadata": {},
     "output_type": "execute_result"
    }
   ],
   "source": [
    "laptops['screen'].unique()"
   ]
  },
  {
   "cell_type": "code",
   "execution_count": 79,
   "id": "db137cc0",
   "metadata": {},
   "outputs": [
    {
     "data": {
      "text/plain": [
       "Full HD 1920x1080                                507\n",
       "1366x768                                         281\n",
       "IPS Panel Full HD 1920x1080                      230\n",
       "IPS Panel Full HD / Touchscreen 1920x1080         53\n",
       "Full HD / Touchscreen 1920x1080                   47\n",
       "1600x900                                          23\n",
       "Touchscreen 1366x768                              16\n",
       "Quad HD+ / Touchscreen 3200x1800                  15\n",
       "IPS Panel 4K Ultra HD 3840x2160                   12\n",
       "IPS Panel 4K Ultra HD / Touchscreen 3840x2160     11\n",
       "4K Ultra HD / Touchscreen 3840x2160               10\n",
       "Touchscreen 2560x1440                              7\n",
       "IPS Panel 1366x768                                 7\n",
       "4K Ultra HD 3840x2160                              7\n",
       "IPS Panel Retina Display 2304x1440                 6\n",
       "IPS Panel Quad HD+ / Touchscreen 3200x1800         6\n",
       "IPS Panel Retina Display 2560x1600                 6\n",
       "Touchscreen 2256x1504                              6\n",
       "IPS Panel Touchscreen 2560x1440                    5\n",
       "IPS Panel Retina Display 2880x1800                 4\n",
       "IPS Panel Touchscreen 1920x1200                    4\n",
       "1440x900                                           4\n",
       "IPS Panel 2560x1440                                4\n",
       "IPS Panel Touchscreen 1366x768                     3\n",
       "Quad HD+ 3200x1800                                 3\n",
       "2560x1440                                          3\n",
       "Touchscreen 2400x1600                              3\n",
       "1920x1080                                          3\n",
       "IPS Panel Quad HD+ 2560x1440                       3\n",
       "IPS Panel Full HD 2160x1440                        2\n",
       "IPS Panel Touchscreen / 4K Ultra HD 3840x2160      2\n",
       "IPS Panel Quad HD+ 3200x1800                       2\n",
       "IPS Panel Retina Display 2736x1824                 1\n",
       "IPS Panel Full HD 2560x1440                        1\n",
       "Touchscreen / Full HD 1920x1080                    1\n",
       "IPS Panel Full HD 1366x768                         1\n",
       "IPS Panel Touchscreen 2400x1600                    1\n",
       "Touchscreen / 4K Ultra HD 3840x2160                1\n",
       "IPS Panel Full HD 1920x1200                        1\n",
       "Touchscreen / Quad HD+ 3200x1800                   1\n",
       "Name: screen, dtype: int64"
      ]
     },
     "execution_count": 79,
     "metadata": {},
     "output_type": "execute_result"
    }
   ],
   "source": [
    "laptops['screen'].value_counts()"
   ]
  },
  {
   "cell_type": "code",
   "execution_count": 80,
   "id": "cc060186",
   "metadata": {},
   "outputs": [
    {
     "data": {
      "text/plain": [
       "1920x1080    841\n",
       "1366x768     308\n",
       "3840x2160     43\n",
       "3200x1800     27\n",
       "1600x900      23\n",
       "2560x1440     23\n",
       "2304x1440      6\n",
       "2256x1504      6\n",
       "2560x1600      6\n",
       "1920x1200      5\n",
       "2880x1800      4\n",
       "2400x1600      4\n",
       "1440x900       4\n",
       "2160x1440      2\n",
       "2736x1824      1\n",
       "Name: screen_resolution, dtype: int64"
      ]
     },
     "execution_count": 80,
     "metadata": {},
     "output_type": "execute_result"
    }
   ],
   "source": [
    "laptops['screen_resolution'] = laptops['screen'].str.split().str[-1]\n",
    "laptops['screen_resolution'].value_counts()"
   ]
  },
  {
   "cell_type": "markdown",
   "id": "9a657996",
   "metadata": {},
   "source": [
    "### Extract the processor speed from the cpu column"
   ]
  },
  {
   "cell_type": "code",
   "execution_count": 81,
   "id": "0d045851",
   "metadata": {},
   "outputs": [],
   "source": [
    "cpu_speed = laptops['cpu'].str.split().str[-1]\n",
    "laptops['cpu_speed'] = cpu_speed.str.replace('GHz','').astype('float64')"
   ]
  },
  {
   "cell_type": "code",
   "execution_count": 82,
   "id": "2667f29a",
   "metadata": {},
   "outputs": [
    {
     "data": {
      "text/plain": [
       "manufacturer           object\n",
       "model_name             object\n",
       "category               object\n",
       "screen_size_inches    float64\n",
       "screen                 object\n",
       "cpu                    object\n",
       "ram_gb                  int64\n",
       "storage                object\n",
       "gpu                    object\n",
       "os                     object\n",
       "os_version             object\n",
       "weight_kg             float64\n",
       "price_euros           float64\n",
       "gpu_manufacturer       object\n",
       "cpu_manufacturer       object\n",
       "screen_resolution      object\n",
       "cpu_speed             float64\n",
       "dtype: object"
      ]
     },
     "execution_count": 82,
     "metadata": {},
     "output_type": "execute_result"
    }
   ],
   "source": [
    "laptops.dtypes"
   ]
  },
  {
   "cell_type": "code",
   "execution_count": 83,
   "id": "aae54f29",
   "metadata": {},
   "outputs": [],
   "source": [
    "laptops.to_csv('laptops_cleaned.csv', index=False)"
   ]
  },
  {
   "cell_type": "markdown",
   "id": "4ebdae98",
   "metadata": {},
   "source": [
    "## Here are some questions you might like to answer in your own time by analyzing the cleaned data:\n",
    "\n",
    "- Are laptops made by Apple more expensive than those made by other manufacturers?\n",
    "- What is the best value laptop with a screen size of 15\" or more?\n",
    "- Which laptop has the most storage space?"
   ]
  },
  {
   "cell_type": "markdown",
   "id": "81e16491",
   "metadata": {},
   "source": [
    "### Are laptops made by Apple more expensive than those made by other manufacturers?"
   ]
  },
  {
   "cell_type": "code",
   "execution_count": 84,
   "id": "1b5b9055",
   "metadata": {},
   "outputs": [
    {
     "data": {
      "text/html": [
       "<div>\n",
       "<style scoped>\n",
       "    .dataframe tbody tr th:only-of-type {\n",
       "        vertical-align: middle;\n",
       "    }\n",
       "\n",
       "    .dataframe tbody tr th {\n",
       "        vertical-align: top;\n",
       "    }\n",
       "\n",
       "    .dataframe thead th {\n",
       "        text-align: right;\n",
       "    }\n",
       "</style>\n",
       "<table border=\"1\" class=\"dataframe\">\n",
       "  <thead>\n",
       "    <tr style=\"text-align: right;\">\n",
       "      <th></th>\n",
       "      <th>manufacturer</th>\n",
       "      <th>model_name</th>\n",
       "      <th>category</th>\n",
       "      <th>screen_size_inches</th>\n",
       "      <th>screen</th>\n",
       "      <th>cpu</th>\n",
       "      <th>ram_gb</th>\n",
       "      <th>storage</th>\n",
       "      <th>gpu</th>\n",
       "      <th>os</th>\n",
       "      <th>os_version</th>\n",
       "      <th>weight_kg</th>\n",
       "      <th>price_euros</th>\n",
       "      <th>gpu_manufacturer</th>\n",
       "      <th>cpu_manufacturer</th>\n",
       "      <th>screen_resolution</th>\n",
       "      <th>cpu_speed</th>\n",
       "    </tr>\n",
       "  </thead>\n",
       "  <tbody>\n",
       "    <tr>\n",
       "      <th>0</th>\n",
       "      <td>Apple</td>\n",
       "      <td>MacBook Pro</td>\n",
       "      <td>Ultrabook</td>\n",
       "      <td>13.3</td>\n",
       "      <td>IPS Panel Retina Display 2560x1600</td>\n",
       "      <td>Intel Core i5 2.3GHz</td>\n",
       "      <td>8</td>\n",
       "      <td>128GB SSD</td>\n",
       "      <td>Intel Iris Plus Graphics 640</td>\n",
       "      <td>macOS</td>\n",
       "      <td>X</td>\n",
       "      <td>1.37</td>\n",
       "      <td>1339.69</td>\n",
       "      <td>Intel</td>\n",
       "      <td>Intel</td>\n",
       "      <td>2560x1600</td>\n",
       "      <td>2.3</td>\n",
       "    </tr>\n",
       "    <tr>\n",
       "      <th>1</th>\n",
       "      <td>Apple</td>\n",
       "      <td>Macbook Air</td>\n",
       "      <td>Ultrabook</td>\n",
       "      <td>13.3</td>\n",
       "      <td>1440x900</td>\n",
       "      <td>Intel Core i5 1.8GHz</td>\n",
       "      <td>8</td>\n",
       "      <td>128GB Flash Storage</td>\n",
       "      <td>Intel HD Graphics 6000</td>\n",
       "      <td>macOS</td>\n",
       "      <td>X</td>\n",
       "      <td>1.34</td>\n",
       "      <td>898.94</td>\n",
       "      <td>Intel</td>\n",
       "      <td>Intel</td>\n",
       "      <td>1440x900</td>\n",
       "      <td>1.8</td>\n",
       "    </tr>\n",
       "    <tr>\n",
       "      <th>2</th>\n",
       "      <td>HP</td>\n",
       "      <td>250 G6</td>\n",
       "      <td>Notebook</td>\n",
       "      <td>15.6</td>\n",
       "      <td>Full HD 1920x1080</td>\n",
       "      <td>Intel Core i5 7200U 2.5GHz</td>\n",
       "      <td>8</td>\n",
       "      <td>256GB SSD</td>\n",
       "      <td>Intel HD Graphics 620</td>\n",
       "      <td>No OS</td>\n",
       "      <td>Version Unknown</td>\n",
       "      <td>1.86</td>\n",
       "      <td>575.00</td>\n",
       "      <td>Intel</td>\n",
       "      <td>Intel</td>\n",
       "      <td>1920x1080</td>\n",
       "      <td>2.5</td>\n",
       "    </tr>\n",
       "    <tr>\n",
       "      <th>3</th>\n",
       "      <td>Apple</td>\n",
       "      <td>MacBook Pro</td>\n",
       "      <td>Ultrabook</td>\n",
       "      <td>15.4</td>\n",
       "      <td>IPS Panel Retina Display 2880x1800</td>\n",
       "      <td>Intel Core i7 2.7GHz</td>\n",
       "      <td>16</td>\n",
       "      <td>512GB SSD</td>\n",
       "      <td>AMD Radeon Pro 455</td>\n",
       "      <td>macOS</td>\n",
       "      <td>X</td>\n",
       "      <td>1.83</td>\n",
       "      <td>2537.45</td>\n",
       "      <td>AMD</td>\n",
       "      <td>Intel</td>\n",
       "      <td>2880x1800</td>\n",
       "      <td>2.7</td>\n",
       "    </tr>\n",
       "    <tr>\n",
       "      <th>4</th>\n",
       "      <td>Apple</td>\n",
       "      <td>MacBook Pro</td>\n",
       "      <td>Ultrabook</td>\n",
       "      <td>13.3</td>\n",
       "      <td>IPS Panel Retina Display 2560x1600</td>\n",
       "      <td>Intel Core i5 3.1GHz</td>\n",
       "      <td>8</td>\n",
       "      <td>256GB SSD</td>\n",
       "      <td>Intel Iris Plus Graphics 650</td>\n",
       "      <td>macOS</td>\n",
       "      <td>X</td>\n",
       "      <td>1.37</td>\n",
       "      <td>1803.60</td>\n",
       "      <td>Intel</td>\n",
       "      <td>Intel</td>\n",
       "      <td>2560x1600</td>\n",
       "      <td>3.1</td>\n",
       "    </tr>\n",
       "  </tbody>\n",
       "</table>\n",
       "</div>"
      ],
      "text/plain": [
       "  manufacturer   model_name   category  screen_size_inches  \\\n",
       "0        Apple  MacBook Pro  Ultrabook                13.3   \n",
       "1        Apple  Macbook Air  Ultrabook                13.3   \n",
       "2           HP       250 G6   Notebook                15.6   \n",
       "3        Apple  MacBook Pro  Ultrabook                15.4   \n",
       "4        Apple  MacBook Pro  Ultrabook                13.3   \n",
       "\n",
       "                               screen                         cpu  ram_gb  \\\n",
       "0  IPS Panel Retina Display 2560x1600        Intel Core i5 2.3GHz       8   \n",
       "1                            1440x900        Intel Core i5 1.8GHz       8   \n",
       "2                   Full HD 1920x1080  Intel Core i5 7200U 2.5GHz       8   \n",
       "3  IPS Panel Retina Display 2880x1800        Intel Core i7 2.7GHz      16   \n",
       "4  IPS Panel Retina Display 2560x1600        Intel Core i5 3.1GHz       8   \n",
       "\n",
       "               storage                           gpu     os       os_version  \\\n",
       "0            128GB SSD  Intel Iris Plus Graphics 640  macOS                X   \n",
       "1  128GB Flash Storage        Intel HD Graphics 6000  macOS                X   \n",
       "2            256GB SSD         Intel HD Graphics 620  No OS  Version Unknown   \n",
       "3            512GB SSD            AMD Radeon Pro 455  macOS                X   \n",
       "4            256GB SSD  Intel Iris Plus Graphics 650  macOS                X   \n",
       "\n",
       "   weight_kg  price_euros gpu_manufacturer cpu_manufacturer screen_resolution  \\\n",
       "0       1.37      1339.69            Intel            Intel         2560x1600   \n",
       "1       1.34       898.94            Intel            Intel          1440x900   \n",
       "2       1.86       575.00            Intel            Intel         1920x1080   \n",
       "3       1.83      2537.45              AMD            Intel         2880x1800   \n",
       "4       1.37      1803.60            Intel            Intel         2560x1600   \n",
       "\n",
       "   cpu_speed  \n",
       "0        2.3  \n",
       "1        1.8  \n",
       "2        2.5  \n",
       "3        2.7  \n",
       "4        3.1  "
      ]
     },
     "execution_count": 84,
     "metadata": {},
     "output_type": "execute_result"
    }
   ],
   "source": [
    "laptops.head()"
   ]
  },
  {
   "cell_type": "markdown",
   "id": "0c7ce7a5",
   "metadata": {},
   "source": [
    "### Two ways I found:\n",
    "\n",
    "1. The long way - use a loop to save the mean values to a dictionary\n",
    "2. Use the Pandas aggregate function\n",
    "\n",
    "### The long with a loop:"
   ]
  },
  {
   "cell_type": "code",
   "execution_count": 85,
   "id": "f8a55a0b",
   "metadata": {},
   "outputs": [
    {
     "data": {
      "text/plain": [
       "array(['Apple', 'HP', 'Acer', 'Asus', 'Dell', 'Lenovo', 'Chuwi', 'MSI',\n",
       "       'Microsoft', 'Toshiba', 'Huawei', 'Xiaomi', 'Vero', 'Razer',\n",
       "       'Mediacom', 'Samsung', 'Google', 'Fujitsu', 'LG'], dtype=object)"
      ]
     },
     "execution_count": 85,
     "metadata": {},
     "output_type": "execute_result"
    }
   ],
   "source": [
    "# Calculate the average price of each laptop by manufacturer\n",
    "manufacturers = laptops['manufacturer'].unique()\n",
    "manufacturers"
   ]
  },
  {
   "cell_type": "code",
   "execution_count": 86,
   "id": "9d4ee7d9",
   "metadata": {},
   "outputs": [
    {
     "data": {
      "text/plain": [
       "{'Apple': 1564.1985714285713,\n",
       " 'HP': 1067.774854014598,\n",
       " 'Acer': 626.7758252427185,\n",
       " 'Asus': 1104.1693670886075,\n",
       " 'Dell': 1186.0689898989892,\n",
       " 'Lenovo': 1086.3844444444444,\n",
       " 'Chuwi': 314.2966666666667,\n",
       " 'MSI': 1728.9081481481485,\n",
       " 'Microsoft': 1612.3083333333334,\n",
       " 'Toshiba': 1267.8125,\n",
       " 'Huawei': 1424.0,\n",
       " 'Xiaomi': 1133.4625,\n",
       " 'Vero': 217.425,\n",
       " 'Razer': 3346.1428571428573,\n",
       " 'Mediacom': 295.0,\n",
       " 'Samsung': 1413.4444444444443,\n",
       " 'Google': 1677.6666666666667,\n",
       " 'Fujitsu': 729.0,\n",
       " 'LG': 2099.0}"
      ]
     },
     "execution_count": 86,
     "metadata": {},
     "output_type": "execute_result"
    }
   ],
   "source": [
    "avg_price_by_manufacturer = {}\n",
    "\n",
    "for manufacturer in manufacturers:\n",
    "    mean = laptops.loc[laptops['manufacturer'] == manufacturer, 'price_euros'].mean()\n",
    "    avg_price_by_manufacturer[manufacturer] = mean\n",
    "    \n",
    "avg_price_by_manufacturer"
   ]
  },
  {
   "cell_type": "markdown",
   "id": "864ca1fc",
   "metadata": {},
   "source": [
    "### Use the Pandas aggregate function"
   ]
  },
  {
   "cell_type": "code",
   "execution_count": 87,
   "id": "5081da15",
   "metadata": {},
   "outputs": [
    {
     "data": {
      "text/html": [
       "<div>\n",
       "<style scoped>\n",
       "    .dataframe tbody tr th:only-of-type {\n",
       "        vertical-align: middle;\n",
       "    }\n",
       "\n",
       "    .dataframe tbody tr th {\n",
       "        vertical-align: top;\n",
       "    }\n",
       "\n",
       "    .dataframe thead th {\n",
       "        text-align: right;\n",
       "    }\n",
       "</style>\n",
       "<table border=\"1\" class=\"dataframe\">\n",
       "  <thead>\n",
       "    <tr style=\"text-align: right;\">\n",
       "      <th></th>\n",
       "      <th>mean</th>\n",
       "    </tr>\n",
       "    <tr>\n",
       "      <th>manufacturer</th>\n",
       "      <th></th>\n",
       "    </tr>\n",
       "  </thead>\n",
       "  <tbody>\n",
       "    <tr>\n",
       "      <th>Acer</th>\n",
       "      <td>626.775825</td>\n",
       "    </tr>\n",
       "    <tr>\n",
       "      <th>Apple</th>\n",
       "      <td>1564.198571</td>\n",
       "    </tr>\n",
       "    <tr>\n",
       "      <th>Asus</th>\n",
       "      <td>1104.169367</td>\n",
       "    </tr>\n",
       "    <tr>\n",
       "      <th>Chuwi</th>\n",
       "      <td>314.296667</td>\n",
       "    </tr>\n",
       "    <tr>\n",
       "      <th>Dell</th>\n",
       "      <td>1186.068990</td>\n",
       "    </tr>\n",
       "    <tr>\n",
       "      <th>Fujitsu</th>\n",
       "      <td>729.000000</td>\n",
       "    </tr>\n",
       "    <tr>\n",
       "      <th>Google</th>\n",
       "      <td>1677.666667</td>\n",
       "    </tr>\n",
       "    <tr>\n",
       "      <th>HP</th>\n",
       "      <td>1067.774854</td>\n",
       "    </tr>\n",
       "    <tr>\n",
       "      <th>Huawei</th>\n",
       "      <td>1424.000000</td>\n",
       "    </tr>\n",
       "    <tr>\n",
       "      <th>LG</th>\n",
       "      <td>2099.000000</td>\n",
       "    </tr>\n",
       "    <tr>\n",
       "      <th>Lenovo</th>\n",
       "      <td>1086.384444</td>\n",
       "    </tr>\n",
       "    <tr>\n",
       "      <th>MSI</th>\n",
       "      <td>1728.908148</td>\n",
       "    </tr>\n",
       "    <tr>\n",
       "      <th>Mediacom</th>\n",
       "      <td>295.000000</td>\n",
       "    </tr>\n",
       "    <tr>\n",
       "      <th>Microsoft</th>\n",
       "      <td>1612.308333</td>\n",
       "    </tr>\n",
       "    <tr>\n",
       "      <th>Razer</th>\n",
       "      <td>3346.142857</td>\n",
       "    </tr>\n",
       "    <tr>\n",
       "      <th>Samsung</th>\n",
       "      <td>1413.444444</td>\n",
       "    </tr>\n",
       "    <tr>\n",
       "      <th>Toshiba</th>\n",
       "      <td>1267.812500</td>\n",
       "    </tr>\n",
       "    <tr>\n",
       "      <th>Vero</th>\n",
       "      <td>217.425000</td>\n",
       "    </tr>\n",
       "    <tr>\n",
       "      <th>Xiaomi</th>\n",
       "      <td>1133.462500</td>\n",
       "    </tr>\n",
       "  </tbody>\n",
       "</table>\n",
       "</div>"
      ],
      "text/plain": [
       "                     mean\n",
       "manufacturer             \n",
       "Acer           626.775825\n",
       "Apple         1564.198571\n",
       "Asus          1104.169367\n",
       "Chuwi          314.296667\n",
       "Dell          1186.068990\n",
       "Fujitsu        729.000000\n",
       "Google        1677.666667\n",
       "HP            1067.774854\n",
       "Huawei        1424.000000\n",
       "LG            2099.000000\n",
       "Lenovo        1086.384444\n",
       "MSI           1728.908148\n",
       "Mediacom       295.000000\n",
       "Microsoft     1612.308333\n",
       "Razer         3346.142857\n",
       "Samsung       1413.444444\n",
       "Toshiba       1267.812500\n",
       "Vero           217.425000\n",
       "Xiaomi        1133.462500"
      ]
     },
     "execution_count": 87,
     "metadata": {},
     "output_type": "execute_result"
    }
   ],
   "source": [
    "avg_price_by_man = laptops.groupby('manufacturer').price_euros.agg(['mean'])\n",
    "avg_price_by_man"
   ]
  },
  {
   "cell_type": "code",
   "execution_count": 88,
   "id": "212b5338",
   "metadata": {},
   "outputs": [
    {
     "data": {
      "text/plain": [
       "pandas.core.frame.DataFrame"
      ]
     },
     "execution_count": 88,
     "metadata": {},
     "output_type": "execute_result"
    }
   ],
   "source": [
    "type(avg_price_by_man)"
   ]
  },
  {
   "cell_type": "code",
   "execution_count": 89,
   "id": "24e467b4",
   "metadata": {},
   "outputs": [
    {
     "data": {
      "text/html": [
       "<div>\n",
       "<style scoped>\n",
       "    .dataframe tbody tr th:only-of-type {\n",
       "        vertical-align: middle;\n",
       "    }\n",
       "\n",
       "    .dataframe tbody tr th {\n",
       "        vertical-align: top;\n",
       "    }\n",
       "\n",
       "    .dataframe thead th {\n",
       "        text-align: right;\n",
       "    }\n",
       "</style>\n",
       "<table border=\"1\" class=\"dataframe\">\n",
       "  <thead>\n",
       "    <tr style=\"text-align: right;\">\n",
       "      <th></th>\n",
       "      <th>mean</th>\n",
       "    </tr>\n",
       "    <tr>\n",
       "      <th>manufacturer</th>\n",
       "      <th></th>\n",
       "    </tr>\n",
       "  </thead>\n",
       "  <tbody>\n",
       "    <tr>\n",
       "      <th>Razer</th>\n",
       "      <td>3346.142857</td>\n",
       "    </tr>\n",
       "    <tr>\n",
       "      <th>LG</th>\n",
       "      <td>2099.000000</td>\n",
       "    </tr>\n",
       "    <tr>\n",
       "      <th>MSI</th>\n",
       "      <td>1728.908148</td>\n",
       "    </tr>\n",
       "    <tr>\n",
       "      <th>Google</th>\n",
       "      <td>1677.666667</td>\n",
       "    </tr>\n",
       "    <tr>\n",
       "      <th>Microsoft</th>\n",
       "      <td>1612.308333</td>\n",
       "    </tr>\n",
       "    <tr>\n",
       "      <th>Apple</th>\n",
       "      <td>1564.198571</td>\n",
       "    </tr>\n",
       "    <tr>\n",
       "      <th>Huawei</th>\n",
       "      <td>1424.000000</td>\n",
       "    </tr>\n",
       "    <tr>\n",
       "      <th>Samsung</th>\n",
       "      <td>1413.444444</td>\n",
       "    </tr>\n",
       "    <tr>\n",
       "      <th>Toshiba</th>\n",
       "      <td>1267.812500</td>\n",
       "    </tr>\n",
       "    <tr>\n",
       "      <th>Dell</th>\n",
       "      <td>1186.068990</td>\n",
       "    </tr>\n",
       "    <tr>\n",
       "      <th>Xiaomi</th>\n",
       "      <td>1133.462500</td>\n",
       "    </tr>\n",
       "    <tr>\n",
       "      <th>Asus</th>\n",
       "      <td>1104.169367</td>\n",
       "    </tr>\n",
       "    <tr>\n",
       "      <th>Lenovo</th>\n",
       "      <td>1086.384444</td>\n",
       "    </tr>\n",
       "    <tr>\n",
       "      <th>HP</th>\n",
       "      <td>1067.774854</td>\n",
       "    </tr>\n",
       "    <tr>\n",
       "      <th>Fujitsu</th>\n",
       "      <td>729.000000</td>\n",
       "    </tr>\n",
       "    <tr>\n",
       "      <th>Acer</th>\n",
       "      <td>626.775825</td>\n",
       "    </tr>\n",
       "    <tr>\n",
       "      <th>Chuwi</th>\n",
       "      <td>314.296667</td>\n",
       "    </tr>\n",
       "    <tr>\n",
       "      <th>Mediacom</th>\n",
       "      <td>295.000000</td>\n",
       "    </tr>\n",
       "    <tr>\n",
       "      <th>Vero</th>\n",
       "      <td>217.425000</td>\n",
       "    </tr>\n",
       "  </tbody>\n",
       "</table>\n",
       "</div>"
      ],
      "text/plain": [
       "                     mean\n",
       "manufacturer             \n",
       "Razer         3346.142857\n",
       "LG            2099.000000\n",
       "MSI           1728.908148\n",
       "Google        1677.666667\n",
       "Microsoft     1612.308333\n",
       "Apple         1564.198571\n",
       "Huawei        1424.000000\n",
       "Samsung       1413.444444\n",
       "Toshiba       1267.812500\n",
       "Dell          1186.068990\n",
       "Xiaomi        1133.462500\n",
       "Asus          1104.169367\n",
       "Lenovo        1086.384444\n",
       "HP            1067.774854\n",
       "Fujitsu        729.000000\n",
       "Acer           626.775825\n",
       "Chuwi          314.296667\n",
       "Mediacom       295.000000\n",
       "Vero           217.425000"
      ]
     },
     "execution_count": 89,
     "metadata": {},
     "output_type": "execute_result"
    }
   ],
   "source": [
    "avg_price_by_man.sort_values(by=['mean'], ascending=False)"
   ]
  },
  {
   "cell_type": "markdown",
   "id": "50ad10dc",
   "metadata": {},
   "source": [
    "### What is the best value laptop with a screen size of 15\" or more?\n",
    "\n",
    "I found two ways:\n",
    "1. Long way: loop through all the prices of the laptops with screens 15' or more, saving the index whenever a lower price is found in the loop\n",
    "\n",
    "2. Use the [idxmin() method](https://pandas.pydata.org/pandas-docs/stable/reference/api/pandas.DataFrame.idxmin.html#pandas.DataFrame.idxmin)"
   ]
  },
  {
   "cell_type": "markdown",
   "id": "78fffef4",
   "metadata": {},
   "source": [
    "### Long way: loop through all the prices of the laptops with screens 15' or more, saving the index whenever a lower price is found in the loop"
   ]
  },
  {
   "cell_type": "code",
   "execution_count": 90,
   "id": "b46a2451",
   "metadata": {},
   "outputs": [
    {
     "data": {
      "text/plain": [
       "290"
      ]
     },
     "execution_count": 90,
     "metadata": {},
     "output_type": "execute_result"
    }
   ],
   "source": [
    "# laptops_over_15_5_inches = laptops.loc[laptops['screen_size_inches'] >= 15.0]\n",
    "length_laptops = laptops.shape[0] \n",
    "index_of_minimum_price_over_15_inches = 0\n",
    "\n",
    "for index in range(length_laptops):\n",
    "    # test that screen is 15 inches or more and if the price is lower than in the last loop pass through\n",
    "    #screen_size_inches is in the 4th column\n",
    "    if (laptops.iloc[index, 3] >= 15.0 and \n",
    "        laptops.iloc[index, 12] < laptops.iloc[index_of_minimum_price_over_15_inches, 12]):\n",
    "        index_of_minimum_price_over_15_inches = index\n",
    "        \n",
    "index_of_minimum_price_over_15_inches"
   ]
  },
  {
   "cell_type": "code",
   "execution_count": 91,
   "id": "b26ca5ba",
   "metadata": {},
   "outputs": [
    {
     "data": {
      "text/plain": [
       "manufacturer                                          Acer\n",
       "model_name                            Chromebook C910-C2ST\n",
       "category                                          Notebook\n",
       "screen_size_inches                                    15.6\n",
       "screen                                            1366x768\n",
       "cpu                   Intel Celeron Dual Core 3205U 1.5GHz\n",
       "ram_gb                                                   2\n",
       "storage                                           16GB SSD\n",
       "gpu                                      Intel HD Graphics\n",
       "os                                               Chrome OS\n",
       "os_version                                             NaN\n",
       "weight_kg                                             2.19\n",
       "price_euros                                          199.0\n",
       "gpu_manufacturer                                     Intel\n",
       "cpu_manufacturer                                     Intel\n",
       "screen_resolution                                 1366x768\n",
       "cpu_speed                                              1.5\n",
       "Name: 290, dtype: object"
      ]
     },
     "execution_count": 91,
     "metadata": {},
     "output_type": "execute_result"
    }
   ],
   "source": [
    "laptops.iloc[index_of_minimum_price_over_15_inches]"
   ]
  },
  {
   "cell_type": "markdown",
   "id": "0cc62d4c",
   "metadata": {},
   "source": [
    "### Use the [idxmin() method](https://pandas.pydata.org/pandas-docs/stable/reference/api/pandas.DataFrame.idxmin.html#pandas.DataFrame.idxmin)"
   ]
  },
  {
   "cell_type": "code",
   "execution_count": 92,
   "id": "b03076d6",
   "metadata": {},
   "outputs": [
    {
     "data": {
      "text/plain": [
       "manufacturer                                          Acer\n",
       "model_name                            Chromebook C910-C2ST\n",
       "category                                          Notebook\n",
       "screen_size_inches                                    15.6\n",
       "screen                                            1366x768\n",
       "cpu                   Intel Celeron Dual Core 3205U 1.5GHz\n",
       "ram_gb                                                   2\n",
       "storage                                           16GB SSD\n",
       "gpu                                      Intel HD Graphics\n",
       "os                                               Chrome OS\n",
       "os_version                                             NaN\n",
       "weight_kg                                             2.19\n",
       "price_euros                                          199.0\n",
       "gpu_manufacturer                                     Intel\n",
       "cpu_manufacturer                                     Intel\n",
       "screen_resolution                                 1366x768\n",
       "cpu_speed                                              1.5\n",
       "Name: 290, dtype: object"
      ]
     },
     "execution_count": 92,
     "metadata": {},
     "output_type": "execute_result"
    }
   ],
   "source": [
    "all_prices_for_laptops_over_15_5_in = laptops.loc[laptops['screen_size_inches'] >= 15.0, 'price_euros']\n",
    "row_index_of_lowest_cost_over_15_5_in = all_prices_for_laptops_over_15_5_in.idxmin()\n",
    "\n",
    "laptops.iloc[row_index_of_lowest_cost_over_15_5_in]"
   ]
  },
  {
   "cell_type": "code",
   "execution_count": 93,
   "id": "f9b49912",
   "metadata": {},
   "outputs": [
    {
     "data": {
      "text/plain": [
       "290"
      ]
     },
     "execution_count": 93,
     "metadata": {},
     "output_type": "execute_result"
    }
   ],
   "source": [
    "row_index_of_lowest_cost_over_15_5_in"
   ]
  },
  {
   "cell_type": "markdown",
   "id": "346cf44c",
   "metadata": {},
   "source": [
    "### Which laptop has the most storage space?"
   ]
  },
  {
   "cell_type": "code",
   "execution_count": 94,
   "id": "ea385e8c",
   "metadata": {},
   "outputs": [
    {
     "data": {
      "text/html": [
       "<div>\n",
       "<style scoped>\n",
       "    .dataframe tbody tr th:only-of-type {\n",
       "        vertical-align: middle;\n",
       "    }\n",
       "\n",
       "    .dataframe tbody tr th {\n",
       "        vertical-align: top;\n",
       "    }\n",
       "\n",
       "    .dataframe thead th {\n",
       "        text-align: right;\n",
       "    }\n",
       "</style>\n",
       "<table border=\"1\" class=\"dataframe\">\n",
       "  <thead>\n",
       "    <tr style=\"text-align: right;\">\n",
       "      <th></th>\n",
       "      <th>manufacturer</th>\n",
       "      <th>model_name</th>\n",
       "      <th>category</th>\n",
       "      <th>screen_size_inches</th>\n",
       "      <th>screen</th>\n",
       "      <th>cpu</th>\n",
       "      <th>ram_gb</th>\n",
       "      <th>storage</th>\n",
       "      <th>gpu</th>\n",
       "      <th>os</th>\n",
       "      <th>os_version</th>\n",
       "      <th>weight_kg</th>\n",
       "      <th>price_euros</th>\n",
       "      <th>gpu_manufacturer</th>\n",
       "      <th>cpu_manufacturer</th>\n",
       "      <th>screen_resolution</th>\n",
       "      <th>cpu_speed</th>\n",
       "    </tr>\n",
       "  </thead>\n",
       "  <tbody>\n",
       "    <tr>\n",
       "      <th>0</th>\n",
       "      <td>Apple</td>\n",
       "      <td>MacBook Pro</td>\n",
       "      <td>Ultrabook</td>\n",
       "      <td>13.3</td>\n",
       "      <td>IPS Panel Retina Display 2560x1600</td>\n",
       "      <td>Intel Core i5 2.3GHz</td>\n",
       "      <td>8</td>\n",
       "      <td>128GB SSD</td>\n",
       "      <td>Intel Iris Plus Graphics 640</td>\n",
       "      <td>macOS</td>\n",
       "      <td>X</td>\n",
       "      <td>1.37</td>\n",
       "      <td>1339.69</td>\n",
       "      <td>Intel</td>\n",
       "      <td>Intel</td>\n",
       "      <td>2560x1600</td>\n",
       "      <td>2.3</td>\n",
       "    </tr>\n",
       "    <tr>\n",
       "      <th>1</th>\n",
       "      <td>Apple</td>\n",
       "      <td>Macbook Air</td>\n",
       "      <td>Ultrabook</td>\n",
       "      <td>13.3</td>\n",
       "      <td>1440x900</td>\n",
       "      <td>Intel Core i5 1.8GHz</td>\n",
       "      <td>8</td>\n",
       "      <td>128GB Flash Storage</td>\n",
       "      <td>Intel HD Graphics 6000</td>\n",
       "      <td>macOS</td>\n",
       "      <td>X</td>\n",
       "      <td>1.34</td>\n",
       "      <td>898.94</td>\n",
       "      <td>Intel</td>\n",
       "      <td>Intel</td>\n",
       "      <td>1440x900</td>\n",
       "      <td>1.8</td>\n",
       "    </tr>\n",
       "    <tr>\n",
       "      <th>2</th>\n",
       "      <td>HP</td>\n",
       "      <td>250 G6</td>\n",
       "      <td>Notebook</td>\n",
       "      <td>15.6</td>\n",
       "      <td>Full HD 1920x1080</td>\n",
       "      <td>Intel Core i5 7200U 2.5GHz</td>\n",
       "      <td>8</td>\n",
       "      <td>256GB SSD</td>\n",
       "      <td>Intel HD Graphics 620</td>\n",
       "      <td>No OS</td>\n",
       "      <td>Version Unknown</td>\n",
       "      <td>1.86</td>\n",
       "      <td>575.00</td>\n",
       "      <td>Intel</td>\n",
       "      <td>Intel</td>\n",
       "      <td>1920x1080</td>\n",
       "      <td>2.5</td>\n",
       "    </tr>\n",
       "    <tr>\n",
       "      <th>3</th>\n",
       "      <td>Apple</td>\n",
       "      <td>MacBook Pro</td>\n",
       "      <td>Ultrabook</td>\n",
       "      <td>15.4</td>\n",
       "      <td>IPS Panel Retina Display 2880x1800</td>\n",
       "      <td>Intel Core i7 2.7GHz</td>\n",
       "      <td>16</td>\n",
       "      <td>512GB SSD</td>\n",
       "      <td>AMD Radeon Pro 455</td>\n",
       "      <td>macOS</td>\n",
       "      <td>X</td>\n",
       "      <td>1.83</td>\n",
       "      <td>2537.45</td>\n",
       "      <td>AMD</td>\n",
       "      <td>Intel</td>\n",
       "      <td>2880x1800</td>\n",
       "      <td>2.7</td>\n",
       "    </tr>\n",
       "    <tr>\n",
       "      <th>4</th>\n",
       "      <td>Apple</td>\n",
       "      <td>MacBook Pro</td>\n",
       "      <td>Ultrabook</td>\n",
       "      <td>13.3</td>\n",
       "      <td>IPS Panel Retina Display 2560x1600</td>\n",
       "      <td>Intel Core i5 3.1GHz</td>\n",
       "      <td>8</td>\n",
       "      <td>256GB SSD</td>\n",
       "      <td>Intel Iris Plus Graphics 650</td>\n",
       "      <td>macOS</td>\n",
       "      <td>X</td>\n",
       "      <td>1.37</td>\n",
       "      <td>1803.60</td>\n",
       "      <td>Intel</td>\n",
       "      <td>Intel</td>\n",
       "      <td>2560x1600</td>\n",
       "      <td>3.1</td>\n",
       "    </tr>\n",
       "  </tbody>\n",
       "</table>\n",
       "</div>"
      ],
      "text/plain": [
       "  manufacturer   model_name   category  screen_size_inches  \\\n",
       "0        Apple  MacBook Pro  Ultrabook                13.3   \n",
       "1        Apple  Macbook Air  Ultrabook                13.3   \n",
       "2           HP       250 G6   Notebook                15.6   \n",
       "3        Apple  MacBook Pro  Ultrabook                15.4   \n",
       "4        Apple  MacBook Pro  Ultrabook                13.3   \n",
       "\n",
       "                               screen                         cpu  ram_gb  \\\n",
       "0  IPS Panel Retina Display 2560x1600        Intel Core i5 2.3GHz       8   \n",
       "1                            1440x900        Intel Core i5 1.8GHz       8   \n",
       "2                   Full HD 1920x1080  Intel Core i5 7200U 2.5GHz       8   \n",
       "3  IPS Panel Retina Display 2880x1800        Intel Core i7 2.7GHz      16   \n",
       "4  IPS Panel Retina Display 2560x1600        Intel Core i5 3.1GHz       8   \n",
       "\n",
       "               storage                           gpu     os       os_version  \\\n",
       "0            128GB SSD  Intel Iris Plus Graphics 640  macOS                X   \n",
       "1  128GB Flash Storage        Intel HD Graphics 6000  macOS                X   \n",
       "2            256GB SSD         Intel HD Graphics 620  No OS  Version Unknown   \n",
       "3            512GB SSD            AMD Radeon Pro 455  macOS                X   \n",
       "4            256GB SSD  Intel Iris Plus Graphics 650  macOS                X   \n",
       "\n",
       "   weight_kg  price_euros gpu_manufacturer cpu_manufacturer screen_resolution  \\\n",
       "0       1.37      1339.69            Intel            Intel         2560x1600   \n",
       "1       1.34       898.94            Intel            Intel          1440x900   \n",
       "2       1.86       575.00            Intel            Intel         1920x1080   \n",
       "3       1.83      2537.45              AMD            Intel         2880x1800   \n",
       "4       1.37      1803.60            Intel            Intel         2560x1600   \n",
       "\n",
       "   cpu_speed  \n",
       "0        2.3  \n",
       "1        1.8  \n",
       "2        2.5  \n",
       "3        2.7  \n",
       "4        3.1  "
      ]
     },
     "execution_count": 94,
     "metadata": {},
     "output_type": "execute_result"
    }
   ],
   "source": [
    "laptops.head()"
   ]
  },
  {
   "cell_type": "code",
   "execution_count": 95,
   "id": "d0e6d3f7",
   "metadata": {},
   "outputs": [
    {
     "data": {
      "text/plain": [
       "0        128\n",
       "1        128\n",
       "2        256\n",
       "3        512\n",
       "4        256\n",
       "        ... \n",
       "1298     128\n",
       "1299     512\n",
       "1300      64\n",
       "1301    1000\n",
       "1302     500\n",
       "Name: storage, Length: 1303, dtype: object"
      ]
     },
     "execution_count": 95,
     "metadata": {},
     "output_type": "execute_result"
    }
   ],
   "source": [
    "# clean up the characters in the storage column, while replacing the TB with 1000\n",
    "storage_size_gb = (laptops['storage']\n",
    "                        .str.replace('SSD', '')\n",
    "                        .str.replace('HDD', '')\n",
    "                        .str.replace('Flash Storage', '')\n",
    "                        .str.replace('Hybrid', '')\n",
    "                        .str.replace('TB', '000')\n",
    "                        .str.replace('GB', '')\n",
    "                        .str.strip()\n",
    "                        .str.replace(' ', ''))\n",
    "\n",
    "storage_size_gb"
   ]
  },
  {
   "cell_type": "code",
   "execution_count": 96,
   "id": "352f32b3",
   "metadata": {},
   "outputs": [],
   "source": [
    "# Some of the storage values have two values that need to be added to get the total storage\n",
    "def calculate_total_storage(item):\n",
    "    if '+' in item:\n",
    "        items = item.split('+')\n",
    "        return str(int(items[0]) + int(items[1]))\n",
    "    else:\n",
    "        return item"
   ]
  },
  {
   "cell_type": "code",
   "execution_count": 97,
   "id": "9afb6e13",
   "metadata": {},
   "outputs": [
    {
     "data": {
      "text/plain": [
       "array(['128', '256', '512', '500', '1000', '32', '1128', '64', '1256',\n",
       "       '2256', '2000', '1512', '756', '2128', '1024', '16', '768', '2512',\n",
       "       '1064', '1', '240', '8', '508'], dtype=object)"
      ]
     },
     "execution_count": 97,
     "metadata": {},
     "output_type": "execute_result"
    }
   ],
   "source": [
    "storage_size_gb = (laptops['storage']\n",
    "         .str.replace('SSD', '')\n",
    "         .str.replace('HDD', '')\n",
    "         .str.replace('Flash Storage', '')\n",
    "         .str.replace('Hybrid', '')\n",
    "         .str.replace('TB', '000')\n",
    "         .str.replace('GB', '')\n",
    "         .str.strip()\n",
    "         .str.replace(' ', ''))\n",
    "\n",
    "storage_size_gb = storage_size_gb.apply(calculate_total_storage) # apply the total storage function to all the cells \n",
    "storage_size_gb.unique()"
   ]
  },
  {
   "cell_type": "code",
   "execution_count": 98,
   "id": "ce082706",
   "metadata": {},
   "outputs": [
    {
     "data": {
      "text/plain": [
       "0        128\n",
       "1        128\n",
       "2        256\n",
       "3        512\n",
       "4        256\n",
       "        ... \n",
       "1298     128\n",
       "1299     512\n",
       "1300      64\n",
       "1301    1000\n",
       "1302     500\n",
       "Name: storage, Length: 1303, dtype: object"
      ]
     },
     "execution_count": 98,
     "metadata": {},
     "output_type": "execute_result"
    }
   ],
   "source": [
    "storage_size_gb"
   ]
  },
  {
   "cell_type": "code",
   "execution_count": 99,
   "id": "60f017b8",
   "metadata": {},
   "outputs": [],
   "source": [
    "laptops['storage_size_gb'] = storage_size_gb # create a new column for storage size in GB"
   ]
  },
  {
   "cell_type": "code",
   "execution_count": 100,
   "id": "ce832f28",
   "metadata": {},
   "outputs": [
    {
     "data": {
      "text/plain": [
       "array(['128', '256', '512', '500', '1000', '32', '1128', '64', '1256',\n",
       "       '2256', '2000', '1512', '756', '2128', '1024', '16', '768', '2512',\n",
       "       '1064', '1', '240', '8', '508'], dtype=object)"
      ]
     },
     "execution_count": 100,
     "metadata": {},
     "output_type": "execute_result"
    }
   ],
   "source": [
    "laptops['storage_size_gb'].unique()"
   ]
  },
  {
   "cell_type": "code",
   "execution_count": 101,
   "id": "63ce40a1",
   "metadata": {},
   "outputs": [],
   "source": [
    "laptops['storage_size_gb'] = laptops['storage_size_gb'].astype('int64')"
   ]
  },
  {
   "cell_type": "code",
   "execution_count": 102,
   "id": "195c875b",
   "metadata": {},
   "outputs": [
    {
     "data": {
      "text/plain": [
       "dtype('int64')"
      ]
     },
     "execution_count": 102,
     "metadata": {},
     "output_type": "execute_result"
    }
   ],
   "source": [
    "laptops['storage_size_gb'].dtypes"
   ]
  },
  {
   "cell_type": "code",
   "execution_count": 103,
   "id": "d4d80253",
   "metadata": {},
   "outputs": [
    {
     "data": {
      "text/plain": [
       "manufacturer           object\n",
       "model_name             object\n",
       "category               object\n",
       "screen_size_inches    float64\n",
       "screen                 object\n",
       "cpu                    object\n",
       "ram_gb                  int64\n",
       "storage                object\n",
       "gpu                    object\n",
       "os                     object\n",
       "os_version             object\n",
       "weight_kg             float64\n",
       "price_euros           float64\n",
       "gpu_manufacturer       object\n",
       "cpu_manufacturer       object\n",
       "screen_resolution      object\n",
       "cpu_speed             float64\n",
       "storage_size_gb         int64\n",
       "dtype: object"
      ]
     },
     "execution_count": 103,
     "metadata": {},
     "output_type": "execute_result"
    }
   ],
   "source": [
    "laptops.dtypes"
   ]
  },
  {
   "cell_type": "code",
   "execution_count": 104,
   "id": "ea8c6a3d",
   "metadata": {},
   "outputs": [
    {
     "data": {
      "text/plain": [
       "370"
      ]
     },
     "execution_count": 104,
     "metadata": {},
     "output_type": "execute_result"
    }
   ],
   "source": [
    "# calculate the laptop with the largest storage using the idxmax() method\n",
    "\n",
    "max_storage_index = laptops['storage_size_gb'].idxmax()\n",
    "max_storage_index"
   ]
  },
  {
   "cell_type": "code",
   "execution_count": 105,
   "id": "7e347bf0",
   "metadata": {},
   "outputs": [
    {
     "data": {
      "text/plain": [
       "manufacturer                                     Asus\n",
       "model_name                               ZenBook Flip\n",
       "category                           2 in 1 Convertible\n",
       "screen_size_inches                               15.6\n",
       "screen                Full HD / Touchscreen 1920x1080\n",
       "cpu                        Intel Core i7 7500U 2.7GHz\n",
       "ram_gb                                             12\n",
       "storage                          512GB SSD +  2TB HDD\n",
       "gpu                           Nvidia GeForce GT 940MX\n",
       "os                                            Windows\n",
       "os_version                                         10\n",
       "weight_kg                                        2.26\n",
       "price_euros                                    1099.0\n",
       "gpu_manufacturer                               Nvidia\n",
       "cpu_manufacturer                                Intel\n",
       "screen_resolution                           1920x1080\n",
       "cpu_speed                                         2.7\n",
       "storage_size_gb                                  2512\n",
       "Name: 370, dtype: object"
      ]
     },
     "execution_count": 105,
     "metadata": {},
     "output_type": "execute_result"
    }
   ],
   "source": [
    "laptops.iloc[max_storage_index]"
   ]
  },
  {
   "cell_type": "code",
   "execution_count": 106,
   "id": "125472ca",
   "metadata": {},
   "outputs": [],
   "source": [
    "laptops.to_csv('laptops_cleaned.csv', index=False)"
   ]
  },
  {
   "cell_type": "code",
   "execution_count": null,
   "id": "a9d60b6d",
   "metadata": {},
   "outputs": [],
   "source": []
  }
 ],
 "metadata": {
  "kernelspec": {
   "display_name": "Python 3",
   "language": "python",
   "name": "python3"
  },
  "language_info": {
   "codemirror_mode": {
    "name": "ipython",
    "version": 3
   },
   "file_extension": ".py",
   "mimetype": "text/x-python",
   "name": "python",
   "nbconvert_exporter": "python",
   "pygments_lexer": "ipython3",
   "version": "3.8.8"
  }
 },
 "nbformat": 4,
 "nbformat_minor": 5
}
