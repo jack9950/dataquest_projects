{
 "cells": [
  {
   "cell_type": "markdown",
   "id": "4923fa32",
   "metadata": {},
   "source": [
    "\n",
    "# New York City taxi trip data released by the city of New York."
   ]
  },
  {
   "cell_type": "markdown",
   "id": "a578557b",
   "metadata": {},
   "source": [
    "We'll only work with a subset of this data — approximately 90,000 yellow taxi trips to and from New York City airports between January and June 2016. Below is information about selected columns from the dataset:\n",
    "\n",
    "- pickup_year: the year of the trip\n",
    "- pickup_month: the month of the trip (January is 1, December is 12)\n",
    "- pickup_day: the day of the month of the trip\n",
    "- pickup_location_code: the airport or borough where the trip started\n",
    "- dropoff_location_code: the airport or borough where the trip ended\n",
    "- trip_distance: the distance of the trip in miles\n",
    "- trip_length: the length of the trip in seconds\n",
    "- fare_amount: the base fare of the trip, in dollars\n",
    "- total_amount: the total amount charged to the passenger, including all fees, tolls and tips\n"
   ]
  },
  {
   "cell_type": "markdown",
   "id": "8be927ea",
   "metadata": {},
   "source": [
    "\n",
    "# NYC Taxi Trip Data\n",
    "\n",
    "Source: [NYC Taxi and Limousine Commission](http://www.nyc.gov/html/tlc/html/about/trip_record_data.shtml)\n",
    "\n",
    "This data set includes a 1/50th random sample of all trips between January and June 2016 that either start or end at an aiport location.\n",
    "\n",
    "## Column Summary\n",
    "\n",
    "- `pickup_year` - The year of the trip.\n",
    "- `pickup_month` - The month of the trip (January is `1`, December is `12`).\n",
    "- `pickup_day` - The day of the month of the trip.\n",
    "- `pickup_dayofweek` - The day of the week (Monday is `1`, Sunday is `7`)\n",
    "- `pickup_time` - The time that the trip started, as one of six categories:\n",
    "    - `0` - 0:00am-3:59am.\n",
    "    - `1` - 4:00am-7:59am.\n",
    "    - `2` - 8:00am-11:59am.\n",
    "    - `3` - 12:00pm-3:59pm.\n",
    "    - `4` - 4:00pm-7:59pm.\n",
    "    - `5` - 8:00pm-11:59pm.\n",
    "- `pickup_location_code` - The airport or [borough](https://en.wikipedia.org/wiki/Boroughs_of_New_York_City) where the the trip started, as one of eight categories:\n",
    "    - `0` - Bronx.\n",
    "    - `1` - Brooklyn.\n",
    "    - `2` - JFK Airport.\n",
    "    - `3` - LaGuardia Airport.\n",
    "    - `4` - Manhattan.\n",
    "    - `5` - Newark Airport.\n",
    "    - `6` - Queens.\n",
    "    - `7` - Staten Island.\n",
    "- `dropoff_location_code` - The airport or borough where the the trip finished, using the same eight category codes as `pickup_location_code`.\n",
    "- `trip_distance` - The distance of the trip in miles.\n",
    "- `trip_length` - The length of the trip in seconds.\n",
    "- `fare_amount` - The base fare of the trip, in dollars.\n",
    "- `fees_amount` - Any fees added to the fare, eg surcharges, extras, and MTA taxes.\n",
    "- `tolls_amount` - The amount of all tolls paid during the trip.\n",
    "- `tip_amount` - The tip added by the customer - does not include cash tips.\n",
    "- `total_amount` - The total amount charged to the passenger, excluding cash tips.\n",
    "- `payment_type` - The payment type, one of six categories:\n",
    "    - `1` - Credit card.\n",
    "    - `2` - Cash.\n",
    "    - `3` - No charge.\n",
    "    - `4` - Dispute.\n",
    "    - `5` - Unknown.\n",
    "    - `6` - Voided trip."
   ]
  },
  {
   "cell_type": "code",
   "execution_count": 1,
   "id": "37c99199",
   "metadata": {},
   "outputs": [],
   "source": [
    "import csv\n",
    "import numpy as np"
   ]
  },
  {
   "cell_type": "code",
   "execution_count": 2,
   "id": "b289e984",
   "metadata": {},
   "outputs": [],
   "source": [
    "# Convert taxi CSV into a NumPy ndarray\n",
    "\n",
    "f = open('nyc_taxis.csv', 'r')\n",
    "taxi_list = list(csv.reader(f))\n",
    "\n",
    "#remove the header row\n",
    "taxi_list = taxi_list[1:]"
   ]
  },
  {
   "cell_type": "code",
   "execution_count": 3,
   "id": "47177acb",
   "metadata": {},
   "outputs": [],
   "source": [
    "# Convert all values to floats\n",
    "converted_taxi_list = []\n",
    "\n",
    "for row in taxi_list:\n",
    "    converted_row = []\n",
    "    for item in row:\n",
    "        converted_row.append(float(item))\n",
    "    converted_taxi_list.append(converted_row)"
   ]
  },
  {
   "cell_type": "code",
   "execution_count": 4,
   "id": "3c2364d1",
   "metadata": {},
   "outputs": [],
   "source": [
    "# Convert the converted_taxi_list to a Numpy ndarray\n",
    "taxi = np.array(converted_taxi_list)"
   ]
  },
  {
   "cell_type": "code",
   "execution_count": 5,
   "id": "90bc60d2",
   "metadata": {},
   "outputs": [
    {
     "data": {
      "text/plain": [
       "(2, (2013, 15), 30195)"
      ]
     },
     "execution_count": 5,
     "metadata": {},
     "output_type": "execute_result"
    }
   ],
   "source": [
    "taxi.ndim, taxi.shape, taxi.size"
   ]
  },
  {
   "cell_type": "code",
   "execution_count": 6,
   "id": "3ead57d1",
   "metadata": {},
   "outputs": [
    {
     "data": {
      "text/plain": [
       "array([2.016e+03, 1.000e+00, 1.000e+00, 5.000e+00, 0.000e+00, 2.000e+00,\n",
       "       4.000e+00, 2.100e+01, 2.037e+03, 5.200e+01, 8.000e-01, 5.540e+00,\n",
       "       1.165e+01, 6.999e+01, 1.000e+00])"
      ]
     },
     "execution_count": 6,
     "metadata": {},
     "output_type": "execute_result"
    }
   ],
   "source": [
    "taxi[0]"
   ]
  },
  {
   "cell_type": "code",
   "execution_count": 7,
   "id": "b2f31a5b",
   "metadata": {},
   "outputs": [
    {
     "name": "stdout",
     "output_type": "stream",
     "text": [
      "[[2.016e+03 1.000e+00 1.000e+00 ... 1.165e+01 6.999e+01 1.000e+00]\n",
      " [2.016e+03 1.000e+00 1.000e+00 ... 8.000e+00 5.430e+01 1.000e+00]\n",
      " [2.016e+03 1.000e+00 1.000e+00 ... 0.000e+00 3.780e+01 2.000e+00]\n",
      " ...\n",
      " [2.016e+03 6.000e+00 3.000e+01 ... 5.000e+00 6.334e+01 1.000e+00]\n",
      " [2.016e+03 6.000e+00 3.000e+01 ... 8.950e+00 4.475e+01 1.000e+00]\n",
      " [2.016e+03 6.000e+00 3.000e+01 ... 0.000e+00 5.484e+01 2.000e+00]]\n"
     ]
    }
   ],
   "source": [
    "print(taxi)"
   ]
  },
  {
   "cell_type": "code",
   "execution_count": 8,
   "id": "b52d1b2e",
   "metadata": {},
   "outputs": [],
   "source": [
    "row_5 = taxi[5]\n",
    "rows_426_to_500 = taxi[426:501]\n",
    "row_45_column_13 = taxi[45,13]"
   ]
  },
  {
   "cell_type": "code",
   "execution_count": 9,
   "id": "b499b19c",
   "metadata": {},
   "outputs": [
    {
     "name": "stdout",
     "output_type": "stream",
     "text": [
      "[52.8 46.3 37.8 ... 52.8 35.8 49.3]\n"
     ]
    }
   ],
   "source": [
    "# Use vector addition to add fare_amount and fees_amount. Assign the result to fare_and_fees.\n",
    "# fare_amount - 9th column (index 0)\n",
    "# fees_amount - 10th column (index 0)\n",
    "\n",
    "fares_and_fees = taxi[:, 9] + taxi[:, 10]\n",
    "print(fares_and_fees)"
   ]
  },
  {
   "cell_type": "code",
   "execution_count": 10,
   "id": "3500b6a7",
   "metadata": {},
   "outputs": [
    {
     "name": "stdout",
     "output_type": "stream",
     "text": [
      "[37.11340206 38.58157895 31.27222982 ... 22.29907867 42.41551247\n",
      " 36.90473407]\n"
     ]
    }
   ],
   "source": [
    "# Calculate the average travel speed of each trip in miles per hour. S\n",
    "\n",
    "# trip_distance in miles = column 7\n",
    "# trip_length in seconds = column 8\n",
    "\n",
    "trip_mph = taxi[:, 7] / (taxi[:, 8] / 3600) #3600 seconds in an hour\n",
    "\n",
    "print(trip_mph)"
   ]
  },
  {
   "cell_type": "code",
   "execution_count": 11,
   "id": "a1db3776",
   "metadata": {},
   "outputs": [
    {
     "name": "stdout",
     "output_type": "stream",
     "text": [
      "0.0 82800.0 169.98315083655157\n"
     ]
    }
   ],
   "source": [
    "# calculate the maximum and mean (average) speed from our trip_mph ndarray.\n",
    "\n",
    "mph_min = trip_mph.min()\n",
    "mph_max = trip_mph.max()\n",
    "mph_mean = trip_mph.mean()\n",
    "\n",
    "print(mph_min, mph_max, mph_mean)"
   ]
  },
  {
   "cell_type": "code",
   "execution_count": 12,
   "id": "0d3daf0f",
   "metadata": {},
   "outputs": [
    {
     "name": "stdout",
     "output_type": "stream",
     "text": [
      "[69.99 54.3  37.8  32.76 18.8 ]\n",
      "[69.99 54.3  37.8  32.76 18.8 ]\n"
     ]
    }
   ],
   "source": [
    "# fare amount+fees amount+tolls amount+tip amount=total amount\n",
    "\n",
    "# We'll check these values. \n",
    "# We'll only review the first five rows in taxi so we can verify the results more easily.\n",
    "\n",
    "# we'll compare against the first 5 rows only\n",
    "taxi_first_five = taxi[:5]\n",
    "\n",
    "# select these columns: fare_amount, fees_amount, tolls_amount, tip_amount\n",
    "fare_components = taxi_first_five[:, 9:13]\n",
    "fare_sums = fare_components.sum(axis=1)\n",
    "fare_totals = taxi_first_five[:, 13]\n",
    "\n",
    "print(fare_sums)\n",
    "print(fare_totals)"
   ]
  },
  {
   "cell_type": "code",
   "execution_count": null,
   "id": "b6182d24",
   "metadata": {},
   "outputs": [],
   "source": []
  }
 ],
 "metadata": {
  "kernelspec": {
   "display_name": "Python 3",
   "language": "python",
   "name": "python3"
  },
  "language_info": {
   "codemirror_mode": {
    "name": "ipython",
    "version": 3
   },
   "file_extension": ".py",
   "mimetype": "text/x-python",
   "name": "python",
   "nbconvert_exporter": "python",
   "pygments_lexer": "ipython3",
   "version": "3.8.8"
  }
 },
 "nbformat": 4,
 "nbformat_minor": 5
}
