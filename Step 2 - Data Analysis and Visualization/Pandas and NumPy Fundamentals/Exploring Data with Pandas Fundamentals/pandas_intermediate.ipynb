{
 "cells": [
  {
   "cell_type": "code",
   "execution_count": 1,
   "id": "63b95a79",
   "metadata": {},
   "outputs": [],
   "source": [
    "import pandas as pd"
   ]
  },
  {
   "cell_type": "code",
   "execution_count": 2,
   "id": "5fc5b3e3",
   "metadata": {},
   "outputs": [],
   "source": [
    "# read the data into a pandas dataframe\n",
    "f500 = pd.read_csv('f500.csv', index_col=0)\n",
    "f500.index.name = None"
   ]
  },
  {
   "cell_type": "markdown",
   "id": "7211bf8f",
   "metadata": {},
   "source": [
    "As a reminder, the data dictionary for the main columns in the `f500.csv` file is below:\n",
    "\n",
    "- `company`: Name of the company.\n",
    "- `rank`: Global 500 rank for the company.\n",
    "- `revenues`: Company's total revenue for the fiscal year, in millions of dollars (USD).\n",
    "- `revenue_change`: Percentage change in revenue between the current and prior fiscal year.\n",
    "- `profits`: Net income for the fiscal year, in millions of dollars (USD).\n",
    "- `ceo`: Company's Chief Executive Officer.\n",
    "- `industry`: Industry in which the company operates.\n",
    "- `sector`: Sector in which the company operates.\n",
    "- `previous_rank`: Global 500 rank for the company for the prior year.\n",
    "- `country`: Country in which the company is headquartered."
   ]
  },
  {
   "cell_type": "code",
   "execution_count": null,
   "id": "6d45933a",
   "metadata": {},
   "outputs": [],
   "source": []
  }
 ],
 "metadata": {
  "kernelspec": {
   "display_name": "Python 3",
   "language": "python",
   "name": "python3"
  },
  "language_info": {
   "codemirror_mode": {
    "name": "ipython",
    "version": 3
   },
   "file_extension": ".py",
   "mimetype": "text/x-python",
   "name": "python",
   "nbconvert_exporter": "python",
   "pygments_lexer": "ipython3",
   "version": "3.8.8"
  }
 },
 "nbformat": 4,
 "nbformat_minor": 5
}
