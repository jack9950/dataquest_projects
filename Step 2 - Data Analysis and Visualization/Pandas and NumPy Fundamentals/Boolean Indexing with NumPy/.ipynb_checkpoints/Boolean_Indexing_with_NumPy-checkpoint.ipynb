{
 "cells": [
  {
   "cell_type": "markdown",
   "id": "81ebf3d3",
   "metadata": {},
   "source": [
    "\n",
    "# NYC Taxi Trip Data\n",
    "\n",
    "Source: [NYC Taxi and Limousine Commission](http://www.nyc.gov/html/tlc/html/about/trip_record_data.shtml)\n",
    "\n",
    "This data set includes a 1/50th random sample of all trips between January and June 2016 that either start or end at an aiport location.\n",
    "\n",
    "## Column Summary\n",
    "\n",
    "- `pickup_year` - The year of the trip.\n",
    "- `pickup_month` - The month of the trip (January is `1`, December is `12`).\n",
    "- `pickup_day` - The day of the month of the trip.\n",
    "- `pickup_dayofweek` - The day of the week (Monday is `1`, Sunday is `7`)\n",
    "- `pickup_time` - The time that the trip started, as one of six categories:\n",
    "    - `0` - 0:00am-3:59am.\n",
    "    - `1` - 4:00am-7:59am.\n",
    "    - `2` - 8:00am-11:59am.\n",
    "    - `3` - 12:00pm-3:59pm.\n",
    "    - `4` - 4:00pm-7:59pm.\n",
    "    - `5` - 8:00pm-11:59pm.\n",
    "- `pickup_location_code` - The airport or [borough](https://en.wikipedia.org/wiki/Boroughs_of_New_York_City) where the the trip started, as one of eight categories:\n",
    "    - `0` - Bronx.\n",
    "    - `1` - Brooklyn.\n",
    "    - `2` - JFK Airport.\n",
    "    - `3` - LaGuardia Airport.\n",
    "    - `4` - Manhattan.\n",
    "    - `5` - Newark Airport.\n",
    "    - `6` - Queens.\n",
    "    - `7` - Staten Island.\n",
    "- `dropoff_location_code` - The airport or borough where the the trip finished, using the same eight category codes as `pickup_location_code`.\n",
    "- `trip_distance` - The distance of the trip in miles.\n",
    "- `trip_length` - The length of the trip in seconds.\n",
    "- `fare_amount` - The base fare of the trip, in dollars.\n",
    "- `fees_amount` - Any fees added to the fare, eg surcharges, extras, and MTA taxes.\n",
    "- `tolls_amount` - The amount of all tolls paid during the trip.\n",
    "- `tip_amount` - The tip added by the customer - does not include cash tips.\n",
    "- `total_amount` - The total amount charged to the passenger, excluding cash tips.\n",
    "- `payment_type` - The payment type, one of six categories:\n",
    "    - `1` - Credit card.\n",
    "    - `2` - Cash.\n",
    "    - `3` - No charge.\n",
    "    - `4` - Dispute.\n",
    "    - `5` - Unknown.\n",
    "    - `6` - Voided trip.\n",
    "\n",
    "\n",
    "## Column Indexes  \n",
    "0. `pickup_year` - The year of the trip.  \n",
    "1. `pickup_month` - The month of the trip (January is 1, December is 12).  \n",
    "2. `pickup_day` - The day of the month of the trip.  \n",
    "3. `pickup_dayofweek` - The day of the week (Monday is 1, Sunday is 7)  \n",
    "4. `pickup_time` - The time that the trip started  \n",
    "5. `pickup_location_code` - The airport or borough where the the trip started  \n",
    "6. `dropoff_location_code` - The airport or borough where the the trip finished  \n",
    "7. `trip_distance` - The distance of the trip in miles.  \n",
    "8. `trip_length` - The length of the trip in seconds.  \n",
    "9. `fare_amount` - The base fare of the trip, in dollars.  \n",
    "10. `fees_amount` - Any fees added to the fare, eg surcharges, extras, and MTA taxes.  \n",
    "11. `tolls_amount` - The amount of all tolls paid during the trip.  \n",
    "12. `tip_amount` - The tip added by the customer - does not include cash tips.  \n",
    "13. `total_amount` - The total amount charged to the passenger, excluding cash tips.  \n",
    "14. ` payment_type` - The payment type  "
   ]
  },
  {
   "cell_type": "code",
   "execution_count": 1,
   "id": "2e244401",
   "metadata": {},
   "outputs": [],
   "source": [
    "import numpy as np"
   ]
  },
  {
   "cell_type": "code",
   "execution_count": 2,
   "id": "af6f7754",
   "metadata": {},
   "outputs": [
    {
     "data": {
      "text/plain": [
       "(2013, 15)"
      ]
     },
     "execution_count": 2,
     "metadata": {},
     "output_type": "execute_result"
    }
   ],
   "source": [
    "taxi = np.genfromtxt('nyc_taxis.csv', delimiter=',', skip_header=1)\n",
    "taxi.shape"
   ]
  },
  {
   "cell_type": "code",
   "execution_count": 3,
   "id": "8a590257",
   "metadata": {},
   "outputs": [
    {
     "data": {
      "text/plain": [
       "array([[2.016e+03, 1.000e+00, 1.000e+00, 5.000e+00, 0.000e+00, 2.000e+00,\n",
       "        4.000e+00, 2.100e+01, 2.037e+03, 5.200e+01, 8.000e-01, 5.540e+00,\n",
       "        1.165e+01, 6.999e+01, 1.000e+00],\n",
       "       [2.016e+03, 1.000e+00, 1.000e+00, 5.000e+00, 0.000e+00, 2.000e+00,\n",
       "        1.000e+00, 1.629e+01, 1.520e+03, 4.500e+01, 1.300e+00, 0.000e+00,\n",
       "        8.000e+00, 5.430e+01, 1.000e+00],\n",
       "       [2.016e+03, 1.000e+00, 1.000e+00, 5.000e+00, 0.000e+00, 2.000e+00,\n",
       "        6.000e+00, 1.270e+01, 1.462e+03, 3.650e+01, 1.300e+00, 0.000e+00,\n",
       "        0.000e+00, 3.780e+01, 2.000e+00],\n",
       "       [2.016e+03, 1.000e+00, 1.000e+00, 5.000e+00, 0.000e+00, 2.000e+00,\n",
       "        6.000e+00, 8.700e+00, 1.210e+03, 2.600e+01, 1.300e+00, 0.000e+00,\n",
       "        5.460e+00, 3.276e+01, 1.000e+00],\n",
       "       [2.016e+03, 1.000e+00, 1.000e+00, 5.000e+00, 0.000e+00, 2.000e+00,\n",
       "        6.000e+00, 5.560e+00, 7.590e+02, 1.750e+01, 1.300e+00, 0.000e+00,\n",
       "        0.000e+00, 1.880e+01, 2.000e+00]])"
      ]
     },
     "execution_count": 3,
     "metadata": {},
     "output_type": "execute_result"
    }
   ],
   "source": [
    "taxi[:5]"
   ]
  },
  {
   "cell_type": "code",
   "execution_count": 4,
   "id": "e4f8ae88",
   "metadata": {},
   "outputs": [
    {
     "data": {
      "text/plain": [
       "dtype('float64')"
      ]
     },
     "execution_count": 4,
     "metadata": {},
     "output_type": "execute_result"
    }
   ],
   "source": [
    "taxi.dtype"
   ]
  },
  {
   "cell_type": "code",
   "execution_count": 5,
   "id": "eac61ebc",
   "metadata": {},
   "outputs": [],
   "source": [
    "# Use boolean indexing to confirm the number of taxi rides in our data set from the month of January. \n",
    "# First, let's select just the pickup_month column, which is the second column in the ndarray:\n",
    "\n",
    "pickup_month = taxi[:, 1]"
   ]
  },
  {
   "cell_type": "code",
   "execution_count": 6,
   "id": "9d905cd3",
   "metadata": {},
   "outputs": [
    {
     "name": "stdout",
     "output_type": "stream",
     "text": [
      "800\n"
     ]
    }
   ],
   "source": [
    "# use a boolean operation to make a boolean array, where the value 1 corresponds to January:\n",
    "january_bool = pickup_month == 1\n",
    "\n",
    "# use the new boolean array to select only the items from pickup_month that have a value of 1:\n",
    "january = pickup_month[january_bool]\n",
    "\n",
    "# Finally, we use the .shape attribute to find out how many items are in our january ndarray, \n",
    "# which is equal to the number of taxi rides from the month of January. \n",
    "# We'll use [0] to extract the value from the tuple returned by .shape:\n",
    "\n",
    "january_rides = january.shape[0]\n",
    "print(january_rides)"
   ]
  },
  {
   "cell_type": "code",
   "execution_count": 7,
   "id": "9ca82730",
   "metadata": {},
   "outputs": [
    {
     "name": "stdout",
     "output_type": "stream",
     "text": [
      "176\n"
     ]
    }
   ],
   "source": [
    "# Do the same for February\n",
    "\n",
    "february = pickup_month[pickup_month == 2]\n",
    "february_rides = february.shape[0]\n",
    "print(february_rides)"
   ]
  },
  {
   "cell_type": "markdown",
   "id": "c087579f",
   "metadata": {},
   "source": [
    "Let's use what we've learned to analyze the average speed of trips. In the previous lesson(nyc_taxis.ipynb), we calculated the maximum trip speed to be 82,000 mph, which we know is definitely not accurate. Let's verify if there are any issues with the data. Recall that we calculated the average travel speed as follows:\n",
    "\n",
    "`trip_mph = taxi[:,7] / (taxi[:,8] / 3600)`  \n",
    "\n",
    "Next, we'll check for trips with an average speed greater than 20,000 mph:"
   ]
  },
  {
   "cell_type": "code",
   "execution_count": 8,
   "id": "1495a35f",
   "metadata": {},
   "outputs": [],
   "source": [
    "# Create a boolean array for trips greater than 20,000 mph\n",
    "\n",
    "trips_mph = taxi[:, 7] / (taxi[:, 8] / 3600)\n",
    "\n",
    "trips_over_20000mph_bool = trips_mph > 20000"
   ]
  },
  {
   "cell_type": "code",
   "execution_count": 9,
   "id": "add9fbbc",
   "metadata": {},
   "outputs": [
    {
     "data": {
      "text/plain": [
       "array([False, False, False, ..., False, False, False])"
      ]
     },
     "execution_count": 9,
     "metadata": {},
     "output_type": "execute_result"
    }
   ],
   "source": [
    "trips_over_20000mph_bool"
   ]
  },
  {
   "cell_type": "code",
   "execution_count": 10,
   "id": "919b0f62",
   "metadata": {},
   "outputs": [],
   "source": [
    "# use the boolean array to select the rows for those trips, \n",
    "# and the pickup_location_code, dropoff_location_code, trip_distance, and\n",
    "# trip_length columns\n",
    "\n",
    "trips_over_20000mph = taxi[trips_over_20000mph_bool, 5:9]"
   ]
  },
  {
   "cell_type": "code",
   "execution_count": 11,
   "id": "90a09ccc",
   "metadata": {},
   "outputs": [
    {
     "data": {
      "text/plain": [
       "array([[ 2. ,  2. , 23. ,  1. ],\n",
       "       [ 2. ,  2. , 19.6,  1. ],\n",
       "       [ 2. ,  2. , 16.7,  2. ],\n",
       "       [ 3. ,  3. , 17.8,  2. ],\n",
       "       [ 2. ,  2. , 17.2,  2. ],\n",
       "       [ 3. ,  3. , 16.9,  3. ],\n",
       "       [ 2. ,  2. , 27.1,  4. ]])"
      ]
     },
     "execution_count": 11,
     "metadata": {},
     "output_type": "execute_result"
    }
   ],
   "source": [
    "trips_over_20000mph"
   ]
  },
  {
   "cell_type": "markdown",
   "id": "36134bde",
   "metadata": {},
   "source": [
    "Let's use this technique to examine the rows that have the highest values for the tip_amount column."
   ]
  },
  {
   "cell_type": "code",
   "execution_count": 12,
   "id": "c1da058c",
   "metadata": {},
   "outputs": [],
   "source": [
    "# Create a boolean array, tip_bool, \n",
    "# that determines which rows have values for the tip_amount column of more than 50.\n",
    "\n",
    "tips_over_50_bool = taxi[:, 12] > 50"
   ]
  },
  {
   "cell_type": "code",
   "execution_count": 13,
   "id": "7f8108dd",
   "metadata": {},
   "outputs": [
    {
     "data": {
      "text/plain": [
       "array([False, False, False, ..., False, False, False])"
      ]
     },
     "execution_count": 13,
     "metadata": {},
     "output_type": "execute_result"
    }
   ],
   "source": [
    "tips_over_50_bool"
   ]
  },
  {
   "cell_type": "code",
   "execution_count": 14,
   "id": "60a0e475",
   "metadata": {},
   "outputs": [],
   "source": [
    "# Use the tip_bool array to select all rows from taxi with values tip amounts of more than 50, \n",
    "# and the columns from indexes 5 to 13 inclusive. Assign the resulting array to top_tips.\n",
    "\n",
    "top_tips = taxi[tips_over_50_bool, 5:14]"
   ]
  },
  {
   "cell_type": "code",
   "execution_count": 15,
   "id": "31a6a138",
   "metadata": {},
   "outputs": [
    {
     "data": {
      "text/plain": [
       "array([[4.000e+00, 2.000e+00, 2.145e+01, 2.004e+03, 5.200e+01, 8.000e-01,\n",
       "        0.000e+00, 5.280e+01, 1.056e+02]])"
      ]
     },
     "execution_count": 15,
     "metadata": {},
     "output_type": "execute_result"
    }
   ],
   "source": [
    "top_tips"
   ]
  },
  {
   "cell_type": "markdown",
   "id": "0ada9075",
   "metadata": {},
   "source": [
    "To help you practice without making changes to our original array, we have used the [ndarray.copy()](https://numpy.org/doc/stable/reference/generated/numpy.ndarray.copy.html) method to make `taxi_modified`, a copy of our original for these exercises."
   ]
  },
  {
   "cell_type": "code",
   "execution_count": 16,
   "id": "d6d63732",
   "metadata": {},
   "outputs": [],
   "source": [
    "taxi_modified = taxi.copy()"
   ]
  },
  {
   "cell_type": "code",
   "execution_count": 17,
   "id": "b19766e6",
   "metadata": {},
   "outputs": [
    {
     "data": {
      "text/plain": [
       "4.0"
      ]
     },
     "execution_count": 17,
     "metadata": {},
     "output_type": "execute_result"
    }
   ],
   "source": [
    "taxi_modified[1066, 5]"
   ]
  },
  {
   "cell_type": "code",
   "execution_count": 18,
   "id": "7cb4c08e",
   "metadata": {},
   "outputs": [
    {
     "data": {
      "text/plain": [
       "1.0"
      ]
     },
     "execution_count": 18,
     "metadata": {},
     "output_type": "execute_result"
    }
   ],
   "source": [
    "# The value at column index 5 (pickup_location) of row index 1066 is incorrect. \n",
    "# Use assignment to change this value to 1 in the taxi_modified ndarray.\n",
    "\n",
    "taxi_modified[1066, 5] = 1\n",
    "taxi_modified[1066, 5]"
   ]
  },
  {
   "cell_type": "code",
   "execution_count": 19,
   "id": "331f59aa",
   "metadata": {},
   "outputs": [
    {
     "data": {
      "text/plain": [
       "array([2016., 2016., 2016., ..., 2016., 2016., 2016.])"
      ]
     },
     "execution_count": 19,
     "metadata": {},
     "output_type": "execute_result"
    }
   ],
   "source": [
    "taxi_modified[:, 0]"
   ]
  },
  {
   "cell_type": "code",
   "execution_count": 20,
   "id": "3c5eab40",
   "metadata": {},
   "outputs": [
    {
     "data": {
      "text/plain": [
       "array([16., 16., 16., ..., 16., 16., 16.])"
      ]
     },
     "execution_count": 20,
     "metadata": {},
     "output_type": "execute_result"
    }
   ],
   "source": [
    "# The first column (index 0) contains year values as four digit numbers \n",
    "# in the format YYYY (2016, since all trips in our data set are from 2016). \n",
    "# Use assignment to change these values to the YY format (16) in the taxi_modified ndarray.\n",
    "\n",
    "taxi_modified[:, 0] = 16\n",
    "taxi_modified[:, 0]"
   ]
  },
  {
   "cell_type": "code",
   "execution_count": 21,
   "id": "1a487b86",
   "metadata": {},
   "outputs": [
    {
     "data": {
      "text/plain": [
       "array([9.88, 8.6 ])"
      ]
     },
     "execution_count": 21,
     "metadata": {},
     "output_type": "execute_result"
    }
   ],
   "source": [
    "taxi_modified[:, 7][550:552]"
   ]
  },
  {
   "cell_type": "code",
   "execution_count": 22,
   "id": "1a17794c",
   "metadata": {},
   "outputs": [
    {
     "data": {
      "text/plain": [
       "12.924778936910084"
      ]
     },
     "execution_count": 22,
     "metadata": {},
     "output_type": "execute_result"
    }
   ],
   "source": [
    "np.average(taxi_modified[:, 7])"
   ]
  },
  {
   "cell_type": "code",
   "execution_count": 23,
   "id": "8b0aa680",
   "metadata": {},
   "outputs": [
    {
     "data": {
      "text/plain": [
       "array([12.92477894, 12.92477894])"
      ]
     },
     "execution_count": 23,
     "metadata": {},
     "output_type": "execute_result"
    }
   ],
   "source": [
    "# The values at column index 7 (trip_distance) of rows index 550 and 551 are incorrect. \n",
    "# Use assignment to change these values in the taxi_modified ndarray to the mean value for that column.\n",
    "\n",
    "taxi_modified[:, 7][550:552] = np.average(taxi_modified[:, 7])\n",
    "taxi_modified[:, 7][550:552]"
   ]
  },
  {
   "cell_type": "markdown",
   "id": "7c600b52",
   "metadata": {},
   "source": [
    "We again used the ndarray.copy() method to make taxi_copy, a copy of our original for this exercise.\n",
    "\n",
    "1.  Select the fourteenth column (index 13) in taxi_copy. Assign it to a variable named total_amount.\n",
    "2.  For rows where the value of total_amount is less than 0, use assignment to change the value to 0.\n"
   ]
  },
  {
   "cell_type": "code",
   "execution_count": 24,
   "id": "981a4f83",
   "metadata": {},
   "outputs": [],
   "source": [
    "taxi_copy = taxi.copy()"
   ]
  },
  {
   "cell_type": "code",
   "execution_count": 25,
   "id": "7dba356d",
   "metadata": {},
   "outputs": [],
   "source": [
    "taxi_copy[taxi_copy[:, 13] < 0] = 0"
   ]
  },
  {
   "cell_type": "markdown",
   "id": "6cf16742",
   "metadata": {},
   "source": [
    "We have created a new copy of our taxi dataset, `taxi_modified` with an additional column containing the value `0` for every row.\n",
    "\n",
    "In our new column at index 15, assign the value 1 if the pickup_location_code (column index 5) corresponds to an airport location, leaving the value as 0 otherwise by performing these three operations:\n",
    "- For rows where the value for the column index 5 is equal to 2 (JFK Airport), assign the value 1 to column index 15.\n",
    "- For rows where the value for the column index 5 is equal to 3 (LaGuardia Airport), assign the value 1 to column index 15.\n",
    "- For rows where the value for the column index 5 is equal to 5 (Newark Airport), assign the value 1 to column index 15.\n"
   ]
  },
  {
   "cell_type": "code",
   "execution_count": 26,
   "id": "8146a797",
   "metadata": {},
   "outputs": [
    {
     "data": {
      "text/plain": [
       "(2013, 15)"
      ]
     },
     "execution_count": 26,
     "metadata": {},
     "output_type": "execute_result"
    }
   ],
   "source": [
    "taxi.shape"
   ]
  },
  {
   "cell_type": "code",
   "execution_count": 27,
   "id": "add49571",
   "metadata": {},
   "outputs": [],
   "source": [
    "# create a new column filled with `0`.\n",
    "zeros = np.zeros([taxi.shape[0],1])\n",
    "taxis_modified = np.concatenate([taxi, zeros], axis = 1)"
   ]
  },
  {
   "cell_type": "code",
   "execution_count": 28,
   "id": "1f3f3582",
   "metadata": {},
   "outputs": [
    {
     "data": {
      "text/plain": [
       "array([[2.016e+03, 1.000e+00, 1.000e+00, ..., 6.999e+01, 1.000e+00,\n",
       "        0.000e+00],\n",
       "       [2.016e+03, 1.000e+00, 1.000e+00, ..., 5.430e+01, 1.000e+00,\n",
       "        0.000e+00],\n",
       "       [2.016e+03, 1.000e+00, 1.000e+00, ..., 3.780e+01, 2.000e+00,\n",
       "        0.000e+00],\n",
       "       ...,\n",
       "       [2.016e+03, 6.000e+00, 3.000e+01, ..., 6.334e+01, 1.000e+00,\n",
       "        0.000e+00],\n",
       "       [2.016e+03, 6.000e+00, 3.000e+01, ..., 4.475e+01, 1.000e+00,\n",
       "        0.000e+00],\n",
       "       [2.016e+03, 6.000e+00, 3.000e+01, ..., 5.484e+01, 2.000e+00,\n",
       "        0.000e+00]])"
      ]
     },
     "execution_count": 28,
     "metadata": {},
     "output_type": "execute_result"
    }
   ],
   "source": [
    "taxis_modified"
   ]
  },
  {
   "cell_type": "markdown",
   "id": "e3c562e9",
   "metadata": {},
   "source": [
    "In our new column at index 15, assign the value 1 if the pickup_location_code (column index 5) corresponds to an airport location, leaving the value as 0 otherwise by performing these three operations:\n",
    "- For rows where the value for the column index 5 is equal to 2 (JFK Airport), assign the value 1 to column index 15.\n",
    "- For rows where the value for the column index 5 is equal to 3 (LaGuardia Airport), assign the value 1 to column index 15.\n",
    "- For rows where the value for the column index 5 is equal to 5 (Newark Airport), assign the value 1 to column index 15."
   ]
  },
  {
   "cell_type": "code",
   "execution_count": 29,
   "id": "00f91c60",
   "metadata": {},
   "outputs": [],
   "source": [
    "taxis_modified[taxis_modified[:, 5] == 2, 15] = 1\n",
    "taxis_modified[taxis_modified[:, 5] == 3, 15] = 1\n",
    "taxis_modified[taxis_modified[:, 5] == 5, 15] = 1"
   ]
  },
  {
   "cell_type": "code",
   "execution_count": 30,
   "id": "5927d41b",
   "metadata": {},
   "outputs": [
    {
     "data": {
      "text/plain": [
       "array([[2.016e+03, 1.000e+00, 1.000e+00, ..., 6.999e+01, 1.000e+00,\n",
       "        1.000e+00],\n",
       "       [2.016e+03, 1.000e+00, 1.000e+00, ..., 5.430e+01, 1.000e+00,\n",
       "        1.000e+00],\n",
       "       [2.016e+03, 1.000e+00, 1.000e+00, ..., 3.780e+01, 2.000e+00,\n",
       "        1.000e+00],\n",
       "       ...,\n",
       "       [2.016e+03, 6.000e+00, 3.000e+01, ..., 6.334e+01, 1.000e+00,\n",
       "        1.000e+00],\n",
       "       [2.016e+03, 6.000e+00, 3.000e+01, ..., 4.475e+01, 1.000e+00,\n",
       "        1.000e+00],\n",
       "       [2.016e+03, 6.000e+00, 3.000e+01, ..., 5.484e+01, 2.000e+00,\n",
       "        1.000e+00]])"
      ]
     },
     "execution_count": 30,
     "metadata": {},
     "output_type": "execute_result"
    }
   ],
   "source": [
    "taxis_modified"
   ]
  },
  {
   "cell_type": "markdown",
   "id": "15f24892",
   "metadata": {},
   "source": [
    "We'll conclude this lesson with two challenges. Challenges are designed to help you practice the techniques you've learned in this lesson.\n",
    "\n",
    "We supplied several hints to help you, but first try to complete the challenge without the hints, if you can. Don't be discouraged if these challenge steps take a few attempts to get right – working with data is an iterative process!\n",
    "\n",
    "In this challenge, we want to figure out which airport is the most popular destination in our data set. To do that, we'll use boolean indexing to create three filtered arrays and then look at how many rows are in each array.\n",
    "\n",
    "To complete this task, we'll need to check if the dropoff_location_code column (column index 6) is equal to one of the following values:\n",
    "\n",
    "- 2: JFK Airport\n",
    "- 3: LaGuardia Airport\n",
    "- 5: Newark Airport.\n",
    "\n",
    "Instructions:\n",
    "\n",
    "1. Using the original `taxi` ndarray, calculate how many trips had JFK Airport as their destination:\n",
    "    - Use boolean indexing to select only the rows where the `dropoff_location_code` column (column index `6`) has a value that corresponds to JFK. Assign the result to `jfk`.\n",
    "    - Calculate how many rows are in the new `jfk` array and assign the result to `jfk_count`.\n",
    "2. Calculate how many trips from `taxi` had Laguardia Airport as their destination:\n",
    "    - Use boolean indexing to select only the rows where the `dropoff_location_code` column (column index `6`) has a value that corresponds to Laguardia. Assign the result to `laguardia`.\n",
    "    - Calculate how many rows are in the new laguardia array. Assign the result to laguardia_count.\n",
    "3. Calculate how many trips from `taxi` had Newark Airport as their destination:\n",
    "    - Select only the rows where the `dropoff_location_code` column has a value that corresponds to Newark, and assign the result to `newark`.\n",
    "    - Calculate how many rows are in the new `newark` array and assign the result to `newark_count`.\n",
    "4. After you have run your code, inspect the values for `jfk_count`, `laguardia_count`, and `newark_count` and see which airport has the most dropoffs.\n"
   ]
  },
  {
   "cell_type": "code",
   "execution_count": 31,
   "id": "9bb046db",
   "metadata": {},
   "outputs": [
    {
     "data": {
      "text/plain": [
       "285"
      ]
     },
     "execution_count": 31,
     "metadata": {},
     "output_type": "execute_result"
    }
   ],
   "source": [
    "jfk_count = taxi[taxi[:, 6] == 2].shape[0]\n",
    "jfk_count"
   ]
  },
  {
   "cell_type": "code",
   "execution_count": 32,
   "id": "226cbc24",
   "metadata": {},
   "outputs": [
    {
     "data": {
      "text/plain": [
       "308"
      ]
     },
     "execution_count": 32,
     "metadata": {},
     "output_type": "execute_result"
    }
   ],
   "source": [
    "laguardia_count = taxi[taxi[:, 6] == 3].shape[0]\n",
    "laguardia_count"
   ]
  },
  {
   "cell_type": "code",
   "execution_count": 33,
   "id": "2953bcdb",
   "metadata": {},
   "outputs": [
    {
     "data": {
      "text/plain": [
       "2"
      ]
     },
     "execution_count": 33,
     "metadata": {},
     "output_type": "execute_result"
    }
   ],
   "source": [
    "newark_count = taxi[taxi[:, 6] == 5].shape[0]\n",
    "newark_count"
   ]
  },
  {
   "cell_type": "markdown",
   "id": "10357fe6",
   "metadata": {},
   "source": [
    "Our calculations in the previous screen show that Laguardia is the most common airport for dropoffs in our data set.\n",
    "\n",
    "Our second and final challenge involves removing potentially bad data from our data set, and then calculating some descriptive statistics on the remaining \"clean\" data.\n",
    "\n",
    "We'll start by using boolean indexing to remove any rows that have an average speed for the trip greater than 100 mph (160 kph) which should remove the questionable data we have worked with over the past two lessons. Then, we'll use array methods to calculate the mean for specific columns of the remaining data. The columns we're interested in are:\n",
    "\n",
    "- `trip_distance`, at column index 7\n",
    "- `trip_length`, at column index 8\n",
    "- `total_amount`, at column index 13\n",
    "\n",
    "Instructions:\n",
    "\n",
    "The `trip_mph` ndarray has been provided for you.\n",
    "\n",
    "- Create a new ndarray, `cleaned_taxi`, containing only rows for which the values of `trip_mph` are less than 100.\n",
    "- Calculate the mean of the `trip_distance` column of `cleaned_taxi`. Assign the result to `mean_distance`.\n",
    "- Calculate the mean of the `trip_length` column of `cleaned_taxi`. Assign the result to `mean_length`.\n",
    "- Calculate the mean of the `total_amount` column of `cleaned_taxi`. Assign the result to `mean_total_amount`.\n"
   ]
  },
  {
   "cell_type": "code",
   "execution_count": 34,
   "id": "781617d2",
   "metadata": {},
   "outputs": [
    {
     "data": {
      "text/plain": [
       "(2013,)"
      ]
     },
     "execution_count": 34,
     "metadata": {},
     "output_type": "execute_result"
    }
   ],
   "source": [
    "trip_mph = taxi[:, 7] / (taxi[:, 8] / 3600)\n",
    "trip_mph.shape"
   ]
  },
  {
   "cell_type": "code",
   "execution_count": 35,
   "id": "0a11cefe",
   "metadata": {},
   "outputs": [
    {
     "data": {
      "text/plain": [
       "array([37.11340206, 38.58157895, 31.27222982, ..., 22.29907867,\n",
       "       42.41551247, 36.90473407])"
      ]
     },
     "execution_count": 35,
     "metadata": {},
     "output_type": "execute_result"
    }
   ],
   "source": [
    "trip_mph"
   ]
  },
  {
   "cell_type": "code",
   "execution_count": 36,
   "id": "c3c67be0",
   "metadata": {},
   "outputs": [
    {
     "data": {
      "text/plain": [
       "(9, 15)"
      ]
     },
     "execution_count": 36,
     "metadata": {},
     "output_type": "execute_result"
    }
   ],
   "source": [
    "cleaned_taxi = taxi[trip_mph > 100]\n",
    "cleaned_taxi.shape"
   ]
  },
  {
   "cell_type": "code",
   "execution_count": 37,
   "id": "1f64cd5c",
   "metadata": {},
   "outputs": [
    {
     "data": {
      "text/plain": [
       "array([[2.0160e+03, 1.0000e+00, 1.0000e+00, 5.0000e+00, 4.0000e+00,\n",
       "        3.0000e+00, 3.0000e+00, 5.4000e+00, 7.4000e+01, 8.0000e+01,\n",
       "        3.0000e-01, 0.0000e+00, 2.4050e+01, 1.0435e+02, 1.0000e+00],\n",
       "       [2.0160e+03, 1.0000e+00, 4.0000e+00, 1.0000e+00, 4.0000e+00,\n",
       "        2.0000e+00, 2.0000e+00, 1.6900e+01, 3.3000e+01, 6.5000e+01,\n",
       "        3.0000e-01, 0.0000e+00, 1.3050e+01, 7.8350e+01, 1.0000e+00]])"
      ]
     },
     "execution_count": 37,
     "metadata": {},
     "output_type": "execute_result"
    }
   ],
   "source": [
    "cleaned_taxi[:2] #show the first 2 rows"
   ]
  },
  {
   "cell_type": "code",
   "execution_count": 38,
   "id": "a440c7ec",
   "metadata": {},
   "outputs": [],
   "source": [
    "# Calculate the mean of the trip_distance column of cleaned_taxi. Assign the result to mean_distance.\n",
    "# Calculate the mean of the trip_length column of cleaned_taxi. Assign the result to mean_length.\n",
    "# Calculate the mean of the total_amount column of cleaned_taxi. Assign the result to mean_total_amount.\n",
    "\n",
    "mean_distance = cleaned_taxi[:, 7].mean()\n",
    "mean_length = cleaned_taxi[:, 8].mean()\n",
    "mean_total_amount = cleaned_taxi[:, 13].mean()"
   ]
  },
  {
   "cell_type": "code",
   "execution_count": 39,
   "id": "2c596035",
   "metadata": {},
   "outputs": [
    {
     "data": {
      "text/plain": [
       "17.844444444444445"
      ]
     },
     "execution_count": 39,
     "metadata": {},
     "output_type": "execute_result"
    }
   ],
   "source": [
    "mean_distance"
   ]
  },
  {
   "cell_type": "code",
   "execution_count": 40,
   "id": "490cf0ce",
   "metadata": {},
   "outputs": [
    {
     "data": {
      "text/plain": [
       "13.555555555555555"
      ]
     },
     "execution_count": 40,
     "metadata": {},
     "output_type": "execute_result"
    }
   ],
   "source": [
    "mean_length"
   ]
  },
  {
   "cell_type": "code",
   "execution_count": 41,
   "id": "da470450",
   "metadata": {},
   "outputs": [
    {
     "data": {
      "text/plain": [
       "43.31666666666666"
      ]
     },
     "execution_count": 41,
     "metadata": {},
     "output_type": "execute_result"
    }
   ],
   "source": [
    "mean_total_amount"
   ]
  },
  {
   "cell_type": "code",
   "execution_count": null,
   "id": "20382f19",
   "metadata": {},
   "outputs": [],
   "source": []
  }
 ],
 "metadata": {
  "kernelspec": {
   "display_name": "Python 3",
   "language": "python",
   "name": "python3"
  },
  "language_info": {
   "codemirror_mode": {
    "name": "ipython",
    "version": 3
   },
   "file_extension": ".py",
   "mimetype": "text/x-python",
   "name": "python",
   "nbconvert_exporter": "python",
   "pygments_lexer": "ipython3",
   "version": "3.8.8"
  }
 },
 "nbformat": 4,
 "nbformat_minor": 5
}
