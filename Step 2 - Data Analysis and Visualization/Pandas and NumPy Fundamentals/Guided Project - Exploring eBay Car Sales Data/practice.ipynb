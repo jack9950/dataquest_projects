{
 "cells": [
  {
   "cell_type": "code",
   "execution_count": 1,
   "id": "8b52e7cd",
   "metadata": {},
   "outputs": [],
   "source": [
    "import pandas as pd\n",
    "import numpy as np"
   ]
  },
  {
   "cell_type": "code",
   "execution_count": 2,
   "id": "fad059cb",
   "metadata": {},
   "outputs": [],
   "source": [
    "arrays = [np.array(['qux', 'qux', 'foo', 'foo',\n",
    "\n",
    "                    'baz', 'baz', 'bar', 'bar']),\n",
    "\n",
    "          np.array(['two', 'one', 'two', 'one',\n",
    "\n",
    "                    'two', 'one', 'two', 'one'])]"
   ]
  },
  {
   "cell_type": "code",
   "execution_count": 3,
   "id": "4c6f54a3",
   "metadata": {},
   "outputs": [
    {
     "data": {
      "text/plain": [
       "[array(['qux', 'qux', 'foo', 'foo', 'baz', 'baz', 'bar', 'bar'],\n",
       "       dtype='<U3'),\n",
       " array(['two', 'one', 'two', 'one', 'two', 'one', 'two', 'one'],\n",
       "       dtype='<U3')]"
      ]
     },
     "execution_count": 3,
     "metadata": {},
     "output_type": "execute_result"
    }
   ],
   "source": [
    "arrays"
   ]
  },
  {
   "cell_type": "code",
   "execution_count": 4,
   "id": "2c64628a",
   "metadata": {},
   "outputs": [],
   "source": [
    "s = pd.Series([1, 2, 3, 4, 5, 6, 7, 8], index=arrays)"
   ]
  },
  {
   "cell_type": "code",
   "execution_count": 5,
   "id": "94ca58f8",
   "metadata": {},
   "outputs": [
    {
     "data": {
      "text/plain": [
       "qux  two    1\n",
       "     one    2\n",
       "foo  two    3\n",
       "     one    4\n",
       "baz  two    5\n",
       "     one    6\n",
       "bar  two    7\n",
       "     one    8\n",
       "dtype: int64"
      ]
     },
     "execution_count": 5,
     "metadata": {},
     "output_type": "execute_result"
    }
   ],
   "source": [
    "s"
   ]
  },
  {
   "cell_type": "code",
   "execution_count": 6,
   "id": "e5fc5ebb",
   "metadata": {},
   "outputs": [
    {
     "data": {
      "text/plain": [
       "bar  one    8\n",
       "     two    7\n",
       "baz  one    6\n",
       "     two    5\n",
       "foo  one    4\n",
       "     two    3\n",
       "qux  one    2\n",
       "     two    1\n",
       "dtype: int64"
      ]
     },
     "execution_count": 6,
     "metadata": {},
     "output_type": "execute_result"
    }
   ],
   "source": [
    "s.sort_index()"
   ]
  },
  {
   "cell_type": "code",
   "execution_count": 7,
   "id": "af9c76ff",
   "metadata": {},
   "outputs": [
    {
     "data": {
      "text/plain": [
       "bar  one    8\n",
       "baz  one    6\n",
       "foo  one    4\n",
       "qux  one    2\n",
       "bar  two    7\n",
       "baz  two    5\n",
       "foo  two    3\n",
       "qux  two    1\n",
       "dtype: int64"
      ]
     },
     "execution_count": 7,
     "metadata": {},
     "output_type": "execute_result"
    }
   ],
   "source": [
    "s.sort_index(level=1)"
   ]
  },
  {
   "cell_type": "code",
   "execution_count": 10,
   "id": "0652cedd",
   "metadata": {},
   "outputs": [
    {
     "data": {
      "text/plain": [
       "qux  one    2\n",
       "foo  one    4\n",
       "baz  one    6\n",
       "bar  one    8\n",
       "qux  two    1\n",
       "foo  two    3\n",
       "baz  two    5\n",
       "bar  two    7\n",
       "dtype: int64"
      ]
     },
     "execution_count": 10,
     "metadata": {},
     "output_type": "execute_result"
    }
   ],
   "source": [
    "s.sort_index(level=1, sort_remaining=False)"
   ]
  },
  {
   "cell_type": "code",
   "execution_count": null,
   "id": "efa542b5",
   "metadata": {},
   "outputs": [],
   "source": []
  }
 ],
 "metadata": {
  "kernelspec": {
   "display_name": "Python 3",
   "language": "python",
   "name": "python3"
  },
  "language_info": {
   "codemirror_mode": {
    "name": "ipython",
    "version": 3
   },
   "file_extension": ".py",
   "mimetype": "text/x-python",
   "name": "python",
   "nbconvert_exporter": "python",
   "pygments_lexer": "ipython3",
   "version": "3.8.8"
  }
 },
 "nbformat": 4,
 "nbformat_minor": 5
}
