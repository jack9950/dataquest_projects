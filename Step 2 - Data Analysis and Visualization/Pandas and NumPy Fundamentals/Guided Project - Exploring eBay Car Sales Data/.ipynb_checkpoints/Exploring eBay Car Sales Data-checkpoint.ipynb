{
 "cells": [
  {
   "cell_type": "markdown",
   "id": "5c23b7e8",
   "metadata": {},
   "source": [
    "# Exploring eBay Car Sales Data "
   ]
  },
  {
   "cell_type": "markdown",
   "id": "8468566b",
   "metadata": {},
   "source": [
    "In this guided project, we'll work with a dataset of used cars from eBay Kleinanzeigen, a classifieds section of the German eBay website.\n",
    "\n",
    "The dataset was originally scraped and uploaded to Kaggle by user orgesleka.\n",
    "The original dataset isn't available on Kaggle anymore, but you can find it [here](https://data.world/data-society/used-cars-data).\n",
    "\n",
    "We've made a few modifications from the original dataset:\n",
    "\n",
    "- We sampled 50,000 data points from the full dataset, to ensure your code runs quickly in our hosted environment\n",
    "- We dirtied the dataset a bit to more closely resemble what you would expect from a scraped dataset (the version uploaded to Kaggle was cleaned to be easier to work with)\n",
    "\n",
    "The data dictionary provided with data is as follows:\n",
    "\n",
    "- `dateCrawled` - When this ad was first crawled. All field-values are taken from this date.\n",
    "- `name` - Name of the car.\n",
    "- `seller` - Whether the seller is private or a dealer.\n",
    "- `offerType` - The type of listing\n",
    "- `price` - The price on the ad to sell the car.\n",
    "- `abtest` - Whether the listing is included in an A/B test.\n",
    "- `vehicleType` - The vehicle Type.\n",
    "- `yearOfRegistration` - The year in which the car was first registered.\n",
    "- `gearbox` - The transmission type.\n",
    "- `powerPS` - The power of the car in PS.\n",
    "- `model` - The car model name.\n",
    "- `kilometer` - How many kilometers the car has driven.\n",
    "- `monthOfRegistration` - The month in which the car was first registered.\n",
    "- `fuelType` - What type of fuel the car uses.\n",
    "- `brand` - The brand of the car.\n",
    "- `notRepairedDamage` - If the car has a damage which is not yet repaired.\n",
    "- `dateCreated` - The date on which the eBay listing was created.\n",
    "- `nrOfPictures` - The number of pictures in the ad.\n",
    "- `postalCode` - The postal code for the location of the vehicle.\n",
    "- `lastSeenOnline` - When the crawler saw this ad last online.\n",
    "\n",
    "The aim of this project is to clean the data and analyze the included used car listings. You'll also become familiar with some of the unique benefits jupyter notebook provides for pandas.\n",
    "\n",
    "Let's start by importing the libraries we need and reading the dataset into pandas.\n",
    "\n",
    "- Start by writing a paragraph in a markdown cell introducing the project and the dataset.\n",
    "- Import the pandas and NumPy libraries\n",
    "- Read the autos.csv CSV file into pandas, and assign it to the variable name autos.\n",
    "    - Try without specifying any encoding (which will default to UTF-8)\n",
    "    - If you get an encoding error, try the next two most popular encodings (Latin-1 and Windows-1252) until you are able to read the file without error.\n",
    "- Create a new cell with just the variable autos and run this cell.\n",
    "    - A neat feature of jupyter notebook is its ability to render the first few and last few values of any pandas object.\n",
    "- Use the DataFrame.info() and DataFrame.head() methods to print information about the autos dataframe, as well as the first few rows.\n",
    "    - Write a markdown cell briefly describing your observations."
   ]
  },
  {
   "cell_type": "code",
   "execution_count": 1,
   "id": "8ba44e88",
   "metadata": {},
   "outputs": [],
   "source": [
    "import pandas as pd\n",
    "import numpy as np"
   ]
  },
  {
   "cell_type": "code",
   "execution_count": 2,
   "id": "54f1416d",
   "metadata": {},
   "outputs": [],
   "source": [
    "autos = pd.read_csv('autos.csv')"
   ]
  },
  {
   "cell_type": "code",
   "execution_count": 3,
   "id": "4e6a065c",
   "metadata": {},
   "outputs": [
    {
     "data": {
      "text/html": [
       "<div>\n",
       "<style scoped>\n",
       "    .dataframe tbody tr th:only-of-type {\n",
       "        vertical-align: middle;\n",
       "    }\n",
       "\n",
       "    .dataframe tbody tr th {\n",
       "        vertical-align: top;\n",
       "    }\n",
       "\n",
       "    .dataframe thead th {\n",
       "        text-align: right;\n",
       "    }\n",
       "</style>\n",
       "<table border=\"1\" class=\"dataframe\">\n",
       "  <thead>\n",
       "    <tr style=\"text-align: right;\">\n",
       "      <th></th>\n",
       "      <th>dateCrawled</th>\n",
       "      <th>name</th>\n",
       "      <th>seller</th>\n",
       "      <th>offerType</th>\n",
       "      <th>price</th>\n",
       "      <th>abtest</th>\n",
       "      <th>vehicleType</th>\n",
       "      <th>yearOfRegistration</th>\n",
       "      <th>gearbox</th>\n",
       "      <th>powerPS</th>\n",
       "      <th>model</th>\n",
       "      <th>odometer</th>\n",
       "      <th>monthOfRegistration</th>\n",
       "      <th>fuelType</th>\n",
       "      <th>brand</th>\n",
       "      <th>notRepairedDamage</th>\n",
       "      <th>dateCreated</th>\n",
       "      <th>nrOfPictures</th>\n",
       "      <th>postalCode</th>\n",
       "      <th>lastSeen</th>\n",
       "    </tr>\n",
       "  </thead>\n",
       "  <tbody>\n",
       "    <tr>\n",
       "      <th>0</th>\n",
       "      <td>2016-03-26 17:47:46</td>\n",
       "      <td>Peugeot_807_160_NAVTECH_ON_BOARD</td>\n",
       "      <td>privat</td>\n",
       "      <td>Angebot</td>\n",
       "      <td>$5,000</td>\n",
       "      <td>control</td>\n",
       "      <td>bus</td>\n",
       "      <td>2004</td>\n",
       "      <td>manuell</td>\n",
       "      <td>158</td>\n",
       "      <td>andere</td>\n",
       "      <td>150,000km</td>\n",
       "      <td>3</td>\n",
       "      <td>lpg</td>\n",
       "      <td>peugeot</td>\n",
       "      <td>nein</td>\n",
       "      <td>2016-03-26 00:00:00</td>\n",
       "      <td>0</td>\n",
       "      <td>79588</td>\n",
       "      <td>2016-04-06 06:45:54</td>\n",
       "    </tr>\n",
       "    <tr>\n",
       "      <th>1</th>\n",
       "      <td>2016-04-04 13:38:56</td>\n",
       "      <td>BMW_740i_4_4_Liter_HAMANN_UMBAU_Mega_Optik</td>\n",
       "      <td>privat</td>\n",
       "      <td>Angebot</td>\n",
       "      <td>$8,500</td>\n",
       "      <td>control</td>\n",
       "      <td>limousine</td>\n",
       "      <td>1997</td>\n",
       "      <td>automatik</td>\n",
       "      <td>286</td>\n",
       "      <td>7er</td>\n",
       "      <td>150,000km</td>\n",
       "      <td>6</td>\n",
       "      <td>benzin</td>\n",
       "      <td>bmw</td>\n",
       "      <td>nein</td>\n",
       "      <td>2016-04-04 00:00:00</td>\n",
       "      <td>0</td>\n",
       "      <td>71034</td>\n",
       "      <td>2016-04-06 14:45:08</td>\n",
       "    </tr>\n",
       "    <tr>\n",
       "      <th>2</th>\n",
       "      <td>2016-03-26 18:57:24</td>\n",
       "      <td>Volkswagen_Golf_1.6_United</td>\n",
       "      <td>privat</td>\n",
       "      <td>Angebot</td>\n",
       "      <td>$8,990</td>\n",
       "      <td>test</td>\n",
       "      <td>limousine</td>\n",
       "      <td>2009</td>\n",
       "      <td>manuell</td>\n",
       "      <td>102</td>\n",
       "      <td>golf</td>\n",
       "      <td>70,000km</td>\n",
       "      <td>7</td>\n",
       "      <td>benzin</td>\n",
       "      <td>volkswagen</td>\n",
       "      <td>nein</td>\n",
       "      <td>2016-03-26 00:00:00</td>\n",
       "      <td>0</td>\n",
       "      <td>35394</td>\n",
       "      <td>2016-04-06 20:15:37</td>\n",
       "    </tr>\n",
       "    <tr>\n",
       "      <th>3</th>\n",
       "      <td>2016-03-12 16:58:10</td>\n",
       "      <td>Smart_smart_fortwo_coupe_softouch/F1/Klima/Pan...</td>\n",
       "      <td>privat</td>\n",
       "      <td>Angebot</td>\n",
       "      <td>$4,350</td>\n",
       "      <td>control</td>\n",
       "      <td>kleinwagen</td>\n",
       "      <td>2007</td>\n",
       "      <td>automatik</td>\n",
       "      <td>71</td>\n",
       "      <td>fortwo</td>\n",
       "      <td>70,000km</td>\n",
       "      <td>6</td>\n",
       "      <td>benzin</td>\n",
       "      <td>smart</td>\n",
       "      <td>nein</td>\n",
       "      <td>2016-03-12 00:00:00</td>\n",
       "      <td>0</td>\n",
       "      <td>33729</td>\n",
       "      <td>2016-03-15 03:16:28</td>\n",
       "    </tr>\n",
       "    <tr>\n",
       "      <th>4</th>\n",
       "      <td>2016-04-01 14:38:50</td>\n",
       "      <td>Ford_Focus_1_6_Benzin_T�V_neu_ist_sehr_gepfleg...</td>\n",
       "      <td>privat</td>\n",
       "      <td>Angebot</td>\n",
       "      <td>$1,350</td>\n",
       "      <td>test</td>\n",
       "      <td>kombi</td>\n",
       "      <td>2003</td>\n",
       "      <td>manuell</td>\n",
       "      <td>0</td>\n",
       "      <td>focus</td>\n",
       "      <td>150,000km</td>\n",
       "      <td>7</td>\n",
       "      <td>benzin</td>\n",
       "      <td>ford</td>\n",
       "      <td>nein</td>\n",
       "      <td>2016-04-01 00:00:00</td>\n",
       "      <td>0</td>\n",
       "      <td>39218</td>\n",
       "      <td>2016-04-01 14:38:50</td>\n",
       "    </tr>\n",
       "  </tbody>\n",
       "</table>\n",
       "</div>"
      ],
      "text/plain": [
       "           dateCrawled                                               name  \\\n",
       "0  2016-03-26 17:47:46                   Peugeot_807_160_NAVTECH_ON_BOARD   \n",
       "1  2016-04-04 13:38:56         BMW_740i_4_4_Liter_HAMANN_UMBAU_Mega_Optik   \n",
       "2  2016-03-26 18:57:24                         Volkswagen_Golf_1.6_United   \n",
       "3  2016-03-12 16:58:10  Smart_smart_fortwo_coupe_softouch/F1/Klima/Pan...   \n",
       "4  2016-04-01 14:38:50  Ford_Focus_1_6_Benzin_T�V_neu_ist_sehr_gepfleg...   \n",
       "\n",
       "   seller offerType   price   abtest vehicleType  yearOfRegistration  \\\n",
       "0  privat   Angebot  $5,000  control         bus                2004   \n",
       "1  privat   Angebot  $8,500  control   limousine                1997   \n",
       "2  privat   Angebot  $8,990     test   limousine                2009   \n",
       "3  privat   Angebot  $4,350  control  kleinwagen                2007   \n",
       "4  privat   Angebot  $1,350     test       kombi                2003   \n",
       "\n",
       "     gearbox  powerPS   model   odometer  monthOfRegistration fuelType  \\\n",
       "0    manuell      158  andere  150,000km                    3      lpg   \n",
       "1  automatik      286     7er  150,000km                    6   benzin   \n",
       "2    manuell      102    golf   70,000km                    7   benzin   \n",
       "3  automatik       71  fortwo   70,000km                    6   benzin   \n",
       "4    manuell        0   focus  150,000km                    7   benzin   \n",
       "\n",
       "        brand notRepairedDamage          dateCreated  nrOfPictures  \\\n",
       "0     peugeot              nein  2016-03-26 00:00:00             0   \n",
       "1         bmw              nein  2016-04-04 00:00:00             0   \n",
       "2  volkswagen              nein  2016-03-26 00:00:00             0   \n",
       "3       smart              nein  2016-03-12 00:00:00             0   \n",
       "4        ford              nein  2016-04-01 00:00:00             0   \n",
       "\n",
       "   postalCode             lastSeen  \n",
       "0       79588  2016-04-06 06:45:54  \n",
       "1       71034  2016-04-06 14:45:08  \n",
       "2       35394  2016-04-06 20:15:37  \n",
       "3       33729  2016-03-15 03:16:28  \n",
       "4       39218  2016-04-01 14:38:50  "
      ]
     },
     "execution_count": 3,
     "metadata": {},
     "output_type": "execute_result"
    }
   ],
   "source": [
    "autos.head()"
   ]
  },
  {
   "cell_type": "code",
   "execution_count": 4,
   "id": "5edac75e",
   "metadata": {},
   "outputs": [
    {
     "name": "stdout",
     "output_type": "stream",
     "text": [
      "<class 'pandas.core.frame.DataFrame'>\n",
      "RangeIndex: 50000 entries, 0 to 49999\n",
      "Data columns (total 20 columns):\n",
      " #   Column               Non-Null Count  Dtype \n",
      "---  ------               --------------  ----- \n",
      " 0   dateCrawled          50000 non-null  object\n",
      " 1   name                 50000 non-null  object\n",
      " 2   seller               50000 non-null  object\n",
      " 3   offerType            50000 non-null  object\n",
      " 4   price                50000 non-null  object\n",
      " 5   abtest               50000 non-null  object\n",
      " 6   vehicleType          44905 non-null  object\n",
      " 7   yearOfRegistration   50000 non-null  int64 \n",
      " 8   gearbox              47320 non-null  object\n",
      " 9   powerPS              50000 non-null  int64 \n",
      " 10  model                47242 non-null  object\n",
      " 11  odometer             50000 non-null  object\n",
      " 12  monthOfRegistration  50000 non-null  int64 \n",
      " 13  fuelType             45518 non-null  object\n",
      " 14  brand                50000 non-null  object\n",
      " 15  notRepairedDamage    40171 non-null  object\n",
      " 16  dateCreated          50000 non-null  object\n",
      " 17  nrOfPictures         50000 non-null  int64 \n",
      " 18  postalCode           50000 non-null  int64 \n",
      " 19  lastSeen             50000 non-null  object\n",
      "dtypes: int64(5), object(15)\n",
      "memory usage: 7.6+ MB\n"
     ]
    }
   ],
   "source": [
    "autos.info()"
   ]
  },
  {
   "cell_type": "markdown",
   "id": "5c48d8de",
   "metadata": {},
   "source": [
    "From the work we did in the last screen, we can make the following observations:\n",
    "\n",
    "- The dataset contains 20 columns, most of which are strings.\n",
    "- Some columns have null values, but none have more than ~20% null values.\n",
    "- The column names use [camelcase](https://en.wikipedia.org/wiki/Camel_case) instead of Python's preferred [snakecase](https://en.wikipedia.org/wiki/Snake_case), which means we can't just replace spaces with underscores.\n",
    "\n",
    "Let's convert the column names from camelcase to snakecase and reword some of the column names based on the data dictionary to be more descriptive.\n",
    "\n",
    "- Use the DataFrame.columns attribute to print an array of the existing column names.\n",
    "- Copy that array and make the following edits to columns names:\n",
    "  - yearOfRegistration to registration_year\n",
    "  - monthOfRegistration to registration_month\n",
    "  - notRepairedDamage to unrepaired_damage\n",
    "  - dateCreated to ad_created\n",
    "  - The rest of the column names from camelcase to snakecase.\n",
    "- Assign the modified column names back to the DataFrame.columns attribute.\n",
    "- Use DataFrame.head() to look at the current state of the autos dataframe.\n",
    "- Write a markdown cell explaining the changes you made and why."
   ]
  },
  {
   "cell_type": "markdown",
   "id": "0d66943d",
   "metadata": {},
   "source": [
    "## Making edits to the column names"
   ]
  },
  {
   "cell_type": "code",
   "execution_count": 5,
   "id": "27b379df",
   "metadata": {},
   "outputs": [
    {
     "data": {
      "text/plain": [
       "Index(['dateCrawled', 'name', 'seller', 'offerType', 'price', 'abtest',\n",
       "       'vehicleType', 'yearOfRegistration', 'gearbox', 'powerPS', 'model',\n",
       "       'odometer', 'monthOfRegistration', 'fuelType', 'brand',\n",
       "       'notRepairedDamage', 'dateCreated', 'nrOfPictures', 'postalCode',\n",
       "       'lastSeen'],\n",
       "      dtype='object')"
      ]
     },
     "execution_count": 5,
     "metadata": {},
     "output_type": "execute_result"
    }
   ],
   "source": [
    "autos.columns"
   ]
  },
  {
   "cell_type": "code",
   "execution_count": 6,
   "id": "737b8766",
   "metadata": {},
   "outputs": [],
   "source": [
    "autos.columns = ['date_crawled', 'name', 'seller', 'offer_type', 'price', 'abtest',\n",
    "       'vehicle_type', 'registration_year', 'gearbox', 'power_ps', 'model',\n",
    "       'odometer', 'registration_month', 'fuel_type', 'brand',\n",
    "       'unrepaired_damage', 'ad_created', 'nr_of_pictures', 'postal_code',\n",
    "       'last_seen']"
   ]
  },
  {
   "cell_type": "code",
   "execution_count": 7,
   "id": "c06cc78c",
   "metadata": {},
   "outputs": [
    {
     "data": {
      "text/plain": [
       "Index(['date_crawled', 'name', 'seller', 'offer_type', 'price', 'abtest',\n",
       "       'vehicle_type', 'registration_year', 'gearbox', 'power_ps', 'model',\n",
       "       'odometer', 'registration_month', 'fuel_type', 'brand',\n",
       "       'unrepaired_damage', 'ad_created', 'nr_of_pictures', 'postal_code',\n",
       "       'last_seen'],\n",
       "      dtype='object')"
      ]
     },
     "execution_count": 7,
     "metadata": {},
     "output_type": "execute_result"
    }
   ],
   "source": [
    "autos.columns"
   ]
  },
  {
   "cell_type": "code",
   "execution_count": 8,
   "id": "a14dcdad",
   "metadata": {},
   "outputs": [
    {
     "data": {
      "text/html": [
       "<div>\n",
       "<style scoped>\n",
       "    .dataframe tbody tr th:only-of-type {\n",
       "        vertical-align: middle;\n",
       "    }\n",
       "\n",
       "    .dataframe tbody tr th {\n",
       "        vertical-align: top;\n",
       "    }\n",
       "\n",
       "    .dataframe thead th {\n",
       "        text-align: right;\n",
       "    }\n",
       "</style>\n",
       "<table border=\"1\" class=\"dataframe\">\n",
       "  <thead>\n",
       "    <tr style=\"text-align: right;\">\n",
       "      <th></th>\n",
       "      <th>date_crawled</th>\n",
       "      <th>name</th>\n",
       "      <th>seller</th>\n",
       "      <th>offer_type</th>\n",
       "      <th>price</th>\n",
       "      <th>abtest</th>\n",
       "      <th>vehicle_type</th>\n",
       "      <th>registration_year</th>\n",
       "      <th>gearbox</th>\n",
       "      <th>power_ps</th>\n",
       "      <th>model</th>\n",
       "      <th>odometer</th>\n",
       "      <th>registration_month</th>\n",
       "      <th>fuel_type</th>\n",
       "      <th>brand</th>\n",
       "      <th>unrepaired_damage</th>\n",
       "      <th>ad_created</th>\n",
       "      <th>nr_of_pictures</th>\n",
       "      <th>postal_code</th>\n",
       "      <th>last_seen</th>\n",
       "    </tr>\n",
       "  </thead>\n",
       "  <tbody>\n",
       "    <tr>\n",
       "      <th>0</th>\n",
       "      <td>2016-03-26 17:47:46</td>\n",
       "      <td>Peugeot_807_160_NAVTECH_ON_BOARD</td>\n",
       "      <td>privat</td>\n",
       "      <td>Angebot</td>\n",
       "      <td>$5,000</td>\n",
       "      <td>control</td>\n",
       "      <td>bus</td>\n",
       "      <td>2004</td>\n",
       "      <td>manuell</td>\n",
       "      <td>158</td>\n",
       "      <td>andere</td>\n",
       "      <td>150,000km</td>\n",
       "      <td>3</td>\n",
       "      <td>lpg</td>\n",
       "      <td>peugeot</td>\n",
       "      <td>nein</td>\n",
       "      <td>2016-03-26 00:00:00</td>\n",
       "      <td>0</td>\n",
       "      <td>79588</td>\n",
       "      <td>2016-04-06 06:45:54</td>\n",
       "    </tr>\n",
       "    <tr>\n",
       "      <th>1</th>\n",
       "      <td>2016-04-04 13:38:56</td>\n",
       "      <td>BMW_740i_4_4_Liter_HAMANN_UMBAU_Mega_Optik</td>\n",
       "      <td>privat</td>\n",
       "      <td>Angebot</td>\n",
       "      <td>$8,500</td>\n",
       "      <td>control</td>\n",
       "      <td>limousine</td>\n",
       "      <td>1997</td>\n",
       "      <td>automatik</td>\n",
       "      <td>286</td>\n",
       "      <td>7er</td>\n",
       "      <td>150,000km</td>\n",
       "      <td>6</td>\n",
       "      <td>benzin</td>\n",
       "      <td>bmw</td>\n",
       "      <td>nein</td>\n",
       "      <td>2016-04-04 00:00:00</td>\n",
       "      <td>0</td>\n",
       "      <td>71034</td>\n",
       "      <td>2016-04-06 14:45:08</td>\n",
       "    </tr>\n",
       "    <tr>\n",
       "      <th>2</th>\n",
       "      <td>2016-03-26 18:57:24</td>\n",
       "      <td>Volkswagen_Golf_1.6_United</td>\n",
       "      <td>privat</td>\n",
       "      <td>Angebot</td>\n",
       "      <td>$8,990</td>\n",
       "      <td>test</td>\n",
       "      <td>limousine</td>\n",
       "      <td>2009</td>\n",
       "      <td>manuell</td>\n",
       "      <td>102</td>\n",
       "      <td>golf</td>\n",
       "      <td>70,000km</td>\n",
       "      <td>7</td>\n",
       "      <td>benzin</td>\n",
       "      <td>volkswagen</td>\n",
       "      <td>nein</td>\n",
       "      <td>2016-03-26 00:00:00</td>\n",
       "      <td>0</td>\n",
       "      <td>35394</td>\n",
       "      <td>2016-04-06 20:15:37</td>\n",
       "    </tr>\n",
       "    <tr>\n",
       "      <th>3</th>\n",
       "      <td>2016-03-12 16:58:10</td>\n",
       "      <td>Smart_smart_fortwo_coupe_softouch/F1/Klima/Pan...</td>\n",
       "      <td>privat</td>\n",
       "      <td>Angebot</td>\n",
       "      <td>$4,350</td>\n",
       "      <td>control</td>\n",
       "      <td>kleinwagen</td>\n",
       "      <td>2007</td>\n",
       "      <td>automatik</td>\n",
       "      <td>71</td>\n",
       "      <td>fortwo</td>\n",
       "      <td>70,000km</td>\n",
       "      <td>6</td>\n",
       "      <td>benzin</td>\n",
       "      <td>smart</td>\n",
       "      <td>nein</td>\n",
       "      <td>2016-03-12 00:00:00</td>\n",
       "      <td>0</td>\n",
       "      <td>33729</td>\n",
       "      <td>2016-03-15 03:16:28</td>\n",
       "    </tr>\n",
       "    <tr>\n",
       "      <th>4</th>\n",
       "      <td>2016-04-01 14:38:50</td>\n",
       "      <td>Ford_Focus_1_6_Benzin_T�V_neu_ist_sehr_gepfleg...</td>\n",
       "      <td>privat</td>\n",
       "      <td>Angebot</td>\n",
       "      <td>$1,350</td>\n",
       "      <td>test</td>\n",
       "      <td>kombi</td>\n",
       "      <td>2003</td>\n",
       "      <td>manuell</td>\n",
       "      <td>0</td>\n",
       "      <td>focus</td>\n",
       "      <td>150,000km</td>\n",
       "      <td>7</td>\n",
       "      <td>benzin</td>\n",
       "      <td>ford</td>\n",
       "      <td>nein</td>\n",
       "      <td>2016-04-01 00:00:00</td>\n",
       "      <td>0</td>\n",
       "      <td>39218</td>\n",
       "      <td>2016-04-01 14:38:50</td>\n",
       "    </tr>\n",
       "  </tbody>\n",
       "</table>\n",
       "</div>"
      ],
      "text/plain": [
       "          date_crawled                                               name  \\\n",
       "0  2016-03-26 17:47:46                   Peugeot_807_160_NAVTECH_ON_BOARD   \n",
       "1  2016-04-04 13:38:56         BMW_740i_4_4_Liter_HAMANN_UMBAU_Mega_Optik   \n",
       "2  2016-03-26 18:57:24                         Volkswagen_Golf_1.6_United   \n",
       "3  2016-03-12 16:58:10  Smart_smart_fortwo_coupe_softouch/F1/Klima/Pan...   \n",
       "4  2016-04-01 14:38:50  Ford_Focus_1_6_Benzin_T�V_neu_ist_sehr_gepfleg...   \n",
       "\n",
       "   seller offer_type   price   abtest vehicle_type  registration_year  \\\n",
       "0  privat    Angebot  $5,000  control          bus               2004   \n",
       "1  privat    Angebot  $8,500  control    limousine               1997   \n",
       "2  privat    Angebot  $8,990     test    limousine               2009   \n",
       "3  privat    Angebot  $4,350  control   kleinwagen               2007   \n",
       "4  privat    Angebot  $1,350     test        kombi               2003   \n",
       "\n",
       "     gearbox  power_ps   model   odometer  registration_month fuel_type  \\\n",
       "0    manuell       158  andere  150,000km                   3       lpg   \n",
       "1  automatik       286     7er  150,000km                   6    benzin   \n",
       "2    manuell       102    golf   70,000km                   7    benzin   \n",
       "3  automatik        71  fortwo   70,000km                   6    benzin   \n",
       "4    manuell         0   focus  150,000km                   7    benzin   \n",
       "\n",
       "        brand unrepaired_damage           ad_created  nr_of_pictures  \\\n",
       "0     peugeot              nein  2016-03-26 00:00:00               0   \n",
       "1         bmw              nein  2016-04-04 00:00:00               0   \n",
       "2  volkswagen              nein  2016-03-26 00:00:00               0   \n",
       "3       smart              nein  2016-03-12 00:00:00               0   \n",
       "4        ford              nein  2016-04-01 00:00:00               0   \n",
       "\n",
       "   postal_code            last_seen  \n",
       "0        79588  2016-04-06 06:45:54  \n",
       "1        71034  2016-04-06 14:45:08  \n",
       "2        35394  2016-04-06 20:15:37  \n",
       "3        33729  2016-03-15 03:16:28  \n",
       "4        39218  2016-04-01 14:38:50  "
      ]
     },
     "execution_count": 8,
     "metadata": {},
     "output_type": "execute_result"
    }
   ],
   "source": [
    "autos.head()"
   ]
  },
  {
   "cell_type": "markdown",
   "id": "bdb093e2",
   "metadata": {},
   "source": [
    "Now let's do some basic data exploration to determine what other cleaning tasks need to be done. Initially we will look for:\n",
    "\n",
    "- Text columns where all or almost all values are the same. These can often be dropped as they don't have useful information for analysis.\n",
    "- Examples of numeric data stored as text which can be cleaned and converted.\n",
    "\n",
    "The following methods are helpful for exploring the data:\n",
    "\n",
    "- [DataFrame.describe()](https://pandas.pydata.org/pandas-docs/stable/reference/api/pandas.DataFrame.describe.html) (with include='all' to get both categorical and numeric columns)\n",
    "- [Series.value_counts()](https://pandas.pydata.org/pandas-docs/stable/reference/api/pandas.Series.value_counts.html) and [Series.head()](https://pandas.pydata.org/pandas-docs/stable/reference/api/pandas.Series.head.html) if any columns need a closer look.\n"
   ]
  },
  {
   "cell_type": "markdown",
   "id": "80cc94a3",
   "metadata": {},
   "source": [
    "## Data exploration to determine what cleaning tasks need to be done"
   ]
  },
  {
   "cell_type": "code",
   "execution_count": 9,
   "id": "5b7cf2fd",
   "metadata": {},
   "outputs": [
    {
     "data": {
      "text/html": [
       "<div>\n",
       "<style scoped>\n",
       "    .dataframe tbody tr th:only-of-type {\n",
       "        vertical-align: middle;\n",
       "    }\n",
       "\n",
       "    .dataframe tbody tr th {\n",
       "        vertical-align: top;\n",
       "    }\n",
       "\n",
       "    .dataframe thead th {\n",
       "        text-align: right;\n",
       "    }\n",
       "</style>\n",
       "<table border=\"1\" class=\"dataframe\">\n",
       "  <thead>\n",
       "    <tr style=\"text-align: right;\">\n",
       "      <th></th>\n",
       "      <th>date_crawled</th>\n",
       "      <th>name</th>\n",
       "      <th>seller</th>\n",
       "      <th>offer_type</th>\n",
       "      <th>price</th>\n",
       "      <th>abtest</th>\n",
       "      <th>vehicle_type</th>\n",
       "      <th>registration_year</th>\n",
       "      <th>gearbox</th>\n",
       "      <th>power_ps</th>\n",
       "      <th>model</th>\n",
       "      <th>odometer</th>\n",
       "      <th>registration_month</th>\n",
       "      <th>fuel_type</th>\n",
       "      <th>brand</th>\n",
       "      <th>unrepaired_damage</th>\n",
       "      <th>ad_created</th>\n",
       "      <th>nr_of_pictures</th>\n",
       "      <th>postal_code</th>\n",
       "      <th>last_seen</th>\n",
       "    </tr>\n",
       "  </thead>\n",
       "  <tbody>\n",
       "    <tr>\n",
       "      <th>count</th>\n",
       "      <td>50000</td>\n",
       "      <td>50000</td>\n",
       "      <td>50000</td>\n",
       "      <td>50000</td>\n",
       "      <td>50000</td>\n",
       "      <td>50000</td>\n",
       "      <td>44905</td>\n",
       "      <td>50000.000000</td>\n",
       "      <td>47320</td>\n",
       "      <td>50000.000000</td>\n",
       "      <td>47242</td>\n",
       "      <td>50000</td>\n",
       "      <td>50000.000000</td>\n",
       "      <td>45518</td>\n",
       "      <td>50000</td>\n",
       "      <td>40171</td>\n",
       "      <td>50000</td>\n",
       "      <td>50000.0</td>\n",
       "      <td>50000.000000</td>\n",
       "      <td>50000</td>\n",
       "    </tr>\n",
       "    <tr>\n",
       "      <th>unique</th>\n",
       "      <td>48213</td>\n",
       "      <td>38754</td>\n",
       "      <td>2</td>\n",
       "      <td>2</td>\n",
       "      <td>2357</td>\n",
       "      <td>2</td>\n",
       "      <td>8</td>\n",
       "      <td>NaN</td>\n",
       "      <td>2</td>\n",
       "      <td>NaN</td>\n",
       "      <td>245</td>\n",
       "      <td>13</td>\n",
       "      <td>NaN</td>\n",
       "      <td>7</td>\n",
       "      <td>40</td>\n",
       "      <td>2</td>\n",
       "      <td>76</td>\n",
       "      <td>NaN</td>\n",
       "      <td>NaN</td>\n",
       "      <td>39481</td>\n",
       "    </tr>\n",
       "    <tr>\n",
       "      <th>top</th>\n",
       "      <td>2016-03-27 22:55:05</td>\n",
       "      <td>Ford_Fiesta</td>\n",
       "      <td>privat</td>\n",
       "      <td>Angebot</td>\n",
       "      <td>$0</td>\n",
       "      <td>test</td>\n",
       "      <td>limousine</td>\n",
       "      <td>NaN</td>\n",
       "      <td>manuell</td>\n",
       "      <td>NaN</td>\n",
       "      <td>golf</td>\n",
       "      <td>150,000km</td>\n",
       "      <td>NaN</td>\n",
       "      <td>benzin</td>\n",
       "      <td>volkswagen</td>\n",
       "      <td>nein</td>\n",
       "      <td>2016-04-03 00:00:00</td>\n",
       "      <td>NaN</td>\n",
       "      <td>NaN</td>\n",
       "      <td>2016-04-07 06:17:27</td>\n",
       "    </tr>\n",
       "    <tr>\n",
       "      <th>freq</th>\n",
       "      <td>3</td>\n",
       "      <td>78</td>\n",
       "      <td>49999</td>\n",
       "      <td>49999</td>\n",
       "      <td>1421</td>\n",
       "      <td>25756</td>\n",
       "      <td>12859</td>\n",
       "      <td>NaN</td>\n",
       "      <td>36993</td>\n",
       "      <td>NaN</td>\n",
       "      <td>4024</td>\n",
       "      <td>32424</td>\n",
       "      <td>NaN</td>\n",
       "      <td>30107</td>\n",
       "      <td>10687</td>\n",
       "      <td>35232</td>\n",
       "      <td>1946</td>\n",
       "      <td>NaN</td>\n",
       "      <td>NaN</td>\n",
       "      <td>8</td>\n",
       "    </tr>\n",
       "    <tr>\n",
       "      <th>mean</th>\n",
       "      <td>NaN</td>\n",
       "      <td>NaN</td>\n",
       "      <td>NaN</td>\n",
       "      <td>NaN</td>\n",
       "      <td>NaN</td>\n",
       "      <td>NaN</td>\n",
       "      <td>NaN</td>\n",
       "      <td>2005.073280</td>\n",
       "      <td>NaN</td>\n",
       "      <td>116.355920</td>\n",
       "      <td>NaN</td>\n",
       "      <td>NaN</td>\n",
       "      <td>5.723360</td>\n",
       "      <td>NaN</td>\n",
       "      <td>NaN</td>\n",
       "      <td>NaN</td>\n",
       "      <td>NaN</td>\n",
       "      <td>0.0</td>\n",
       "      <td>50813.627300</td>\n",
       "      <td>NaN</td>\n",
       "    </tr>\n",
       "    <tr>\n",
       "      <th>std</th>\n",
       "      <td>NaN</td>\n",
       "      <td>NaN</td>\n",
       "      <td>NaN</td>\n",
       "      <td>NaN</td>\n",
       "      <td>NaN</td>\n",
       "      <td>NaN</td>\n",
       "      <td>NaN</td>\n",
       "      <td>105.712813</td>\n",
       "      <td>NaN</td>\n",
       "      <td>209.216627</td>\n",
       "      <td>NaN</td>\n",
       "      <td>NaN</td>\n",
       "      <td>3.711984</td>\n",
       "      <td>NaN</td>\n",
       "      <td>NaN</td>\n",
       "      <td>NaN</td>\n",
       "      <td>NaN</td>\n",
       "      <td>0.0</td>\n",
       "      <td>25779.747957</td>\n",
       "      <td>NaN</td>\n",
       "    </tr>\n",
       "    <tr>\n",
       "      <th>min</th>\n",
       "      <td>NaN</td>\n",
       "      <td>NaN</td>\n",
       "      <td>NaN</td>\n",
       "      <td>NaN</td>\n",
       "      <td>NaN</td>\n",
       "      <td>NaN</td>\n",
       "      <td>NaN</td>\n",
       "      <td>1000.000000</td>\n",
       "      <td>NaN</td>\n",
       "      <td>0.000000</td>\n",
       "      <td>NaN</td>\n",
       "      <td>NaN</td>\n",
       "      <td>0.000000</td>\n",
       "      <td>NaN</td>\n",
       "      <td>NaN</td>\n",
       "      <td>NaN</td>\n",
       "      <td>NaN</td>\n",
       "      <td>0.0</td>\n",
       "      <td>1067.000000</td>\n",
       "      <td>NaN</td>\n",
       "    </tr>\n",
       "    <tr>\n",
       "      <th>25%</th>\n",
       "      <td>NaN</td>\n",
       "      <td>NaN</td>\n",
       "      <td>NaN</td>\n",
       "      <td>NaN</td>\n",
       "      <td>NaN</td>\n",
       "      <td>NaN</td>\n",
       "      <td>NaN</td>\n",
       "      <td>1999.000000</td>\n",
       "      <td>NaN</td>\n",
       "      <td>70.000000</td>\n",
       "      <td>NaN</td>\n",
       "      <td>NaN</td>\n",
       "      <td>3.000000</td>\n",
       "      <td>NaN</td>\n",
       "      <td>NaN</td>\n",
       "      <td>NaN</td>\n",
       "      <td>NaN</td>\n",
       "      <td>0.0</td>\n",
       "      <td>30451.000000</td>\n",
       "      <td>NaN</td>\n",
       "    </tr>\n",
       "    <tr>\n",
       "      <th>50%</th>\n",
       "      <td>NaN</td>\n",
       "      <td>NaN</td>\n",
       "      <td>NaN</td>\n",
       "      <td>NaN</td>\n",
       "      <td>NaN</td>\n",
       "      <td>NaN</td>\n",
       "      <td>NaN</td>\n",
       "      <td>2003.000000</td>\n",
       "      <td>NaN</td>\n",
       "      <td>105.000000</td>\n",
       "      <td>NaN</td>\n",
       "      <td>NaN</td>\n",
       "      <td>6.000000</td>\n",
       "      <td>NaN</td>\n",
       "      <td>NaN</td>\n",
       "      <td>NaN</td>\n",
       "      <td>NaN</td>\n",
       "      <td>0.0</td>\n",
       "      <td>49577.000000</td>\n",
       "      <td>NaN</td>\n",
       "    </tr>\n",
       "    <tr>\n",
       "      <th>75%</th>\n",
       "      <td>NaN</td>\n",
       "      <td>NaN</td>\n",
       "      <td>NaN</td>\n",
       "      <td>NaN</td>\n",
       "      <td>NaN</td>\n",
       "      <td>NaN</td>\n",
       "      <td>NaN</td>\n",
       "      <td>2008.000000</td>\n",
       "      <td>NaN</td>\n",
       "      <td>150.000000</td>\n",
       "      <td>NaN</td>\n",
       "      <td>NaN</td>\n",
       "      <td>9.000000</td>\n",
       "      <td>NaN</td>\n",
       "      <td>NaN</td>\n",
       "      <td>NaN</td>\n",
       "      <td>NaN</td>\n",
       "      <td>0.0</td>\n",
       "      <td>71540.000000</td>\n",
       "      <td>NaN</td>\n",
       "    </tr>\n",
       "    <tr>\n",
       "      <th>max</th>\n",
       "      <td>NaN</td>\n",
       "      <td>NaN</td>\n",
       "      <td>NaN</td>\n",
       "      <td>NaN</td>\n",
       "      <td>NaN</td>\n",
       "      <td>NaN</td>\n",
       "      <td>NaN</td>\n",
       "      <td>9999.000000</td>\n",
       "      <td>NaN</td>\n",
       "      <td>17700.000000</td>\n",
       "      <td>NaN</td>\n",
       "      <td>NaN</td>\n",
       "      <td>12.000000</td>\n",
       "      <td>NaN</td>\n",
       "      <td>NaN</td>\n",
       "      <td>NaN</td>\n",
       "      <td>NaN</td>\n",
       "      <td>0.0</td>\n",
       "      <td>99998.000000</td>\n",
       "      <td>NaN</td>\n",
       "    </tr>\n",
       "  </tbody>\n",
       "</table>\n",
       "</div>"
      ],
      "text/plain": [
       "               date_crawled         name  seller offer_type  price abtest  \\\n",
       "count                 50000        50000   50000      50000  50000  50000   \n",
       "unique                48213        38754       2          2   2357      2   \n",
       "top     2016-03-27 22:55:05  Ford_Fiesta  privat    Angebot     $0   test   \n",
       "freq                      3           78   49999      49999   1421  25756   \n",
       "mean                    NaN          NaN     NaN        NaN    NaN    NaN   \n",
       "std                     NaN          NaN     NaN        NaN    NaN    NaN   \n",
       "min                     NaN          NaN     NaN        NaN    NaN    NaN   \n",
       "25%                     NaN          NaN     NaN        NaN    NaN    NaN   \n",
       "50%                     NaN          NaN     NaN        NaN    NaN    NaN   \n",
       "75%                     NaN          NaN     NaN        NaN    NaN    NaN   \n",
       "max                     NaN          NaN     NaN        NaN    NaN    NaN   \n",
       "\n",
       "       vehicle_type  registration_year  gearbox      power_ps  model  \\\n",
       "count         44905       50000.000000    47320  50000.000000  47242   \n",
       "unique            8                NaN        2           NaN    245   \n",
       "top       limousine                NaN  manuell           NaN   golf   \n",
       "freq          12859                NaN    36993           NaN   4024   \n",
       "mean            NaN        2005.073280      NaN    116.355920    NaN   \n",
       "std             NaN         105.712813      NaN    209.216627    NaN   \n",
       "min             NaN        1000.000000      NaN      0.000000    NaN   \n",
       "25%             NaN        1999.000000      NaN     70.000000    NaN   \n",
       "50%             NaN        2003.000000      NaN    105.000000    NaN   \n",
       "75%             NaN        2008.000000      NaN    150.000000    NaN   \n",
       "max             NaN        9999.000000      NaN  17700.000000    NaN   \n",
       "\n",
       "         odometer  registration_month fuel_type       brand unrepaired_damage  \\\n",
       "count       50000        50000.000000     45518       50000             40171   \n",
       "unique         13                 NaN         7          40                 2   \n",
       "top     150,000km                 NaN    benzin  volkswagen              nein   \n",
       "freq        32424                 NaN     30107       10687             35232   \n",
       "mean          NaN            5.723360       NaN         NaN               NaN   \n",
       "std           NaN            3.711984       NaN         NaN               NaN   \n",
       "min           NaN            0.000000       NaN         NaN               NaN   \n",
       "25%           NaN            3.000000       NaN         NaN               NaN   \n",
       "50%           NaN            6.000000       NaN         NaN               NaN   \n",
       "75%           NaN            9.000000       NaN         NaN               NaN   \n",
       "max           NaN           12.000000       NaN         NaN               NaN   \n",
       "\n",
       "                 ad_created  nr_of_pictures   postal_code            last_seen  \n",
       "count                 50000         50000.0  50000.000000                50000  \n",
       "unique                   76             NaN           NaN                39481  \n",
       "top     2016-04-03 00:00:00             NaN           NaN  2016-04-07 06:17:27  \n",
       "freq                   1946             NaN           NaN                    8  \n",
       "mean                    NaN             0.0  50813.627300                  NaN  \n",
       "std                     NaN             0.0  25779.747957                  NaN  \n",
       "min                     NaN             0.0   1067.000000                  NaN  \n",
       "25%                     NaN             0.0  30451.000000                  NaN  \n",
       "50%                     NaN             0.0  49577.000000                  NaN  \n",
       "75%                     NaN             0.0  71540.000000                  NaN  \n",
       "max                     NaN             0.0  99998.000000                  NaN  "
      ]
     },
     "execution_count": 9,
     "metadata": {},
     "output_type": "execute_result"
    }
   ],
   "source": [
    "autos.describe(include='all')"
   ]
  },
  {
   "cell_type": "code",
   "execution_count": 10,
   "id": "80ececd4",
   "metadata": {},
   "outputs": [
    {
     "data": {
      "text/plain": [
       "0    50000\n",
       "Name: nr_of_pictures, dtype: int64"
      ]
     },
     "execution_count": 10,
     "metadata": {},
     "output_type": "execute_result"
    }
   ],
   "source": [
    "autos['nr_of_pictures'].value_counts(dropna=False)"
   ]
  },
  {
   "cell_type": "code",
   "execution_count": 11,
   "id": "fcec3e65",
   "metadata": {},
   "outputs": [
    {
     "data": {
      "text/plain": [
       "array([0])"
      ]
     },
     "execution_count": 11,
     "metadata": {},
     "output_type": "execute_result"
    }
   ],
   "source": [
    "autos['nr_of_pictures'].unique()"
   ]
  },
  {
   "cell_type": "code",
   "execution_count": 12,
   "id": "18b4d14d",
   "metadata": {},
   "outputs": [
    {
     "data": {
      "text/plain": [
       "privat        49999\n",
       "gewerblich        1\n",
       "Name: seller, dtype: int64"
      ]
     },
     "execution_count": 12,
     "metadata": {},
     "output_type": "execute_result"
    }
   ],
   "source": [
    "autos['seller'].value_counts(dropna=False)"
   ]
  },
  {
   "cell_type": "code",
   "execution_count": 13,
   "id": "61835788",
   "metadata": {},
   "outputs": [
    {
     "data": {
      "text/plain": [
       "array(['privat', 'gewerblich'], dtype=object)"
      ]
     },
     "execution_count": 13,
     "metadata": {},
     "output_type": "execute_result"
    }
   ],
   "source": [
    "autos['seller'].unique()"
   ]
  },
  {
   "cell_type": "code",
   "execution_count": 14,
   "id": "d1d23377",
   "metadata": {},
   "outputs": [
    {
     "data": {
      "text/plain": [
       "Angebot    49999\n",
       "Gesuch         1\n",
       "Name: offer_type, dtype: int64"
      ]
     },
     "execution_count": 14,
     "metadata": {},
     "output_type": "execute_result"
    }
   ],
   "source": [
    "autos['offer_type'].value_counts(dropna=False)"
   ]
  },
  {
   "cell_type": "code",
   "execution_count": 15,
   "id": "edfa097a",
   "metadata": {},
   "outputs": [
    {
     "data": {
      "text/plain": [
       "array(['Angebot', 'Gesuch'], dtype=object)"
      ]
     },
     "execution_count": 15,
     "metadata": {},
     "output_type": "execute_result"
    }
   ],
   "source": [
    "autos['offer_type'].unique()"
   ]
  },
  {
   "cell_type": "code",
   "execution_count": 16,
   "id": "b892737b",
   "metadata": {},
   "outputs": [
    {
     "name": "stdout",
     "output_type": "stream",
     "text": [
      "<class 'pandas.core.frame.DataFrame'>\n",
      "RangeIndex: 50000 entries, 0 to 49999\n",
      "Data columns (total 20 columns):\n",
      " #   Column              Non-Null Count  Dtype \n",
      "---  ------              --------------  ----- \n",
      " 0   date_crawled        50000 non-null  object\n",
      " 1   name                50000 non-null  object\n",
      " 2   seller              50000 non-null  object\n",
      " 3   offer_type          50000 non-null  object\n",
      " 4   price               50000 non-null  object\n",
      " 5   abtest              50000 non-null  object\n",
      " 6   vehicle_type        44905 non-null  object\n",
      " 7   registration_year   50000 non-null  int64 \n",
      " 8   gearbox             47320 non-null  object\n",
      " 9   power_ps            50000 non-null  int64 \n",
      " 10  model               47242 non-null  object\n",
      " 11  odometer            50000 non-null  object\n",
      " 12  registration_month  50000 non-null  int64 \n",
      " 13  fuel_type           45518 non-null  object\n",
      " 14  brand               50000 non-null  object\n",
      " 15  unrepaired_damage   40171 non-null  object\n",
      " 16  ad_created          50000 non-null  object\n",
      " 17  nr_of_pictures      50000 non-null  int64 \n",
      " 18  postal_code         50000 non-null  int64 \n",
      " 19  last_seen           50000 non-null  object\n",
      "dtypes: int64(5), object(15)\n",
      "memory usage: 7.6+ MB\n"
     ]
    }
   ],
   "source": [
    "autos.info()"
   ]
  },
  {
   "cell_type": "code",
   "execution_count": 17,
   "id": "78f12710",
   "metadata": {},
   "outputs": [
    {
     "data": {
      "text/plain": [
       "0        5500\n",
       "75       3171\n",
       "60       2195\n",
       "150      2046\n",
       "140      1884\n",
       "         ... \n",
       "455         1\n",
       "1016        1\n",
       "952         1\n",
       "696         1\n",
       "16312       1\n",
       "Name: power_ps, Length: 448, dtype: int64"
      ]
     },
     "execution_count": 17,
     "metadata": {},
     "output_type": "execute_result"
    }
   ],
   "source": [
    "autos['power_ps'].value_counts()"
   ]
  },
  {
   "cell_type": "code",
   "execution_count": 18,
   "id": "f869095d",
   "metadata": {
    "scrolled": true
   },
   "outputs": [
    {
     "data": {
      "text/plain": [
       "array([  158,   286,   102,    71,     0,   150,    90,   101,    75,\n",
       "         203,   205,   124,   131,   320,   184,   120,   306,   116,\n",
       "          54,   110,   204,    60,   218,   140,   193,   122,    86,\n",
       "          43,    95,   435,    84,   224,    58,    65,    80,   121,\n",
       "         174,   179,    57,   136,   108,    99,   170,   143,   113,\n",
       "         177,   163,   385,    63,   200,   151,   106,    85,   109,\n",
       "         145,   127,   250,   105,    50,   126,   160,   183,    81,\n",
       "         125,   141,   239,   560,    55,    88,   344,   232,    98,\n",
       "         135,    45,    73,   129,   103,    64,   436,    53,    68,\n",
       "         211,   245,   128,   241,   115,   231,   325,   235,   197,\n",
       "         133,   111,   260,    82,    83,   185,   173,    92,    61,\n",
       "         190,    74,   100,    44,    76,    70,   147,   225,   107,\n",
       "          69,   517,   230,   315,     1,   370,   360,   354,   155,\n",
       "         258,   326,    33,    94,   192,   330,   156,   313,    52,\n",
       "         130,   180,   117,   275,   114,   256,   299,   207,   104,\n",
       "         118,    87,   394,   220,   272,   175,   280,   420,   333,\n",
       "          77,   165,    66,    89,   148,     5,   400,   188,   171,\n",
       "         247,    59,    26,    67,   138,   387,   265,    40,   367,\n",
       "         401,   345,    48,   381,   328,   223,    72,   310,  6512,\n",
       "         382,   146,   169,   182,   408,   210,   132,    10,    78,\n",
       "         186,    79,   123,   166,    41,   194,  1003,   279,   196,\n",
       "         139,    11,   176,   340,   300,   284,   264,   226,   209,\n",
       "         380,  1988,   295,   206,   234,   269,   349,   900,    96,\n",
       "         525,    47,    37,   409,   350,   144,   355,   152,   292,\n",
       "         271,   500,   321,   212,   334,    34,  6045,    97,   480,\n",
       "          18,    91,   240,    62,   164,   277,  1781,  1001,   343,\n",
       "         154,   178,   222,   201,  1793,   213,   398,   305,   215,\n",
       "         323,    39,   134,   112,   187,   612,    56,   276,   450,\n",
       "         268,   287,   476,    46,   290,   119,   329,    15,   282,\n",
       "         233,   228,   270,   599,   514,    30,   259,   431,   999,\n",
       "         137,   551,   238,     6,  1779,   507,   142,   199,   610,\n",
       "         485,   252,   237,   365,   317,   371,   198,   368,   640,\n",
       "         515,   273,   274,    51,     4,    16,   457,  1016,    42,\n",
       "         281,   405,   309,     2,   850,   379,   449,   348,  1800,\n",
       "         208,  3750,   555,    93,  1300,   181,  6226,   189,   219,\n",
       "         311,  3500,    27,   544,   296,   167,  1998,   168,   579,\n",
       "         285,    35,    14,   161,  1400,   262,   304,  1090,   487,\n",
       "         242,   254,  4400,   460,    29,    25,    23,   455,   800,\n",
       "          19,   454,   153,     9,   559,   162,   202, 14009,   630,\n",
       "         564,   571,   357,    12,  1055,   195,  1082,  2018,   157,\n",
       "         521,  1103,   432,   502,  1202,   149,  1056,   396,   227,\n",
       "         298,   754,   243,   322,   266, 15001,   489,  2729,   375,\n",
       "        9011,    38,   341,   682,   216,  7511,   356,    24,  1796,\n",
       "         439,    20,    49,   172,  1986,   441,  1398,   214,   374,\n",
       "        1780,   253,   510,     3,   678,   347,   600,   530,   191,\n",
       "         386,  1000,   490,   421,  1367,   415,   430,   404,   950,\n",
       "         362,   587, 16312,   388,     8,  1011, 17700,  1771,   249,\n",
       "         407,   236,   318,  1753,   952,   740,   585,  8404,    21,\n",
       "        5867,   473,   504,   289,  1405,   696,  1704,    32, 15016,\n",
       "       16011,   337,   923,   799,   442,  1401,   650])"
      ]
     },
     "execution_count": 18,
     "metadata": {},
     "output_type": "execute_result"
    }
   ],
   "source": [
    "autos['power_ps'].unique()"
   ]
  },
  {
   "cell_type": "markdown",
   "id": "84a32490",
   "metadata": {},
   "source": [
    "Text columns where all or almost all values are the same. These can often be dropped as they don't have useful information for analysis.\n",
    "- `nr_of_pictures` looks like it has 0 in the entire column\n",
    "- `seller` has only 2 values and with one of the values filling 49999 cells out of 500000\n",
    "- `offer_type` has the same problem as `seller` - only 2 values and with one of the values filling 49999 cells out of 500000\n",
    "\n",
    "## Drop the `nr_of_pictures`, `seller` and `offer_type` columns"
   ]
  },
  {
   "cell_type": "code",
   "execution_count": 19,
   "id": "8ccefa6d",
   "metadata": {},
   "outputs": [],
   "source": [
    "autos.drop(columns=['nr_of_pictures', 'seller', 'offer_type'], inplace=True)"
   ]
  },
  {
   "cell_type": "code",
   "execution_count": 20,
   "id": "ebd80b53",
   "metadata": {},
   "outputs": [
    {
     "name": "stdout",
     "output_type": "stream",
     "text": [
      "<class 'pandas.core.frame.DataFrame'>\n",
      "RangeIndex: 50000 entries, 0 to 49999\n",
      "Data columns (total 17 columns):\n",
      " #   Column              Non-Null Count  Dtype \n",
      "---  ------              --------------  ----- \n",
      " 0   date_crawled        50000 non-null  object\n",
      " 1   name                50000 non-null  object\n",
      " 2   price               50000 non-null  object\n",
      " 3   abtest              50000 non-null  object\n",
      " 4   vehicle_type        44905 non-null  object\n",
      " 5   registration_year   50000 non-null  int64 \n",
      " 6   gearbox             47320 non-null  object\n",
      " 7   power_ps            50000 non-null  int64 \n",
      " 8   model               47242 non-null  object\n",
      " 9   odometer            50000 non-null  object\n",
      " 10  registration_month  50000 non-null  int64 \n",
      " 11  fuel_type           45518 non-null  object\n",
      " 12  brand               50000 non-null  object\n",
      " 13  unrepaired_damage   40171 non-null  object\n",
      " 14  ad_created          50000 non-null  object\n",
      " 15  postal_code         50000 non-null  int64 \n",
      " 16  last_seen           50000 non-null  object\n",
      "dtypes: int64(4), object(13)\n",
      "memory usage: 6.5+ MB\n"
     ]
    }
   ],
   "source": [
    "autos.info()"
   ]
  },
  {
   "cell_type": "markdown",
   "id": "647c0b61",
   "metadata": {},
   "source": [
    "Examples of numeric data stored as text which can be cleaned and converted.\n",
    "- price, odometer as numeric\n",
    "- unrepaired_damage as 0 or 1  \n",
    "- date_crawled, ad_created, last_seen as datetime objects"
   ]
  },
  {
   "cell_type": "markdown",
   "id": "be2a9d52",
   "metadata": {},
   "source": [
    "## Exercise\n",
    "You likely found that the `price` and `odometer` columns are numeric values stored as text. For each column:\n",
    "\n",
    "- Remove any non-numeric characters.\n",
    "- Convert the column to a numeric dtype.\n",
    "- Use `DataFrame.rename()` to rename the column to `odometer_km`.\n"
   ]
  },
  {
   "cell_type": "code",
   "execution_count": 21,
   "id": "af0fda28",
   "metadata": {},
   "outputs": [
    {
     "name": "stdout",
     "output_type": "stream",
     "text": [
      "<class 'pandas.core.frame.DataFrame'>\n",
      "RangeIndex: 50000 entries, 0 to 49999\n",
      "Data columns (total 17 columns):\n",
      " #   Column              Non-Null Count  Dtype \n",
      "---  ------              --------------  ----- \n",
      " 0   date_crawled        50000 non-null  object\n",
      " 1   name                50000 non-null  object\n",
      " 2   price               50000 non-null  object\n",
      " 3   abtest              50000 non-null  object\n",
      " 4   vehicle_type        44905 non-null  object\n",
      " 5   registration_year   50000 non-null  int64 \n",
      " 6   gearbox             47320 non-null  object\n",
      " 7   power_ps            50000 non-null  int64 \n",
      " 8   model               47242 non-null  object\n",
      " 9   odometer            50000 non-null  object\n",
      " 10  registration_month  50000 non-null  int64 \n",
      " 11  fuel_type           45518 non-null  object\n",
      " 12  brand               50000 non-null  object\n",
      " 13  unrepaired_damage   40171 non-null  object\n",
      " 14  ad_created          50000 non-null  object\n",
      " 15  postal_code         50000 non-null  int64 \n",
      " 16  last_seen           50000 non-null  object\n",
      "dtypes: int64(4), object(13)\n",
      "memory usage: 6.5+ MB\n"
     ]
    }
   ],
   "source": [
    "autos.info()"
   ]
  },
  {
   "cell_type": "markdown",
   "id": "22d6b636",
   "metadata": {},
   "source": [
    "### Remove non-numeric characters from the `price` column"
   ]
  },
  {
   "cell_type": "code",
   "execution_count": 22,
   "id": "45c158b1",
   "metadata": {},
   "outputs": [],
   "source": [
    "autos['price'] = (autos['price']\n",
    "                        .str.replace('$', '', regex=False)\n",
    "                        .str.replace(',', '', regex=False)\n",
    "                        .astype('int'))"
   ]
  },
  {
   "cell_type": "code",
   "execution_count": 23,
   "id": "ca0b32f6",
   "metadata": {},
   "outputs": [
    {
     "data": {
      "text/plain": [
       "0         5000\n",
       "1         8500\n",
       "2         8990\n",
       "3         4350\n",
       "4         1350\n",
       "         ...  \n",
       "49995    24900\n",
       "49996     1980\n",
       "49997    13200\n",
       "49998    22900\n",
       "49999     1250\n",
       "Name: price, Length: 50000, dtype: int64"
      ]
     },
     "execution_count": 23,
     "metadata": {},
     "output_type": "execute_result"
    }
   ],
   "source": [
    "autos['price']"
   ]
  },
  {
   "cell_type": "code",
   "execution_count": 24,
   "id": "8af196e3",
   "metadata": {},
   "outputs": [
    {
     "data": {
      "text/plain": [
       "date_crawled          object\n",
       "name                  object\n",
       "price                  int64\n",
       "abtest                object\n",
       "vehicle_type          object\n",
       "registration_year      int64\n",
       "gearbox               object\n",
       "power_ps               int64\n",
       "model                 object\n",
       "odometer              object\n",
       "registration_month     int64\n",
       "fuel_type             object\n",
       "brand                 object\n",
       "unrepaired_damage     object\n",
       "ad_created            object\n",
       "postal_code            int64\n",
       "last_seen             object\n",
       "dtype: object"
      ]
     },
     "execution_count": 24,
     "metadata": {},
     "output_type": "execute_result"
    }
   ],
   "source": [
    "autos.dtypes"
   ]
  },
  {
   "cell_type": "markdown",
   "id": "5fed0035",
   "metadata": {},
   "source": [
    "### Remove non-numeric characters from the `odometer` column and rename it to `odometer_km`"
   ]
  },
  {
   "cell_type": "code",
   "execution_count": 25,
   "id": "580e85ab",
   "metadata": {},
   "outputs": [
    {
     "data": {
      "text/plain": [
       "150,000km    32424\n",
       "125,000km     5170\n",
       "100,000km     2169\n",
       "90,000km      1757\n",
       "80,000km      1436\n",
       "70,000km      1230\n",
       "60,000km      1164\n",
       "50,000km      1027\n",
       "5,000km        967\n",
       "40,000km       819\n",
       "30,000km       789\n",
       "20,000km       784\n",
       "10,000km       264\n",
       "Name: odometer, dtype: int64"
      ]
     },
     "execution_count": 25,
     "metadata": {},
     "output_type": "execute_result"
    }
   ],
   "source": [
    "autos['odometer'].value_counts()"
   ]
  },
  {
   "cell_type": "code",
   "execution_count": 26,
   "id": "ad2e10a1",
   "metadata": {},
   "outputs": [],
   "source": [
    "autos['odometer'] = (autos['odometer']\n",
    "                         .str.replace('km', '', regex=False)\n",
    "                         .str.replace(',', '', regex=False)\n",
    "                         .astype('int'))\n"
   ]
  },
  {
   "cell_type": "code",
   "execution_count": 27,
   "id": "db38c1e0",
   "metadata": {},
   "outputs": [],
   "source": [
    "autos.rename(columns={'odometer': 'odometer_km'}, inplace=True)"
   ]
  },
  {
   "cell_type": "code",
   "execution_count": 28,
   "id": "d7f61fde",
   "metadata": {},
   "outputs": [
    {
     "data": {
      "text/plain": [
       "date_crawled          object\n",
       "name                  object\n",
       "price                  int64\n",
       "abtest                object\n",
       "vehicle_type          object\n",
       "registration_year      int64\n",
       "gearbox               object\n",
       "power_ps               int64\n",
       "model                 object\n",
       "odometer_km            int64\n",
       "registration_month     int64\n",
       "fuel_type             object\n",
       "brand                 object\n",
       "unrepaired_damage     object\n",
       "ad_created            object\n",
       "postal_code            int64\n",
       "last_seen             object\n",
       "dtype: object"
      ]
     },
     "execution_count": 28,
     "metadata": {},
     "output_type": "execute_result"
    }
   ],
   "source": [
    "autos.dtypes"
   ]
  },
  {
   "cell_type": "code",
   "execution_count": 29,
   "id": "21903b2c",
   "metadata": {},
   "outputs": [
    {
     "data": {
      "text/plain": [
       "150000    32424\n",
       "125000     5170\n",
       "100000     2169\n",
       "90000      1757\n",
       "80000      1436\n",
       "70000      1230\n",
       "60000      1164\n",
       "50000      1027\n",
       "5000        967\n",
       "40000       819\n",
       "30000       789\n",
       "20000       784\n",
       "10000       264\n",
       "Name: odometer_km, dtype: int64"
      ]
     },
     "execution_count": 29,
     "metadata": {},
     "output_type": "execute_result"
    }
   ],
   "source": [
    "autos['odometer_km'].value_counts()"
   ]
  },
  {
   "cell_type": "markdown",
   "id": "9c96b9f4",
   "metadata": {},
   "source": [
    "## Learn\n",
    "\n",
    "From the last screen, we learned that there are a number of text columns where almost all of the values are the same (`seller` and `offer_type`). We also converted the `price` and `odometer columns` to numeric types and renamed `odometer` to `odometer_km`.\n",
    "\n",
    "Let's continue exploring the data, specifically looking for data that doesn't look right. We'll start by analyzing the `odometer_km` and `price columns`. Here's the steps we'll take:\n",
    "\n",
    "- Analyze the columns using minimum and maximum values and look for any values that look unrealistically high or low (outliers) that we might want to remove.\n",
    "- We'll use:\n",
    "  - `Series.unique().shape` to see how many unique values\n",
    "  - `Series.describe()` to view min/max/median/mean etc\n",
    "  - `Series.value_counts()`, with some variations:\n",
    "    - chained to `.head()` if there are lots of values.\n",
    "    - Because `Series.value_counts()` returns a series, we can use `Series.sort_index()` with `ascending= True` or `False` to view the highest and lowest values with their counts (can also chain to `head()` here).\n",
    "  - When removing outliers, we can do `df[(df[\"col\"] >= x ) & (df[\"col\"] <= y )]`, but it's more readable to use `df[df[\"col\"].between(x,y)]`\n"
   ]
  },
  {
   "cell_type": "markdown",
   "id": "25d4bb6f",
   "metadata": {},
   "source": [
    "### Analyzing `odometer_km` column:"
   ]
  },
  {
   "cell_type": "code",
   "execution_count": 30,
   "id": "c03c77c2",
   "metadata": {},
   "outputs": [
    {
     "data": {
      "text/plain": [
       "(13,)"
      ]
     },
     "execution_count": 30,
     "metadata": {},
     "output_type": "execute_result"
    }
   ],
   "source": [
    "# Get the number of unique values\n",
    "autos['odometer_km'].unique().shape"
   ]
  },
  {
   "cell_type": "code",
   "execution_count": 31,
   "id": "ec95a74f",
   "metadata": {},
   "outputs": [
    {
     "data": {
      "text/plain": [
       "count     50000.000000\n",
       "mean     125732.700000\n",
       "std       40042.211706\n",
       "min        5000.000000\n",
       "25%      125000.000000\n",
       "50%      150000.000000\n",
       "75%      150000.000000\n",
       "max      150000.000000\n",
       "Name: odometer_km, dtype: float64"
      ]
     },
     "execution_count": 31,
     "metadata": {},
     "output_type": "execute_result"
    }
   ],
   "source": [
    "# View min/max/median/mean etc\n",
    "autos['odometer_km'].describe()"
   ]
  },
  {
   "cell_type": "code",
   "execution_count": 32,
   "id": "60883e13",
   "metadata": {},
   "outputs": [
    {
     "data": {
      "text/plain": [
       "150000    32424\n",
       "125000     5170\n",
       "100000     2169\n",
       "90000      1757\n",
       "80000      1436\n",
       "70000      1230\n",
       "60000      1164\n",
       "50000      1027\n",
       "5000        967\n",
       "40000       819\n",
       "30000       789\n",
       "20000       784\n",
       "10000       264\n",
       "Name: odometer_km, dtype: int64"
      ]
     },
     "execution_count": 32,
     "metadata": {},
     "output_type": "execute_result"
    }
   ],
   "source": [
    "autos['odometer_km'].value_counts()"
   ]
  },
  {
   "cell_type": "code",
   "execution_count": 33,
   "id": "64722b6c",
   "metadata": {},
   "outputs": [
    {
     "data": {
      "text/plain": [
       "150000    64.848\n",
       "125000    10.340\n",
       "100000     4.338\n",
       "90000      3.514\n",
       "80000      2.872\n",
       "70000      2.460\n",
       "60000      2.328\n",
       "50000      2.054\n",
       "5000       1.934\n",
       "40000      1.638\n",
       "30000      1.578\n",
       "20000      1.568\n",
       "10000      0.528\n",
       "Name: odometer_km, dtype: float64"
      ]
     },
     "execution_count": 33,
     "metadata": {},
     "output_type": "execute_result"
    }
   ],
   "source": [
    "autos['odometer_km'].value_counts(normalize=True)*100"
   ]
  },
  {
   "cell_type": "markdown",
   "id": "d61725b6",
   "metadata": {},
   "source": [
    "### Analysis:\n",
    "- 78% of cars have mileage over 100,000."
   ]
  },
  {
   "cell_type": "markdown",
   "id": "99b8cc4e",
   "metadata": {},
   "source": [
    "### Analyzing `price` column:"
   ]
  },
  {
   "cell_type": "code",
   "execution_count": 34,
   "id": "b7a0a12c",
   "metadata": {},
   "outputs": [
    {
     "data": {
      "text/plain": [
       "(2357,)"
      ]
     },
     "execution_count": 34,
     "metadata": {},
     "output_type": "execute_result"
    }
   ],
   "source": [
    "# Get the number of unique values\n",
    "autos['price'].unique().shape"
   ]
  },
  {
   "cell_type": "code",
   "execution_count": 35,
   "id": "843d2761",
   "metadata": {},
   "outputs": [
    {
     "data": {
      "text/plain": [
       "count    5.000000e+04\n",
       "mean     9.840044e+03\n",
       "std      4.811044e+05\n",
       "min      0.000000e+00\n",
       "25%      1.100000e+03\n",
       "50%      2.950000e+03\n",
       "75%      7.200000e+03\n",
       "max      1.000000e+08\n",
       "Name: price, dtype: float64"
      ]
     },
     "execution_count": 35,
     "metadata": {},
     "output_type": "execute_result"
    }
   ],
   "source": [
    "# View min/max/median/mean etc\n",
    "autos['price'].describe()"
   ]
  },
  {
   "cell_type": "code",
   "execution_count": 36,
   "id": "cfc6b7e7",
   "metadata": {
    "scrolled": true
   },
   "outputs": [
    {
     "data": {
      "text/plain": [
       "0           1421\n",
       "1            156\n",
       "2              3\n",
       "3              1\n",
       "5              2\n",
       "            ... \n",
       "10000000       1\n",
       "11111111       2\n",
       "12345678       3\n",
       "27322222       1\n",
       "99999999       1\n",
       "Name: price, Length: 2357, dtype: int64"
      ]
     },
     "execution_count": 36,
     "metadata": {},
     "output_type": "execute_result"
    }
   ],
   "source": [
    "autos['price'].value_counts().sort_index()"
   ]
  },
  {
   "cell_type": "code",
   "execution_count": 37,
   "id": "69e1ee8c",
   "metadata": {},
   "outputs": [
    {
     "data": {
      "text/plain": [
       "0        0.02842\n",
       "500      0.01562\n",
       "1500     0.01468\n",
       "2500     0.01286\n",
       "1000     0.01278\n",
       "          ...   \n",
       "6770     0.00002\n",
       "61999    0.00002\n",
       "20987    0.00002\n",
       "6578     0.00002\n",
       "48600    0.00002\n",
       "Name: price, Length: 2357, dtype: float64"
      ]
     },
     "execution_count": 37,
     "metadata": {},
     "output_type": "execute_result"
    }
   ],
   "source": [
    "autos['price'].value_counts(normalize=True)"
   ]
  },
  {
   "cell_type": "code",
   "execution_count": 38,
   "id": "60294f0d",
   "metadata": {},
   "outputs": [
    {
     "data": {
      "text/plain": [
       "0           0.02842\n",
       "1           0.00312\n",
       "2           0.00006\n",
       "3           0.00002\n",
       "5           0.00004\n",
       "             ...   \n",
       "10000000    0.00002\n",
       "11111111    0.00004\n",
       "12345678    0.00006\n",
       "27322222    0.00002\n",
       "99999999    0.00002\n",
       "Name: price, Length: 2357, dtype: float64"
      ]
     },
     "execution_count": 38,
     "metadata": {},
     "output_type": "execute_result"
    }
   ],
   "source": [
    "autos['price'].value_counts(normalize=True).sort_index()"
   ]
  },
  {
   "cell_type": "code",
   "execution_count": 39,
   "id": "089257cf",
   "metadata": {},
   "outputs": [
    {
     "data": {
      "text/plain": [
       "0     0.02842\n",
       "1     0.00312\n",
       "2     0.00006\n",
       "3     0.00002\n",
       "5     0.00004\n",
       "8     0.00002\n",
       "9     0.00002\n",
       "10    0.00014\n",
       "11    0.00004\n",
       "12    0.00006\n",
       "Name: price, dtype: float64"
      ]
     },
     "execution_count": 39,
     "metadata": {},
     "output_type": "execute_result"
    }
   ],
   "source": [
    "autos['price'].value_counts(normalize=True).sort_index().head(10)"
   ]
  },
  {
   "cell_type": "markdown",
   "id": "0768ef22",
   "metadata": {},
   "source": [
    "There are 1,421 cars with a price of \\\\$0 - this is only 2.8\\% of the of the cars. Assuming that all auctions start at at least \\\\$1, we will remove these rows."
   ]
  },
  {
   "cell_type": "code",
   "execution_count": 40,
   "id": "54619fb0",
   "metadata": {},
   "outputs": [
    {
     "data": {
      "text/plain": [
       "99999999    1\n",
       "27322222    1\n",
       "12345678    3\n",
       "11111111    2\n",
       "10000000    1\n",
       "3890000     1\n",
       "1300000     1\n",
       "1234566     1\n",
       "999999      2\n",
       "999990      1\n",
       "350000      1\n",
       "345000      1\n",
       "299000      1\n",
       "295000      1\n",
       "265000      1\n",
       "259000      1\n",
       "250000      1\n",
       "220000      1\n",
       "198000      1\n",
       "197000      1\n",
       "Name: price, dtype: int64"
      ]
     },
     "execution_count": 40,
     "metadata": {},
     "output_type": "execute_result"
    }
   ],
   "source": [
    "autos['price'].value_counts().sort_index(ascending=False).head(20)"
   ]
  },
  {
   "cell_type": "markdown",
   "id": "8662be16",
   "metadata": {},
   "source": [
    "The prices increase smoothly to \\\\$350,000 and then there is a big jump from \\\\$350,000 to \\\\$999,990. Prices above \\\\$350,000 are probably invalid. We will remove those. \n",
    "\n",
    "## Drop rows with prices < 1 and prices > 350000"
   ]
  },
  {
   "cell_type": "code",
   "execution_count": 41,
   "id": "5d95c709",
   "metadata": {},
   "outputs": [],
   "source": [
    "autos = autos[autos['price'].between(1, 350000)]"
   ]
  },
  {
   "cell_type": "code",
   "execution_count": 42,
   "id": "6e9a5916",
   "metadata": {},
   "outputs": [
    {
     "data": {
      "text/plain": [
       "count     48565.000000\n",
       "mean       5888.935591\n",
       "std        9059.854754\n",
       "min           1.000000\n",
       "25%        1200.000000\n",
       "50%        3000.000000\n",
       "75%        7490.000000\n",
       "max      350000.000000\n",
       "Name: price, dtype: float64"
      ]
     },
     "execution_count": 42,
     "metadata": {},
     "output_type": "execute_result"
    }
   ],
   "source": [
    "autos['price'].describe()"
   ]
  },
  {
   "cell_type": "code",
   "execution_count": 43,
   "id": "0f7ea17d",
   "metadata": {},
   "outputs": [
    {
     "name": "stdout",
     "output_type": "stream",
     "text": [
      "<class 'pandas.core.frame.DataFrame'>\n",
      "Int64Index: 48565 entries, 0 to 49999\n",
      "Data columns (total 17 columns):\n",
      " #   Column              Non-Null Count  Dtype \n",
      "---  ------              --------------  ----- \n",
      " 0   date_crawled        48565 non-null  object\n",
      " 1   name                48565 non-null  object\n",
      " 2   price               48565 non-null  int64 \n",
      " 3   abtest              48565 non-null  object\n",
      " 4   vehicle_type        43979 non-null  object\n",
      " 5   registration_year   48565 non-null  int64 \n",
      " 6   gearbox             46222 non-null  object\n",
      " 7   power_ps            48565 non-null  int64 \n",
      " 8   model               46107 non-null  object\n",
      " 9   odometer_km         48565 non-null  int64 \n",
      " 10  registration_month  48565 non-null  int64 \n",
      " 11  fuel_type           44535 non-null  object\n",
      " 12  brand               48565 non-null  object\n",
      " 13  unrepaired_damage   39464 non-null  object\n",
      " 14  ad_created          48565 non-null  object\n",
      " 15  postal_code         48565 non-null  int64 \n",
      " 16  last_seen           48565 non-null  object\n",
      "dtypes: int64(6), object(11)\n",
      "memory usage: 6.7+ MB\n"
     ]
    }
   ],
   "source": [
    "autos.info()"
   ]
  },
  {
   "cell_type": "code",
   "execution_count": 44,
   "id": "52d77d57",
   "metadata": {},
   "outputs": [],
   "source": [
    "autos.to_csv('autos_cleaned.csv')"
   ]
  },
  {
   "cell_type": "markdown",
   "id": "8b3ecf29",
   "metadata": {},
   "source": [
    "## Learn\n",
    "\n",
    "Let's now move on to the date columns and understand the date range the data covers.\n",
    "\n",
    "There are 5 columns that should represent date values. Some of these columns were created by the crawler, some came from the website itself. We can differentiate by referring to the data dictionary:\n",
    "\n",
    "- `date_crawled`: added by the crawler\n",
    "\n",
    "- `last_seen`: added by the crawler\n",
    "\n",
    "- `ad_created`: from the website\n",
    "\n",
    "- `registration_month`: from the website\n",
    "\n",
    "- `registration_year`: from the website\n",
    "\n",
    "Right now, the date_crawled, last_seen, and ad_created columns are all identified as string values by pandas. Because these three columns are represented as strings, we need to convert the data into a numerical representation so we can understand it quantitatively. The other two columns are represented as numeric values, so we can use methods like Series.describe() to understand the distribution without any extra data processing.\n",
    "\n",
    "Let's first understand how the values in the three string columns are formatted. These columns all represent full timestamp values, like so:"
   ]
  },
  {
   "cell_type": "code",
   "execution_count": 45,
   "id": "f1ce86cb",
   "metadata": {},
   "outputs": [
    {
     "data": {
      "text/html": [
       "<div>\n",
       "<style scoped>\n",
       "    .dataframe tbody tr th:only-of-type {\n",
       "        vertical-align: middle;\n",
       "    }\n",
       "\n",
       "    .dataframe tbody tr th {\n",
       "        vertical-align: top;\n",
       "    }\n",
       "\n",
       "    .dataframe thead th {\n",
       "        text-align: right;\n",
       "    }\n",
       "</style>\n",
       "<table border=\"1\" class=\"dataframe\">\n",
       "  <thead>\n",
       "    <tr style=\"text-align: right;\">\n",
       "      <th></th>\n",
       "      <th>date_crawled</th>\n",
       "      <th>ad_created</th>\n",
       "      <th>last_seen</th>\n",
       "    </tr>\n",
       "  </thead>\n",
       "  <tbody>\n",
       "    <tr>\n",
       "      <th>0</th>\n",
       "      <td>2016-03-26 17:47:46</td>\n",
       "      <td>2016-03-26 00:00:00</td>\n",
       "      <td>2016-04-06 06:45:54</td>\n",
       "    </tr>\n",
       "    <tr>\n",
       "      <th>1</th>\n",
       "      <td>2016-04-04 13:38:56</td>\n",
       "      <td>2016-04-04 00:00:00</td>\n",
       "      <td>2016-04-06 14:45:08</td>\n",
       "    </tr>\n",
       "    <tr>\n",
       "      <th>2</th>\n",
       "      <td>2016-03-26 18:57:24</td>\n",
       "      <td>2016-03-26 00:00:00</td>\n",
       "      <td>2016-04-06 20:15:37</td>\n",
       "    </tr>\n",
       "    <tr>\n",
       "      <th>3</th>\n",
       "      <td>2016-03-12 16:58:10</td>\n",
       "      <td>2016-03-12 00:00:00</td>\n",
       "      <td>2016-03-15 03:16:28</td>\n",
       "    </tr>\n",
       "    <tr>\n",
       "      <th>4</th>\n",
       "      <td>2016-04-01 14:38:50</td>\n",
       "      <td>2016-04-01 00:00:00</td>\n",
       "      <td>2016-04-01 14:38:50</td>\n",
       "    </tr>\n",
       "  </tbody>\n",
       "</table>\n",
       "</div>"
      ],
      "text/plain": [
       "          date_crawled           ad_created            last_seen\n",
       "0  2016-03-26 17:47:46  2016-03-26 00:00:00  2016-04-06 06:45:54\n",
       "1  2016-04-04 13:38:56  2016-04-04 00:00:00  2016-04-06 14:45:08\n",
       "2  2016-03-26 18:57:24  2016-03-26 00:00:00  2016-04-06 20:15:37\n",
       "3  2016-03-12 16:58:10  2016-03-12 00:00:00  2016-03-15 03:16:28\n",
       "4  2016-04-01 14:38:50  2016-04-01 00:00:00  2016-04-01 14:38:50"
      ]
     },
     "execution_count": 45,
     "metadata": {},
     "output_type": "execute_result"
    }
   ],
   "source": [
    "autos[['date_crawled','ad_created' ,'last_seen']][:5]"
   ]
  },
  {
   "cell_type": "markdown",
   "id": "c479858a",
   "metadata": {},
   "source": [
    "You'll notice that the first 10 characters represent the day (e.g. 2016-03-12). To understand the date range, we can extract just the date values, use Series.value_counts() to generate a distribution, and then sort by the index.\n",
    "\n",
    "To select the first 10 characters in each column, we can use `Series.str[:10]`:"
   ]
  },
  {
   "cell_type": "code",
   "execution_count": 46,
   "id": "6dd7fc2e",
   "metadata": {},
   "outputs": [
    {
     "data": {
      "text/plain": [
       "0        2016-03-26\n",
       "1        2016-04-04\n",
       "2        2016-03-26\n",
       "3        2016-03-12\n",
       "4        2016-04-01\n",
       "            ...    \n",
       "49995    2016-03-27\n",
       "49996    2016-03-28\n",
       "49997    2016-04-02\n",
       "49998    2016-03-08\n",
       "49999    2016-03-14\n",
       "Name: date_crawled, Length: 48565, dtype: object"
      ]
     },
     "execution_count": 46,
     "metadata": {},
     "output_type": "execute_result"
    }
   ],
   "source": [
    "autos['date_crawled'].str[:10]"
   ]
  },
  {
   "cell_type": "markdown",
   "id": "e885aeb3",
   "metadata": {},
   "source": [
    "## Exercise:\n",
    "\n",
    "\n",
    "- Use the workflow we just described to calculate the distribution of values in the date_crawled, ad_created, and last_seen columns (all string columns) as percentages.\n",
    "  - To include missing values in the distribution and to use percentages instead of counts, chain the `Series.value_counts(normalize=True, dropna=False`) [method](https://pandas.pydata.org/pandas-docs/stable/reference/api/pandas.Series.value_counts.html).\n",
    "  - To rank by date in ascending order (earliest to latest), chain the Series.sort_index() method.\n",
    "  - Write a markdown cell after each column exploration to explain your observations.\n",
    "- Use Series.describe() to understand the distribution of registration_year.\n",
    "  - Write a markdown cell explaining your observations.\n"
   ]
  },
  {
   "cell_type": "markdown",
   "id": "683405cb",
   "metadata": {},
   "source": [
    "### Calculate the distribution of the `date_crawled` column"
   ]
  },
  {
   "cell_type": "code",
   "execution_count": 47,
   "id": "ed765fd0",
   "metadata": {},
   "outputs": [
    {
     "data": {
      "text/plain": [
       "2016-04-03    0.038608\n",
       "2016-03-20    0.037887\n",
       "2016-03-21    0.037373\n",
       "2016-03-12    0.036920\n",
       "2016-03-14    0.036549\n",
       "2016-04-04    0.036487\n",
       "2016-03-07    0.036014\n",
       "2016-04-02    0.035478\n",
       "2016-03-28    0.034860\n",
       "2016-03-19    0.034778\n",
       "2016-03-15    0.034284\n",
       "2016-03-29    0.034099\n",
       "2016-03-30    0.033687\n",
       "2016-04-01    0.033687\n",
       "2016-03-08    0.033296\n",
       "2016-03-09    0.033090\n",
       "2016-03-22    0.032987\n",
       "2016-03-11    0.032575\n",
       "2016-03-23    0.032225\n",
       "2016-03-26    0.032204\n",
       "2016-03-10    0.032184\n",
       "2016-03-31    0.031834\n",
       "2016-03-17    0.031628\n",
       "2016-03-25    0.031607\n",
       "2016-03-27    0.031092\n",
       "2016-03-16    0.029610\n",
       "2016-03-24    0.029342\n",
       "2016-03-05    0.025327\n",
       "2016-03-13    0.015670\n",
       "2016-03-06    0.014043\n",
       "2016-04-05    0.013096\n",
       "2016-03-18    0.012911\n",
       "2016-04-06    0.003171\n",
       "2016-04-07    0.001400\n",
       "Name: date_crawled, dtype: float64"
      ]
     },
     "execution_count": 47,
     "metadata": {},
     "output_type": "execute_result"
    }
   ],
   "source": [
    "(autos['date_crawled']\n",
    "         .str[:10]\n",
    "         .value_counts(normalize=True, dropna=False)\n",
    "         )"
   ]
  },
  {
   "cell_type": "code",
   "execution_count": 48,
   "id": "eb8dab80",
   "metadata": {},
   "outputs": [
    {
     "data": {
      "text/plain": [
       "2016-03-05    0.025327\n",
       "2016-03-06    0.014043\n",
       "2016-03-07    0.036014\n",
       "2016-03-08    0.033296\n",
       "2016-03-09    0.033090\n",
       "2016-03-10    0.032184\n",
       "2016-03-11    0.032575\n",
       "2016-03-12    0.036920\n",
       "2016-03-13    0.015670\n",
       "2016-03-14    0.036549\n",
       "2016-03-15    0.034284\n",
       "2016-03-16    0.029610\n",
       "2016-03-17    0.031628\n",
       "2016-03-18    0.012911\n",
       "2016-03-19    0.034778\n",
       "2016-03-20    0.037887\n",
       "2016-03-21    0.037373\n",
       "2016-03-22    0.032987\n",
       "2016-03-23    0.032225\n",
       "2016-03-24    0.029342\n",
       "2016-03-25    0.031607\n",
       "2016-03-26    0.032204\n",
       "2016-03-27    0.031092\n",
       "2016-03-28    0.034860\n",
       "2016-03-29    0.034099\n",
       "2016-03-30    0.033687\n",
       "2016-03-31    0.031834\n",
       "2016-04-01    0.033687\n",
       "2016-04-02    0.035478\n",
       "2016-04-03    0.038608\n",
       "2016-04-04    0.036487\n",
       "2016-04-05    0.013096\n",
       "2016-04-06    0.003171\n",
       "2016-04-07    0.001400\n",
       "Name: date_crawled, dtype: float64"
      ]
     },
     "execution_count": 48,
     "metadata": {},
     "output_type": "execute_result"
    }
   ],
   "source": [
    "(autos['date_crawled']\n",
    "         .str[:10]\n",
    "         .value_counts(normalize=True, dropna=False)\n",
    "         .sort_index()\n",
    "         )"
   ]
  },
  {
   "cell_type": "code",
   "execution_count": 49,
   "id": "f7da989d",
   "metadata": {
    "scrolled": true
   },
   "outputs": [
    {
     "data": {
      "text/plain": [
       "2016-04-07    0.001400\n",
       "2016-04-06    0.003171\n",
       "2016-03-18    0.012911\n",
       "2016-04-05    0.013096\n",
       "2016-03-06    0.014043\n",
       "2016-03-13    0.015670\n",
       "2016-03-05    0.025327\n",
       "2016-03-24    0.029342\n",
       "2016-03-16    0.029610\n",
       "2016-03-27    0.031092\n",
       "2016-03-25    0.031607\n",
       "2016-03-17    0.031628\n",
       "2016-03-31    0.031834\n",
       "2016-03-10    0.032184\n",
       "2016-03-26    0.032204\n",
       "2016-03-23    0.032225\n",
       "2016-03-11    0.032575\n",
       "2016-03-22    0.032987\n",
       "2016-03-09    0.033090\n",
       "2016-03-08    0.033296\n",
       "2016-04-01    0.033687\n",
       "2016-03-30    0.033687\n",
       "2016-03-29    0.034099\n",
       "2016-03-15    0.034284\n",
       "2016-03-19    0.034778\n",
       "2016-03-28    0.034860\n",
       "2016-04-02    0.035478\n",
       "2016-03-07    0.036014\n",
       "2016-04-04    0.036487\n",
       "2016-03-14    0.036549\n",
       "2016-03-12    0.036920\n",
       "2016-03-21    0.037373\n",
       "2016-03-20    0.037887\n",
       "2016-04-03    0.038608\n",
       "Name: date_crawled, dtype: float64"
      ]
     },
     "execution_count": 49,
     "metadata": {},
     "output_type": "execute_result"
    }
   ],
   "source": [
    "(autos['date_crawled']\n",
    "         .str[:10]\n",
    "         .value_counts(normalize=True, dropna=False)\n",
    "         .sort_values()\n",
    "         )"
   ]
  },
  {
   "cell_type": "markdown",
   "id": "06d582a2",
   "metadata": {},
   "source": [
    "Looks like the site was crawled daily over roughly a one month period in March and April 2016. The distribution of listings crawled on each day is roughly uniform."
   ]
  },
  {
   "cell_type": "markdown",
   "id": "747bf260",
   "metadata": {},
   "source": [
    "### Calculate the distribution of the `ad_created` column"
   ]
  },
  {
   "cell_type": "code",
   "execution_count": 50,
   "id": "c74644cd",
   "metadata": {},
   "outputs": [
    {
     "data": {
      "text/plain": [
       "2016-04-03    0.038855\n",
       "2016-03-20    0.037949\n",
       "2016-03-21    0.037579\n",
       "2016-04-04    0.036858\n",
       "2016-03-12    0.036755\n",
       "                ...   \n",
       "2016-02-07    0.000021\n",
       "2015-08-10    0.000021\n",
       "2015-09-09    0.000021\n",
       "2016-01-13    0.000021\n",
       "2016-01-03    0.000021\n",
       "Name: ad_created, Length: 76, dtype: float64"
      ]
     },
     "execution_count": 50,
     "metadata": {},
     "output_type": "execute_result"
    }
   ],
   "source": [
    "(autos['ad_created']\n",
    "        .str[:10]\n",
    "        .value_counts(normalize=True, dropna=False)\n",
    "        )"
   ]
  },
  {
   "cell_type": "code",
   "execution_count": 51,
   "id": "983005ef",
   "metadata": {},
   "outputs": [
    {
     "data": {
      "text/plain": [
       "2015-06-11    0.000021\n",
       "2015-08-10    0.000021\n",
       "2015-09-09    0.000021\n",
       "2015-11-10    0.000021\n",
       "2015-12-05    0.000021\n",
       "                ...   \n",
       "2016-04-03    0.038855\n",
       "2016-04-04    0.036858\n",
       "2016-04-05    0.011819\n",
       "2016-04-06    0.003253\n",
       "2016-04-07    0.001256\n",
       "Name: ad_created, Length: 76, dtype: float64"
      ]
     },
     "execution_count": 51,
     "metadata": {},
     "output_type": "execute_result"
    }
   ],
   "source": [
    "(autos['ad_created']\n",
    "        .str[:10]\n",
    "        .value_counts(normalize=True, dropna=False)\n",
    "        .sort_index()\n",
    "        )"
   ]
  },
  {
   "cell_type": "markdown",
   "id": "b2cb3331",
   "metadata": {},
   "source": [
    "There is a large variety of ad created dates. Most fall within 1-2 months of the listing date, but a few are quite old, with the oldest at around 9 months."
   ]
  },
  {
   "cell_type": "markdown",
   "id": "63e22550",
   "metadata": {},
   "source": [
    "### Calculate the distribution of the `last_seen` column"
   ]
  },
  {
   "cell_type": "code",
   "execution_count": 52,
   "id": "6e621c29",
   "metadata": {},
   "outputs": [
    {
     "data": {
      "text/plain": [
       "2016-04-06    0.221806\n",
       "2016-04-07    0.131947\n",
       "2016-04-05    0.124761\n",
       "2016-03-17    0.028086\n",
       "2016-04-03    0.025203\n",
       "2016-04-02    0.024915\n",
       "2016-03-30    0.024771\n",
       "2016-04-04    0.024483\n",
       "2016-03-31    0.023783\n",
       "2016-03-12    0.023783\n",
       "2016-04-01    0.022794\n",
       "2016-03-29    0.022341\n",
       "2016-03-22    0.021373\n",
       "2016-03-28    0.020859\n",
       "2016-03-20    0.020653\n",
       "2016-03-21    0.020632\n",
       "2016-03-24    0.019767\n",
       "2016-03-25    0.019211\n",
       "2016-03-23    0.018532\n",
       "2016-03-26    0.016802\n",
       "2016-03-16    0.016452\n",
       "2016-03-15    0.015876\n",
       "2016-03-19    0.015834\n",
       "2016-03-27    0.015649\n",
       "2016-03-14    0.012602\n",
       "2016-03-11    0.012375\n",
       "2016-03-10    0.010666\n",
       "2016-03-09    0.009595\n",
       "2016-03-13    0.008895\n",
       "2016-03-08    0.007413\n",
       "2016-03-18    0.007351\n",
       "2016-03-07    0.005395\n",
       "2016-03-06    0.004324\n",
       "2016-03-05    0.001071\n",
       "Name: last_seen, dtype: float64"
      ]
     },
     "execution_count": 52,
     "metadata": {},
     "output_type": "execute_result"
    }
   ],
   "source": [
    "(autos['last_seen']\n",
    "        .str[:10]\n",
    "        .value_counts(normalize=True, dropna=False)\n",
    "        )"
   ]
  },
  {
   "cell_type": "code",
   "execution_count": 53,
   "id": "cb661ed8",
   "metadata": {},
   "outputs": [
    {
     "data": {
      "text/plain": [
       "2016-03-05    0.001071\n",
       "2016-03-06    0.004324\n",
       "2016-03-07    0.005395\n",
       "2016-03-08    0.007413\n",
       "2016-03-09    0.009595\n",
       "2016-03-10    0.010666\n",
       "2016-03-11    0.012375\n",
       "2016-03-12    0.023783\n",
       "2016-03-13    0.008895\n",
       "2016-03-14    0.012602\n",
       "2016-03-15    0.015876\n",
       "2016-03-16    0.016452\n",
       "2016-03-17    0.028086\n",
       "2016-03-18    0.007351\n",
       "2016-03-19    0.015834\n",
       "2016-03-20    0.020653\n",
       "2016-03-21    0.020632\n",
       "2016-03-22    0.021373\n",
       "2016-03-23    0.018532\n",
       "2016-03-24    0.019767\n",
       "2016-03-25    0.019211\n",
       "2016-03-26    0.016802\n",
       "2016-03-27    0.015649\n",
       "2016-03-28    0.020859\n",
       "2016-03-29    0.022341\n",
       "2016-03-30    0.024771\n",
       "2016-03-31    0.023783\n",
       "2016-04-01    0.022794\n",
       "2016-04-02    0.024915\n",
       "2016-04-03    0.025203\n",
       "2016-04-04    0.024483\n",
       "2016-04-05    0.124761\n",
       "2016-04-06    0.221806\n",
       "2016-04-07    0.131947\n",
       "Name: last_seen, dtype: float64"
      ]
     },
     "execution_count": 53,
     "metadata": {},
     "output_type": "execute_result"
    }
   ],
   "source": [
    "(autos['last_seen']\n",
    "        .str[:10]\n",
    "        .value_counts(normalize=True, dropna=False)\n",
    "        .sort_index()\n",
    "        )"
   ]
  },
  {
   "cell_type": "markdown",
   "id": "a64ec537",
   "metadata": {},
   "source": [
    "The crawler recorded the date it last saw any listing, which allows us to determine on what day a listing was removed, presumably because the car was sold.\n",
    "\n",
    "The last three days contain a disproportionate amount of 'last seen' values. Given that these are 6-10x the values from the previous days, it's unlikely that there was a massive spike in sales, and more likely that these values are to do with the crawling period ending and don't indicate car sales."
   ]
  },
  {
   "cell_type": "markdown",
   "id": "fed0a800",
   "metadata": {},
   "source": [
    "### Calculate the distribution of the `registration_year` column"
   ]
  },
  {
   "cell_type": "code",
   "execution_count": 54,
   "id": "ee87005d",
   "metadata": {},
   "outputs": [
    {
     "data": {
      "text/plain": [
       "count    48565.000000\n",
       "mean      2004.755421\n",
       "std         88.643887\n",
       "min       1000.000000\n",
       "25%       1999.000000\n",
       "50%       2004.000000\n",
       "75%       2008.000000\n",
       "max       9999.000000\n",
       "Name: registration_year, dtype: float64"
      ]
     },
     "execution_count": 54,
     "metadata": {},
     "output_type": "execute_result"
    }
   ],
   "source": [
    "autos['registration_year'].describe()"
   ]
  },
  {
   "cell_type": "code",
   "execution_count": 55,
   "id": "68dbfb7a",
   "metadata": {},
   "outputs": [
    {
     "data": {
      "text/plain": [
       "2000    0.064985\n",
       "2005    0.060455\n",
       "1999    0.059652\n",
       "2004    0.055657\n",
       "2003    0.055575\n",
       "          ...   \n",
       "4500    0.000021\n",
       "4100    0.000021\n",
       "1939    0.000021\n",
       "5911    0.000021\n",
       "1952    0.000021\n",
       "Name: registration_year, Length: 95, dtype: float64"
      ]
     },
     "execution_count": 55,
     "metadata": {},
     "output_type": "execute_result"
    }
   ],
   "source": [
    "autos['registration_year'].value_counts(normalize=True, dropna=False)"
   ]
  },
  {
   "cell_type": "code",
   "execution_count": 56,
   "id": "36d40101",
   "metadata": {},
   "outputs": [
    {
     "data": {
      "text/plain": [
       "1000    0.000021\n",
       "1001    0.000021\n",
       "1111    0.000021\n",
       "1800    0.000041\n",
       "1910    0.000103\n",
       "1927    0.000021\n",
       "1929    0.000021\n",
       "1931    0.000021\n",
       "1934    0.000041\n",
       "1937    0.000082\n",
       "1938    0.000021\n",
       "1939    0.000021\n",
       "1941    0.000041\n",
       "1943    0.000021\n",
       "1948    0.000021\n",
       "1950    0.000062\n",
       "1951    0.000041\n",
       "1952    0.000021\n",
       "1953    0.000021\n",
       "1954    0.000041\n",
       "1955    0.000041\n",
       "1956    0.000082\n",
       "1957    0.000041\n",
       "1958    0.000082\n",
       "1959    0.000124\n",
       "1960    0.000474\n",
       "1961    0.000124\n",
       "1962    0.000082\n",
       "1963    0.000165\n",
       "1964    0.000247\n",
       "1965    0.000350\n",
       "1966    0.000453\n",
       "1967    0.000535\n",
       "1968    0.000535\n",
       "1969    0.000391\n",
       "1970    0.000782\n",
       "1971    0.000535\n",
       "1972    0.000680\n",
       "1973    0.000474\n",
       "1974    0.000494\n",
       "1975    0.000371\n",
       "1976    0.000432\n",
       "1977    0.000453\n",
       "1978    0.000906\n",
       "1979    0.000700\n",
       "Name: registration_year, dtype: float64"
      ]
     },
     "execution_count": 56,
     "metadata": {},
     "output_type": "execute_result"
    }
   ],
   "source": [
    "(autos['registration_year']\n",
    "         .value_counts(normalize=True, dropna=False)\n",
    "         .sort_index()\n",
    "         .head(45)\n",
    "         )"
   ]
  },
  {
   "cell_type": "code",
   "execution_count": 57,
   "id": "e9afc737",
   "metadata": {},
   "outputs": [
    {
     "data": {
      "text/plain": [
       "9999    0.000062\n",
       "9000    0.000021\n",
       "8888    0.000021\n",
       "6200    0.000021\n",
       "5911    0.000021\n",
       "5000    0.000082\n",
       "4800    0.000021\n",
       "4500    0.000021\n",
       "4100    0.000021\n",
       "2800    0.000021\n",
       "2019    0.000041\n",
       "2018    0.009678\n",
       "2017    0.028663\n",
       "2016    0.025121\n",
       "2015    0.008072\n",
       "2014    0.013652\n",
       "2013    0.016535\n",
       "2012    0.026974\n",
       "2011    0.033419\n",
       "2010    0.032719\n",
       "2009    0.042932\n",
       "2008    0.045609\n",
       "2007    0.046886\n",
       "2006    0.054978\n",
       "2005    0.060455\n",
       "2004    0.055657\n",
       "2003    0.055575\n",
       "2002    0.051189\n",
       "2001    0.054278\n",
       "2000    0.064985\n",
       "1999    0.059652\n",
       "1998    0.048656\n",
       "1997    0.040173\n",
       "1996    0.028271\n",
       "1995    0.025265\n",
       "1994    0.012952\n",
       "1993    0.008751\n",
       "1992    0.007619\n",
       "1991    0.006980\n",
       "1990    0.007145\n",
       "1989    0.003583\n",
       "1988    0.002780\n",
       "1987    0.001483\n",
       "1986    0.001483\n",
       "1985    0.001956\n",
       "Name: registration_year, dtype: float64"
      ]
     },
     "execution_count": 57,
     "metadata": {},
     "output_type": "execute_result"
    }
   ],
   "source": [
    "(autos['registration_year']\n",
    "         .value_counts(normalize=True, dropna=False)\n",
    "         .sort_index(ascending=False)\n",
    "         .head(45)\n",
    "         )"
   ]
  },
  {
   "cell_type": "code",
   "execution_count": 58,
   "id": "4c178ad7",
   "metadata": {},
   "outputs": [
    {
     "data": {
      "text/plain": [
       "2000    0.064985\n",
       "2005    0.060455\n",
       "1999    0.059652\n",
       "2004    0.055657\n",
       "2003    0.055575\n",
       "2006    0.054978\n",
       "2001    0.054278\n",
       "2002    0.051189\n",
       "1998    0.048656\n",
       "2007    0.046886\n",
       "2008    0.045609\n",
       "2009    0.042932\n",
       "1997    0.040173\n",
       "2011    0.033419\n",
       "2010    0.032719\n",
       "2017    0.028663\n",
       "1996    0.028271\n",
       "2012    0.026974\n",
       "1995    0.025265\n",
       "2016    0.025121\n",
       "2013    0.016535\n",
       "2014    0.013652\n",
       "1994    0.012952\n",
       "2018    0.009678\n",
       "1993    0.008751\n",
       "2015    0.008072\n",
       "1992    0.007619\n",
       "1990    0.007145\n",
       "1991    0.006980\n",
       "1989    0.003583\n",
       "1988    0.002780\n",
       "1985    0.001956\n",
       "1980    0.001750\n",
       "1986    0.001483\n",
       "1987    0.001483\n",
       "1983    0.001050\n",
       "1984    0.001050\n",
       "1978    0.000906\n",
       "1982    0.000844\n",
       "1970    0.000782\n",
       "1979    0.000700\n",
       "1972    0.000680\n",
       "1981    0.000577\n",
       "1971    0.000535\n",
       "1967    0.000535\n",
       "Name: registration_year, dtype: float64"
      ]
     },
     "execution_count": 58,
     "metadata": {},
     "output_type": "execute_result"
    }
   ],
   "source": [
    "(autos['registration_year']\n",
    "         .value_counts(normalize=True, dropna=False)\n",
    "         .sort_values(ascending=False)\n",
    "         .head(45)\n",
    "         )"
   ]
  },
  {
   "cell_type": "code",
   "execution_count": 59,
   "id": "9bb2b76a",
   "metadata": {},
   "outputs": [
    {
     "data": {
      "text/plain": [
       "count    48565.000000\n",
       "mean      2004.755421\n",
       "std         88.643887\n",
       "min       1000.000000\n",
       "25%       1999.000000\n",
       "50%       2004.000000\n",
       "75%       2008.000000\n",
       "max       9999.000000\n",
       "Name: registration_year, dtype: float64"
      ]
     },
     "execution_count": 59,
     "metadata": {},
     "output_type": "execute_result"
    }
   ],
   "source": [
    "autos['registration_year'].describe()"
   ]
  },
  {
   "cell_type": "markdown",
   "id": "221eaf1a",
   "metadata": {},
   "source": [
    "The year that the car was first registered will likely indicate the age of the car. Looking at this column, we note some odd values. The minimum value is `1000`, long before cars were invented and the maximum is `9999`, many years into the future."
   ]
  },
  {
   "cell_type": "markdown",
   "id": "339869fd",
   "metadata": {},
   "source": [
    "## Learn\n",
    "\n",
    "One thing that stands out from the exploration we did in the last screen is that the registration_year column contains some odd values:\n",
    "\n",
    "- The minimum value is 1000, before cars were invented\n",
    "- The maximum value is 9999, many years into the future\n",
    "\n",
    "Because a car can't be first registered after the listing was seen, any vehicle with a registration year above 2016 is definitely inaccurate. Determining the earliest valid year is more difficult. Realistically, it could be somewhere in the first few decades of the 1900s.\n",
    "\n",
    "Let's count the number of listings with cars that fall outside the 1900 - 2016 interval and see if it's safe to remove those rows entirely, or if we need more custom logic.\n",
    "\n",
    "\n",
    "- Decide which the highest and lowest acceptable values are for the registration_year column.\n",
    "   - Write a markdown cell explaining your decision and why.\n",
    "- Remove the values outside those upper and lower bounds and calculate the distribution of the remaining values using Series.value_counts(normalize=True).\n",
    "  - Write a markdown cell explaining your observations.\n"
   ]
  },
  {
   "cell_type": "markdown",
   "id": "154cf836",
   "metadata": {},
   "source": [
    "### Highest and lowest acceptable values:"
   ]
  },
  {
   "cell_type": "code",
   "execution_count": 60,
   "id": "976247b3",
   "metadata": {},
   "outputs": [
    {
     "data": {
      "text/plain": [
       "3.8793369710697"
      ]
     },
     "execution_count": 60,
     "metadata": {},
     "output_type": "execute_result"
    }
   ],
   "source": [
    "# use the ~ character to apply a not operation to the boolean map returned by the between function\n",
    "bool_outside_1900_to_2016 = ~autos['registration_year'].between(1900, 2016)\n",
    "bool_outside_1900_to_2016.sum() / autos.shape[0] *100"
   ]
  },
  {
   "cell_type": "markdown",
   "id": "caf8c386",
   "metadata": {},
   "source": [
    "Given that this is less than 4% of our data, we will remove these rows."
   ]
  },
  {
   "cell_type": "markdown",
   "id": "28199f1b",
   "metadata": {},
   "source": [
    "### Remove the values outside those upper and lower bounds and calculate the distribution of the remaining values using Series.value_counts(normalize=True)."
   ]
  },
  {
   "cell_type": "code",
   "execution_count": 61,
   "id": "67e1a2fb",
   "metadata": {},
   "outputs": [
    {
     "data": {
      "text/plain": [
       "(48565, 17)"
      ]
     },
     "execution_count": 61,
     "metadata": {},
     "output_type": "execute_result"
    }
   ],
   "source": [
    "autos.shape"
   ]
  },
  {
   "cell_type": "code",
   "execution_count": 62,
   "id": "6ee85fc1",
   "metadata": {},
   "outputs": [],
   "source": [
    "# Many ways to select rows in a dataframe that fall within a value range for a column.\n",
    "# Using `Series.between()` is one way.\n",
    "autos = autos[autos['registration_year'].between(1900, 2016)]"
   ]
  },
  {
   "cell_type": "code",
   "execution_count": 63,
   "id": "ac9a16ed",
   "metadata": {},
   "outputs": [
    {
     "data": {
      "text/plain": [
       "(46681, 17)"
      ]
     },
     "execution_count": 63,
     "metadata": {},
     "output_type": "execute_result"
    }
   ],
   "source": [
    "autos.shape"
   ]
  },
  {
   "cell_type": "markdown",
   "id": "4e2fdfe6",
   "metadata": {},
   "source": [
    "### Calculate the distribution of the remaining `registration_year` values using Series.value_counts(normalize=True)."
   ]
  },
  {
   "cell_type": "code",
   "execution_count": 64,
   "id": "2cdb770c",
   "metadata": {},
   "outputs": [
    {
     "data": {
      "text/plain": [
       "2000    3156\n",
       "2005    2936\n",
       "1999    2897\n",
       "2004    2703\n",
       "2003    2699\n",
       "        ... \n",
       "1929       1\n",
       "1931       1\n",
       "1938       1\n",
       "1939       1\n",
       "1952       1\n",
       "Name: registration_year, Length: 78, dtype: int64"
      ]
     },
     "execution_count": 64,
     "metadata": {},
     "output_type": "execute_result"
    }
   ],
   "source": [
    "autos['registration_year'].value_counts()"
   ]
  },
  {
   "cell_type": "code",
   "execution_count": 65,
   "id": "e08677a6",
   "metadata": {},
   "outputs": [
    {
     "data": {
      "text/plain": [
       "2000    0.067608\n",
       "2005    0.062895\n",
       "1999    0.062060\n",
       "2004    0.057904\n",
       "2003    0.057818\n",
       "2006    0.057197\n",
       "2001    0.056468\n",
       "2002    0.053255\n",
       "1998    0.050620\n",
       "2007    0.048778\n",
       "Name: registration_year, dtype: float64"
      ]
     },
     "execution_count": 65,
     "metadata": {},
     "output_type": "execute_result"
    }
   ],
   "source": [
    "autos['registration_year'].value_counts(normalize=True).head(10)"
   ]
  },
  {
   "cell_type": "markdown",
   "id": "97b4471b",
   "metadata": {},
   "source": [
    "It appears that most of the vehicles were first registered in the past 20 years."
   ]
  },
  {
   "cell_type": "markdown",
   "id": "cc2ee8b5",
   "metadata": {},
   "source": [
    "## Learn:\n",
    "\n",
    "One of the analysis techniques we learned in this course is aggregation. When working with data on cars, it's natural to explore variations across different car brands. We can use aggregation to understand the brand column.\n",
    "\n",
    "If you recall in an earlier lesson, we explored how to use loops to perform aggregation. Here's what the process looks like:\n",
    "\n",
    "- Identify the unique values we want to aggregate by\n",
    "- Create an empty dictionary to store our aggregate data\n",
    "- Loop over the unique values, and for each: - Subset the dataframe by the unique values - Calculate the mean of whichever column we're interested in - Assign the val/mean to the dict as k/v.\n",
    "\n",
    "## Exercise:\n",
    "\n",
    "- Explore the unique values in the `brand` column, and decide on which brands you want to aggregate by.\n",
    "  - You might want to select the top 20, or you might want to select those that have over a certain percentage of the total values (e.g. > 5%).\n",
    "  - Remember that `Series.value_counts()` produces a series with index labels, so you can use Series.index attribute to access the labels, should you wish.\n",
    "- Write a short paragraph describing the `brand` data, and explaining which brands you've chosen to aggregate on.\n",
    "- Create an empty dictionary to hold your aggregate data.\n",
    "  - Loop over your selected brands, and assign the mean price to the dictionary, with the brand name as the key.\n",
    "  - Print your dictionary of aggregate data, and write a paragraph analyzing the results.\n"
   ]
  },
  {
   "cell_type": "markdown",
   "id": "7b13b2c9",
   "metadata": {},
   "source": [
    "### Explore the unique values in the `brand` column, and decide on which brands you want to aggregate by."
   ]
  },
  {
   "cell_type": "code",
   "execution_count": 66,
   "id": "69f82ebe",
   "metadata": {},
   "outputs": [
    {
     "data": {
      "text/plain": [
       "volkswagen        0.211264\n",
       "bmw               0.110045\n",
       "opel              0.107581\n",
       "mercedes_benz     0.096463\n",
       "audi              0.086566\n",
       "ford              0.069900\n",
       "renault           0.047150\n",
       "peugeot           0.029841\n",
       "fiat              0.025642\n",
       "seat              0.018273\n",
       "skoda             0.016409\n",
       "nissan            0.015274\n",
       "mazda             0.015188\n",
       "smart             0.014160\n",
       "citroen           0.014010\n",
       "toyota            0.012703\n",
       "hyundai           0.010025\n",
       "sonstige_autos    0.009811\n",
       "volvo             0.009147\n",
       "mini              0.008762\n",
       "mitsubishi        0.008226\n",
       "honda             0.007840\n",
       "kia               0.007069\n",
       "alfa_romeo        0.006641\n",
       "porsche           0.006127\n",
       "suzuki            0.005934\n",
       "chevrolet         0.005698\n",
       "chrysler          0.003513\n",
       "dacia             0.002635\n",
       "daihatsu          0.002506\n",
       "jeep              0.002271\n",
       "subaru            0.002142\n",
       "land_rover        0.002099\n",
       "saab              0.001649\n",
       "jaguar            0.001564\n",
       "daewoo            0.001500\n",
       "trabant           0.001392\n",
       "rover             0.001328\n",
       "lancia            0.001071\n",
       "lada              0.000578\n",
       "Name: brand, dtype: float64"
      ]
     },
     "execution_count": 66,
     "metadata": {},
     "output_type": "execute_result"
    }
   ],
   "source": [
    "autos['brand'].value_counts(normalize=True)"
   ]
  },
  {
   "cell_type": "markdown",
   "id": "4b61239f",
   "metadata": {},
   "source": [
    "German manufacturers represent four out of the top five brands, almost 50% of the overall listings. Volkswagen is by far the most popular brand, with approximately double the cars for sale of the next two brands combined.\n",
    "\n",
    "There are lots of brands that don't have a significant percentage of listings, so we will limit our analysis to brands representing more than 5% of total listings."
   ]
  },
  {
   "cell_type": "markdown",
   "id": "e10f76d2",
   "metadata": {},
   "source": [
    "### Select brand names representing more than 5% of total listings:"
   ]
  },
  {
   "cell_type": "code",
   "execution_count": 67,
   "id": "2a9693bc",
   "metadata": {},
   "outputs": [
    {
     "data": {
      "text/plain": [
       "Index(['volkswagen', 'bmw', 'opel', 'mercedes_benz', 'audi', 'ford'], dtype='object')"
      ]
     },
     "execution_count": 67,
     "metadata": {},
     "output_type": "execute_result"
    }
   ],
   "source": [
    "brand_counts = autos['brand'].value_counts(normalize=True)\n",
    "common_brands = brand_counts[brand_counts > 0.05].index\n",
    "common_brands"
   ]
  },
  {
   "cell_type": "markdown",
   "id": "06f52304",
   "metadata": {},
   "source": [
    "### Aggregate the mean prices for each brand"
   ]
  },
  {
   "cell_type": "code",
   "execution_count": 68,
   "id": "4b03f661",
   "metadata": {},
   "outputs": [
    {
     "data": {
      "text/plain": [
       "Index(['date_crawled', 'name', 'price', 'abtest', 'vehicle_type',\n",
       "       'registration_year', 'gearbox', 'power_ps', 'model', 'odometer_km',\n",
       "       'registration_month', 'fuel_type', 'brand', 'unrepaired_damage',\n",
       "       'ad_created', 'postal_code', 'last_seen'],\n",
       "      dtype='object')"
      ]
     },
     "execution_count": 68,
     "metadata": {},
     "output_type": "execute_result"
    }
   ],
   "source": [
    "autos.columns"
   ]
  },
  {
   "cell_type": "code",
   "execution_count": 69,
   "id": "07424027",
   "metadata": {},
   "outputs": [
    {
     "data": {
      "text/plain": [
       "{'volkswagen': 5402,\n",
       " 'bmw': 8332,\n",
       " 'opel': 2975,\n",
       " 'mercedes_benz': 8628,\n",
       " 'audi': 9336,\n",
       " 'ford': 3749}"
      ]
     },
     "execution_count": 69,
     "metadata": {},
     "output_type": "execute_result"
    }
   ],
   "source": [
    "mean_prices_by_brand = {}\n",
    "\n",
    "for brand in common_brands:\n",
    "    mean_price = autos.loc[autos['brand'] == brand, 'price'].mean()\n",
    "    mean_prices_by_brand[brand] = int(mean_price)\n",
    "    \n",
    "mean_prices_by_brand"
   ]
  },
  {
   "cell_type": "markdown",
   "id": "933606da",
   "metadata": {},
   "source": [
    "Of the top 5 brands, there is a distinct price gap:\n",
    "\n",
    "- Audi, BMW and Mercedes Benz are more expensive\n",
    "- Ford and Opel are less expensive\n",
    "- Volkswagen is in between - this may explain its popularity, it may be a 'best of 'both worlds' option."
   ]
  },
  {
   "cell_type": "code",
   "execution_count": 70,
   "id": "4458a7cc",
   "metadata": {},
   "outputs": [
    {
     "data": {
      "text/html": [
       "<div>\n",
       "<style scoped>\n",
       "    .dataframe tbody tr th:only-of-type {\n",
       "        vertical-align: middle;\n",
       "    }\n",
       "\n",
       "    .dataframe tbody tr th {\n",
       "        vertical-align: top;\n",
       "    }\n",
       "\n",
       "    .dataframe thead th {\n",
       "        text-align: right;\n",
       "    }\n",
       "</style>\n",
       "<table border=\"1\" class=\"dataframe\">\n",
       "  <thead>\n",
       "    <tr style=\"text-align: right;\">\n",
       "      <th></th>\n",
       "      <th>Brand</th>\n",
       "      <th>Average Price $</th>\n",
       "    </tr>\n",
       "  </thead>\n",
       "  <tbody>\n",
       "    <tr>\n",
       "      <th>0</th>\n",
       "      <td>volkswagen</td>\n",
       "      <td>5402</td>\n",
       "    </tr>\n",
       "    <tr>\n",
       "      <th>1</th>\n",
       "      <td>bmw</td>\n",
       "      <td>8332</td>\n",
       "    </tr>\n",
       "    <tr>\n",
       "      <th>2</th>\n",
       "      <td>opel</td>\n",
       "      <td>2975</td>\n",
       "    </tr>\n",
       "    <tr>\n",
       "      <th>3</th>\n",
       "      <td>mercedes_benz</td>\n",
       "      <td>8628</td>\n",
       "    </tr>\n",
       "    <tr>\n",
       "      <th>4</th>\n",
       "      <td>audi</td>\n",
       "      <td>9336</td>\n",
       "    </tr>\n",
       "    <tr>\n",
       "      <th>5</th>\n",
       "      <td>ford</td>\n",
       "      <td>3749</td>\n",
       "    </tr>\n",
       "  </tbody>\n",
       "</table>\n",
       "</div>"
      ],
      "text/plain": [
       "           Brand  Average Price $\n",
       "0     volkswagen             5402\n",
       "1            bmw             8332\n",
       "2           opel             2975\n",
       "3  mercedes_benz             8628\n",
       "4           audi             9336\n",
       "5           ford             3749"
      ]
     },
     "execution_count": 70,
     "metadata": {},
     "output_type": "execute_result"
    }
   ],
   "source": [
    "average_prices = pd.DataFrame(list(mean_prices_by_brand.items()), columns=[\"Brand\", \"Average Price $\"])\n",
    "average_prices"
   ]
  },
  {
   "cell_type": "code",
   "execution_count": 71,
   "id": "85576525",
   "metadata": {},
   "outputs": [],
   "source": [
    "average_prices['Brand'] = average_prices['Brand'].str.title().str.replace('_', ' ')\n",
    "average_prices['Average Price $'] = average_prices['Average Price $'].astype('int64')"
   ]
  },
  {
   "cell_type": "code",
   "execution_count": 72,
   "id": "1369bc9b",
   "metadata": {},
   "outputs": [
    {
     "data": {
      "text/html": [
       "<div>\n",
       "<style scoped>\n",
       "    .dataframe tbody tr th:only-of-type {\n",
       "        vertical-align: middle;\n",
       "    }\n",
       "\n",
       "    .dataframe tbody tr th {\n",
       "        vertical-align: top;\n",
       "    }\n",
       "\n",
       "    .dataframe thead th {\n",
       "        text-align: right;\n",
       "    }\n",
       "</style>\n",
       "<table border=\"1\" class=\"dataframe\">\n",
       "  <thead>\n",
       "    <tr style=\"text-align: right;\">\n",
       "      <th></th>\n",
       "      <th>Brand</th>\n",
       "      <th>Average Price $</th>\n",
       "    </tr>\n",
       "  </thead>\n",
       "  <tbody>\n",
       "    <tr>\n",
       "      <th>0</th>\n",
       "      <td>Volkswagen</td>\n",
       "      <td>5402</td>\n",
       "    </tr>\n",
       "    <tr>\n",
       "      <th>1</th>\n",
       "      <td>Bmw</td>\n",
       "      <td>8332</td>\n",
       "    </tr>\n",
       "    <tr>\n",
       "      <th>2</th>\n",
       "      <td>Opel</td>\n",
       "      <td>2975</td>\n",
       "    </tr>\n",
       "    <tr>\n",
       "      <th>3</th>\n",
       "      <td>Mercedes Benz</td>\n",
       "      <td>8628</td>\n",
       "    </tr>\n",
       "    <tr>\n",
       "      <th>4</th>\n",
       "      <td>Audi</td>\n",
       "      <td>9336</td>\n",
       "    </tr>\n",
       "    <tr>\n",
       "      <th>5</th>\n",
       "      <td>Ford</td>\n",
       "      <td>3749</td>\n",
       "    </tr>\n",
       "  </tbody>\n",
       "</table>\n",
       "</div>"
      ],
      "text/plain": [
       "           Brand  Average Price $\n",
       "0     Volkswagen             5402\n",
       "1            Bmw             8332\n",
       "2           Opel             2975\n",
       "3  Mercedes Benz             8628\n",
       "4           Audi             9336\n",
       "5           Ford             3749"
      ]
     },
     "execution_count": 72,
     "metadata": {},
     "output_type": "execute_result"
    }
   ],
   "source": [
    "average_prices"
   ]
  },
  {
   "cell_type": "markdown",
   "id": "dd66ff73",
   "metadata": {},
   "source": [
    "In the last screen, we aggregated across brands to understand mean price. We observed that in the top 6 brands, there's a distinct price gap.\n",
    "\n",
    "- Audi, BMW and Mercedes Benz are more expensive\n",
    "- Ford and Opel are less expensive\n",
    "- Volkswagen is in between\n",
    "\n",
    "For the top 6 brands, let's use aggregation to understand the average mileage for those cars and if there's any visible link with mean price. While our natural instinct may be to display both aggregated series objects and visually compare them, this has a few limitations:\n",
    "\n",
    "- it's difficult to compare more than two aggregate series objects if we want to extend to more columns\n",
    "- we can't compare more than a few rows from each series object\n",
    "- we can only sort by the index (brand name) of both series objects so we can easily make visual comparisons\n",
    "\n",
    "Instead, we can combine the data from both series objects into a single dataframe (with a shared index) and display the dataframe directly. To do this, we'll need to learn two pandas methods:\n",
    "\n",
    "- [pandas series constructor](https://pandas.pydata.org/pandas-docs/stable/reference/api/pandas.Series.html)\n",
    "- [pandas dataframe constructor](https://pandas.pydata.org/pandas-docs/stable/reference/api/pandas.DataFrame.html)\n",
    "\n",
    "Here's an example of the series constructor that uses the `brand_mean_prices` dictionary:"
   ]
  },
  {
   "cell_type": "code",
   "execution_count": 73,
   "id": "20064c36",
   "metadata": {},
   "outputs": [
    {
     "data": {
      "text/plain": [
       "volkswagen       5402\n",
       "bmw              8332\n",
       "opel             2975\n",
       "mercedes_benz    8628\n",
       "audi             9336\n",
       "ford             3749\n",
       "dtype: int64"
      ]
     },
     "execution_count": 73,
     "metadata": {},
     "output_type": "execute_result"
    }
   ],
   "source": [
    "mean_prices_by_brand_series = pd.Series(mean_prices_by_brand)\n",
    "mean_prices_by_brand_series"
   ]
  },
  {
   "cell_type": "markdown",
   "id": "16a415ba",
   "metadata": {},
   "source": [
    "The keys in the dictionary became the index in the series object. We can then create a single-column dataframe from this series object. We need to use the `columns` parameter when calling the dataframe constructor (which accepts an array-like object) to specify the column name (or the column name will be set to `0` by default):"
   ]
  },
  {
   "cell_type": "code",
   "execution_count": 74,
   "id": "716c06fa",
   "metadata": {},
   "outputs": [
    {
     "data": {
      "text/html": [
       "<div>\n",
       "<style scoped>\n",
       "    .dataframe tbody tr th:only-of-type {\n",
       "        vertical-align: middle;\n",
       "    }\n",
       "\n",
       "    .dataframe tbody tr th {\n",
       "        vertical-align: top;\n",
       "    }\n",
       "\n",
       "    .dataframe thead th {\n",
       "        text-align: right;\n",
       "    }\n",
       "</style>\n",
       "<table border=\"1\" class=\"dataframe\">\n",
       "  <thead>\n",
       "    <tr style=\"text-align: right;\">\n",
       "      <th></th>\n",
       "      <th>mean_mileage</th>\n",
       "    </tr>\n",
       "  </thead>\n",
       "  <tbody>\n",
       "    <tr>\n",
       "      <th>volkswagen</th>\n",
       "      <td>5402</td>\n",
       "    </tr>\n",
       "    <tr>\n",
       "      <th>bmw</th>\n",
       "      <td>8332</td>\n",
       "    </tr>\n",
       "    <tr>\n",
       "      <th>opel</th>\n",
       "      <td>2975</td>\n",
       "    </tr>\n",
       "    <tr>\n",
       "      <th>mercedes_benz</th>\n",
       "      <td>8628</td>\n",
       "    </tr>\n",
       "    <tr>\n",
       "      <th>audi</th>\n",
       "      <td>9336</td>\n",
       "    </tr>\n",
       "    <tr>\n",
       "      <th>ford</th>\n",
       "      <td>3749</td>\n",
       "    </tr>\n",
       "  </tbody>\n",
       "</table>\n",
       "</div>"
      ],
      "text/plain": [
       "               mean_mileage\n",
       "volkswagen             5402\n",
       "bmw                    8332\n",
       "opel                   2975\n",
       "mercedes_benz          8628\n",
       "audi                   9336\n",
       "ford                   3749"
      ]
     },
     "execution_count": 74,
     "metadata": {},
     "output_type": "execute_result"
    }
   ],
   "source": [
    "brand_info = pd.DataFrame(mean_prices_by_brand_series, columns=['mean_mileage'])\n",
    "brand_info"
   ]
  },
  {
   "cell_type": "markdown",
   "id": "acb75661",
   "metadata": {},
   "source": [
    "- Use the loop method from the last screen to calculate the mean mileage and mean price for each of the top brands, storing the results in a dictionary.\n",
    "- Convert both dictionaries to series objects, using the series constructor.\n",
    "- Create a dataframe from the first series object using the dataframe constructor.\n",
    "- Assign the other series as a new column in this dataframe.\n",
    "- Pretty print the dataframe, and write a paragraph analyzing the aggregate data."
   ]
  },
  {
   "cell_type": "code",
   "execution_count": 75,
   "id": "29329883",
   "metadata": {},
   "outputs": [
    {
     "data": {
      "text/plain": [
       "{'volkswagen': 128707,\n",
       " 'bmw': 132572,\n",
       " 'opel': 129310,\n",
       " 'mercedes_benz': 130788,\n",
       " 'audi': 129157,\n",
       " 'ford': 124266}"
      ]
     },
     "execution_count": 75,
     "metadata": {},
     "output_type": "execute_result"
    }
   ],
   "source": [
    "mean_mileage_by_brand = {}\n",
    "\n",
    "for brand in common_brands:\n",
    "    mean_mileage = autos.loc[autos['brand'] == brand, 'odometer_km'].mean()\n",
    "    mean_mileage_by_brand[brand] = int(mean_mileage)\n",
    "    \n",
    "mean_mileage_by_brand"
   ]
  },
  {
   "cell_type": "code",
   "execution_count": 76,
   "id": "127690fd",
   "metadata": {},
   "outputs": [],
   "source": [
    "mean_prices_by_brand_series = pd.Series(mean_prices_by_brand)\n",
    "mean_mileage_by_brand_series = pd.Series(mean_mileage_by_brand)"
   ]
  },
  {
   "cell_type": "code",
   "execution_count": 77,
   "id": "7736d1e4",
   "metadata": {},
   "outputs": [],
   "source": [
    "brand_info = pd.DataFrame(mean_prices_by_brand_series, columns=['mean_price'])\n",
    "brand_info['mean_mileage'] = mean_mileage_by_brand_series"
   ]
  },
  {
   "cell_type": "code",
   "execution_count": 78,
   "id": "5077df3d",
   "metadata": {},
   "outputs": [
    {
     "data": {
      "text/html": [
       "<div>\n",
       "<style scoped>\n",
       "    .dataframe tbody tr th:only-of-type {\n",
       "        vertical-align: middle;\n",
       "    }\n",
       "\n",
       "    .dataframe tbody tr th {\n",
       "        vertical-align: top;\n",
       "    }\n",
       "\n",
       "    .dataframe thead th {\n",
       "        text-align: right;\n",
       "    }\n",
       "</style>\n",
       "<table border=\"1\" class=\"dataframe\">\n",
       "  <thead>\n",
       "    <tr style=\"text-align: right;\">\n",
       "      <th></th>\n",
       "      <th>mean_price</th>\n",
       "      <th>mean_mileage</th>\n",
       "    </tr>\n",
       "  </thead>\n",
       "  <tbody>\n",
       "    <tr>\n",
       "      <th>volkswagen</th>\n",
       "      <td>5402</td>\n",
       "      <td>128707</td>\n",
       "    </tr>\n",
       "    <tr>\n",
       "      <th>bmw</th>\n",
       "      <td>8332</td>\n",
       "      <td>132572</td>\n",
       "    </tr>\n",
       "    <tr>\n",
       "      <th>opel</th>\n",
       "      <td>2975</td>\n",
       "      <td>129310</td>\n",
       "    </tr>\n",
       "    <tr>\n",
       "      <th>mercedes_benz</th>\n",
       "      <td>8628</td>\n",
       "      <td>130788</td>\n",
       "    </tr>\n",
       "    <tr>\n",
       "      <th>audi</th>\n",
       "      <td>9336</td>\n",
       "      <td>129157</td>\n",
       "    </tr>\n",
       "    <tr>\n",
       "      <th>ford</th>\n",
       "      <td>3749</td>\n",
       "      <td>124266</td>\n",
       "    </tr>\n",
       "  </tbody>\n",
       "</table>\n",
       "</div>"
      ],
      "text/plain": [
       "               mean_price  mean_mileage\n",
       "volkswagen           5402        128707\n",
       "bmw                  8332        132572\n",
       "opel                 2975        129310\n",
       "mercedes_benz        8628        130788\n",
       "audi                 9336        129157\n",
       "ford                 3749        124266"
      ]
     },
     "execution_count": 78,
     "metadata": {},
     "output_type": "execute_result"
    }
   ],
   "source": [
    "brand_info"
   ]
  },
  {
   "cell_type": "code",
   "execution_count": 79,
   "id": "7673b691",
   "metadata": {},
   "outputs": [
    {
     "data": {
      "text/html": [
       "<div>\n",
       "<style scoped>\n",
       "    .dataframe tbody tr th:only-of-type {\n",
       "        vertical-align: middle;\n",
       "    }\n",
       "\n",
       "    .dataframe tbody tr th {\n",
       "        vertical-align: top;\n",
       "    }\n",
       "\n",
       "    .dataframe thead th {\n",
       "        text-align: right;\n",
       "    }\n",
       "</style>\n",
       "<table border=\"1\" class=\"dataframe\">\n",
       "  <thead>\n",
       "    <tr style=\"text-align: right;\">\n",
       "      <th></th>\n",
       "      <th>mean_price</th>\n",
       "      <th>mean_mileage</th>\n",
       "    </tr>\n",
       "  </thead>\n",
       "  <tbody>\n",
       "    <tr>\n",
       "      <th>audi</th>\n",
       "      <td>9336</td>\n",
       "      <td>129157</td>\n",
       "    </tr>\n",
       "    <tr>\n",
       "      <th>mercedes_benz</th>\n",
       "      <td>8628</td>\n",
       "      <td>130788</td>\n",
       "    </tr>\n",
       "    <tr>\n",
       "      <th>bmw</th>\n",
       "      <td>8332</td>\n",
       "      <td>132572</td>\n",
       "    </tr>\n",
       "    <tr>\n",
       "      <th>volkswagen</th>\n",
       "      <td>5402</td>\n",
       "      <td>128707</td>\n",
       "    </tr>\n",
       "    <tr>\n",
       "      <th>ford</th>\n",
       "      <td>3749</td>\n",
       "      <td>124266</td>\n",
       "    </tr>\n",
       "    <tr>\n",
       "      <th>opel</th>\n",
       "      <td>2975</td>\n",
       "      <td>129310</td>\n",
       "    </tr>\n",
       "  </tbody>\n",
       "</table>\n",
       "</div>"
      ],
      "text/plain": [
       "               mean_price  mean_mileage\n",
       "audi                 9336        129157\n",
       "mercedes_benz        8628        130788\n",
       "bmw                  8332        132572\n",
       "volkswagen           5402        128707\n",
       "ford                 3749        124266\n",
       "opel                 2975        129310"
      ]
     },
     "execution_count": 79,
     "metadata": {},
     "output_type": "execute_result"
    }
   ],
   "source": [
    "brand_info.sort_values(by=['mean_price'], ascending=False)"
   ]
  },
  {
   "cell_type": "markdown",
   "id": "9e280332",
   "metadata": {},
   "source": [
    "The range of car mileages does not vary as much as the prices do by brand, instead all falling within 10% for the top brands. There is a slight trend to the more expensive vehicles having higher mileage, with the less expensive vehicles having lower mileage."
   ]
  },
  {
   "cell_type": "markdown",
   "id": "261e41be",
   "metadata": {},
   "source": [
    "In this guided project, we practiced applying a variety of pandas methods to explore and understand a data set on car listings. Here are some next steps for you to consider:\n",
    "\n",
    "- Data cleaning next steps:\n",
    "  - Identify categorical data that uses german words, translate them and map the values to their english counterparts\n",
    "  - Convert the dates to be uniform numeric data, so `\"2016-03-21\"` becomes the integer `20160321`.\n",
    "  - See if there are particular keywords in the name column that you can extract as new columns\n",
    "- Analysis next steps:\n",
    "  - Find the most common brand/model combinations\n",
    "  - Split the `odometer_km` into groups, and use aggregation to see if average prices follows any patterns based on the mileage.\n",
    "  - How much cheaper are cars with damage than their non-damaged counterparts?\n",
    "\n",
    "Curious to see what other students have done on this project? [Head over to our Community](https://community.dataquest.io/tags/c/social/share/49/294) to check them out. While you are there, please remember to show some love and give your own feedback!\n",
    "\n",
    "And of course, we welcome you to share your own project and show off your hard work. Head over to our Community to [share your finished Guided Project](https://community.dataquest.io/tags/c/social/share/49/294)!"
   ]
  },
  {
   "cell_type": "markdown",
   "id": "a766e3da",
   "metadata": {},
   "source": [
    "# Data cleaning next steps:"
   ]
  },
  {
   "cell_type": "markdown",
   "id": "089d8e87",
   "metadata": {},
   "source": [
    "> ## Identify categorical data that uses german words, translate them and map the values to their english counterparts"
   ]
  },
  {
   "cell_type": "code",
   "execution_count": 80,
   "id": "12995c01",
   "metadata": {},
   "outputs": [
    {
     "name": "stdout",
     "output_type": "stream",
     "text": [
      "<class 'pandas.core.frame.DataFrame'>\n",
      "Int64Index: 46681 entries, 0 to 49999\n",
      "Data columns (total 17 columns):\n",
      " #   Column              Non-Null Count  Dtype \n",
      "---  ------              --------------  ----- \n",
      " 0   date_crawled        46681 non-null  object\n",
      " 1   name                46681 non-null  object\n",
      " 2   price               46681 non-null  int64 \n",
      " 3   abtest              46681 non-null  object\n",
      " 4   vehicle_type        43977 non-null  object\n",
      " 5   registration_year   46681 non-null  int64 \n",
      " 6   gearbox             44571 non-null  object\n",
      " 7   power_ps            46681 non-null  int64 \n",
      " 8   model               44488 non-null  object\n",
      " 9   odometer_km         46681 non-null  int64 \n",
      " 10  registration_month  46681 non-null  int64 \n",
      " 11  fuel_type           43363 non-null  object\n",
      " 12  brand               46681 non-null  object\n",
      " 13  unrepaired_damage   38374 non-null  object\n",
      " 14  ad_created          46681 non-null  object\n",
      " 15  postal_code         46681 non-null  int64 \n",
      " 16  last_seen           46681 non-null  object\n",
      "dtypes: int64(6), object(11)\n",
      "memory usage: 6.4+ MB\n"
     ]
    }
   ],
   "source": [
    "autos.info()"
   ]
  },
  {
   "cell_type": "markdown",
   "id": "8bd87c05",
   "metadata": {},
   "source": [
    "## Translate and map the `vehicle_type`"
   ]
  },
  {
   "cell_type": "code",
   "execution_count": 81,
   "id": "5748d771",
   "metadata": {},
   "outputs": [
    {
     "data": {
      "text/plain": [
       "array(['bus', 'limousine', 'kleinwagen', 'kombi', nan, 'coupe', 'suv',\n",
       "       'cabrio', 'andere'], dtype=object)"
      ]
     },
     "execution_count": 81,
     "metadata": {},
     "output_type": "execute_result"
    }
   ],
   "source": [
    "autos['vehicle_type'].unique()"
   ]
  },
  {
   "cell_type": "markdown",
   "id": "e0798f8e",
   "metadata": {},
   "source": [
    "#### FIll the `vehicle_type` NaN values with 'unknown'"
   ]
  },
  {
   "cell_type": "code",
   "execution_count": 82,
   "id": "e7ff13c1",
   "metadata": {},
   "outputs": [],
   "source": [
    "autos['vehicle_type'] = autos['vehicle_type'].fillna('unknown')"
   ]
  },
  {
   "cell_type": "code",
   "execution_count": 83,
   "id": "dcdcc13e",
   "metadata": {},
   "outputs": [
    {
     "data": {
      "text/plain": [
       "0"
      ]
     },
     "execution_count": 83,
     "metadata": {},
     "output_type": "execute_result"
    }
   ],
   "source": [
    "autos['vehicle_type'].isnull().sum()"
   ]
  },
  {
   "cell_type": "code",
   "execution_count": 84,
   "id": "30f16e15",
   "metadata": {},
   "outputs": [
    {
     "data": {
      "text/plain": [
       "array(['bus', 'limousine', 'kleinwagen', 'kombi', 'unknown', 'coupe',\n",
       "       'suv', 'cabrio', 'andere'], dtype=object)"
      ]
     },
     "execution_count": 84,
     "metadata": {},
     "output_type": "execute_result"
    }
   ],
   "source": [
    "autos['vehicle_type'].unique()"
   ]
  },
  {
   "cell_type": "markdown",
   "id": "3b604305",
   "metadata": {},
   "source": [
    "#### Replace the `vehicle_type` German words with the English translations "
   ]
  },
  {
   "cell_type": "code",
   "execution_count": 85,
   "id": "bba6f16e",
   "metadata": {},
   "outputs": [],
   "source": [
    "translation_map_vehicle_type = {'bus': 'bus', \n",
    "                                'limousine': 'limousine', \n",
    "                                'kleinwagen': 'small_car', \n",
    "                                'kombi': 'combi', \n",
    "                                'unknown': 'unknown', \n",
    "                                'coupe': 'coupe', \n",
    "                                'suv': 'suv',\n",
    "                                'cabrio': 'convertible', \n",
    "                                'andere': 'other'}"
   ]
  },
  {
   "cell_type": "code",
   "execution_count": 86,
   "id": "6e7ddac0",
   "metadata": {},
   "outputs": [],
   "source": [
    "autos['vehicle_type'] = autos['vehicle_type'].map(translation_map_vehicle_type)"
   ]
  },
  {
   "cell_type": "code",
   "execution_count": 87,
   "id": "816fa6cc",
   "metadata": {},
   "outputs": [
    {
     "data": {
      "text/plain": [
       "array(['bus', 'limousine', 'small_car', 'combi', 'unknown', 'coupe',\n",
       "       'suv', 'convertible', 'other'], dtype=object)"
      ]
     },
     "execution_count": 87,
     "metadata": {},
     "output_type": "execute_result"
    }
   ],
   "source": [
    "autos['vehicle_type'].unique()"
   ]
  },
  {
   "cell_type": "markdown",
   "id": "70f60a67",
   "metadata": {},
   "source": [
    "## Translate and map the `gearbox`"
   ]
  },
  {
   "cell_type": "code",
   "execution_count": 88,
   "id": "fc2343a3",
   "metadata": {},
   "outputs": [
    {
     "data": {
      "text/plain": [
       "array(['manuell', 'automatik', nan], dtype=object)"
      ]
     },
     "execution_count": 88,
     "metadata": {},
     "output_type": "execute_result"
    }
   ],
   "source": [
    "autos['gearbox'].unique()"
   ]
  },
  {
   "cell_type": "markdown",
   "id": "d5929a36",
   "metadata": {},
   "source": [
    "#### FIll the `gearbox` NaN values with 'unknown'"
   ]
  },
  {
   "cell_type": "code",
   "execution_count": 89,
   "id": "2a1ce65f",
   "metadata": {},
   "outputs": [],
   "source": [
    "autos['gearbox'] = autos['gearbox'].fillna('unknown')"
   ]
  },
  {
   "cell_type": "code",
   "execution_count": 90,
   "id": "7aecd17d",
   "metadata": {},
   "outputs": [
    {
     "data": {
      "text/plain": [
       "0"
      ]
     },
     "execution_count": 90,
     "metadata": {},
     "output_type": "execute_result"
    }
   ],
   "source": [
    "autos['gearbox'].isnull().sum()"
   ]
  },
  {
   "cell_type": "code",
   "execution_count": 91,
   "id": "432d6165",
   "metadata": {},
   "outputs": [
    {
     "data": {
      "text/plain": [
       "array(['manuell', 'automatik', 'unknown'], dtype=object)"
      ]
     },
     "execution_count": 91,
     "metadata": {},
     "output_type": "execute_result"
    }
   ],
   "source": [
    "autos['gearbox'].unique()"
   ]
  },
  {
   "cell_type": "markdown",
   "id": "3d8d616a",
   "metadata": {},
   "source": [
    "#### Replace the `gearbox` German words with the English translations "
   ]
  },
  {
   "cell_type": "code",
   "execution_count": 92,
   "id": "4ff8941b",
   "metadata": {},
   "outputs": [
    {
     "data": {
      "text/plain": [
       "array(['manual', 'automatic', 'unknown'], dtype=object)"
      ]
     },
     "execution_count": 92,
     "metadata": {},
     "output_type": "execute_result"
    }
   ],
   "source": [
    "translation_map_gearbox = {'manuell': 'manual', \n",
    "                           'automatik': 'automatic', \n",
    "                           'unknown': 'unknown'}\n",
    "\n",
    "autos['gearbox'] = autos['gearbox'].map(translation_map_gearbox)\n",
    "autos['gearbox'].unique()"
   ]
  },
  {
   "cell_type": "markdown",
   "id": "b91b9342",
   "metadata": {},
   "source": [
    "## Translate and map the `fuel_type`"
   ]
  },
  {
   "cell_type": "code",
   "execution_count": 93,
   "id": "2f7b6979",
   "metadata": {},
   "outputs": [
    {
     "data": {
      "text/plain": [
       "array(['lpg', 'benzin', 'diesel', nan, 'cng', 'hybrid', 'elektro',\n",
       "       'andere'], dtype=object)"
      ]
     },
     "execution_count": 93,
     "metadata": {},
     "output_type": "execute_result"
    }
   ],
   "source": [
    "autos['fuel_type'].unique()"
   ]
  },
  {
   "cell_type": "markdown",
   "id": "a580d86f",
   "metadata": {},
   "source": [
    "#### FIll the `fuel_type` NaN values with 'unknown'"
   ]
  },
  {
   "cell_type": "code",
   "execution_count": 94,
   "id": "e6ac586a",
   "metadata": {},
   "outputs": [],
   "source": [
    "autos['fuel_type'] = autos['fuel_type'].fillna('unknown')"
   ]
  },
  {
   "cell_type": "code",
   "execution_count": 95,
   "id": "6fd528d9",
   "metadata": {},
   "outputs": [
    {
     "data": {
      "text/plain": [
       "array(['lpg', 'benzin', 'diesel', 'unknown', 'cng', 'hybrid', 'elektro',\n",
       "       'andere'], dtype=object)"
      ]
     },
     "execution_count": 95,
     "metadata": {},
     "output_type": "execute_result"
    }
   ],
   "source": [
    "autos['fuel_type'].unique()"
   ]
  },
  {
   "cell_type": "code",
   "execution_count": 96,
   "id": "d4542ba4",
   "metadata": {},
   "outputs": [
    {
     "data": {
      "text/plain": [
       "array(['lpg', 'gasoline', 'diesel', 'unknown', 'cng', 'hybrid',\n",
       "       'electric', 'other'], dtype=object)"
      ]
     },
     "execution_count": 96,
     "metadata": {},
     "output_type": "execute_result"
    }
   ],
   "source": [
    "translation_map_fuel_type = {'lpg': 'lpg', \n",
    "                             'benzin': 'gasoline', \n",
    "                             'diesel': 'diesel', \n",
    "                             'unknown': 'unknown', \n",
    "                             'cng': 'cng', \n",
    "                             'hybrid': 'hybrid', \n",
    "                             'elektro': 'electric', \n",
    "                             'andere': 'other'}\n",
    "\n",
    "autos['fuel_type'] = autos['fuel_type'].map(translation_map_fuel_type)\n",
    "autos['fuel_type'].unique()"
   ]
  },
  {
   "cell_type": "markdown",
   "id": "0408db68",
   "metadata": {},
   "source": [
    "## Translate and map the `unrepaired_damage`"
   ]
  },
  {
   "cell_type": "code",
   "execution_count": 97,
   "id": "cf85856e",
   "metadata": {
    "scrolled": true
   },
   "outputs": [
    {
     "data": {
      "text/plain": [
       "array(['nein', nan, 'ja'], dtype=object)"
      ]
     },
     "execution_count": 97,
     "metadata": {},
     "output_type": "execute_result"
    }
   ],
   "source": [
    "autos['unrepaired_damage'].unique()"
   ]
  },
  {
   "cell_type": "markdown",
   "id": "127b1aa1",
   "metadata": {},
   "source": [
    "#### FIll the `unrepaired_damage` NaN values with 'unknown'"
   ]
  },
  {
   "cell_type": "code",
   "execution_count": 98,
   "id": "20768d34",
   "metadata": {},
   "outputs": [
    {
     "data": {
      "text/plain": [
       "array(['nein', 'unknown', 'ja'], dtype=object)"
      ]
     },
     "execution_count": 98,
     "metadata": {},
     "output_type": "execute_result"
    }
   ],
   "source": [
    "autos['unrepaired_damage'] = autos['unrepaired_damage'].fillna('unknown')\n",
    "autos['unrepaired_damage'].unique()"
   ]
  },
  {
   "cell_type": "code",
   "execution_count": 99,
   "id": "56802fb9",
   "metadata": {},
   "outputs": [
    {
     "data": {
      "text/plain": [
       "array(['no', 'unknown', 'yes'], dtype=object)"
      ]
     },
     "execution_count": 99,
     "metadata": {},
     "output_type": "execute_result"
    }
   ],
   "source": [
    "translation_map_unrepaired_damage = {'nein': 'no', \n",
    "                                     'unknown': 'unknown' , \n",
    "                                     'ja': 'yes'}\n",
    "autos['unrepaired_damage'] = autos['unrepaired_damage'].map(translation_map_unrepaired_damage)\n",
    "autos['unrepaired_damage'].unique()"
   ]
  },
  {
   "cell_type": "markdown",
   "id": "28f82984",
   "metadata": {},
   "source": [
    "> ## Convert the dates to be uniform numeric data, so \"2016-03-21\" becomes the integer 20160321."
   ]
  },
  {
   "cell_type": "code",
   "execution_count": 100,
   "id": "71e3bcf6",
   "metadata": {},
   "outputs": [
    {
     "name": "stdout",
     "output_type": "stream",
     "text": [
      "<class 'pandas.core.frame.DataFrame'>\n",
      "Int64Index: 46681 entries, 0 to 49999\n",
      "Data columns (total 17 columns):\n",
      " #   Column              Non-Null Count  Dtype \n",
      "---  ------              --------------  ----- \n",
      " 0   date_crawled        46681 non-null  object\n",
      " 1   name                46681 non-null  object\n",
      " 2   price               46681 non-null  int64 \n",
      " 3   abtest              46681 non-null  object\n",
      " 4   vehicle_type        46681 non-null  object\n",
      " 5   registration_year   46681 non-null  int64 \n",
      " 6   gearbox             46681 non-null  object\n",
      " 7   power_ps            46681 non-null  int64 \n",
      " 8   model               44488 non-null  object\n",
      " 9   odometer_km         46681 non-null  int64 \n",
      " 10  registration_month  46681 non-null  int64 \n",
      " 11  fuel_type           46681 non-null  object\n",
      " 12  brand               46681 non-null  object\n",
      " 13  unrepaired_damage   46681 non-null  object\n",
      " 14  ad_created          46681 non-null  object\n",
      " 15  postal_code         46681 non-null  int64 \n",
      " 16  last_seen           46681 non-null  object\n",
      "dtypes: int64(6), object(11)\n",
      "memory usage: 6.4+ MB\n"
     ]
    }
   ],
   "source": [
    "autos.info()"
   ]
  },
  {
   "cell_type": "code",
   "execution_count": 101,
   "id": "beea117e",
   "metadata": {},
   "outputs": [
    {
     "data": {
      "text/html": [
       "<div>\n",
       "<style scoped>\n",
       "    .dataframe tbody tr th:only-of-type {\n",
       "        vertical-align: middle;\n",
       "    }\n",
       "\n",
       "    .dataframe tbody tr th {\n",
       "        vertical-align: top;\n",
       "    }\n",
       "\n",
       "    .dataframe thead th {\n",
       "        text-align: right;\n",
       "    }\n",
       "</style>\n",
       "<table border=\"1\" class=\"dataframe\">\n",
       "  <thead>\n",
       "    <tr style=\"text-align: right;\">\n",
       "      <th></th>\n",
       "      <th>date_crawled</th>\n",
       "      <th>ad_created</th>\n",
       "      <th>last_seen</th>\n",
       "    </tr>\n",
       "  </thead>\n",
       "  <tbody>\n",
       "    <tr>\n",
       "      <th>0</th>\n",
       "      <td>2016-03-26 17:47:46</td>\n",
       "      <td>2016-03-26 00:00:00</td>\n",
       "      <td>2016-04-06 06:45:54</td>\n",
       "    </tr>\n",
       "    <tr>\n",
       "      <th>1</th>\n",
       "      <td>2016-04-04 13:38:56</td>\n",
       "      <td>2016-04-04 00:00:00</td>\n",
       "      <td>2016-04-06 14:45:08</td>\n",
       "    </tr>\n",
       "    <tr>\n",
       "      <th>2</th>\n",
       "      <td>2016-03-26 18:57:24</td>\n",
       "      <td>2016-03-26 00:00:00</td>\n",
       "      <td>2016-04-06 20:15:37</td>\n",
       "    </tr>\n",
       "    <tr>\n",
       "      <th>3</th>\n",
       "      <td>2016-03-12 16:58:10</td>\n",
       "      <td>2016-03-12 00:00:00</td>\n",
       "      <td>2016-03-15 03:16:28</td>\n",
       "    </tr>\n",
       "    <tr>\n",
       "      <th>4</th>\n",
       "      <td>2016-04-01 14:38:50</td>\n",
       "      <td>2016-04-01 00:00:00</td>\n",
       "      <td>2016-04-01 14:38:50</td>\n",
       "    </tr>\n",
       "    <tr>\n",
       "      <th>...</th>\n",
       "      <td>...</td>\n",
       "      <td>...</td>\n",
       "      <td>...</td>\n",
       "    </tr>\n",
       "    <tr>\n",
       "      <th>49995</th>\n",
       "      <td>2016-03-27 14:38:19</td>\n",
       "      <td>2016-03-27 00:00:00</td>\n",
       "      <td>2016-04-01 13:47:40</td>\n",
       "    </tr>\n",
       "    <tr>\n",
       "      <th>49996</th>\n",
       "      <td>2016-03-28 10:50:25</td>\n",
       "      <td>2016-03-28 00:00:00</td>\n",
       "      <td>2016-04-02 14:18:02</td>\n",
       "    </tr>\n",
       "    <tr>\n",
       "      <th>49997</th>\n",
       "      <td>2016-04-02 14:44:48</td>\n",
       "      <td>2016-04-02 00:00:00</td>\n",
       "      <td>2016-04-04 11:47:27</td>\n",
       "    </tr>\n",
       "    <tr>\n",
       "      <th>49998</th>\n",
       "      <td>2016-03-08 19:25:42</td>\n",
       "      <td>2016-03-08 00:00:00</td>\n",
       "      <td>2016-04-05 16:45:07</td>\n",
       "    </tr>\n",
       "    <tr>\n",
       "      <th>49999</th>\n",
       "      <td>2016-03-14 00:42:12</td>\n",
       "      <td>2016-03-13 00:00:00</td>\n",
       "      <td>2016-04-06 21:18:48</td>\n",
       "    </tr>\n",
       "  </tbody>\n",
       "</table>\n",
       "<p>46681 rows × 3 columns</p>\n",
       "</div>"
      ],
      "text/plain": [
       "              date_crawled           ad_created            last_seen\n",
       "0      2016-03-26 17:47:46  2016-03-26 00:00:00  2016-04-06 06:45:54\n",
       "1      2016-04-04 13:38:56  2016-04-04 00:00:00  2016-04-06 14:45:08\n",
       "2      2016-03-26 18:57:24  2016-03-26 00:00:00  2016-04-06 20:15:37\n",
       "3      2016-03-12 16:58:10  2016-03-12 00:00:00  2016-03-15 03:16:28\n",
       "4      2016-04-01 14:38:50  2016-04-01 00:00:00  2016-04-01 14:38:50\n",
       "...                    ...                  ...                  ...\n",
       "49995  2016-03-27 14:38:19  2016-03-27 00:00:00  2016-04-01 13:47:40\n",
       "49996  2016-03-28 10:50:25  2016-03-28 00:00:00  2016-04-02 14:18:02\n",
       "49997  2016-04-02 14:44:48  2016-04-02 00:00:00  2016-04-04 11:47:27\n",
       "49998  2016-03-08 19:25:42  2016-03-08 00:00:00  2016-04-05 16:45:07\n",
       "49999  2016-03-14 00:42:12  2016-03-13 00:00:00  2016-04-06 21:18:48\n",
       "\n",
       "[46681 rows x 3 columns]"
      ]
     },
     "execution_count": 101,
     "metadata": {},
     "output_type": "execute_result"
    }
   ],
   "source": [
    "autos[['date_crawled', 'ad_created', 'last_seen']]"
   ]
  },
  {
   "cell_type": "markdown",
   "id": "424336cf",
   "metadata": {},
   "source": [
    "Split up the date_crawled column into two columns:\n",
    "- one with the date crawled as an int\n",
    "- another with the time_crawled\n",
    "\n",
    "Do the same with the ad_created and last_seen dates"
   ]
  },
  {
   "cell_type": "code",
   "execution_count": 102,
   "id": "502accfa",
   "metadata": {},
   "outputs": [],
   "source": [
    "autos['time_crawled'] = autos['date_crawled'].str.split().str[1]\n",
    "autos['date_crawled'] = (autos['date_crawled']\n",
    "                                 .str.split().str[0]\n",
    "                                 .str.replace('-', '')\n",
    "                                 .astype('int64'))"
   ]
  },
  {
   "cell_type": "code",
   "execution_count": 103,
   "id": "9d11890a",
   "metadata": {},
   "outputs": [],
   "source": [
    "autos['time_ad_created'] = autos['ad_created'].str.split().str[1]\n",
    "autos['ad_created'] = (autos['ad_created']\n",
    "                                 .str.split().str[0]\n",
    "                                 .str.replace('-', '')\n",
    "                                 .astype('int64'))"
   ]
  },
  {
   "cell_type": "code",
   "execution_count": 104,
   "id": "59981cf4",
   "metadata": {},
   "outputs": [],
   "source": [
    "autos['time_last_seen'] = autos['last_seen'].str.split().str[1]\n",
    "autos['last_seen'] = (autos['last_seen']\n",
    "                                 .str.split().str[0]\n",
    "                                 .str.replace('-', '')\n",
    "                                 .astype('int64'))"
   ]
  },
  {
   "cell_type": "code",
   "execution_count": 105,
   "id": "55180dde",
   "metadata": {},
   "outputs": [
    {
     "name": "stdout",
     "output_type": "stream",
     "text": [
      "<class 'pandas.core.frame.DataFrame'>\n",
      "Int64Index: 46681 entries, 0 to 49999\n",
      "Data columns (total 20 columns):\n",
      " #   Column              Non-Null Count  Dtype \n",
      "---  ------              --------------  ----- \n",
      " 0   date_crawled        46681 non-null  int64 \n",
      " 1   name                46681 non-null  object\n",
      " 2   price               46681 non-null  int64 \n",
      " 3   abtest              46681 non-null  object\n",
      " 4   vehicle_type        46681 non-null  object\n",
      " 5   registration_year   46681 non-null  int64 \n",
      " 6   gearbox             46681 non-null  object\n",
      " 7   power_ps            46681 non-null  int64 \n",
      " 8   model               44488 non-null  object\n",
      " 9   odometer_km         46681 non-null  int64 \n",
      " 10  registration_month  46681 non-null  int64 \n",
      " 11  fuel_type           46681 non-null  object\n",
      " 12  brand               46681 non-null  object\n",
      " 13  unrepaired_damage   46681 non-null  object\n",
      " 14  ad_created          46681 non-null  int64 \n",
      " 15  postal_code         46681 non-null  int64 \n",
      " 16  last_seen           46681 non-null  int64 \n",
      " 17  time_crawled        46681 non-null  object\n",
      " 18  time_ad_created     46681 non-null  object\n",
      " 19  time_last_seen      46681 non-null  object\n",
      "dtypes: int64(9), object(11)\n",
      "memory usage: 7.5+ MB\n"
     ]
    }
   ],
   "source": [
    "autos.info()"
   ]
  },
  {
   "cell_type": "markdown",
   "id": "a11ad69e",
   "metadata": {},
   "source": [
    "> ## See if there are particular keywords in the name column that you can extract as new columns"
   ]
  },
  {
   "cell_type": "code",
   "execution_count": 118,
   "id": "f7b3fb3f",
   "metadata": {},
   "outputs": [
    {
     "data": {
      "text/plain": [
       "array(['Peugeot_807_160_NAVTECH_ON_BOARD',\n",
       "       'BMW_740i_4_4_Liter_HAMANN_UMBAU_Mega_Optik',\n",
       "       'Volkswagen_Golf_1.6_United',\n",
       "       'Smart_smart_fortwo_coupe_softouch/F1/Klima/Panorama',\n",
       "       'Ford_Focus_1_6_Benzin_T�V_neu_ist_sehr_gepflegt.mit_Klimaanlage',\n",
       "       'Chrysler_Grand_Voyager_2.8_CRD_Aut.Limited_Stow�n_Go_Sitze_7Sitze',\n",
       "       'VW_Golf_III_GT_Special_Electronic_Green_Metallic_Reserviert_!!!',\n",
       "       'Golf_IV_1.9_TDI_90PS', 'Seat_Arosa',\n",
       "       'Renault_Megane_Scenic_1.6e_RT_Klimaanlage',\n",
       "       'Mercedes_A140_Motorschaden',\n",
       "       'Smart_smart_fortwo_coupe_softouch_pure_MHD_Panoramadach__Klima_',\n",
       "       'Audi_A3_1.6_tuning',\n",
       "       'Renault_Clio_3__Dynamique_1.2__16_V;_viele_Verschleissteile_neu!',\n",
       "       'Corvette_C3_Coupe_T_Top_Crossfire_Injection',\n",
       "       'Opel_Vectra_B_Kombi', 'Volkswagen_Scirocco_2_G60',\n",
       "       'Verkaufen_mein_bmw_e36_320_i_touring',\n",
       "       'mazda_tribute_2.0_mit_gas_und_tuev_neu_2018',\n",
       "       'Audi_A4_Avant_1.9_TDI_*6_Gang*AHK*Klimatronik*DPF*AGR*T�V*'],\n",
       "      dtype=object)"
      ]
     },
     "execution_count": 118,
     "metadata": {},
     "output_type": "execute_result"
    }
   ],
   "source": [
    "autos['name'].unique()[:20]"
   ]
  },
  {
   "cell_type": "code",
   "execution_count": 115,
   "id": "ee60a9cf",
   "metadata": {},
   "outputs": [
    {
     "data": {
      "text/plain": [
       "Volkswagen    4953\n",
       "Opel          4136\n",
       "BMW           4092\n",
       "Mercedes      3837\n",
       "Audi          3518\n",
       "Ford          2750\n",
       "VW            1891\n",
       "Renault       1786\n",
       "Peugeot       1202\n",
       "Fiat          1012\n",
       "Golf           930\n",
       "Seat           749\n",
       "Skoda          684\n",
       "Verkaufe       638\n",
       "Mazda          621\n",
       "Nissan         617\n",
       "Smart          575\n",
       "Toyota         532\n",
       "Bmw            480\n",
       "Vw             430\n",
       "Name: name, dtype: int64"
      ]
     },
     "execution_count": 115,
     "metadata": {},
     "output_type": "execute_result"
    }
   ],
   "source": [
    "autos['name'].str.split('_',).str[0].value_counts().head(20)"
   ]
  },
  {
   "cell_type": "markdown",
   "id": "8b265531",
   "metadata": {},
   "source": [
    "> ## Find the most common brand/model combinations"
   ]
  },
  {
   "cell_type": "code",
   "execution_count": 126,
   "id": "e7a208bd",
   "metadata": {},
   "outputs": [
    {
     "data": {
      "text/plain": [
       "volkswagen golf           3707\n",
       "bmw 3er                   2615\n",
       "volkswagen polo           1609\n",
       "opel corsa                1592\n",
       "volkswagen passat         1349\n",
       "opel astra                1348\n",
       "audi a4                   1231\n",
       "mercedes_benz c_klasse    1136\n",
       "bmw 5er                   1132\n",
       "mercedes_benz e_klasse     958\n",
       "audi a3                    825\n",
       "audi a6                    797\n",
       "ford focus                 762\n",
       "ford fiesta                722\n",
       "volkswagen transporter     674\n",
       "renault twingo             615\n",
       "peugeot 2_reihe            600\n",
       "smart fortwo               550\n",
       "opel vectra                544\n",
       "mercedes_benz a_klasse     539\n",
       "dtype: int64"
      ]
     },
     "execution_count": 126,
     "metadata": {},
     "output_type": "execute_result"
    }
   ],
   "source": [
    "brand_model = autos['brand'] + ' ' + autos['model']\n",
    "# df['brand_model']\n",
    "brand_model.value_counts().head(20)"
   ]
  },
  {
   "cell_type": "code",
   "execution_count": 129,
   "id": "8c455acc",
   "metadata": {},
   "outputs": [
    {
     "data": {
      "text/plain": [
       "volkswagen golf           0.083326\n",
       "bmw 3er                   0.058780\n",
       "volkswagen polo           0.036167\n",
       "opel corsa                0.035785\n",
       "volkswagen passat         0.030323\n",
       "opel astra                0.030300\n",
       "audi a4                   0.027670\n",
       "mercedes_benz c_klasse    0.025535\n",
       "bmw 5er                   0.025445\n",
       "mercedes_benz e_klasse    0.021534\n",
       "audi a3                   0.018544\n",
       "audi a6                   0.017915\n",
       "ford focus                0.017128\n",
       "ford fiesta               0.016229\n",
       "volkswagen transporter    0.015150\n",
       "renault twingo            0.013824\n",
       "peugeot 2_reihe           0.013487\n",
       "smart fortwo              0.012363\n",
       "opel vectra               0.012228\n",
       "mercedes_benz a_klasse    0.012116\n",
       "dtype: float64"
      ]
     },
     "execution_count": 129,
     "metadata": {},
     "output_type": "execute_result"
    }
   ],
   "source": [
    "brand_model.value_counts(normalize=True).head(20)"
   ]
  },
  {
   "cell_type": "markdown",
   "id": "dfe72d11",
   "metadata": {},
   "source": [
    "> ## Split the `odometer_km` into groups, and use aggregation to see if average prices follows any patterns based on the mileage."
   ]
  },
  {
   "cell_type": "code",
   "execution_count": null,
   "id": "62b4b241",
   "metadata": {},
   "outputs": [],
   "source": []
  },
  {
   "cell_type": "markdown",
   "id": "9b14e5e7",
   "metadata": {},
   "source": [
    "> ## How much cheaper are cars with damage than their non-damaged counterparts?"
   ]
  },
  {
   "cell_type": "code",
   "execution_count": 130,
   "id": "909b62c3",
   "metadata": {},
   "outputs": [
    {
     "data": {
      "text/plain": [
       "no         33834\n",
       "unknown     8307\n",
       "yes         4540\n",
       "Name: unrepaired_damage, dtype: int64"
      ]
     },
     "execution_count": 130,
     "metadata": {},
     "output_type": "execute_result"
    }
   ],
   "source": [
    "autos['unrepaired_damage'].value_counts()"
   ]
  },
  {
   "cell_type": "code",
   "execution_count": 137,
   "id": "d0a8f3a2",
   "metadata": {},
   "outputs": [
    {
     "data": {
      "text/plain": [
       "7164.033102796004"
      ]
     },
     "execution_count": 137,
     "metadata": {},
     "output_type": "execute_result"
    }
   ],
   "source": [
    "av_price_undamaged = autos[autos['unrepaired_damage'] == 'no']['price'].mean()\n",
    "av_price_undamaged"
   ]
  },
  {
   "cell_type": "code",
   "execution_count": 138,
   "id": "4844d4f0",
   "metadata": {},
   "outputs": [
    {
     "data": {
      "text/plain": [
       "2241.146035242291"
      ]
     },
     "execution_count": 138,
     "metadata": {},
     "output_type": "execute_result"
    }
   ],
   "source": [
    "av_price_damaged = autos[autos['unrepaired_damage'] == 'yes']['price'].mean()\n",
    "av_price_damaged"
   ]
  },
  {
   "cell_type": "code",
   "execution_count": 140,
   "id": "ddc0283a",
   "metadata": {},
   "outputs": [
    {
     "data": {
      "text/plain": [
       "4922"
      ]
     },
     "execution_count": 140,
     "metadata": {},
     "output_type": "execute_result"
    }
   ],
   "source": [
    "price_difference = int(av_price_undamaged - av_price_damaged)\n",
    "price_difference"
   ]
  },
  {
   "cell_type": "code",
   "execution_count": null,
   "id": "2a1b0b4e",
   "metadata": {},
   "outputs": [],
   "source": []
  }
 ],
 "metadata": {
  "kernelspec": {
   "display_name": "Python 3",
   "language": "python",
   "name": "python3"
  },
  "language_info": {
   "codemirror_mode": {
    "name": "ipython",
    "version": 3
   },
   "file_extension": ".py",
   "mimetype": "text/x-python",
   "name": "python",
   "nbconvert_exporter": "python",
   "pygments_lexer": "ipython3",
   "version": "3.8.8"
  }
 },
 "nbformat": 4,
 "nbformat_minor": 5
}
