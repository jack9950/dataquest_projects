{
 "cells": [
  {
   "cell_type": "markdown",
   "id": "eae270ec",
   "metadata": {},
   "source": [
    "# Design for an Audience"
   ]
  },
  {
   "cell_type": "markdown",
   "id": "717a7af7",
   "metadata": {},
   "source": [
    "Depending who we're making the graphs for, we have two kinds of data visualization:\n",
    "\n",
    "- Exploratory data visualization: we create graphs for ourselves to better understand and explore data.\n",
    "- Explanatory data visualization: we create graphs for others to inform, make a point, or tell a story.\n",
    "\n",
    "![](course_intro.svg)\n",
    "\n",
    "Our focus in this course is explanatory data visualization — specifically, we're going to learn the following:\n",
    "\n",
    "- How to better create graphs for an audience by using information design principles.\n",
    "- The elements of a story and how to create storytelling data visualizations with matplotlib.\n",
    "- How to create visual patterns using Gestalt principles.\n",
    "- How to guide the audience's attention with pre-attentive attributes.\n",
    "- How to use matplotlib built-in styles — with a case study on the FiveThirtyEight style.\n",
    "\n",
    "Below, we see a gallery of the data visualizations that we're going to build together throughout this course:\n",
    "\n",
    "![](1.1-m525.png)"
   ]
  },
  {
   "cell_type": "markdown",
   "id": "890eb7d2",
   "metadata": {},
   "source": [
    "To follow through, you'll need to be familiar with data visualization and matplotlib. If you want to focus on the prerequisites first, start with the [Data Visualization Fundamentals course](https://app.dataquest.io/course/exploratory-data-visualization).\n",
    "\n",
    "Let's get started!"
   ]
  },
  {
   "cell_type": "code",
   "execution_count": null,
   "id": "8f305b31",
   "metadata": {},
   "outputs": [],
   "source": []
  }
 ],
 "metadata": {
  "kernelspec": {
   "display_name": "Python 3",
   "language": "python",
   "name": "python3"
  },
  "language_info": {
   "codemirror_mode": {
    "name": "ipython",
    "version": 3
   },
   "file_extension": ".py",
   "mimetype": "text/x-python",
   "name": "python",
   "nbconvert_exporter": "python",
   "pygments_lexer": "ipython3",
   "version": "3.8.8"
  }
 },
 "nbformat": 4,
 "nbformat_minor": 5
}
