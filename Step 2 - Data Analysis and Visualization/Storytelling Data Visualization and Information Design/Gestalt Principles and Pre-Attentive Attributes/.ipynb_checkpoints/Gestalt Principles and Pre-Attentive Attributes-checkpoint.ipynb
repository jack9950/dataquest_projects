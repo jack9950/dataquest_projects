{
 "cells": [
  {
   "cell_type": "markdown",
   "id": "82d3ee9c",
   "metadata": {},
   "source": [
    "# Gestalt Principles and Pre-Attentive Attributes"
   ]
  },
  {
   "cell_type": "markdown",
   "id": "7db6735b",
   "metadata": {},
   "source": [
    "In the first lesson, we learned two design principles:\n",
    "\n",
    "- Familiarity (choose what is most familiar to your audience)\n",
    "- Maximizing the data-ink ratio\n",
    "\n",
    "Design principles help us in two ways:\n",
    "\n",
    "- They generate design options.\n",
    "- They help us choose among those options.\n",
    "\n",
    "We can derive a few other useful design principles if we understand how our visual perception works. Let's take a look at the image below.\n",
    "\n",
    "![](1.1-m527.svg)\n",
    "\n",
    "If you see a square and a triangle, then you perceive a pattern. If we break down the image into individual components, however, we only have a bunch of small gray circles arbitrarily spaced and arranged. Then why do we see a pattern?\n",
    "\n",
    "The pattern we see is a result of how our visual system processes the individual components. Our interest as data scientists is to predict what sort of patterns people see in our data visualizations. To predict that, we can use the **Gestalt principles**.\n",
    "\n",
    "The idea behind Gestalt principles is that humans generally perceive patterns rather than individual objects. From a practical point of view, **Gestalt principles** tell us what sort of pattern we can expect people to see when we show them our data visualizations. Let's get started!"
   ]
  },
  {
   "cell_type": "code",
   "execution_count": 1,
   "id": "f8e2e0cb",
   "metadata": {},
   "outputs": [],
   "source": [
    "import numpy as np\n",
    "import pandas as pd\n",
    "import matplotlib.pyplot as plt\n",
    "import seaborn as sns"
   ]
  },
  {
   "cell_type": "code",
   "execution_count": null,
   "id": "e448f97e",
   "metadata": {},
   "outputs": [],
   "source": []
  }
 ],
 "metadata": {
  "kernelspec": {
   "display_name": "Python 3",
   "language": "python",
   "name": "python3"
  },
  "language_info": {
   "codemirror_mode": {
    "name": "ipython",
    "version": 3
   },
   "file_extension": ".py",
   "mimetype": "text/x-python",
   "name": "python",
   "nbconvert_exporter": "python",
   "pygments_lexer": "ipython3",
   "version": "3.8.8"
  }
 },
 "nbformat": 4,
 "nbformat_minor": 5
}
