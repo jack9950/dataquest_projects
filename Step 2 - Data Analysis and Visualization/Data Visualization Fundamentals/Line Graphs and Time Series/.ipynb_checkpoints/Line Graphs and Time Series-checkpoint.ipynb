{
 "cells": [
  {
   "cell_type": "markdown",
   "id": "24828426",
   "metadata": {},
   "source": [
    "# Line Graphs and Time Series"
   ]
  },
  {
   "cell_type": "markdown",
   "id": "cc206c2f",
   "metadata": {},
   "source": [
    "At the heart of any data science workflow is data exploration. Most commonly, we explore data by using the following:\n",
    "\n",
    "- Statistical methods (measuring averages, measuring variability, etc.)\n",
    "- Data visualization (transforming data into a visual form)\n",
    "\n",
    "This indicates that one of the central tasks of data visualization is to help us explore data.\n",
    "\n",
    "The other central task is to help us communicate and explain the results we've found through exploring data. That being said, we have two kinds of data visualization:\n",
    "\n",
    "- Exploratory data visualization: we build graphs for ourselves to explore data and find patterns.\n",
    "- Explanatory data visualization: we build graphs for others to communicate and explain the patterns we've found through exploring data.\n",
    "\n",
    "![Data Visualization Graphic](exploratory_explanatory.svg)\n",
    "\n",
    "In this first course, we're going to focus on exploratory data visualization. The main visualization library we're going to use is Matplotlib. We're going to learn the following:\n",
    "\n",
    "- How to visualize time series data with line plots.\n",
    "- What are correlations and how to visualize them with scatter plots.\n",
    "- How to visualize frequency distributions with bar plots and histograms.\n",
    "- How to speed up our exploratory data visualization workflow with the pandas library.\n",
    "- How to visualize multiple variables using Seaborn's relational plots.\n",
    "\n",
    "In the second course, our focus will be explanatory data visualization. We'll learn about graph aesthetics, information design principles, storytelling data visualization, customizing graphs with Matplotlib, and more.\n",
    "\n",
    "Let's get started!"
   ]
  },
  {
   "cell_type": "code",
   "execution_count": null,
   "id": "faa78ddc",
   "metadata": {},
   "outputs": [],
   "source": []
  }
 ],
 "metadata": {
  "kernelspec": {
   "display_name": "Python 3",
   "language": "python",
   "name": "python3"
  },
  "language_info": {
   "codemirror_mode": {
    "name": "ipython",
    "version": 3
   },
   "file_extension": ".py",
   "mimetype": "text/x-python",
   "name": "python",
   "nbconvert_exporter": "python",
   "pygments_lexer": "ipython3",
   "version": "3.8.8"
  }
 },
 "nbformat": 4,
 "nbformat_minor": 5
}
