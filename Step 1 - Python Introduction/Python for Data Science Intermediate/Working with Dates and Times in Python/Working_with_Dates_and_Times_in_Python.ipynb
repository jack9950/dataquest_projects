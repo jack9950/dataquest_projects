{
 "cells": [
  {
   "cell_type": "code",
   "execution_count": 1,
   "id": "9e1d6411",
   "metadata": {},
   "outputs": [],
   "source": [
    "import datetime as dt\n",
    "from csv import reader"
   ]
  },
  {
   "cell_type": "code",
   "execution_count": 2,
   "id": "634fd615",
   "metadata": {},
   "outputs": [],
   "source": [
    "opened_file = open('potus_visitors_2015.csv')\n",
    "read_file = reader(opened_file)\n",
    "potus = list(read_file)\n",
    "potus = potus[1:]"
   ]
  },
  {
   "cell_type": "code",
   "execution_count": 3,
   "id": "27292e6e",
   "metadata": {},
   "outputs": [],
   "source": [
    "def inspect(data, rows=5):\n",
    "    print(\"Dateset length:\", len(data), '\\n')\n",
    "    for row in data[:rows]:\n",
    "        print(row,'\\n')"
   ]
  },
  {
   "cell_type": "code",
   "execution_count": 4,
   "id": "d5bb34a3",
   "metadata": {},
   "outputs": [
    {
     "name": "stdout",
     "output_type": "stream",
     "text": [
      "Dateset length: 47954 \n",
      "\n",
      "['Joshua T. Blanton', '2014-12-18T00:00:00', '1/6/15 9:30', '1/6/15 23:59', '', 'potus', 'west wing', 'JointService Military Honor Guard'] \n",
      "\n",
      "['Jack T. Gutting', '2014-12-18T00:00:00', '1/6/15 9:30', '1/6/15 23:59', '', 'potus', 'west wing', 'JointService Military Honor Guard'] \n",
      "\n",
      "['Bradley T. Guiles', '2014-12-18T00:00:00', '1/6/15 9:30', '1/6/15 23:59', '', 'potus', 'west wing', 'JointService Military Honor Guard'] \n",
      "\n",
      "['Loryn F. Grieb', '2014-12-18T00:00:00', '1/6/15 9:30', '1/6/15 23:59', '', 'potus', 'west wing', 'JointService Military Honor Guard'] \n",
      "\n",
      "['Travis D. Gordon', '2014-12-18T00:00:00', '1/6/15 9:30', '1/6/15 23:59', '', 'potus', 'west wing', 'JointService Military Honor Guard'] \n",
      "\n"
     ]
    }
   ],
   "source": [
    "inspect(potus)"
   ]
  },
  {
   "cell_type": "code",
   "execution_count": 5,
   "id": "a949b274",
   "metadata": {},
   "outputs": [],
   "source": [
    "date_format = \"%m/%d/%y %H:%M\""
   ]
  },
  {
   "cell_type": "markdown",
   "id": "f1026be6",
   "metadata": {},
   "source": [
    "- convert appointment start and end dates to datetime objects"
   ]
  },
  {
   "cell_type": "code",
   "execution_count": 6,
   "id": "578038a2",
   "metadata": {},
   "outputs": [],
   "source": [
    "for appt in potus:\n",
    "    appt_start_date = appt[2]\n",
    "    appt_end_date = appt[3]\n",
    "    appt[2] = dt.datetime.strptime(appt_start_date, date_format)\n",
    "    appt[3] = dt.datetime.strptime(appt_end_date, date_format)"
   ]
  },
  {
   "cell_type": "code",
   "execution_count": 7,
   "id": "18f1fd9b",
   "metadata": {},
   "outputs": [
    {
     "name": "stdout",
     "output_type": "stream",
     "text": [
      "Dateset length: 47954 \n",
      "\n",
      "['Joshua T. Blanton', '2014-12-18T00:00:00', datetime.datetime(2015, 1, 6, 9, 30), datetime.datetime(2015, 1, 6, 23, 59), '', 'potus', 'west wing', 'JointService Military Honor Guard'] \n",
      "\n",
      "['Jack T. Gutting', '2014-12-18T00:00:00', datetime.datetime(2015, 1, 6, 9, 30), datetime.datetime(2015, 1, 6, 23, 59), '', 'potus', 'west wing', 'JointService Military Honor Guard'] \n",
      "\n",
      "['Bradley T. Guiles', '2014-12-18T00:00:00', datetime.datetime(2015, 1, 6, 9, 30), datetime.datetime(2015, 1, 6, 23, 59), '', 'potus', 'west wing', 'JointService Military Honor Guard'] \n",
      "\n",
      "['Loryn F. Grieb', '2014-12-18T00:00:00', datetime.datetime(2015, 1, 6, 9, 30), datetime.datetime(2015, 1, 6, 23, 59), '', 'potus', 'west wing', 'JointService Military Honor Guard'] \n",
      "\n",
      "['Travis D. Gordon', '2014-12-18T00:00:00', datetime.datetime(2015, 1, 6, 9, 30), datetime.datetime(2015, 1, 6, 23, 59), '', 'potus', 'west wing', 'JointService Military Honor Guard'] \n",
      "\n"
     ]
    }
   ],
   "source": [
    "inspect(potus)"
   ]
  },
  {
   "cell_type": "code",
   "execution_count": 8,
   "id": "9010beff",
   "metadata": {},
   "outputs": [],
   "source": [
    "visitors_per_month = {}\n",
    "for appt in potus:\n",
    "    appt_start_date = appt[2]\n",
    "    year_month = appt_start_date.strftime(\"%B, %Y\")\n",
    "    if year_month in visitors_per_month:\n",
    "        visitors_per_month[year_month] += 1\n",
    "    else:\n",
    "        visitors_per_month[year_month] = 1"
   ]
  },
  {
   "cell_type": "code",
   "execution_count": 9,
   "id": "347f424a",
   "metadata": {},
   "outputs": [
    {
     "name": "stdout",
     "output_type": "stream",
     "text": [
      "{'January, 2015': 1248, 'February, 2015': 2165, 'March, 2015': 2262, 'April, 2015': 4996, 'May, 2015': 3013, 'June, 2015': 7743, 'July, 2015': 2930, 'August, 2015': 1350, 'September, 2015': 4416, 'October, 2015': 3669, 'November, 2015': 1133, 'December, 2015': 13029}\n"
     ]
    }
   ],
   "source": [
    "print(visitors_per_month)"
   ]
  },
  {
   "cell_type": "markdown",
   "id": "e8d4f2bb",
   "metadata": {},
   "source": [
    "- Create a frequency table of the meeting times.\n",
    "- Calculate the minimum and maximum value for the appointment lengths."
   ]
  },
  {
   "cell_type": "code",
   "execution_count": 10,
   "id": "7a220170",
   "metadata": {},
   "outputs": [],
   "source": [
    "appt_lengths = {}\n",
    "\n",
    "for appt in potus:\n",
    "    appt_start = appt[2]\n",
    "    appt_end = appt[3]\n",
    "    appt_length = appt_end - appt_start\n",
    "    \n",
    "    if appt_length in appt_lengths:\n",
    "        appt_lengths[appt_length] += 1\n",
    "    else:\n",
    "        appt_lengths[appt_length] = 1"
   ]
  },
  {
   "cell_type": "code",
   "execution_count": 11,
   "id": "fb41e987",
   "metadata": {},
   "outputs": [
    {
     "name": "stdout",
     "output_type": "stream",
     "text": [
      "{datetime.timedelta(seconds=52140): 1213, datetime.timedelta(seconds=50340): 1543, datetime.timedelta(seconds=48540): 696, datetime.timedelta(seconds=46740): 681, datetime.timedelta(seconds=44940): 357, datetime.timedelta(seconds=41340): 1115, datetime.timedelta(seconds=53940): 511, datetime.timedelta(seconds=17940): 301, datetime.timedelta(seconds=47040): 2, datetime.timedelta(seconds=43140): 1041, datetime.timedelta(seconds=39540): 1548, datetime.timedelta(seconds=37740): 5897, datetime.timedelta(seconds=35940): 996, datetime.timedelta(seconds=34140): 921, datetime.timedelta(seconds=21540): 8173, datetime.timedelta(seconds=30540): 2855, datetime.timedelta(seconds=28740): 2027, datetime.timedelta(seconds=32340): 862, datetime.timedelta(seconds=49140): 12, datetime.timedelta(seconds=24240): 103, datetime.timedelta(seconds=44040): 39, datetime.timedelta(seconds=42840): 6, datetime.timedelta(seconds=35040): 119, datetime.timedelta(seconds=32640): 13, datetime.timedelta(seconds=42240): 32, datetime.timedelta(seconds=25140): 930, datetime.timedelta(seconds=23940): 16, datetime.timedelta(seconds=23340): 457, datetime.timedelta(seconds=55740): 395, datetime.timedelta(seconds=26940): 1144, datetime.timedelta(seconds=61140): 1768, datetime.timedelta(seconds=59340): 818, datetime.timedelta(seconds=57540): 460, datetime.timedelta(seconds=29640): 23, datetime.timedelta(seconds=22440): 38, datetime.timedelta(seconds=19740): 985, datetime.timedelta(seconds=17040): 17, datetime.timedelta(seconds=16140): 99, datetime.timedelta(seconds=14340): 185, datetime.timedelta(seconds=12540): 22, datetime.timedelta(seconds=27840): 69, datetime.timedelta(seconds=31140): 36, datetime.timedelta(seconds=35340): 9, datetime.timedelta(seconds=33240): 1434, datetime.timedelta(seconds=39840): 1, datetime.timedelta(seconds=39000): 1, datetime.timedelta(seconds=38340): 36, datetime.timedelta(seconds=25440): 5, datetime.timedelta(seconds=47640): 347, datetime.timedelta(seconds=43740): 4, datetime.timedelta(seconds=38640): 272, datetime.timedelta(seconds=23640): 24, datetime.timedelta(seconds=53040): 6, datetime.timedelta(seconds=8940): 9, datetime.timedelta(seconds=24840): 6, datetime.timedelta(seconds=45840): 3, datetime.timedelta(seconds=20640): 390, datetime.timedelta(seconds=60240): 40, datetime.timedelta(seconds=54840): 249, datetime.timedelta(seconds=31440): 3732, datetime.timedelta(seconds=20340): 4, datetime.timedelta(seconds=20220): 1, datetime.timedelta(seconds=20160): 1, datetime.timedelta(seconds=19560): 1, datetime.timedelta(seconds=19020): 1, datetime.timedelta(seconds=51240): 220, datetime.timedelta(seconds=45540): 7, datetime.timedelta(seconds=26040): 224, datetime.timedelta(seconds=40440): 921, datetime.timedelta(seconds=32040): 18, datetime.timedelta(seconds=31860): 1, datetime.timedelta(seconds=42480): 1, datetime.timedelta(seconds=41820): 1, datetime.timedelta(seconds=41700): 1, datetime.timedelta(seconds=41520): 1, datetime.timedelta(seconds=36660): 1, datetime.timedelta(seconds=36420): 1, datetime.timedelta(seconds=36240): 1, datetime.timedelta(seconds=35760): 1, datetime.timedelta(seconds=35400): 1, datetime.timedelta(seconds=27540): 1, datetime.timedelta(seconds=64740): 256, datetime.timedelta(seconds=59040): 1, datetime.timedelta(seconds=57600): 1, datetime.timedelta(seconds=57180): 1, datetime.timedelta(seconds=56220): 1, datetime.timedelta(seconds=55440): 1, datetime.timedelta(seconds=17760): 1, datetime.timedelta(seconds=30960): 1, datetime.timedelta(seconds=29040): 10, datetime.timedelta(seconds=32940): 8, datetime.timedelta(seconds=37440): 4, datetime.timedelta(seconds=30840): 11, datetime.timedelta(seconds=36540): 167, datetime.timedelta(seconds=36840): 344, datetime.timedelta(seconds=35220): 3, datetime.timedelta(seconds=40140): 2, datetime.timedelta(seconds=39780): 1, datetime.timedelta(seconds=39600): 2, datetime.timedelta(seconds=39240): 1, datetime.timedelta(seconds=38460): 1, datetime.timedelta(seconds=38040): 2, datetime.timedelta(seconds=37140): 1, datetime.timedelta(seconds=36720): 1, datetime.timedelta(seconds=49740): 2, datetime.timedelta(seconds=49440): 65, datetime.timedelta(seconds=48840): 13, datetime.timedelta(seconds=41220): 2, datetime.timedelta(seconds=40740): 2, datetime.timedelta(seconds=40380): 2, datetime.timedelta(seconds=38940): 1, datetime.timedelta(seconds=26340): 12, datetime.timedelta(seconds=10740): 11, datetime.timedelta(seconds=22740): 4, datetime.timedelta(seconds=22140): 4, datetime.timedelta(seconds=21840): 1, datetime.timedelta(seconds=21720): 1, datetime.timedelta(seconds=21600): 2, datetime.timedelta(seconds=21240): 1, datetime.timedelta(seconds=18840): 27, datetime.timedelta(seconds=41940): 4, datetime.timedelta(seconds=28140): 176, datetime.timedelta(seconds=30660): 2, datetime.timedelta(seconds=30240): 2, datetime.timedelta(seconds=29220): 1, datetime.timedelta(seconds=29100): 3, datetime.timedelta(seconds=28860): 1, datetime.timedelta(seconds=28380): 1, datetime.timedelta(seconds=27420): 1, datetime.timedelta(seconds=26640): 11, datetime.timedelta(seconds=45240): 1, datetime.timedelta(seconds=18540): 11, datetime.timedelta(seconds=15240): 4, datetime.timedelta(seconds=13440): 1, datetime.timedelta(seconds=51840): 1, datetime.timedelta(seconds=27240): 8, datetime.timedelta(seconds=32400): 1, datetime.timedelta(seconds=32100): 1, datetime.timedelta(seconds=31920): 2, datetime.timedelta(seconds=31740): 5, datetime.timedelta(seconds=31380): 2, datetime.timedelta(seconds=31200): 2, datetime.timedelta(seconds=30720): 3, datetime.timedelta(seconds=29940): 3, datetime.timedelta(seconds=29400): 3, datetime.timedelta(seconds=29160): 1, datetime.timedelta(seconds=34740): 6, datetime.timedelta(seconds=23040): 17, datetime.timedelta(seconds=33000): 1, datetime.timedelta(seconds=25740): 3, datetime.timedelta(seconds=44220): 2, datetime.timedelta(seconds=24540): 7, datetime.timedelta(seconds=35520): 1, datetime.timedelta(seconds=62940): 32, datetime.timedelta(seconds=19140): 6, datetime.timedelta(seconds=18420): 1, datetime.timedelta(seconds=31320): 1, datetime.timedelta(seconds=16740): 1, datetime.timedelta(seconds=29340): 4, datetime.timedelta(seconds=34860): 1, datetime.timedelta(seconds=32280): 16, datetime.timedelta(seconds=25980): 1, datetime.timedelta(days=16, seconds=46740): 102, datetime.timedelta(seconds=34440): 2, datetime.timedelta(seconds=21300): 1, datetime.timedelta(seconds=20760): 1, datetime.timedelta(seconds=20040): 1, datetime.timedelta(seconds=19860): 1, datetime.timedelta(seconds=19440): 2, datetime.timedelta(seconds=18240): 1, datetime.timedelta(seconds=18120): 2, datetime.timedelta(seconds=33540): 6, datetime.timedelta(seconds=21120): 1, datetime.timedelta(seconds=19980): 1, datetime.timedelta(seconds=19920): 1, datetime.timedelta(seconds=17640): 2, datetime.timedelta(seconds=17340): 4, datetime.timedelta(seconds=14940): 1, datetime.timedelta(seconds=13740): 1}\n"
     ]
    }
   ],
   "source": [
    "print(appt_lengths)"
   ]
  },
  {
   "cell_type": "code",
   "execution_count": 12,
   "id": "82c2f1bc",
   "metadata": {},
   "outputs": [
    {
     "name": "stdout",
     "output_type": "stream",
     "text": [
      "min_length = 2:29:00\n",
      "max_length = 16 days, 12:59:00\n"
     ]
    }
   ],
   "source": [
    "print(\"min_length =\", min(appt_lengths))\n",
    "print(\"max_length =\", max(appt_lengths))"
   ]
  },
  {
   "cell_type": "code",
   "execution_count": 13,
   "id": "0f0122a3",
   "metadata": {},
   "outputs": [
    {
     "data": {
      "text/plain": [
       "datetime.timedelta(seconds=8940)"
      ]
     },
     "execution_count": 13,
     "metadata": {},
     "output_type": "execute_result"
    }
   ],
   "source": [
    "min(appt_lengths)"
   ]
  },
  {
   "cell_type": "code",
   "execution_count": 14,
   "id": "e1602ea3",
   "metadata": {},
   "outputs": [
    {
     "data": {
      "text/plain": [
       "datetime.timedelta(days=16, seconds=46740)"
      ]
     },
     "execution_count": 14,
     "metadata": {},
     "output_type": "execute_result"
    }
   ],
   "source": [
    "max(appt_lengths)"
   ]
  },
  {
   "cell_type": "code",
   "execution_count": null,
   "id": "a09a6553",
   "metadata": {},
   "outputs": [],
   "source": []
  }
 ],
 "metadata": {
  "kernelspec": {
   "display_name": "Python 3",
   "language": "python",
   "name": "python3"
  },
  "language_info": {
   "codemirror_mode": {
    "name": "ipython",
    "version": 3
   },
   "file_extension": ".py",
   "mimetype": "text/x-python",
   "name": "python",
   "nbconvert_exporter": "python",
   "pygments_lexer": "ipython3",
   "version": "3.8.8"
  }
 },
 "nbformat": 4,
 "nbformat_minor": 5
}
