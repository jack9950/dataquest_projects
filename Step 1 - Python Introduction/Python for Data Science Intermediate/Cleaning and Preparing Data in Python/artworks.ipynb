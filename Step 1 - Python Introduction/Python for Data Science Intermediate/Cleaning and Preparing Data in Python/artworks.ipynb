{
 "cells": [
  {
   "cell_type": "code",
   "execution_count": 1,
   "id": "9a7fc521",
   "metadata": {},
   "outputs": [],
   "source": [
    "from csv import reader\n",
    "opened_file = open('artworks.csv')\n",
    "read_file = reader(opened_file)\n",
    "moma = list(read_file)"
   ]
  },
  {
   "cell_type": "code",
   "execution_count": 2,
   "id": "7b831518",
   "metadata": {},
   "outputs": [],
   "source": [
    "moma = moma[1:]"
   ]
  },
  {
   "cell_type": "code",
   "execution_count": 3,
   "id": "8ce88666",
   "metadata": {},
   "outputs": [],
   "source": [
    "def inspect(a_list, num_rows=5):\n",
    "    for row in a_list[:num_rows]:\n",
    "        print(row, '\\n')"
   ]
  },
  {
   "cell_type": "code",
   "execution_count": 4,
   "id": "1a234cb9",
   "metadata": {},
   "outputs": [
    {
     "name": "stdout",
     "output_type": "stream",
     "text": [
      "['Dress MacLeod from Tartan Sets', 'Sarah Charlesworth', '(American)', '(1947)', '(2013)', '(Female)', '1986', 'Prints & Illustrated Books'] \n",
      "\n",
      "['Duplicate of plate from folio 11 verso (supplementary suite, plate 4) from ARDICIA', 'Pablo Palazuelo', '(Spanish)', '(1916)', '(2007)', '(Male)', '1978', 'Prints & Illustrated Books'] \n",
      "\n",
      "['Tailpiece (page 55) from SAGESSE', 'Maurice Denis', '(French)', '(1870)', '(1943)', '(Male)', '1889-1911', 'Prints & Illustrated Books'] \n",
      "\n",
      "['Headpiece (page 129) from LIVRET DE FOLASTRIES, À JANOT PARISIEN', 'Aristide Maillol', '(French)', '(1861)', '(1944)', '(Male)', '1927-1940', 'Prints & Illustrated Books'] \n",
      "\n",
      "['97 rue du Bac', 'Eugène Atget', '(French)', '(1857)', '(1927)', '(Male)', '1903', 'Photography'] \n",
      "\n"
     ]
    }
   ],
   "source": [
    "inspect(moma)"
   ]
  },
  {
   "cell_type": "code",
   "execution_count": 5,
   "id": "c73341bc",
   "metadata": {},
   "outputs": [],
   "source": [
    "# Remove the opening and closing parenthesis from nationality and gender columns.\n",
    "for art in moma:\n",
    "    art[2] = art[2].replace('(', '').replace(')', '') #nationality\n",
    "    art[5] = art[5].replace('(', '').replace(')', '') #gender"
   ]
  },
  {
   "cell_type": "code",
   "execution_count": 6,
   "id": "ea45b614",
   "metadata": {},
   "outputs": [
    {
     "name": "stdout",
     "output_type": "stream",
     "text": [
      "['Dress MacLeod from Tartan Sets', 'Sarah Charlesworth', 'American', '(1947)', '(2013)', 'Female', '1986', 'Prints & Illustrated Books'] \n",
      "\n",
      "['Duplicate of plate from folio 11 verso (supplementary suite, plate 4) from ARDICIA', 'Pablo Palazuelo', 'Spanish', '(1916)', '(2007)', 'Male', '1978', 'Prints & Illustrated Books'] \n",
      "\n",
      "['Tailpiece (page 55) from SAGESSE', 'Maurice Denis', 'French', '(1870)', '(1943)', 'Male', '1889-1911', 'Prints & Illustrated Books'] \n",
      "\n",
      "['Headpiece (page 129) from LIVRET DE FOLASTRIES, À JANOT PARISIEN', 'Aristide Maillol', 'French', '(1861)', '(1944)', 'Male', '1927-1940', 'Prints & Illustrated Books'] \n",
      "\n",
      "['97 rue du Bac', 'Eugène Atget', 'French', '(1857)', '(1927)', 'Male', '1903', 'Photography'] \n",
      "\n"
     ]
    }
   ],
   "source": [
    "inspect(moma)"
   ]
  },
  {
   "cell_type": "code",
   "execution_count": 7,
   "id": "fb32161a",
   "metadata": {},
   "outputs": [],
   "source": [
    "# Change the gender and nationality columns to Title Case and replace empty cells with \n",
    "#\"Gender Unknown / Other\" and \"Nationality Unknown\" \n",
    "\n",
    "for art in moma:\n",
    "    nationality = art[2]    \n",
    "    gender = art[5]\n",
    "    \n",
    "    nationality = nationality.title()\n",
    "    if not nationality:\n",
    "        nationality = \"Nationality Unknown\"\n",
    "    art[2] = nationality\n",
    "    \n",
    "    gender = gender.title()\n",
    "    if not gender:\n",
    "        gender = \"Gender Unknown / Other\"\n",
    "    art[5] = gender"
   ]
  },
  {
   "cell_type": "code",
   "execution_count": 8,
   "id": "5b7abf5c",
   "metadata": {},
   "outputs": [
    {
     "name": "stdout",
     "output_type": "stream",
     "text": [
      "['Dress MacLeod from Tartan Sets', 'Sarah Charlesworth', 'American', '(1947)', '(2013)', 'Female', '1986', 'Prints & Illustrated Books'] \n",
      "\n",
      "['Duplicate of plate from folio 11 verso (supplementary suite, plate 4) from ARDICIA', 'Pablo Palazuelo', 'Spanish', '(1916)', '(2007)', 'Male', '1978', 'Prints & Illustrated Books'] \n",
      "\n",
      "['Tailpiece (page 55) from SAGESSE', 'Maurice Denis', 'French', '(1870)', '(1943)', 'Male', '1889-1911', 'Prints & Illustrated Books'] \n",
      "\n",
      "['Headpiece (page 129) from LIVRET DE FOLASTRIES, À JANOT PARISIEN', 'Aristide Maillol', 'French', '(1861)', '(1944)', 'Male', '1927-1940', 'Prints & Illustrated Books'] \n",
      "\n",
      "['97 rue du Bac', 'Eugène Atget', 'French', '(1857)', '(1927)', 'Male', '1903', 'Photography'] \n",
      "\n"
     ]
    }
   ],
   "source": [
    "inspect(moma)"
   ]
  },
  {
   "cell_type": "code",
   "execution_count": 9,
   "id": "d9bbf672",
   "metadata": {},
   "outputs": [],
   "source": [
    "def clean_and_convert_date(date):\n",
    "    #check for empty string\n",
    "    if date != '':\n",
    "        date = date.replace('(', '').replace(')', '')\n",
    "        return int(date)    "
   ]
  },
  {
   "cell_type": "code",
   "execution_count": 10,
   "id": "108a205c",
   "metadata": {},
   "outputs": [],
   "source": [
    "for art in moma:\n",
    "    art[3] = clean_and_convert_date(art[3]) #beginDate is in column index 3\n",
    "    art[4] = clean_and_convert_date(art[4]) #endDate is in column index 4"
   ]
  },
  {
   "cell_type": "code",
   "execution_count": 11,
   "id": "de00c6d3",
   "metadata": {},
   "outputs": [
    {
     "name": "stdout",
     "output_type": "stream",
     "text": [
      "['Dress MacLeod from Tartan Sets', 'Sarah Charlesworth', 'American', 1947, 2013, 'Female', '1986', 'Prints & Illustrated Books'] \n",
      "\n",
      "['Duplicate of plate from folio 11 verso (supplementary suite, plate 4) from ARDICIA', 'Pablo Palazuelo', 'Spanish', 1916, 2007, 'Male', '1978', 'Prints & Illustrated Books'] \n",
      "\n",
      "['Tailpiece (page 55) from SAGESSE', 'Maurice Denis', 'French', 1870, 1943, 'Male', '1889-1911', 'Prints & Illustrated Books'] \n",
      "\n",
      "['Headpiece (page 129) from LIVRET DE FOLASTRIES, À JANOT PARISIEN', 'Aristide Maillol', 'French', 1861, 1944, 'Male', '1927-1940', 'Prints & Illustrated Books'] \n",
      "\n",
      "['97 rue du Bac', 'Eugène Atget', 'French', 1857, 1927, 'Male', '1903', 'Photography'] \n",
      "\n"
     ]
    }
   ],
   "source": [
    "inspect(moma)"
   ]
  },
  {
   "cell_type": "code",
   "execution_count": 12,
   "id": "ee732c78",
   "metadata": {},
   "outputs": [],
   "source": [
    "bad_chars = [\"(\",\")\",\"c\",\"C\",\".\",\"s\",\"'\", \" \"]\n",
    "\n",
    "def strip_characters(string):\n",
    "    for char in bad_chars:\n",
    "        string = string.replace(char, '')\n",
    "    return string\n",
    "\n",
    "def process_date(string):\n",
    "    string = strip_characters(string)\n",
    "    if '-' in string: #date is in a range format such as (1972-1975). Return the average of the two dates\n",
    "        split_string = string.split('-')\n",
    "        date1 = int(split_string[0])\n",
    "        date2 = int(split_string[1])\n",
    "        return round((date1 + date2) / 2)\n",
    "    else:\n",
    "        return int(string)"
   ]
  },
  {
   "cell_type": "code",
   "execution_count": 13,
   "id": "02091129",
   "metadata": {},
   "outputs": [],
   "source": [
    "for art in moma:\n",
    "    art[6] = process_date(art[6])"
   ]
  },
  {
   "cell_type": "code",
   "execution_count": 14,
   "id": "5ed3af00",
   "metadata": {},
   "outputs": [
    {
     "name": "stdout",
     "output_type": "stream",
     "text": [
      "['Dress MacLeod from Tartan Sets', 'Sarah Charlesworth', 'American', 1947, 2013, 'Female', 1986, 'Prints & Illustrated Books'] \n",
      "\n",
      "['Duplicate of plate from folio 11 verso (supplementary suite, plate 4) from ARDICIA', 'Pablo Palazuelo', 'Spanish', 1916, 2007, 'Male', 1978, 'Prints & Illustrated Books'] \n",
      "\n",
      "['Tailpiece (page 55) from SAGESSE', 'Maurice Denis', 'French', 1870, 1943, 'Male', 1900, 'Prints & Illustrated Books'] \n",
      "\n",
      "['Headpiece (page 129) from LIVRET DE FOLASTRIES, À JANOT PARISIEN', 'Aristide Maillol', 'French', 1861, 1944, 'Male', 1934, 'Prints & Illustrated Books'] \n",
      "\n",
      "['97 rue du Bac', 'Eugène Atget', 'French', 1857, 1927, 'Male', 1903, 'Photography'] \n",
      "\n"
     ]
    }
   ],
   "source": [
    "inspect(moma)"
   ]
  },
  {
   "cell_type": "code",
   "execution_count": null,
   "id": "9bc64e22",
   "metadata": {},
   "outputs": [],
   "source": []
  }
 ],
 "metadata": {
  "kernelspec": {
   "display_name": "Python 3",
   "language": "python",
   "name": "python3"
  },
  "language_info": {
   "codemirror_mode": {
    "name": "ipython",
    "version": 3
   },
   "file_extension": ".py",
   "mimetype": "text/x-python",
   "name": "python",
   "nbconvert_exporter": "python",
   "pygments_lexer": "ipython3",
   "version": "3.8.8"
  }
 },
 "nbformat": 4,
 "nbformat_minor": 5
}
