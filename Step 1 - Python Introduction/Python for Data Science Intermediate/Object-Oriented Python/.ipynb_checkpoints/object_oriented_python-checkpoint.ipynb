{
 "cells": [
  {
   "cell_type": "code",
   "execution_count": 1,
   "id": "35586a89",
   "metadata": {},
   "outputs": [],
   "source": [
    "class NewList:\n",
    "    def first_method(self):\n",
    "        return \"This is from the first_method\""
   ]
  },
  {
   "cell_type": "code",
   "execution_count": 2,
   "id": "e66990c5",
   "metadata": {},
   "outputs": [],
   "source": [
    "new_list1 = NewList()"
   ]
  },
  {
   "cell_type": "code",
   "execution_count": 3,
   "id": "fbe59b46",
   "metadata": {},
   "outputs": [
    {
     "data": {
      "text/plain": [
       "__main__.NewList"
      ]
     },
     "execution_count": 3,
     "metadata": {},
     "output_type": "execute_result"
    }
   ],
   "source": [
    "type(new_list1)"
   ]
  },
  {
   "cell_type": "code",
   "execution_count": 4,
   "id": "a51014be",
   "metadata": {},
   "outputs": [
    {
     "data": {
      "text/plain": [
       "'This is from the first_method'"
      ]
     },
     "execution_count": 4,
     "metadata": {},
     "output_type": "execute_result"
    }
   ],
   "source": [
    "new_list1.first_method()"
   ]
  },
  {
   "cell_type": "code",
   "execution_count": 5,
   "id": "042335eb",
   "metadata": {},
   "outputs": [],
   "source": [
    "class MyList:\n",
    "    def __init__(self, initial_state):\n",
    "        self.data = initial_state\n",
    "        \n",
    "    def append(self, l):\n",
    "        self.data = self.data + [l]"
   ]
  },
  {
   "cell_type": "code",
   "execution_count": 6,
   "id": "c2f1b32f",
   "metadata": {},
   "outputs": [],
   "source": [
    "my_list = MyList([1, 2, 3, 4])"
   ]
  },
  {
   "cell_type": "code",
   "execution_count": 7,
   "id": "6742f5e4",
   "metadata": {},
   "outputs": [
    {
     "name": "stdout",
     "output_type": "stream",
     "text": [
      "<__main__.MyList object at 0x7fbbc4f1e430>\n"
     ]
    }
   ],
   "source": [
    "print(my_list)"
   ]
  },
  {
   "cell_type": "code",
   "execution_count": 8,
   "id": "16cbbd5b",
   "metadata": {},
   "outputs": [
    {
     "data": {
      "text/plain": [
       "[1, 2, 3, 4]"
      ]
     },
     "execution_count": 8,
     "metadata": {},
     "output_type": "execute_result"
    }
   ],
   "source": [
    "my_list.data"
   ]
  },
  {
   "cell_type": "code",
   "execution_count": 9,
   "id": "488219c2",
   "metadata": {},
   "outputs": [],
   "source": [
    "my_list.append(5)"
   ]
  },
  {
   "cell_type": "code",
   "execution_count": 10,
   "id": "cd2af177",
   "metadata": {},
   "outputs": [
    {
     "name": "stdout",
     "output_type": "stream",
     "text": [
      "<__main__.MyList object at 0x7fbbc4f1e430>\n"
     ]
    }
   ],
   "source": [
    "print(my_list)"
   ]
  },
  {
   "cell_type": "code",
   "execution_count": 11,
   "id": "4b2ae91d",
   "metadata": {},
   "outputs": [
    {
     "data": {
      "text/plain": [
       "[1, 2, 3, 4, 5]"
      ]
     },
     "execution_count": 11,
     "metadata": {},
     "output_type": "execute_result"
    }
   ],
   "source": [
    "my_list.data"
   ]
  },
  {
   "cell_type": "code",
   "execution_count": 12,
   "id": "17abd672",
   "metadata": {},
   "outputs": [
    {
     "name": "stdout",
     "output_type": "stream",
     "text": [
      "[1, 2, 3, 4, 5]\n"
     ]
    }
   ],
   "source": [
    "print(my_list.data)"
   ]
  },
  {
   "cell_type": "code",
   "execution_count": null,
   "id": "94c8d48c",
   "metadata": {},
   "outputs": [],
   "source": []
  }
 ],
 "metadata": {
  "kernelspec": {
   "display_name": "Python 3",
   "language": "python",
   "name": "python3"
  },
  "language_info": {
   "codemirror_mode": {
    "name": "ipython",
    "version": 3
   },
   "file_extension": ".py",
   "mimetype": "text/x-python",
   "name": "python",
   "nbconvert_exporter": "python",
   "pygments_lexer": "ipython3",
   "version": "3.8.8"
  }
 },
 "nbformat": 4,
 "nbformat_minor": 5
}
